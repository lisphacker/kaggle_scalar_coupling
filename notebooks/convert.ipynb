{
 "cells": [
  {
   "cell_type": "code",
   "execution_count": 1,
   "metadata": {},
   "outputs": [],
   "source": [
    "import pandas as pd\n",
    "import matplotlib.pyplot as plt\n",
    "import seaborn as sns"
   ]
  },
  {
   "cell_type": "code",
   "execution_count": 2,
   "metadata": {},
   "outputs": [],
   "source": [
    "csv_path = '../data/original/'"
   ]
  },
  {
   "cell_type": "code",
   "execution_count": 3,
   "metadata": {},
   "outputs": [
    {
     "name": "stdout",
     "output_type": "stream",
     "text": [
      "dipole_moments.csv\t\t    scalar_coupling_contributions.csv\n",
      "dipole_moments.csv.zip\t\t    scalar_coupling_contributions.csv.zip\n",
      "magnetic_shielding_tensors.csv\t    structures\n",
      "magnetic_shielding_tensors.csv.zip  structures.csv\n",
      "mulliken_charges.csv\t\t    structures.csv.zip\n",
      "mulliken_charges.csv.zip\t    structures.zip\n",
      "potential_energy.csv\t\t    test.csv\n",
      "potential_energy.csv.zip\t    test.csv.zip\n",
      "sample_submission.csv\t\t    train.csv\n",
      "sample_submission.csv.zip\t    train.csv.zip\n"
     ]
    }
   ],
   "source": [
    "!ls ../data/original"
   ]
  },
  {
   "cell_type": "code",
   "execution_count": 35,
   "metadata": {},
   "outputs": [],
   "source": [
    "structures = pd.read_csv(csv_path + 'structures.csv',\n",
    "            dtype={\n",
    "                'molecule_name': 'category',\n",
    "                'atom':'category',\n",
    "                'atom_index': 'int16',\n",
    "                'x': 'float32',\n",
    "                'y': 'float32',\n",
    "                'z': 'float32'\n",
    "            })"
   ]
  },
  {
   "cell_type": "code",
   "execution_count": null,
   "metadata": {},
   "outputs": [],
   "source": [
    "structures.dtypes"
   ]
  },
  {
   "cell_type": "code",
   "execution_count": null,
   "metadata": {},
   "outputs": [],
   "source": [
    "structures.to_feather('../data/structures.feather')"
   ]
  },
  {
   "cell_type": "code",
   "execution_count": 36,
   "metadata": {},
   "outputs": [],
   "source": [
    "train = pd.read_csv(csv_path + 'train.csv',\n",
    "                   dtype={\n",
    "                       'id': 'int32',\n",
    "                       'molecule_name': 'category',\n",
    "                       'atom':'category',\n",
    "                       'atom_index_0': 'int16',\n",
    "                       'atom_index_1': 'int16',\n",
    "                       'type': 'category',\n",
    "                       'scalar_coupling_constant': 'float32'})\n"
   ]
  },
  {
   "cell_type": "code",
   "execution_count": null,
   "metadata": {},
   "outputs": [],
   "source": [
    "train.dtypes"
   ]
  },
  {
   "cell_type": "code",
   "execution_count": null,
   "metadata": {},
   "outputs": [],
   "source": [
    "train.to_feather('../data/train.feather')"
   ]
  },
  {
   "cell_type": "code",
   "execution_count": 44,
   "metadata": {},
   "outputs": [],
   "source": [
    "test = pd.read_csv(csv_path + 'test.csv',\n",
    "                   dtype={\n",
    "                       'id': 'int32',\n",
    "                       'molecule_name': 'category',\n",
    "                       'atom':'category',\n",
    "                       'atom_index_0': 'int16',\n",
    "                       'atom_index_1': 'int16',\n",
    "                       'type': 'category',\n",
    "                       'scalar_coupling_constant': 'float32'})"
   ]
  },
  {
   "cell_type": "code",
   "execution_count": null,
   "metadata": {},
   "outputs": [],
   "source": [
    "test.dtypes"
   ]
  },
  {
   "cell_type": "code",
   "execution_count": null,
   "metadata": {},
   "outputs": [],
   "source": [
    "test.to_feather('../data/test.feather')"
   ]
  },
  {
   "cell_type": "code",
   "execution_count": null,
   "metadata": {},
   "outputs": [],
   "source": []
  },
  {
   "cell_type": "code",
   "execution_count": 7,
   "metadata": {},
   "outputs": [],
   "source": [
    "dipole_moments = pd.read_csv(csv_path + 'dipole_moments.csv',\n",
    "                             dtype={\n",
    "                                 'molecule_name': 'category',\n",
    "                                 'X': 'float32',\n",
    "                                 'Y': 'float32',\n",
    "                                 'Z': 'float32'\n",
    "                             })"
   ]
  },
  {
   "cell_type": "code",
   "execution_count": 8,
   "metadata": {},
   "outputs": [
    {
     "data": {
      "text/plain": [
       "molecule_name    category\n",
       "X                 float32\n",
       "Y                 float32\n",
       "Z                 float32\n",
       "dtype: object"
      ]
     },
     "execution_count": 8,
     "metadata": {},
     "output_type": "execute_result"
    }
   ],
   "source": [
    "dipole_moments.dtypes"
   ]
  },
  {
   "cell_type": "code",
   "execution_count": 9,
   "metadata": {},
   "outputs": [],
   "source": [
    "dipole_moments.to_feather('../data/dipole_moments.feather')"
   ]
  },
  {
   "cell_type": "code",
   "execution_count": 15,
   "metadata": {},
   "outputs": [],
   "source": [
    "magnetic_shielding_tensors = pd.read_csv(csv_path + 'magnetic_shielding_tensors.csv',\n",
    "                                         dtype={\n",
    "                                             'molecule_name': 'category',\n",
    "                                             'atom_index': 'int16',\n",
    "                                             'XX': 'float32',\n",
    "                                             'YX': 'float32',\n",
    "                                             'ZX': 'float32',\n",
    "                                             'XY': 'float32',\n",
    "                                             'YY': 'float32',\n",
    "                                             'ZY': 'float32',\n",
    "                                             'XZ': 'float32',\n",
    "                                             'YZ': 'float32',\n",
    "                                             'ZZ': 'float32'\n",
    "                                         })"
   ]
  },
  {
   "cell_type": "code",
   "execution_count": 14,
   "metadata": {},
   "outputs": [
    {
     "data": {
      "text/plain": [
       "molecule_name    category\n",
       "atom_index          int64\n",
       "XX                float32\n",
       "YX                float32\n",
       "ZX                float32\n",
       "XY                float32\n",
       "YY                float32\n",
       "ZY                float32\n",
       "XZ                float32\n",
       "YZ                float32\n",
       "ZZ                float32\n",
       "dtype: object"
      ]
     },
     "execution_count": 14,
     "metadata": {},
     "output_type": "execute_result"
    }
   ],
   "source": [
    "magnetic_shielding_tensors.dtypes"
   ]
  },
  {
   "cell_type": "code",
   "execution_count": 16,
   "metadata": {},
   "outputs": [],
   "source": [
    "magnetic_shielding_tensors.to_feather('../data/magnetic_shielding_tensors.feather')"
   ]
  },
  {
   "cell_type": "code",
   "execution_count": 19,
   "metadata": {},
   "outputs": [],
   "source": [
    "mulliken_charges = pd.read_csv(csv_path + 'mulliken_charges.csv',\n",
    "                               dtype={\n",
    "                                   'molecule_name': 'category',\n",
    "                                   'atom_index': 'int16',\n",
    "                                   'mulliken_charge': 'float32'\n",
    "                               })"
   ]
  },
  {
   "cell_type": "code",
   "execution_count": 20,
   "metadata": {},
   "outputs": [
    {
     "data": {
      "text/plain": [
       "molecule_name      category\n",
       "atom_index            int16\n",
       "mulliken_charge     float32\n",
       "dtype: object"
      ]
     },
     "execution_count": 20,
     "metadata": {},
     "output_type": "execute_result"
    }
   ],
   "source": [
    "mulliken_charges.dtypes"
   ]
  },
  {
   "cell_type": "code",
   "execution_count": 22,
   "metadata": {},
   "outputs": [],
   "source": [
    "mulliken_charges.to_feather('../data/mulliken_charges.feather')"
   ]
  },
  {
   "cell_type": "code",
   "execution_count": 25,
   "metadata": {},
   "outputs": [],
   "source": [
    "potential_energy = pd.read_csv(csv_path + 'potential_energy.csv',\n",
    "                               dtype={\n",
    "                                   'molecule_name': 'category',\n",
    "                                   'potential_energy': 'float32'\n",
    "                               })"
   ]
  },
  {
   "cell_type": "code",
   "execution_count": 26,
   "metadata": {},
   "outputs": [
    {
     "data": {
      "text/plain": [
       "molecule_name       category\n",
       "potential_energy     float32\n",
       "dtype: object"
      ]
     },
     "execution_count": 26,
     "metadata": {},
     "output_type": "execute_result"
    }
   ],
   "source": [
    "potential_energy.dtypes"
   ]
  },
  {
   "cell_type": "code",
   "execution_count": 27,
   "metadata": {},
   "outputs": [],
   "source": [
    "potential_energy.to_feather('../data/potential_energy.feather')"
   ]
  },
  {
   "cell_type": "code",
   "execution_count": 32,
   "metadata": {},
   "outputs": [],
   "source": [
    "scalar_coupling_contributions = pd.read_csv(csv_path + 'scalar_coupling_contributions.csv',\n",
    "                                            dtype={\n",
    "                                               'molecule_name': 'category',\n",
    "                                               'atom_index_0': 'int16',\n",
    "                                               'atom_index_1': 'int16',\n",
    "                                               'type': 'category',\n",
    "                                               'fc': 'float32',\n",
    "                                               'sd': 'float32',\n",
    "                                               'pso': 'float32',\n",
    "                                               'dso': 'float32',\n",
    "                                            })"
   ]
  },
  {
   "cell_type": "code",
   "execution_count": 33,
   "metadata": {},
   "outputs": [
    {
     "data": {
      "text/plain": [
       "molecule_name    category\n",
       "atom_index_0        int16\n",
       "atom_index_1        int16\n",
       "type             category\n",
       "fc                float32\n",
       "sd                float32\n",
       "pso               float32\n",
       "dso               float32\n",
       "dtype: object"
      ]
     },
     "execution_count": 33,
     "metadata": {},
     "output_type": "execute_result"
    }
   ],
   "source": [
    "scalar_coupling_contributions.dtypes"
   ]
  },
  {
   "cell_type": "code",
   "execution_count": 34,
   "metadata": {},
   "outputs": [],
   "source": [
    "scalar_coupling_contributions.to_feather('../data/scalar_coupling_contributions.feather')"
   ]
  },
  {
   "cell_type": "code",
   "execution_count": null,
   "metadata": {},
   "outputs": [],
   "source": []
  },
  {
   "cell_type": "code",
   "execution_count": null,
   "metadata": {},
   "outputs": [],
   "source": []
  },
  {
   "cell_type": "code",
   "execution_count": null,
   "metadata": {},
   "outputs": [],
   "source": []
  },
  {
   "cell_type": "code",
   "execution_count": 41,
   "metadata": {},
   "outputs": [
    {
     "data": {
      "text/plain": [
       "130775"
      ]
     },
     "execution_count": 41,
     "metadata": {},
     "output_type": "execute_result"
    }
   ],
   "source": [
    "len(structures.molecule_name.unique())"
   ]
  },
  {
   "cell_type": "code",
   "execution_count": 42,
   "metadata": {},
   "outputs": [
    {
     "data": {
      "text/plain": [
       "85003"
      ]
     },
     "execution_count": 42,
     "metadata": {},
     "output_type": "execute_result"
    }
   ],
   "source": [
    "len(train.molecule_name.unique())"
   ]
  },
  {
   "cell_type": "code",
   "execution_count": 45,
   "metadata": {},
   "outputs": [
    {
     "data": {
      "text/plain": [
       "45772"
      ]
     },
     "execution_count": 45,
     "metadata": {},
     "output_type": "execute_result"
    }
   ],
   "source": [
    "len(test.molecule_name.unique())"
   ]
  },
  {
   "cell_type": "code",
   "execution_count": 48,
   "metadata": {},
   "outputs": [
    {
     "data": {
      "text/plain": [
       "85003"
      ]
     },
     "execution_count": 48,
     "metadata": {},
     "output_type": "execute_result"
    }
   ],
   "source": [
    "len(magnetic_shielding_tensors.molecule_name.unique())"
   ]
  },
  {
   "cell_type": "code",
   "execution_count": null,
   "metadata": {},
   "outputs": [],
   "source": []
  }
 ],
 "metadata": {
  "kernelspec": {
   "display_name": "Python 3",
   "language": "python",
   "name": "python3"
  },
  "language_info": {
   "codemirror_mode": {
    "name": "ipython",
    "version": 3
   },
   "file_extension": ".py",
   "mimetype": "text/x-python",
   "name": "python",
   "nbconvert_exporter": "python",
   "pygments_lexer": "ipython3",
   "version": "3.7.3"
  }
 },
 "nbformat": 4,
 "nbformat_minor": 4
}
