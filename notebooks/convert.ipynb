{
 "cells": [
  {
   "cell_type": "code",
   "execution_count": 1,
   "metadata": {},
   "outputs": [],
   "source": [
    "import pandas as pd\n",
    "import matplotlib.pyplot as plt\n",
    "import seaborn as sns"
   ]
  },
  {
   "cell_type": "code",
   "execution_count": 2,
   "metadata": {},
   "outputs": [],
   "source": [
    "csv_path = '../data/original/'"
   ]
  },
  {
   "cell_type": "code",
   "execution_count": 3,
   "metadata": {},
   "outputs": [
    {
     "name": "stdout",
     "output_type": "stream",
     "text": [
      "dipole_moments.csv\t\t    scalar_coupling_contributions.csv\n",
      "dipole_moments.csv.zip\t\t    scalar_coupling_contributions.csv.zip\n",
      "magnetic_shielding_tensors.csv\t    structures.csv\n",
      "magnetic_shielding_tensors.csv.zip  structures.csv.zip\n",
      "mulliken_charges.csv\t\t    structures.zip\n",
      "mulliken_charges.csv.zip\t    test.csv\n",
      "potential_energy.csv\t\t    test.csv.zip\n",
      "potential_energy.csv.zip\t    train.csv\n",
      "sample_submission.csv\t\t    train.csv.zip\n",
      "sample_submission.csv.zip\n"
     ]
    }
   ],
   "source": [
    "!ls ../data/original"
   ]
  },
  {
   "cell_type": "code",
   "execution_count": 4,
   "metadata": {},
   "outputs": [],
   "source": [
    "structures = pd.read_csv(csv_path + 'structures.csv',\n",
    "            dtype={\n",
    "                'molecule_name': 'category',\n",
    "                'atom':'category',\n",
    "                'atom_index': 'int16',\n",
    "                'x': 'float32',\n",
    "                'y': 'float32',\n",
    "                'z': 'float32'\n",
    "            })"
   ]
  },
  {
   "cell_type": "code",
   "execution_count": 5,
   "metadata": {},
   "outputs": [
    {
     "data": {
      "text/plain": [
       "molecule_name    category\n",
       "atom_index          int16\n",
       "atom             category\n",
       "x                 float32\n",
       "y                 float32\n",
       "z                 float32\n",
       "dtype: object"
      ]
     },
     "execution_count": 5,
     "metadata": {},
     "output_type": "execute_result"
    }
   ],
   "source": [
    "structures.dtypes"
   ]
  },
  {
   "cell_type": "code",
   "execution_count": 6,
   "metadata": {},
   "outputs": [],
   "source": [
    "structures.to_feather('../data/structures.feather')"
   ]
  },
  {
   "cell_type": "code",
   "execution_count": 7,
   "metadata": {},
   "outputs": [],
   "source": [
    "train = pd.read_csv(csv_path + 'train.csv',\n",
    "                   dtype={\n",
    "                       'id': 'int32',\n",
    "                       'molecule_name': 'category',\n",
    "                       'atom':'category',\n",
    "                       'atom_index_0': 'int16',\n",
    "                       'atom_index_1': 'int16',\n",
    "                       'type': 'category',\n",
    "                       'scalar_coupling_constant': 'float32'})\n"
   ]
  },
  {
   "cell_type": "code",
   "execution_count": 8,
   "metadata": {},
   "outputs": [
    {
     "data": {
      "text/plain": [
       "id                             int32\n",
       "molecule_name               category\n",
       "atom_index_0                   int16\n",
       "atom_index_1                   int16\n",
       "type                        category\n",
       "scalar_coupling_constant     float32\n",
       "dtype: object"
      ]
     },
     "execution_count": 8,
     "metadata": {},
     "output_type": "execute_result"
    }
   ],
   "source": [
    "train.dtypes"
   ]
  },
  {
   "cell_type": "code",
   "execution_count": 9,
   "metadata": {},
   "outputs": [],
   "source": [
    "train.to_feather('../data/train.feather')"
   ]
  },
  {
   "cell_type": "code",
   "execution_count": 10,
   "metadata": {},
   "outputs": [],
   "source": [
    "test = pd.read_csv(csv_path + 'test.csv',\n",
    "                   dtype={\n",
    "                       'id': 'int32',\n",
    "                       'molecule_name': 'category',\n",
    "                       'atom':'category',\n",
    "                       'atom_index_0': 'int16',\n",
    "                       'atom_index_1': 'int16',\n",
    "                       'type': 'category',\n",
    "                       'scalar_coupling_constant': 'float32'})"
   ]
  },
  {
   "cell_type": "code",
   "execution_count": 11,
   "metadata": {},
   "outputs": [
    {
     "data": {
      "text/plain": [
       "id                  int32\n",
       "molecule_name    category\n",
       "atom_index_0        int16\n",
       "atom_index_1        int16\n",
       "type             category\n",
       "dtype: object"
      ]
     },
     "execution_count": 11,
     "metadata": {},
     "output_type": "execute_result"
    }
   ],
   "source": [
    "test.dtypes"
   ]
  },
  {
   "cell_type": "code",
   "execution_count": 12,
   "metadata": {},
   "outputs": [],
   "source": [
    "test.to_feather('../data/test.feather')"
   ]
  },
  {
   "cell_type": "code",
   "execution_count": null,
   "metadata": {},
   "outputs": [],
   "source": []
  }
 ],
 "metadata": {
  "kernelspec": {
   "display_name": "Python 3",
   "language": "python",
   "name": "python3"
  },
  "language_info": {
   "codemirror_mode": {
    "name": "ipython",
    "version": 3
   },
   "file_extension": ".py",
   "mimetype": "text/x-python",
   "name": "python",
   "nbconvert_exporter": "python",
   "pygments_lexer": "ipython3",
   "version": "3.7.3"
  }
 },
 "nbformat": 4,
 "nbformat_minor": 2
}
