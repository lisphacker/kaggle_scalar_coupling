{
 "cells": [
  {
   "cell_type": "code",
   "execution_count": 1,
   "metadata": {},
   "outputs": [],
   "source": [
    "import pandas as pd\n",
    "import matplotlib.pyplot as plt\n",
    "import seaborn as sns"
   ]
  },
  {
   "cell_type": "code",
   "execution_count": 2,
   "metadata": {},
   "outputs": [],
   "source": [
    "csv_path = '../data/original/'"
   ]
  },
  {
   "cell_type": "code",
   "execution_count": 3,
   "metadata": {},
   "outputs": [
    {
     "name": "stdout",
     "output_type": "stream",
     "text": [
      "dipole_moments.csv\t\t    scalar_coupling_contributions.csv\n",
      "dipole_moments.csv.zip\t\t    scalar_coupling_contributions.csv.zip\n",
      "magnetic_shielding_tensors.csv\t    structures\n",
      "magnetic_shielding_tensors.csv.zip  structures.csv\n",
      "mulliken_charges.csv\t\t    structures.csv.zip\n",
      "mulliken_charges.csv.zip\t    structures.zip\n",
      "potential_energy.csv\t\t    test.csv\n",
      "potential_energy.csv.zip\t    test.csv.zip\n",
      "sample_submission.csv\t\t    train.csv\n",
      "sample_submission.csv.zip\t    train.csv.zip\n"
     ]
    }
   ],
   "source": [
    "!ls ../data/original"
   ]
  },
  {
   "cell_type": "code",
   "execution_count": 4,
   "metadata": {},
   "outputs": [],
   "source": [
    "structures = pd.read_csv(csv_path + 'structures.csv',\n",
    "            dtype={\n",
    "                'molecule_name': 'category',\n",
    "                'atom':'category',\n",
    "                'atom_index': 'int16',\n",
    "                'x': 'float32',\n",
    "                'y': 'float32',\n",
    "                'z': 'float32'\n",
    "            })"
   ]
  },
  {
   "cell_type": "code",
   "execution_count": 5,
   "metadata": {},
   "outputs": [
    {
     "data": {
      "text/plain": [
       "molecule_name    category\n",
       "atom_index          int16\n",
       "atom             category\n",
       "x                 float32\n",
       "y                 float32\n",
       "z                 float32\n",
       "dtype: object"
      ]
     },
     "execution_count": 5,
     "metadata": {},
     "output_type": "execute_result"
    }
   ],
   "source": [
    "structures.dtypes"
   ]
  },
  {
   "cell_type": "code",
   "execution_count": null,
   "metadata": {},
   "outputs": [],
   "source": [
    "structures.to_feather('../data/structures.feather')"
   ]
  },
  {
   "cell_type": "code",
   "execution_count": 6,
   "metadata": {},
   "outputs": [],
   "source": [
    "train = pd.read_csv(csv_path + 'train.csv',\n",
    "                   dtype={\n",
    "                       'id': 'int32',\n",
    "                       'molecule_name': 'category',\n",
    "                       'atom':'category',\n",
    "                       'atom_index_0': 'int16',\n",
    "                       'atom_index_1': 'int16',\n",
    "                       'type': 'category',\n",
    "                       'scalar_coupling_constant': 'float32'})\n"
   ]
  },
  {
   "cell_type": "code",
   "execution_count": 7,
   "metadata": {},
   "outputs": [
    {
     "data": {
      "text/plain": [
       "id                             int32\n",
       "molecule_name               category\n",
       "atom_index_0                   int16\n",
       "atom_index_1                   int16\n",
       "type                        category\n",
       "scalar_coupling_constant     float32\n",
       "dtype: object"
      ]
     },
     "execution_count": 7,
     "metadata": {},
     "output_type": "execute_result"
    }
   ],
   "source": [
    "train.dtypes"
   ]
  },
  {
   "cell_type": "code",
   "execution_count": null,
   "metadata": {},
   "outputs": [],
   "source": [
    "train.to_feather('../data/train.feather')"
   ]
  },
  {
   "cell_type": "code",
   "execution_count": null,
   "metadata": {},
   "outputs": [],
   "source": [
    "test = pd.read_csv(csv_path + 'test.csv',\n",
    "                   dtype={\n",
    "                       'id': 'int32',\n",
    "                       'molecule_name': 'category',\n",
    "                       'atom':'category',\n",
    "                       'atom_index_0': 'int16',\n",
    "                       'atom_index_1': 'int16',\n",
    "                       'type': 'category',\n",
    "                       'scalar_coupling_constant': 'float32'})"
   ]
  },
  {
   "cell_type": "code",
   "execution_count": null,
   "metadata": {},
   "outputs": [],
   "source": [
    "test.dtypes"
   ]
  },
  {
   "cell_type": "code",
   "execution_count": null,
   "metadata": {},
   "outputs": [],
   "source": [
    "test.to_feather('../data/test.feather')"
   ]
  },
  {
   "cell_type": "code",
   "execution_count": null,
   "metadata": {},
   "outputs": [],
   "source": []
  },
  {
   "cell_type": "code",
   "execution_count": 8,
   "metadata": {},
   "outputs": [],
   "source": [
    "dipole_moments = pd.read_csv(csv_path + 'dipole_moments.csv',\n",
    "                             dtype={\n",
    "                                 'molecule_name': 'category',\n",
    "                                 'X': 'float32',\n",
    "                                 'Y': 'float32',\n",
    "                                 'Z': 'float32'\n",
    "                             })"
   ]
  },
  {
   "cell_type": "code",
   "execution_count": 9,
   "metadata": {},
   "outputs": [
    {
     "data": {
      "text/plain": [
       "molecule_name    category\n",
       "X                 float32\n",
       "Y                 float32\n",
       "Z                 float32\n",
       "dtype: object"
      ]
     },
     "execution_count": 9,
     "metadata": {},
     "output_type": "execute_result"
    }
   ],
   "source": [
    "dipole_moments.dtypes"
   ]
  },
  {
   "cell_type": "code",
   "execution_count": null,
   "metadata": {},
   "outputs": [],
   "source": [
    "dipole_moments.to_feather('../data/dipole_moments.feather')"
   ]
  },
  {
   "cell_type": "code",
   "execution_count": 10,
   "metadata": {},
   "outputs": [],
   "source": [
    "magnetic_shielding_tensors = pd.read_csv(csv_path + 'magnetic_shielding_tensors.csv',\n",
    "                                         dtype={\n",
    "                                             'molecule_name': 'category',\n",
    "                                             'atom_index': 'int16',\n",
    "                                             'XX': 'float32',\n",
    "                                             'YX': 'float32',\n",
    "                                             'ZX': 'float32',\n",
    "                                             'XY': 'float32',\n",
    "                                             'YY': 'float32',\n",
    "                                             'ZY': 'float32',\n",
    "                                             'XZ': 'float32',\n",
    "                                             'YZ': 'float32',\n",
    "                                             'ZZ': 'float32'\n",
    "                                         })"
   ]
  },
  {
   "cell_type": "code",
   "execution_count": 11,
   "metadata": {},
   "outputs": [
    {
     "data": {
      "text/plain": [
       "molecule_name    category\n",
       "atom_index          int16\n",
       "XX                float32\n",
       "YX                float32\n",
       "ZX                float32\n",
       "XY                float32\n",
       "YY                float32\n",
       "ZY                float32\n",
       "XZ                float32\n",
       "YZ                float32\n",
       "ZZ                float32\n",
       "dtype: object"
      ]
     },
     "execution_count": 11,
     "metadata": {},
     "output_type": "execute_result"
    }
   ],
   "source": [
    "magnetic_shielding_tensors.dtypes"
   ]
  },
  {
   "cell_type": "code",
   "execution_count": null,
   "metadata": {},
   "outputs": [],
   "source": [
    "magnetic_shielding_tensors.to_feather('../data/magnetic_shielding_tensors.feather')"
   ]
  },
  {
   "cell_type": "code",
   "execution_count": 12,
   "metadata": {},
   "outputs": [],
   "source": [
    "mulliken_charges = pd.read_csv(csv_path + 'mulliken_charges.csv',\n",
    "                               dtype={\n",
    "                                   'molecule_name': 'category',\n",
    "                                   'atom_index': 'int16',\n",
    "                                   'mulliken_charge': 'float32'\n",
    "                               })"
   ]
  },
  {
   "cell_type": "code",
   "execution_count": 13,
   "metadata": {},
   "outputs": [
    {
     "data": {
      "text/plain": [
       "molecule_name      category\n",
       "atom_index            int16\n",
       "mulliken_charge     float32\n",
       "dtype: object"
      ]
     },
     "execution_count": 13,
     "metadata": {},
     "output_type": "execute_result"
    }
   ],
   "source": [
    "mulliken_charges.dtypes"
   ]
  },
  {
   "cell_type": "code",
   "execution_count": null,
   "metadata": {},
   "outputs": [],
   "source": [
    "mulliken_charges.to_feather('../data/mulliken_charges.feather')"
   ]
  },
  {
   "cell_type": "code",
   "execution_count": 14,
   "metadata": {},
   "outputs": [],
   "source": [
    "potential_energy = pd.read_csv(csv_path + 'potential_energy.csv',\n",
    "                               dtype={\n",
    "                                   'molecule_name': 'category',\n",
    "                                   'potential_energy': 'float32'\n",
    "                               })"
   ]
  },
  {
   "cell_type": "code",
   "execution_count": 15,
   "metadata": {},
   "outputs": [
    {
     "data": {
      "text/plain": [
       "molecule_name       category\n",
       "potential_energy     float32\n",
       "dtype: object"
      ]
     },
     "execution_count": 15,
     "metadata": {},
     "output_type": "execute_result"
    }
   ],
   "source": [
    "potential_energy.dtypes"
   ]
  },
  {
   "cell_type": "code",
   "execution_count": null,
   "metadata": {},
   "outputs": [],
   "source": [
    "potential_energy.to_feather('../data/potential_energy.feather')"
   ]
  },
  {
   "cell_type": "code",
   "execution_count": 16,
   "metadata": {},
   "outputs": [],
   "source": [
    "scalar_coupling_contributions = pd.read_csv(csv_path + 'scalar_coupling_contributions.csv',\n",
    "                                            dtype={\n",
    "                                               'molecule_name': 'category',\n",
    "                                               'atom_index_0': 'int16',\n",
    "                                               'atom_index_1': 'int16',\n",
    "                                               'type': 'category',\n",
    "                                               'fc': 'float32',\n",
    "                                               'sd': 'float32',\n",
    "                                               'pso': 'float32',\n",
    "                                               'dso': 'float32',\n",
    "                                            })"
   ]
  },
  {
   "cell_type": "code",
   "execution_count": 17,
   "metadata": {},
   "outputs": [
    {
     "data": {
      "text/plain": [
       "molecule_name    category\n",
       "atom_index_0        int16\n",
       "atom_index_1        int16\n",
       "type             category\n",
       "fc                float32\n",
       "sd                float32\n",
       "pso               float32\n",
       "dso               float32\n",
       "dtype: object"
      ]
     },
     "execution_count": 17,
     "metadata": {},
     "output_type": "execute_result"
    }
   ],
   "source": [
    "scalar_coupling_contributions.dtypes"
   ]
  },
  {
   "cell_type": "code",
   "execution_count": null,
   "metadata": {},
   "outputs": [],
   "source": [
    "scalar_coupling_contributions.to_feather('../data/scalar_coupling_contributions.feather')"
   ]
  },
  {
   "cell_type": "code",
   "execution_count": null,
   "metadata": {},
   "outputs": [],
   "source": []
  },
  {
   "cell_type": "code",
   "execution_count": null,
   "metadata": {},
   "outputs": [],
   "source": []
  },
  {
   "cell_type": "code",
   "execution_count": null,
   "metadata": {},
   "outputs": [],
   "source": []
  },
  {
   "cell_type": "code",
   "execution_count": 18,
   "metadata": {},
   "outputs": [
    {
     "data": {
      "text/plain": [
       "130775"
      ]
     },
     "execution_count": 18,
     "metadata": {},
     "output_type": "execute_result"
    }
   ],
   "source": [
    "len(structures.molecule_name.unique())"
   ]
  },
  {
   "cell_type": "code",
   "execution_count": 19,
   "metadata": {},
   "outputs": [
    {
     "data": {
      "text/plain": [
       "85003"
      ]
     },
     "execution_count": 19,
     "metadata": {},
     "output_type": "execute_result"
    }
   ],
   "source": [
    "len(train.molecule_name.unique())"
   ]
  },
  {
   "cell_type": "code",
   "execution_count": 21,
   "metadata": {},
   "outputs": [
    {
     "data": {
      "text/plain": [
       "85003"
      ]
     },
     "execution_count": 21,
     "metadata": {},
     "output_type": "execute_result"
    }
   ],
   "source": [
    "len(magnetic_shielding_tensors.molecule_name.unique())"
   ]
  },
  {
   "cell_type": "code",
   "execution_count": 22,
   "metadata": {},
   "outputs": [
    {
     "data": {
      "text/html": [
       "<div>\n",
       "<style scoped>\n",
       "    .dataframe tbody tr th:only-of-type {\n",
       "        vertical-align: middle;\n",
       "    }\n",
       "\n",
       "    .dataframe tbody tr th {\n",
       "        vertical-align: top;\n",
       "    }\n",
       "\n",
       "    .dataframe thead th {\n",
       "        text-align: right;\n",
       "    }\n",
       "</style>\n",
       "<table border=\"1\" class=\"dataframe\">\n",
       "  <thead>\n",
       "    <tr style=\"text-align: right;\">\n",
       "      <th></th>\n",
       "      <th>molecule_name</th>\n",
       "      <th>atom_index</th>\n",
       "      <th>mulliken_charge</th>\n",
       "    </tr>\n",
       "  </thead>\n",
       "  <tbody>\n",
       "    <tr>\n",
       "      <th>0</th>\n",
       "      <td>dsgdb9nsd_000001</td>\n",
       "      <td>0</td>\n",
       "      <td>-0.535689</td>\n",
       "    </tr>\n",
       "    <tr>\n",
       "      <th>1</th>\n",
       "      <td>dsgdb9nsd_000001</td>\n",
       "      <td>1</td>\n",
       "      <td>0.133921</td>\n",
       "    </tr>\n",
       "    <tr>\n",
       "      <th>2</th>\n",
       "      <td>dsgdb9nsd_000001</td>\n",
       "      <td>2</td>\n",
       "      <td>0.133922</td>\n",
       "    </tr>\n",
       "    <tr>\n",
       "      <th>3</th>\n",
       "      <td>dsgdb9nsd_000001</td>\n",
       "      <td>3</td>\n",
       "      <td>0.133923</td>\n",
       "    </tr>\n",
       "    <tr>\n",
       "      <th>4</th>\n",
       "      <td>dsgdb9nsd_000001</td>\n",
       "      <td>4</td>\n",
       "      <td>0.133923</td>\n",
       "    </tr>\n",
       "    <tr>\n",
       "      <th>5</th>\n",
       "      <td>dsgdb9nsd_000002</td>\n",
       "      <td>0</td>\n",
       "      <td>-0.707143</td>\n",
       "    </tr>\n",
       "    <tr>\n",
       "      <th>6</th>\n",
       "      <td>dsgdb9nsd_000002</td>\n",
       "      <td>1</td>\n",
       "      <td>0.235712</td>\n",
       "    </tr>\n",
       "    <tr>\n",
       "      <th>7</th>\n",
       "      <td>dsgdb9nsd_000002</td>\n",
       "      <td>2</td>\n",
       "      <td>0.235712</td>\n",
       "    </tr>\n",
       "    <tr>\n",
       "      <th>8</th>\n",
       "      <td>dsgdb9nsd_000002</td>\n",
       "      <td>3</td>\n",
       "      <td>0.235720</td>\n",
       "    </tr>\n",
       "    <tr>\n",
       "      <th>9</th>\n",
       "      <td>dsgdb9nsd_000003</td>\n",
       "      <td>0</td>\n",
       "      <td>-0.589706</td>\n",
       "    </tr>\n",
       "    <tr>\n",
       "      <th>10</th>\n",
       "      <td>dsgdb9nsd_000003</td>\n",
       "      <td>1</td>\n",
       "      <td>0.294853</td>\n",
       "    </tr>\n",
       "    <tr>\n",
       "      <th>11</th>\n",
       "      <td>dsgdb9nsd_000003</td>\n",
       "      <td>2</td>\n",
       "      <td>0.294853</td>\n",
       "    </tr>\n",
       "    <tr>\n",
       "      <th>12</th>\n",
       "      <td>dsgdb9nsd_000005</td>\n",
       "      <td>0</td>\n",
       "      <td>-0.049655</td>\n",
       "    </tr>\n",
       "    <tr>\n",
       "      <th>13</th>\n",
       "      <td>dsgdb9nsd_000005</td>\n",
       "      <td>1</td>\n",
       "      <td>-0.188473</td>\n",
       "    </tr>\n",
       "    <tr>\n",
       "      <th>14</th>\n",
       "      <td>dsgdb9nsd_000005</td>\n",
       "      <td>2</td>\n",
       "      <td>0.238128</td>\n",
       "    </tr>\n",
       "    <tr>\n",
       "      <th>15</th>\n",
       "      <td>dsgdb9nsd_000007</td>\n",
       "      <td>0</td>\n",
       "      <td>-0.345672</td>\n",
       "    </tr>\n",
       "    <tr>\n",
       "      <th>16</th>\n",
       "      <td>dsgdb9nsd_000007</td>\n",
       "      <td>1</td>\n",
       "      <td>-0.345672</td>\n",
       "    </tr>\n",
       "    <tr>\n",
       "      <th>17</th>\n",
       "      <td>dsgdb9nsd_000007</td>\n",
       "      <td>2</td>\n",
       "      <td>0.115222</td>\n",
       "    </tr>\n",
       "    <tr>\n",
       "      <th>18</th>\n",
       "      <td>dsgdb9nsd_000007</td>\n",
       "      <td>3</td>\n",
       "      <td>0.115225</td>\n",
       "    </tr>\n",
       "    <tr>\n",
       "      <th>19</th>\n",
       "      <td>dsgdb9nsd_000007</td>\n",
       "      <td>4</td>\n",
       "      <td>0.115225</td>\n",
       "    </tr>\n",
       "    <tr>\n",
       "      <th>20</th>\n",
       "      <td>dsgdb9nsd_000007</td>\n",
       "      <td>5</td>\n",
       "      <td>0.115225</td>\n",
       "    </tr>\n",
       "    <tr>\n",
       "      <th>21</th>\n",
       "      <td>dsgdb9nsd_000007</td>\n",
       "      <td>6</td>\n",
       "      <td>0.115222</td>\n",
       "    </tr>\n",
       "    <tr>\n",
       "      <th>22</th>\n",
       "      <td>dsgdb9nsd_000007</td>\n",
       "      <td>7</td>\n",
       "      <td>0.115225</td>\n",
       "    </tr>\n",
       "    <tr>\n",
       "      <th>23</th>\n",
       "      <td>dsgdb9nsd_000008</td>\n",
       "      <td>0</td>\n",
       "      <td>-0.220179</td>\n",
       "    </tr>\n",
       "    <tr>\n",
       "      <th>24</th>\n",
       "      <td>dsgdb9nsd_000008</td>\n",
       "      <td>1</td>\n",
       "      <td>-0.403148</td>\n",
       "    </tr>\n",
       "    <tr>\n",
       "      <th>25</th>\n",
       "      <td>dsgdb9nsd_000008</td>\n",
       "      <td>2</td>\n",
       "      <td>0.102778</td>\n",
       "    </tr>\n",
       "    <tr>\n",
       "      <th>26</th>\n",
       "      <td>dsgdb9nsd_000008</td>\n",
       "      <td>3</td>\n",
       "      <td>0.102783</td>\n",
       "    </tr>\n",
       "    <tr>\n",
       "      <th>27</th>\n",
       "      <td>dsgdb9nsd_000008</td>\n",
       "      <td>4</td>\n",
       "      <td>0.131574</td>\n",
       "    </tr>\n",
       "    <tr>\n",
       "      <th>28</th>\n",
       "      <td>dsgdb9nsd_000008</td>\n",
       "      <td>5</td>\n",
       "      <td>0.286193</td>\n",
       "    </tr>\n",
       "    <tr>\n",
       "      <th>29</th>\n",
       "      <td>dsgdb9nsd_000009</td>\n",
       "      <td>0</td>\n",
       "      <td>-0.493018</td>\n",
       "    </tr>\n",
       "    <tr>\n",
       "      <th>30</th>\n",
       "      <td>dsgdb9nsd_000009</td>\n",
       "      <td>1</td>\n",
       "      <td>0.286586</td>\n",
       "    </tr>\n",
       "    <tr>\n",
       "      <th>31</th>\n",
       "      <td>dsgdb9nsd_000009</td>\n",
       "      <td>2</td>\n",
       "      <td>-0.443025</td>\n",
       "    </tr>\n",
       "  </tbody>\n",
       "</table>\n",
       "</div>"
      ],
      "text/plain": [
       "       molecule_name  atom_index  mulliken_charge\n",
       "0   dsgdb9nsd_000001           0        -0.535689\n",
       "1   dsgdb9nsd_000001           1         0.133921\n",
       "2   dsgdb9nsd_000001           2         0.133922\n",
       "3   dsgdb9nsd_000001           3         0.133923\n",
       "4   dsgdb9nsd_000001           4         0.133923\n",
       "5   dsgdb9nsd_000002           0        -0.707143\n",
       "6   dsgdb9nsd_000002           1         0.235712\n",
       "7   dsgdb9nsd_000002           2         0.235712\n",
       "8   dsgdb9nsd_000002           3         0.235720\n",
       "9   dsgdb9nsd_000003           0        -0.589706\n",
       "10  dsgdb9nsd_000003           1         0.294853\n",
       "11  dsgdb9nsd_000003           2         0.294853\n",
       "12  dsgdb9nsd_000005           0        -0.049655\n",
       "13  dsgdb9nsd_000005           1        -0.188473\n",
       "14  dsgdb9nsd_000005           2         0.238128\n",
       "15  dsgdb9nsd_000007           0        -0.345672\n",
       "16  dsgdb9nsd_000007           1        -0.345672\n",
       "17  dsgdb9nsd_000007           2         0.115222\n",
       "18  dsgdb9nsd_000007           3         0.115225\n",
       "19  dsgdb9nsd_000007           4         0.115225\n",
       "20  dsgdb9nsd_000007           5         0.115225\n",
       "21  dsgdb9nsd_000007           6         0.115222\n",
       "22  dsgdb9nsd_000007           7         0.115225\n",
       "23  dsgdb9nsd_000008           0        -0.220179\n",
       "24  dsgdb9nsd_000008           1        -0.403148\n",
       "25  dsgdb9nsd_000008           2         0.102778\n",
       "26  dsgdb9nsd_000008           3         0.102783\n",
       "27  dsgdb9nsd_000008           4         0.131574\n",
       "28  dsgdb9nsd_000008           5         0.286193\n",
       "29  dsgdb9nsd_000009           0        -0.493018\n",
       "30  dsgdb9nsd_000009           1         0.286586\n",
       "31  dsgdb9nsd_000009           2        -0.443025"
      ]
     },
     "execution_count": 22,
     "metadata": {},
     "output_type": "execute_result"
    }
   ],
   "source": [
    "mulliken_charges.head(32)"
   ]
  }
 ],
 "metadata": {
  "kernelspec": {
   "display_name": "Python 3",
   "language": "python",
   "name": "python3"
  },
  "language_info": {
   "codemirror_mode": {
    "name": "ipython",
    "version": 3
   },
   "file_extension": ".py",
   "mimetype": "text/x-python",
   "name": "python",
   "nbconvert_exporter": "python",
   "pygments_lexer": "ipython3",
   "version": "3.7.3"
  }
 },
 "nbformat": 4,
 "nbformat_minor": 4
}
