{
 "cells": [
  {
   "cell_type": "code",
   "execution_count": 1,
   "metadata": {},
   "outputs": [],
   "source": [
    "import pandas as pd\n",
    "import pyarrow.parquet as pq\n",
    "import numpy as np\n",
    "\n",
    "from chemistry import Atom, Bond, Molecule"
   ]
  },
  {
   "cell_type": "code",
   "execution_count": 2,
   "metadata": {},
   "outputs": [
    {
     "name": "stderr",
     "output_type": "stream",
     "text": [
      "/home/gautham/apps/anaconda3/envs/kaggle/lib/python3.7/site-packages/pyarrow/pandas_compat.py:752: FutureWarning: .labels was deprecated in version 0.24.0. Use .codes instead.\n",
      "  labels, = index.labels\n"
     ]
    }
   ],
   "source": [
    "structures = pd.read_feather('../data/structures.feather')\n",
    "labelled = pd.read_feather('../data/train.feather')\n",
    "unlabelled = pd.read_feather('../data/test.feather')"
   ]
  },
  {
   "cell_type": "code",
   "execution_count": 3,
   "metadata": {},
   "outputs": [],
   "source": [
    "def merge(data):\n",
    "    l = data.copy()\n",
    "    l0 = l.merge(structures, left_on=['molecule_name', 'atom_index_0'], right_on=['molecule_name', 'atom_index'], suffixes=('0', '0'))[['x', 'y', 'z']]\n",
    "    l1 = l.merge(structures, left_on=['molecule_name', 'atom_index_1'], right_on=['molecule_name', 'atom_index'], suffixes=('1', '1'))[['x', 'y', 'z']]\n",
    "    d = l0 - l1\n",
    "    d2 = d * d\n",
    "    dist2 = d2.x + d2.y + d2.z\n",
    "    dist = dist2.apply(np.sqrt)\n",
    "    dist.name = 'distance'\n",
    "    merged = l.join(dist)\n",
    "    return merged"
   ]
  },
  {
   "cell_type": "code",
   "execution_count": 4,
   "metadata": {},
   "outputs": [],
   "source": [
    "labelled_merged = merge(labelled)\n",
    "unlabelled_merged = merge(unlabelled)"
   ]
  },
  {
   "cell_type": "code",
   "execution_count": 9,
   "metadata": {},
   "outputs": [],
   "source": [
    "min_dist = min(labelled_merged.distance.min(), unlabelled_merged.distance.min())\n",
    "max_dist = max(labelled_merged.distance.max(), unlabelled_merged.distance.max())\n",
    "\n",
    "min_coeff = labelled_merged.scalar_coupling_constant.min()\n",
    "max_coeff = labelled_merged.scalar_coupling_constant.max()"
   ]
  },
  {
   "cell_type": "code",
   "execution_count": 18,
   "metadata": {},
   "outputs": [],
   "source": [
    "offset = min_coeff\n",
    "scale = max_coeff - min_coeff\n",
    "\n",
    "labelled_merged['norm_distance'] = (labelled_merged.distance - min_dist) / (max_dist - min_dist)\n",
    "unlabelled_merged['norm_distance'] = (unlabelled_merged.distance - min_dist) / (max_dist - min_dist)\n",
    "\n",
    "labelled_merged['norm_scc'] = (labelled_merged.scalar_coupling_constant - min_coeff) / (max_coeff - min_coeff)"
   ]
  },
  {
   "cell_type": "code",
   "execution_count": 19,
   "metadata": {},
   "outputs": [],
   "source": [
    "types = labelled.type.unique()\n",
    "\n",
    "index = 0\n",
    "type_index = {}\n",
    "for t in types:\n",
    "    type_index[t] = index\n",
    "    index += 1\n",
    "\n",
    "dist_index = index\n",
    "index += 1\n",
    "\n",
    "columns = index"
   ]
  },
  {
   "cell_type": "code",
   "execution_count": 20,
   "metadata": {},
   "outputs": [],
   "source": [
    "def partition_labelled(data, count=None, train_frac=0.7):\n",
    "    n_labelled = count if count is not None else len(labelled)\n",
    "    n_train = int(n_labelled * train_frac)\n",
    "    n_test = n_labelled - n_train\n",
    "    indices = np.arange(0, n_labelled)\n",
    "    np.random.shuffle(indices)\n",
    "    \n",
    "    train_indices = indices[0:n_train]\n",
    "    test_indices = indices[n_train:]\n",
    "    \n",
    "    train = data.iloc[train_indices, :]\n",
    "    test = data.iloc[test_indices, :]\n",
    "\n",
    "    return train, test\n",
    "\n",
    "def make_input(data, columns, type_index, dist_index):\n",
    "    n = len(data)\n",
    "    input = np.zeros((columns, n), dtype='float32')\n",
    "    \n",
    "    for t in type_index:\n",
    "        input[type_index[t], data.type == t] = 1\n",
    "        \n",
    "    input[dist_index] = data.norm_distance\n",
    "        \n",
    "    return input.T\n",
    "\n",
    "def make_output(data, columns, type_index, dist_index):\n",
    "    n = len(data)\n",
    "    output = np.zeros(n, dtype='float32')\n",
    "    output[:] = data.norm_scc\n",
    "        \n",
    "    return output"
   ]
  },
  {
   "cell_type": "code",
   "execution_count": 21,
   "metadata": {},
   "outputs": [],
   "source": [
    "from sklearn.svm import SVR,LinearSVR"
   ]
  },
  {
   "cell_type": "code",
   "execution_count": 22,
   "metadata": {},
   "outputs": [
    {
     "data": {
      "text/plain": [
       "Index(['id', 'molecule_name', 'atom_index_0', 'atom_index_1', 'type',\n",
       "       'scalar_coupling_constant', 'distance', 'norm_distance', 'norm_scc'],\n",
       "      dtype='object')"
      ]
     },
     "execution_count": 22,
     "metadata": {},
     "output_type": "execute_result"
    }
   ],
   "source": [
    "labelled_merged.columns"
   ]
  },
  {
   "cell_type": "code",
   "execution_count": 23,
   "metadata": {},
   "outputs": [
    {
     "data": {
      "text/plain": [
       "((3260702, 9), (3260702,))"
      ]
     },
     "execution_count": 23,
     "metadata": {},
     "output_type": "execute_result"
    }
   ],
   "source": [
    "labelled_train, labelled_test = partition_labelled(labelled_merged)\n",
    "\n",
    "labelled_train_input = make_input(labelled_train, columns, type_index, dist_index)\n",
    "labelled_train_output = make_output(labelled_train, columns, type_index, dist_index)\n",
    "\n",
    "labelled_test_input = make_input(labelled_test, columns, type_index, dist_index)\n",
    "labelled_test_output = make_output(labelled_test, columns, type_index, dist_index)\n",
    "\n",
    "labelled_train_input.shape, labelled_train_output.shape"
   ]
  },
  {
   "cell_type": "code",
   "execution_count": 24,
   "metadata": {},
   "outputs": [
    {
     "data": {
      "text/plain": [
       "(array([0.15613064, 0.19356978, 0.14963348, ..., 0.14872889, 0.59662145,\n",
       "        0.14208329], dtype=float32),\n",
       " array([0.15984714, 0.96508896, 0.54827154, ..., 0.16897884, 0.11056755,\n",
       "        0.18812917], dtype=float32))"
      ]
     },
     "execution_count": 24,
     "metadata": {},
     "output_type": "execute_result"
    }
   ],
   "source": [
    "labelled_train_output,labelled_test_output"
   ]
  },
  {
   "cell_type": "code",
   "execution_count": 25,
   "metadata": {},
   "outputs": [
    {
     "name": "stdout",
     "output_type": "stream",
     "text": [
      "\n"
     ]
    },
    {
     "name": "stderr",
     "output_type": "stream",
     "text": [
      "/home/gautham/apps/anaconda3/envs/kaggle/lib/python3.7/site-packages/sklearn/svm/base.py:929: ConvergenceWarning: Liblinear failed to converge, increase the number of iterations.\n",
      "  \"the number of iterations.\", ConvergenceWarning)\n"
     ]
    },
    {
     "data": {
      "text/plain": [
       "0.9424511846976048"
      ]
     },
     "execution_count": 25,
     "metadata": {},
     "output_type": "execute_result"
    }
   ],
   "source": [
    "model = LinearSVR()\n",
    "model.fit(labelled_train_input, labelled_train_output)\n",
    "print('')\n",
    "#print(model.predict(test_input))\n",
    "#print(test_output)\n",
    "model.score(labelled_test_input, labelled_test_output)"
   ]
  },
  {
   "cell_type": "code",
   "execution_count": 26,
   "metadata": {},
   "outputs": [],
   "source": [
    "unlabelled_input = make_input(unlabelled_merged, columns, type_index, dist_index)"
   ]
  },
  {
   "cell_type": "code",
   "execution_count": 27,
   "metadata": {},
   "outputs": [],
   "source": [
    "unlabelled_output = model.predict(unlabelled_input)"
   ]
  },
  {
   "cell_type": "code",
   "execution_count": 28,
   "metadata": {},
   "outputs": [
    {
     "data": {
      "text/plain": [
       "array([0.14660773, 0.51835309, 0.16558849, ..., 0.16350243, 0.14605477,\n",
       "       0.51780013])"
      ]
     },
     "execution_count": 28,
     "metadata": {},
     "output_type": "execute_result"
    }
   ],
   "source": [
    "unlabelled_output"
   ]
  },
  {
   "cell_type": "code",
   "execution_count": 29,
   "metadata": {},
   "outputs": [],
   "source": [
    "unlabelled_output = unlabelled_output * scale + offset"
   ]
  },
  {
   "cell_type": "code",
   "execution_count": 30,
   "metadata": {},
   "outputs": [
    {
     "data": {
      "text/plain": [
       "array([-0.87168158, 88.75560426,  3.70455341, ...,  3.20160632,\n",
       "       -1.0049999 , 88.62228594])"
      ]
     },
     "execution_count": 30,
     "metadata": {},
     "output_type": "execute_result"
    }
   ],
   "source": [
    "unlabelled_output"
   ]
  },
  {
   "cell_type": "code",
   "execution_count": 31,
   "metadata": {},
   "outputs": [],
   "source": [
    "output_df = pd.DataFrame({'id':unlabelled.id, 'scalar_coupling_constant':pd.Series(unlabelled_output, index=unlabelled.index)})"
   ]
  },
  {
   "cell_type": "code",
   "execution_count": 32,
   "metadata": {},
   "outputs": [
    {
     "data": {
      "text/html": [
       "<div>\n",
       "<style scoped>\n",
       "    .dataframe tbody tr th:only-of-type {\n",
       "        vertical-align: middle;\n",
       "    }\n",
       "\n",
       "    .dataframe tbody tr th {\n",
       "        vertical-align: top;\n",
       "    }\n",
       "\n",
       "    .dataframe thead th {\n",
       "        text-align: right;\n",
       "    }\n",
       "</style>\n",
       "<table border=\"1\" class=\"dataframe\">\n",
       "  <thead>\n",
       "    <tr style=\"text-align: right;\">\n",
       "      <th></th>\n",
       "      <th>id</th>\n",
       "      <th>scalar_coupling_constant</th>\n",
       "    </tr>\n",
       "  </thead>\n",
       "  <tbody>\n",
       "    <tr>\n",
       "      <th>0</th>\n",
       "      <td>4658147</td>\n",
       "      <td>-0.871682</td>\n",
       "    </tr>\n",
       "    <tr>\n",
       "      <th>1</th>\n",
       "      <td>4658148</td>\n",
       "      <td>88.755604</td>\n",
       "    </tr>\n",
       "    <tr>\n",
       "      <th>2</th>\n",
       "      <td>4658149</td>\n",
       "      <td>3.704553</td>\n",
       "    </tr>\n",
       "    <tr>\n",
       "      <th>3</th>\n",
       "      <td>4658150</td>\n",
       "      <td>88.755604</td>\n",
       "    </tr>\n",
       "    <tr>\n",
       "      <th>4</th>\n",
       "      <td>4658151</td>\n",
       "      <td>-1.005000</td>\n",
       "    </tr>\n",
       "    <tr>\n",
       "      <th>5</th>\n",
       "      <td>4658152</td>\n",
       "      <td>88.687279</td>\n",
       "    </tr>\n",
       "    <tr>\n",
       "      <th>6</th>\n",
       "      <td>4658153</td>\n",
       "      <td>3.266599</td>\n",
       "    </tr>\n",
       "    <tr>\n",
       "      <th>7</th>\n",
       "      <td>4658154</td>\n",
       "      <td>-11.038856</td>\n",
       "    </tr>\n",
       "    <tr>\n",
       "      <th>8</th>\n",
       "      <td>4658155</td>\n",
       "      <td>-11.038856</td>\n",
       "    </tr>\n",
       "    <tr>\n",
       "      <th>9</th>\n",
       "      <td>4658156</td>\n",
       "      <td>88.687279</td>\n",
       "    </tr>\n",
       "    <tr>\n",
       "      <th>10</th>\n",
       "      <td>4658157</td>\n",
       "      <td>3.266599</td>\n",
       "    </tr>\n",
       "    <tr>\n",
       "      <th>11</th>\n",
       "      <td>4658158</td>\n",
       "      <td>-10.948201</td>\n",
       "    </tr>\n",
       "    <tr>\n",
       "      <th>12</th>\n",
       "      <td>4658159</td>\n",
       "      <td>88.814646</td>\n",
       "    </tr>\n",
       "    <tr>\n",
       "      <th>13</th>\n",
       "      <td>4658160</td>\n",
       "      <td>3.393966</td>\n",
       "    </tr>\n",
       "    <tr>\n",
       "      <th>14</th>\n",
       "      <td>4658161</td>\n",
       "      <td>3.266599</td>\n",
       "    </tr>\n",
       "    <tr>\n",
       "      <th>15</th>\n",
       "      <td>4658162</td>\n",
       "      <td>88.687279</td>\n",
       "    </tr>\n",
       "    <tr>\n",
       "      <th>16</th>\n",
       "      <td>4658163</td>\n",
       "      <td>-11.038856</td>\n",
       "    </tr>\n",
       "    <tr>\n",
       "      <th>17</th>\n",
       "      <td>4658164</td>\n",
       "      <td>-10.958699</td>\n",
       "    </tr>\n",
       "    <tr>\n",
       "      <th>18</th>\n",
       "      <td>4658165</td>\n",
       "      <td>3.415320</td>\n",
       "    </tr>\n",
       "    <tr>\n",
       "      <th>19</th>\n",
       "      <td>4658166</td>\n",
       "      <td>88.835999</td>\n",
       "    </tr>\n",
       "    <tr>\n",
       "      <th>20</th>\n",
       "      <td>4658167</td>\n",
       "      <td>-11.103849</td>\n",
       "    </tr>\n",
       "    <tr>\n",
       "      <th>21</th>\n",
       "      <td>4658168</td>\n",
       "      <td>3.201606</td>\n",
       "    </tr>\n",
       "    <tr>\n",
       "      <th>22</th>\n",
       "      <td>4658169</td>\n",
       "      <td>88.622286</td>\n",
       "    </tr>\n",
       "    <tr>\n",
       "      <th>23</th>\n",
       "      <td>4658170</td>\n",
       "      <td>88.686226</td>\n",
       "    </tr>\n",
       "    <tr>\n",
       "      <th>24</th>\n",
       "      <td>4658171</td>\n",
       "      <td>-0.941060</td>\n",
       "    </tr>\n",
       "    <tr>\n",
       "      <th>25</th>\n",
       "      <td>4658172</td>\n",
       "      <td>-0.941060</td>\n",
       "    </tr>\n",
       "    <tr>\n",
       "      <th>26</th>\n",
       "      <td>4658173</td>\n",
       "      <td>-11.039909</td>\n",
       "    </tr>\n",
       "    <tr>\n",
       "      <th>27</th>\n",
       "      <td>4658174</td>\n",
       "      <td>3.705873</td>\n",
       "    </tr>\n",
       "    <tr>\n",
       "      <th>28</th>\n",
       "      <td>4658175</td>\n",
       "      <td>3.705873</td>\n",
       "    </tr>\n",
       "    <tr>\n",
       "      <th>29</th>\n",
       "      <td>4658176</td>\n",
       "      <td>3.773608</td>\n",
       "    </tr>\n",
       "    <tr>\n",
       "      <th>...</th>\n",
       "      <td>...</td>\n",
       "      <td>...</td>\n",
       "    </tr>\n",
       "    <tr>\n",
       "      <th>2505512</th>\n",
       "      <td>7163659</td>\n",
       "      <td>88.819441</td>\n",
       "    </tr>\n",
       "    <tr>\n",
       "      <th>2505513</th>\n",
       "      <td>7163660</td>\n",
       "      <td>-0.807845</td>\n",
       "    </tr>\n",
       "    <tr>\n",
       "      <th>2505514</th>\n",
       "      <td>7163661</td>\n",
       "      <td>3.396971</td>\n",
       "    </tr>\n",
       "    <tr>\n",
       "      <th>2505515</th>\n",
       "      <td>7163662</td>\n",
       "      <td>3.396971</td>\n",
       "    </tr>\n",
       "    <tr>\n",
       "      <th>2505516</th>\n",
       "      <td>7163663</td>\n",
       "      <td>-0.809635</td>\n",
       "    </tr>\n",
       "    <tr>\n",
       "      <th>2505517</th>\n",
       "      <td>7163664</td>\n",
       "      <td>3.837297</td>\n",
       "    </tr>\n",
       "    <tr>\n",
       "      <th>2505518</th>\n",
       "      <td>7163665</td>\n",
       "      <td>3.837297</td>\n",
       "    </tr>\n",
       "    <tr>\n",
       "      <th>2505519</th>\n",
       "      <td>7163666</td>\n",
       "      <td>3.400830</td>\n",
       "    </tr>\n",
       "    <tr>\n",
       "      <th>2505520</th>\n",
       "      <td>7163667</td>\n",
       "      <td>-0.805777</td>\n",
       "    </tr>\n",
       "    <tr>\n",
       "      <th>2505521</th>\n",
       "      <td>7163668</td>\n",
       "      <td>88.933740</td>\n",
       "    </tr>\n",
       "    <tr>\n",
       "      <th>2505522</th>\n",
       "      <td>7163669</td>\n",
       "      <td>3.338661</td>\n",
       "    </tr>\n",
       "    <tr>\n",
       "      <th>2505523</th>\n",
       "      <td>7163670</td>\n",
       "      <td>3.338661</td>\n",
       "    </tr>\n",
       "    <tr>\n",
       "      <th>2505524</th>\n",
       "      <td>7163671</td>\n",
       "      <td>-0.867945</td>\n",
       "    </tr>\n",
       "    <tr>\n",
       "      <th>2505525</th>\n",
       "      <td>7163672</td>\n",
       "      <td>3.778987</td>\n",
       "    </tr>\n",
       "    <tr>\n",
       "      <th>2505526</th>\n",
       "      <td>7163673</td>\n",
       "      <td>3.400137</td>\n",
       "    </tr>\n",
       "    <tr>\n",
       "      <th>2505527</th>\n",
       "      <td>7163674</td>\n",
       "      <td>2.353862</td>\n",
       "    </tr>\n",
       "    <tr>\n",
       "      <th>2505528</th>\n",
       "      <td>7163675</td>\n",
       "      <td>3.389853</td>\n",
       "    </tr>\n",
       "    <tr>\n",
       "      <th>2505529</th>\n",
       "      <td>7163676</td>\n",
       "      <td>3.389853</td>\n",
       "    </tr>\n",
       "    <tr>\n",
       "      <th>2505530</th>\n",
       "      <td>7163677</td>\n",
       "      <td>3.389853</td>\n",
       "    </tr>\n",
       "    <tr>\n",
       "      <th>2505531</th>\n",
       "      <td>7163678</td>\n",
       "      <td>-0.816754</td>\n",
       "    </tr>\n",
       "    <tr>\n",
       "      <th>2505532</th>\n",
       "      <td>7163679</td>\n",
       "      <td>88.755797</td>\n",
       "    </tr>\n",
       "    <tr>\n",
       "      <th>2505533</th>\n",
       "      <td>7163680</td>\n",
       "      <td>-0.871489</td>\n",
       "    </tr>\n",
       "    <tr>\n",
       "      <th>2505534</th>\n",
       "      <td>7163681</td>\n",
       "      <td>3.775443</td>\n",
       "    </tr>\n",
       "    <tr>\n",
       "      <th>2505535</th>\n",
       "      <td>7163682</td>\n",
       "      <td>0.902719</td>\n",
       "    </tr>\n",
       "    <tr>\n",
       "      <th>2505536</th>\n",
       "      <td>7163683</td>\n",
       "      <td>3.265311</td>\n",
       "    </tr>\n",
       "    <tr>\n",
       "      <th>2505537</th>\n",
       "      <td>7163684</td>\n",
       "      <td>-0.843612</td>\n",
       "    </tr>\n",
       "    <tr>\n",
       "      <th>2505538</th>\n",
       "      <td>7163685</td>\n",
       "      <td>-0.843432</td>\n",
       "    </tr>\n",
       "    <tr>\n",
       "      <th>2505539</th>\n",
       "      <td>7163686</td>\n",
       "      <td>3.201606</td>\n",
       "    </tr>\n",
       "    <tr>\n",
       "      <th>2505540</th>\n",
       "      <td>7163687</td>\n",
       "      <td>-1.005000</td>\n",
       "    </tr>\n",
       "    <tr>\n",
       "      <th>2505541</th>\n",
       "      <td>7163688</td>\n",
       "      <td>88.622286</td>\n",
       "    </tr>\n",
       "  </tbody>\n",
       "</table>\n",
       "<p>2505542 rows × 2 columns</p>\n",
       "</div>"
      ],
      "text/plain": [
       "              id  scalar_coupling_constant\n",
       "0        4658147                 -0.871682\n",
       "1        4658148                 88.755604\n",
       "2        4658149                  3.704553\n",
       "3        4658150                 88.755604\n",
       "4        4658151                 -1.005000\n",
       "5        4658152                 88.687279\n",
       "6        4658153                  3.266599\n",
       "7        4658154                -11.038856\n",
       "8        4658155                -11.038856\n",
       "9        4658156                 88.687279\n",
       "10       4658157                  3.266599\n",
       "11       4658158                -10.948201\n",
       "12       4658159                 88.814646\n",
       "13       4658160                  3.393966\n",
       "14       4658161                  3.266599\n",
       "15       4658162                 88.687279\n",
       "16       4658163                -11.038856\n",
       "17       4658164                -10.958699\n",
       "18       4658165                  3.415320\n",
       "19       4658166                 88.835999\n",
       "20       4658167                -11.103849\n",
       "21       4658168                  3.201606\n",
       "22       4658169                 88.622286\n",
       "23       4658170                 88.686226\n",
       "24       4658171                 -0.941060\n",
       "25       4658172                 -0.941060\n",
       "26       4658173                -11.039909\n",
       "27       4658174                  3.705873\n",
       "28       4658175                  3.705873\n",
       "29       4658176                  3.773608\n",
       "...          ...                       ...\n",
       "2505512  7163659                 88.819441\n",
       "2505513  7163660                 -0.807845\n",
       "2505514  7163661                  3.396971\n",
       "2505515  7163662                  3.396971\n",
       "2505516  7163663                 -0.809635\n",
       "2505517  7163664                  3.837297\n",
       "2505518  7163665                  3.837297\n",
       "2505519  7163666                  3.400830\n",
       "2505520  7163667                 -0.805777\n",
       "2505521  7163668                 88.933740\n",
       "2505522  7163669                  3.338661\n",
       "2505523  7163670                  3.338661\n",
       "2505524  7163671                 -0.867945\n",
       "2505525  7163672                  3.778987\n",
       "2505526  7163673                  3.400137\n",
       "2505527  7163674                  2.353862\n",
       "2505528  7163675                  3.389853\n",
       "2505529  7163676                  3.389853\n",
       "2505530  7163677                  3.389853\n",
       "2505531  7163678                 -0.816754\n",
       "2505532  7163679                 88.755797\n",
       "2505533  7163680                 -0.871489\n",
       "2505534  7163681                  3.775443\n",
       "2505535  7163682                  0.902719\n",
       "2505536  7163683                  3.265311\n",
       "2505537  7163684                 -0.843612\n",
       "2505538  7163685                 -0.843432\n",
       "2505539  7163686                  3.201606\n",
       "2505540  7163687                 -1.005000\n",
       "2505541  7163688                 88.622286\n",
       "\n",
       "[2505542 rows x 2 columns]"
      ]
     },
     "execution_count": 32,
     "metadata": {},
     "output_type": "execute_result"
    }
   ],
   "source": [
    "output_df"
   ]
  },
  {
   "cell_type": "code",
   "execution_count": 33,
   "metadata": {},
   "outputs": [],
   "source": [
    "output_df.to_csv('../data/pred.csv',index=False)"
   ]
  },
  {
   "cell_type": "code",
   "execution_count": null,
   "metadata": {},
   "outputs": [],
   "source": []
  }
 ],
 "metadata": {
  "kernelspec": {
   "display_name": "Python 3",
   "language": "python",
   "name": "python3"
  },
  "language_info": {
   "codemirror_mode": {
    "name": "ipython",
    "version": 3
   },
   "file_extension": ".py",
   "mimetype": "text/x-python",
   "name": "python",
   "nbconvert_exporter": "python",
   "pygments_lexer": "ipython3",
   "version": "3.7.3"
  }
 },
 "nbformat": 4,
 "nbformat_minor": 2
}
