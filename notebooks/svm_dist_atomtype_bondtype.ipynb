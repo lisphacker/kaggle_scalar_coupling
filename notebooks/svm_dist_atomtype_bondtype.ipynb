{
 "cells": [
  {
   "cell_type": "code",
   "execution_count": 1,
   "metadata": {},
   "outputs": [],
   "source": [
    "import pandas as pd\n",
    "import pyarrow.parquet as pq\n",
    "import numpy as np\n",
    "\n",
    "from chemistry import Atom, Bond, Molecule"
   ]
  },
  {
   "cell_type": "code",
   "execution_count": 2,
   "metadata": {},
   "outputs": [
    {
     "name": "stderr",
     "output_type": "stream",
     "text": [
      "/home/gautham/apps/anaconda3/envs/kaggle/lib/python3.7/site-packages/pyarrow/pandas_compat.py:752: FutureWarning: .labels was deprecated in version 0.24.0. Use .codes instead.\n",
      "  labels, = index.labels\n"
     ]
    }
   ],
   "source": [
    "structures = pd.read_feather('../data/structures.feather')\n",
    "labelled = pd.read_feather('../data/train.feather')\n",
    "unlabelled = pd.read_feather('../data/test.feather')"
   ]
  },
  {
   "cell_type": "code",
   "execution_count": 3,
   "metadata": {},
   "outputs": [],
   "source": [
    "def merge(data):\n",
    "    data.copy()\n",
    "    \n",
    "    m0 = data.merge(structures, left_on=['molecule_name', 'atom_index_0'], right_on=['molecule_name', 'atom_index'], suffixes=('0', '0'))\n",
    "    m1 = data.merge(structures, left_on=['molecule_name', 'atom_index_1'], right_on=['molecule_name', 'atom_index'], suffixes=('1', '1'))\n",
    "    \n",
    "    l0 = m0[['x', 'y', 'z']]\n",
    "    l1 = m1[['x', 'y', 'z']]\n",
    "    d = l0 - l1\n",
    "    d2 = d * d\n",
    "    dist2 = d2.x + d2.y + d2.z\n",
    "    dist = dist2.apply(np.sqrt)\n",
    "    dist.name = 'distance'\n",
    "    \n",
    "    merged = data.join(dist)\n",
    "    merged['atom_0'] = m0.atom\n",
    "    merged['atom_1'] = m1.atom\n",
    "    \n",
    "    return merged"
   ]
  },
  {
   "cell_type": "code",
   "execution_count": 4,
   "metadata": {},
   "outputs": [],
   "source": [
    "labelled_merged = merge(labelled)\n",
    "unlabelled_merged = merge(unlabelled)"
   ]
  },
  {
   "cell_type": "code",
   "execution_count": 5,
   "metadata": {},
   "outputs": [],
   "source": [
    "min_dist = min(labelled_merged.distance.min(), unlabelled_merged.distance.min())\n",
    "max_dist = max(labelled_merged.distance.max(), unlabelled_merged.distance.max())\n",
    "\n",
    "min_coeff = labelled_merged.scalar_coupling_constant.min()\n",
    "max_coeff = labelled_merged.scalar_coupling_constant.max()"
   ]
  },
  {
   "cell_type": "code",
   "execution_count": 6,
   "metadata": {},
   "outputs": [],
   "source": [
    "offset = min_coeff\n",
    "scale = max_coeff - min_coeff\n",
    "\n",
    "labelled_merged['norm_distance'] = (labelled_merged.distance - min_dist) / (max_dist - min_dist)\n",
    "unlabelled_merged['norm_distance'] = (unlabelled_merged.distance - min_dist) / (max_dist - min_dist)\n",
    "\n",
    "labelled_merged['norm_scc'] = (labelled_merged.scalar_coupling_constant - min_coeff) / (max_coeff - min_coeff)"
   ]
  },
  {
   "cell_type": "code",
   "execution_count": 7,
   "metadata": {},
   "outputs": [],
   "source": [
    "types = labelled.type.unique()\n",
    "atoms = structures.atom.unique()\n",
    "\n",
    "index = 0\n",
    "type_index = {}\n",
    "for t in types:\n",
    "    type_index[t] = index\n",
    "    index += 1\n",
    "\n",
    "atom_index = {}\n",
    "for a in atoms:\n",
    "    atom_index[a] = index\n",
    "    index += 2\n",
    "\n",
    "dist_index = index\n",
    "index += 1\n",
    "\n",
    "columns = index"
   ]
  },
  {
   "cell_type": "code",
   "execution_count": 8,
   "metadata": {},
   "outputs": [],
   "source": [
    "def partition_labelled(data, count=None, train_frac=0.7):\n",
    "    n_labelled = count if count is not None else len(labelled)\n",
    "    n_train = int(n_labelled * train_frac)\n",
    "    n_test = n_labelled - n_train\n",
    "    indices = np.arange(0, n_labelled)\n",
    "    np.random.shuffle(indices)\n",
    "    \n",
    "    train_indices = indices[0:n_train]\n",
    "    test_indices = indices[n_train:]\n",
    "    \n",
    "    train = data.iloc[train_indices, :]\n",
    "    test = data.iloc[test_indices, :]\n",
    "\n",
    "    return train, test\n",
    "\n",
    "def make_input(data, columns, type_index, atom_index, dist_index):\n",
    "    n = len(data)\n",
    "    input = np.zeros((columns, n), dtype='float32')\n",
    "    \n",
    "    for t in type_index:\n",
    "        input[type_index[t], data.type == t] = 1\n",
    "        \n",
    "    for a in atom_index:\n",
    "        input[atom_index[a], data.atom_0 == t] = 1\n",
    "        input[atom_index[a] + 1, data.atom_1 == t] = 1\n",
    "        \n",
    "    input[dist_index] = data.norm_distance\n",
    "        \n",
    "    return input.T\n",
    "\n",
    "def make_output(data):\n",
    "    n = len(data)\n",
    "    output = np.zeros(n, dtype='float32')\n",
    "    output[:] = data.norm_scc\n",
    "        \n",
    "    return output"
   ]
  },
  {
   "cell_type": "code",
   "execution_count": 9,
   "metadata": {},
   "outputs": [],
   "source": [
    "from sklearn.svm import SVR,LinearSVR"
   ]
  },
  {
   "cell_type": "code",
   "execution_count": 10,
   "metadata": {},
   "outputs": [
    {
     "data": {
      "text/plain": [
       "Index(['id', 'molecule_name', 'atom_index_0', 'atom_index_1', 'type',\n",
       "       'scalar_coupling_constant', 'distance', 'atom_0', 'atom_1',\n",
       "       'norm_distance', 'norm_scc'],\n",
       "      dtype='object')"
      ]
     },
     "execution_count": 10,
     "metadata": {},
     "output_type": "execute_result"
    }
   ],
   "source": [
    "labelled_merged.columns"
   ]
  },
  {
   "cell_type": "code",
   "execution_count": 15,
   "metadata": {},
   "outputs": [
    {
     "data": {
      "text/plain": [
       "((7000, 19), (7000,))"
      ]
     },
     "execution_count": 15,
     "metadata": {},
     "output_type": "execute_result"
    }
   ],
   "source": [
    "labelled_train, labelled_test = partition_labelled(labelled_merged, 10000)\n",
    "\n",
    "labelled_train_input = make_input(labelled_train, columns, type_index, atom_index, dist_index)\n",
    "labelled_train_output = make_output(labelled_train)\n",
    "\n",
    "labelled_test_input = make_input(labelled_test, columns, type_index, atom_index, dist_index)\n",
    "labelled_test_output = make_output(labelled_test)\n",
    "\n",
    "labelled_train_input.shape, labelled_train_output.shape"
   ]
  },
  {
   "cell_type": "code",
   "execution_count": 16,
   "metadata": {},
   "outputs": [
    {
     "name": "stdout",
     "output_type": "stream",
     "text": [
      "\n"
     ]
    },
    {
     "name": "stderr",
     "output_type": "stream",
     "text": [
      "/home/gautham/apps/anaconda3/envs/kaggle/lib/python3.7/site-packages/sklearn/svm/base.py:929: ConvergenceWarning: Liblinear failed to converge, increase the number of iterations.\n",
      "  \"the number of iterations.\", ConvergenceWarning)\n"
     ]
    },
    {
     "data": {
      "text/plain": [
       "0.915424362556078"
      ]
     },
     "execution_count": 16,
     "metadata": {},
     "output_type": "execute_result"
    }
   ],
   "source": [
    "model = LinearSVR()\n",
    "model.fit(labelled_train_input, labelled_train_output)\n",
    "print('')\n",
    "#print(model.predict(test_input))\n",
    "#print(test_output)\n",
    "model.score(labelled_test_input, labelled_test_output)"
   ]
  },
  {
   "cell_type": "code",
   "execution_count": 20,
   "metadata": {},
   "outputs": [
    {
     "data": {
      "text/plain": [
       "((4658147, 19), (4658147,))"
      ]
     },
     "execution_count": 20,
     "metadata": {},
     "output_type": "execute_result"
    }
   ],
   "source": [
    "labelled_train_input = make_input(labelled_merged, columns, type_index, atom_index, dist_index)\n",
    "labelled_train_output = make_output(labelled_merged)\n",
    "\n",
    "labelled_train_input.shape, labelled_train_output.shape"
   ]
  },
  {
   "cell_type": "code",
   "execution_count": 21,
   "metadata": {},
   "outputs": [
    {
     "name": "stderr",
     "output_type": "stream",
     "text": [
      "/home/gautham/apps/anaconda3/envs/kaggle/lib/python3.7/site-packages/sklearn/svm/base.py:929: ConvergenceWarning: Liblinear failed to converge, increase the number of iterations.\n",
      "  \"the number of iterations.\", ConvergenceWarning)\n"
     ]
    },
    {
     "data": {
      "text/plain": [
       "LinearSVR(C=1.0, dual=True, epsilon=0.0, fit_intercept=True,\n",
       "          intercept_scaling=1.0, loss='epsilon_insensitive', max_iter=1000,\n",
       "          random_state=None, tol=0.0001, verbose=0)"
      ]
     },
     "execution_count": 21,
     "metadata": {},
     "output_type": "execute_result"
    }
   ],
   "source": [
    "model = LinearSVR()\n",
    "model.fit(labelled_train_input, labelled_train_output)"
   ]
  },
  {
   "cell_type": "code",
   "execution_count": 22,
   "metadata": {},
   "outputs": [],
   "source": [
    "unlabelled_input = make_input(unlabelled_merged, columns, type_index, atom_index, dist_index)"
   ]
  },
  {
   "cell_type": "code",
   "execution_count": 23,
   "metadata": {},
   "outputs": [],
   "source": [
    "unlabelled_output = model.predict(unlabelled_input)"
   ]
  },
  {
   "cell_type": "code",
   "execution_count": 24,
   "metadata": {},
   "outputs": [
    {
     "data": {
      "text/plain": [
       "array([0.14489314, 0.51499623, 0.16347423, ..., 0.15980076, 0.14425363,\n",
       "       0.51435673])"
      ]
     },
     "execution_count": 24,
     "metadata": {},
     "output_type": "execute_result"
    }
   ],
   "source": [
    "unlabelled_output"
   ]
  },
  {
   "cell_type": "code",
   "execution_count": 25,
   "metadata": {},
   "outputs": [],
   "source": [
    "unlabelled_output = unlabelled_output * scale + offset"
   ]
  },
  {
   "cell_type": "code",
   "execution_count": 26,
   "metadata": {},
   "outputs": [
    {
     "data": {
      "text/plain": [
       "array([-1.28506886, 87.9462694 ,  3.19480777, ...,  2.30913835,\n",
       "       -1.4392517 , 87.79208655])"
      ]
     },
     "execution_count": 26,
     "metadata": {},
     "output_type": "execute_result"
    }
   ],
   "source": [
    "unlabelled_output"
   ]
  },
  {
   "cell_type": "code",
   "execution_count": 27,
   "metadata": {},
   "outputs": [],
   "source": [
    "output_df = pd.DataFrame({'id':unlabelled.id, 'scalar_coupling_constant':pd.Series(unlabelled_output, index=unlabelled.index)})"
   ]
  },
  {
   "cell_type": "code",
   "execution_count": 28,
   "metadata": {},
   "outputs": [
    {
     "data": {
      "text/html": [
       "<div>\n",
       "<style scoped>\n",
       "    .dataframe tbody tr th:only-of-type {\n",
       "        vertical-align: middle;\n",
       "    }\n",
       "\n",
       "    .dataframe tbody tr th {\n",
       "        vertical-align: top;\n",
       "    }\n",
       "\n",
       "    .dataframe thead th {\n",
       "        text-align: right;\n",
       "    }\n",
       "</style>\n",
       "<table border=\"1\" class=\"dataframe\">\n",
       "  <thead>\n",
       "    <tr style=\"text-align: right;\">\n",
       "      <th></th>\n",
       "      <th>id</th>\n",
       "      <th>scalar_coupling_constant</th>\n",
       "    </tr>\n",
       "  </thead>\n",
       "  <tbody>\n",
       "    <tr>\n",
       "      <th>0</th>\n",
       "      <td>4658147</td>\n",
       "      <td>-1.285069</td>\n",
       "    </tr>\n",
       "    <tr>\n",
       "      <th>1</th>\n",
       "      <td>4658148</td>\n",
       "      <td>87.946269</td>\n",
       "    </tr>\n",
       "    <tr>\n",
       "      <th>2</th>\n",
       "      <td>4658149</td>\n",
       "      <td>3.194808</td>\n",
       "    </tr>\n",
       "    <tr>\n",
       "      <th>3</th>\n",
       "      <td>4658150</td>\n",
       "      <td>87.946269</td>\n",
       "    </tr>\n",
       "    <tr>\n",
       "      <th>4</th>\n",
       "      <td>4658151</td>\n",
       "      <td>-1.439252</td>\n",
       "    </tr>\n",
       "    <tr>\n",
       "      <th>5</th>\n",
       "      <td>4658152</td>\n",
       "      <td>87.867251</td>\n",
       "    </tr>\n",
       "    <tr>\n",
       "      <th>6</th>\n",
       "      <td>4658153</td>\n",
       "      <td>2.384303</td>\n",
       "    </tr>\n",
       "    <tr>\n",
       "      <th>7</th>\n",
       "      <td>4658154</td>\n",
       "      <td>-11.825081</td>\n",
       "    </tr>\n",
       "    <tr>\n",
       "      <th>8</th>\n",
       "      <td>4658155</td>\n",
       "      <td>-11.825081</td>\n",
       "    </tr>\n",
       "    <tr>\n",
       "      <th>9</th>\n",
       "      <td>4658156</td>\n",
       "      <td>87.867251</td>\n",
       "    </tr>\n",
       "    <tr>\n",
       "      <th>10</th>\n",
       "      <td>4658157</td>\n",
       "      <td>2.384303</td>\n",
       "    </tr>\n",
       "    <tr>\n",
       "      <th>11</th>\n",
       "      <td>4658158</td>\n",
       "      <td>-11.720238</td>\n",
       "    </tr>\n",
       "    <tr>\n",
       "      <th>12</th>\n",
       "      <td>4658159</td>\n",
       "      <td>88.014551</td>\n",
       "    </tr>\n",
       "    <tr>\n",
       "      <th>13</th>\n",
       "      <td>4658160</td>\n",
       "      <td>2.531603</td>\n",
       "    </tr>\n",
       "    <tr>\n",
       "      <th>14</th>\n",
       "      <td>4658161</td>\n",
       "      <td>2.384303</td>\n",
       "    </tr>\n",
       "    <tr>\n",
       "      <th>15</th>\n",
       "      <td>4658162</td>\n",
       "      <td>87.867251</td>\n",
       "    </tr>\n",
       "    <tr>\n",
       "      <th>16</th>\n",
       "      <td>4658163</td>\n",
       "      <td>-11.825081</td>\n",
       "    </tr>\n",
       "    <tr>\n",
       "      <th>17</th>\n",
       "      <td>4658164</td>\n",
       "      <td>-11.732379</td>\n",
       "    </tr>\n",
       "    <tr>\n",
       "      <th>18</th>\n",
       "      <td>4658165</td>\n",
       "      <td>2.556298</td>\n",
       "    </tr>\n",
       "    <tr>\n",
       "      <th>19</th>\n",
       "      <td>4658166</td>\n",
       "      <td>88.039247</td>\n",
       "    </tr>\n",
       "    <tr>\n",
       "      <th>20</th>\n",
       "      <td>4658167</td>\n",
       "      <td>-11.900245</td>\n",
       "    </tr>\n",
       "    <tr>\n",
       "      <th>21</th>\n",
       "      <td>4658168</td>\n",
       "      <td>2.309138</td>\n",
       "    </tr>\n",
       "    <tr>\n",
       "      <th>22</th>\n",
       "      <td>4658169</td>\n",
       "      <td>87.792087</td>\n",
       "    </tr>\n",
       "    <tr>\n",
       "      <th>23</th>\n",
       "      <td>4658170</td>\n",
       "      <td>87.866033</td>\n",
       "    </tr>\n",
       "    <tr>\n",
       "      <th>24</th>\n",
       "      <td>4658171</td>\n",
       "      <td>-1.365305</td>\n",
       "    </tr>\n",
       "    <tr>\n",
       "      <th>25</th>\n",
       "      <td>4658172</td>\n",
       "      <td>-1.365305</td>\n",
       "    </tr>\n",
       "    <tr>\n",
       "      <th>26</th>\n",
       "      <td>4658173</td>\n",
       "      <td>-11.826298</td>\n",
       "    </tr>\n",
       "    <tr>\n",
       "      <th>27</th>\n",
       "      <td>4658174</td>\n",
       "      <td>3.196333</td>\n",
       "    </tr>\n",
       "    <tr>\n",
       "      <th>28</th>\n",
       "      <td>4658175</td>\n",
       "      <td>3.196333</td>\n",
       "    </tr>\n",
       "    <tr>\n",
       "      <th>29</th>\n",
       "      <td>4658176</td>\n",
       "      <td>3.274670</td>\n",
       "    </tr>\n",
       "    <tr>\n",
       "      <th>...</th>\n",
       "      <td>...</td>\n",
       "      <td>...</td>\n",
       "    </tr>\n",
       "    <tr>\n",
       "      <th>2505512</th>\n",
       "      <td>7163659</td>\n",
       "      <td>88.020096</td>\n",
       "    </tr>\n",
       "    <tr>\n",
       "      <th>2505513</th>\n",
       "      <td>7163660</td>\n",
       "      <td>-1.211242</td>\n",
       "    </tr>\n",
       "    <tr>\n",
       "      <th>2505514</th>\n",
       "      <td>7163661</td>\n",
       "      <td>2.535078</td>\n",
       "    </tr>\n",
       "    <tr>\n",
       "      <th>2505515</th>\n",
       "      <td>7163662</td>\n",
       "      <td>2.535078</td>\n",
       "    </tr>\n",
       "    <tr>\n",
       "      <th>2505516</th>\n",
       "      <td>7163663</td>\n",
       "      <td>-1.213312</td>\n",
       "    </tr>\n",
       "    <tr>\n",
       "      <th>2505517</th>\n",
       "      <td>7163664</td>\n",
       "      <td>3.348326</td>\n",
       "    </tr>\n",
       "    <tr>\n",
       "      <th>2505518</th>\n",
       "      <td>7163665</td>\n",
       "      <td>3.348326</td>\n",
       "    </tr>\n",
       "    <tr>\n",
       "      <th>2505519</th>\n",
       "      <td>7163666</td>\n",
       "      <td>2.539540</td>\n",
       "    </tr>\n",
       "    <tr>\n",
       "      <th>2505520</th>\n",
       "      <td>7163667</td>\n",
       "      <td>-1.208850</td>\n",
       "    </tr>\n",
       "    <tr>\n",
       "      <th>2505521</th>\n",
       "      <td>7163668</td>\n",
       "      <td>88.152284</td>\n",
       "    </tr>\n",
       "    <tr>\n",
       "      <th>2505522</th>\n",
       "      <td>7163669</td>\n",
       "      <td>2.467642</td>\n",
       "    </tr>\n",
       "    <tr>\n",
       "      <th>2505523</th>\n",
       "      <td>7163670</td>\n",
       "      <td>2.467642</td>\n",
       "    </tr>\n",
       "    <tr>\n",
       "      <th>2505524</th>\n",
       "      <td>7163671</td>\n",
       "      <td>-1.280748</td>\n",
       "    </tr>\n",
       "    <tr>\n",
       "      <th>2505525</th>\n",
       "      <td>7163672</td>\n",
       "      <td>3.280890</td>\n",
       "    </tr>\n",
       "    <tr>\n",
       "      <th>2505526</th>\n",
       "      <td>7163673</td>\n",
       "      <td>2.538739</td>\n",
       "    </tr>\n",
       "    <tr>\n",
       "      <th>2505527</th>\n",
       "      <td>7163674</td>\n",
       "      <td>1.375015</td>\n",
       "    </tr>\n",
       "    <tr>\n",
       "      <th>2505528</th>\n",
       "      <td>7163675</td>\n",
       "      <td>2.526845</td>\n",
       "    </tr>\n",
       "    <tr>\n",
       "      <th>2505529</th>\n",
       "      <td>7163676</td>\n",
       "      <td>2.526845</td>\n",
       "    </tr>\n",
       "    <tr>\n",
       "      <th>2505530</th>\n",
       "      <td>7163677</td>\n",
       "      <td>2.526845</td>\n",
       "    </tr>\n",
       "    <tr>\n",
       "      <th>2505531</th>\n",
       "      <td>7163678</td>\n",
       "      <td>-1.221545</td>\n",
       "    </tr>\n",
       "    <tr>\n",
       "      <th>2505532</th>\n",
       "      <td>7163679</td>\n",
       "      <td>87.946492</td>\n",
       "    </tr>\n",
       "    <tr>\n",
       "      <th>2505533</th>\n",
       "      <td>7163680</td>\n",
       "      <td>-1.284846</td>\n",
       "    </tr>\n",
       "    <tr>\n",
       "      <th>2505534</th>\n",
       "      <td>7163681</td>\n",
       "      <td>3.276792</td>\n",
       "    </tr>\n",
       "    <tr>\n",
       "      <th>2505535</th>\n",
       "      <td>7163682</td>\n",
       "      <td>0.200446</td>\n",
       "    </tr>\n",
       "    <tr>\n",
       "      <th>2505536</th>\n",
       "      <td>7163683</td>\n",
       "      <td>2.382813</td>\n",
       "    </tr>\n",
       "    <tr>\n",
       "      <th>2505537</th>\n",
       "      <td>7163684</td>\n",
       "      <td>-1.252606</td>\n",
       "    </tr>\n",
       "    <tr>\n",
       "      <th>2505538</th>\n",
       "      <td>7163685</td>\n",
       "      <td>-1.252398</td>\n",
       "    </tr>\n",
       "    <tr>\n",
       "      <th>2505539</th>\n",
       "      <td>7163686</td>\n",
       "      <td>2.309138</td>\n",
       "    </tr>\n",
       "    <tr>\n",
       "      <th>2505540</th>\n",
       "      <td>7163687</td>\n",
       "      <td>-1.439252</td>\n",
       "    </tr>\n",
       "    <tr>\n",
       "      <th>2505541</th>\n",
       "      <td>7163688</td>\n",
       "      <td>87.792087</td>\n",
       "    </tr>\n",
       "  </tbody>\n",
       "</table>\n",
       "<p>2505542 rows × 2 columns</p>\n",
       "</div>"
      ],
      "text/plain": [
       "              id  scalar_coupling_constant\n",
       "0        4658147                 -1.285069\n",
       "1        4658148                 87.946269\n",
       "2        4658149                  3.194808\n",
       "3        4658150                 87.946269\n",
       "4        4658151                 -1.439252\n",
       "5        4658152                 87.867251\n",
       "6        4658153                  2.384303\n",
       "7        4658154                -11.825081\n",
       "8        4658155                -11.825081\n",
       "9        4658156                 87.867251\n",
       "10       4658157                  2.384303\n",
       "11       4658158                -11.720238\n",
       "12       4658159                 88.014551\n",
       "13       4658160                  2.531603\n",
       "14       4658161                  2.384303\n",
       "15       4658162                 87.867251\n",
       "16       4658163                -11.825081\n",
       "17       4658164                -11.732379\n",
       "18       4658165                  2.556298\n",
       "19       4658166                 88.039247\n",
       "20       4658167                -11.900245\n",
       "21       4658168                  2.309138\n",
       "22       4658169                 87.792087\n",
       "23       4658170                 87.866033\n",
       "24       4658171                 -1.365305\n",
       "25       4658172                 -1.365305\n",
       "26       4658173                -11.826298\n",
       "27       4658174                  3.196333\n",
       "28       4658175                  3.196333\n",
       "29       4658176                  3.274670\n",
       "...          ...                       ...\n",
       "2505512  7163659                 88.020096\n",
       "2505513  7163660                 -1.211242\n",
       "2505514  7163661                  2.535078\n",
       "2505515  7163662                  2.535078\n",
       "2505516  7163663                 -1.213312\n",
       "2505517  7163664                  3.348326\n",
       "2505518  7163665                  3.348326\n",
       "2505519  7163666                  2.539540\n",
       "2505520  7163667                 -1.208850\n",
       "2505521  7163668                 88.152284\n",
       "2505522  7163669                  2.467642\n",
       "2505523  7163670                  2.467642\n",
       "2505524  7163671                 -1.280748\n",
       "2505525  7163672                  3.280890\n",
       "2505526  7163673                  2.538739\n",
       "2505527  7163674                  1.375015\n",
       "2505528  7163675                  2.526845\n",
       "2505529  7163676                  2.526845\n",
       "2505530  7163677                  2.526845\n",
       "2505531  7163678                 -1.221545\n",
       "2505532  7163679                 87.946492\n",
       "2505533  7163680                 -1.284846\n",
       "2505534  7163681                  3.276792\n",
       "2505535  7163682                  0.200446\n",
       "2505536  7163683                  2.382813\n",
       "2505537  7163684                 -1.252606\n",
       "2505538  7163685                 -1.252398\n",
       "2505539  7163686                  2.309138\n",
       "2505540  7163687                 -1.439252\n",
       "2505541  7163688                 87.792087\n",
       "\n",
       "[2505542 rows x 2 columns]"
      ]
     },
     "execution_count": 28,
     "metadata": {},
     "output_type": "execute_result"
    }
   ],
   "source": [
    "output_df"
   ]
  },
  {
   "cell_type": "code",
   "execution_count": 29,
   "metadata": {},
   "outputs": [],
   "source": [
    "output_df.to_csv('../data/pred.csv',index=False)"
   ]
  },
  {
   "cell_type": "code",
   "execution_count": null,
   "metadata": {},
   "outputs": [],
   "source": []
  }
 ],
 "metadata": {
  "kernelspec": {
   "display_name": "Python 3",
   "language": "python",
   "name": "python3"
  },
  "language_info": {
   "codemirror_mode": {
    "name": "ipython",
    "version": 3
   },
   "file_extension": ".py",
   "mimetype": "text/x-python",
   "name": "python",
   "nbconvert_exporter": "python",
   "pygments_lexer": "ipython3",
   "version": "3.7.3"
  }
 },
 "nbformat": 4,
 "nbformat_minor": 2
}
