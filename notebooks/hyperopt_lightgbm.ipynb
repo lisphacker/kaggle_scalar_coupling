{
 "cells": [
  {
   "cell_type": "code",
   "execution_count": 1,
   "metadata": {},
   "outputs": [],
   "source": [
    "%load_ext autoreload\n",
    "%autoreload 2\n",
    "\n",
    "%load_ext line_profiler"
   ]
  },
  {
   "cell_type": "code",
   "execution_count": 2,
   "metadata": {},
   "outputs": [],
   "source": [
    "import pandas as pd\n",
    "import numpy as np\n",
    "\n",
    "import  matplotlib.pyplot as plt\n",
    "import pickle\n",
    "\n",
    "from chemistry import Molecule\n",
    "from util import score\n",
    "from pprint import pprint\n"
   ]
  },
  {
   "cell_type": "code",
   "execution_count": 3,
   "metadata": {},
   "outputs": [],
   "source": [
    "with open('../data/molecules_enh.pickle', 'rb') as f:\n",
    "    molecules = pickle.load(f)"
   ]
  },
  {
   "cell_type": "markdown",
   "metadata": {},
   "source": [
    "m = molecules['dsgdb9nsd_000002']\n",
    "m.compute_path(2, 3)\n",
    "m"
   ]
  },
  {
   "cell_type": "markdown",
   "metadata": {},
   "source": [
    "m = molecules['dsgdb9nsd_000014']\n",
    "i0, i1 = 2, 3\n",
    "p0, p1 = m.positions[i0], m.positions[i1]\n",
    "mid = (p0 + p1) * 0.5\n",
    "other_atoms = list(range(m.n_atoms))\n",
    "other_atoms.remove(i0)\n",
    "other_atoms.remove(i1)\n",
    "p = m.positions[other_atoms]\n",
    "diff = p - mid\n",
    "dist = np.linalg.norm(diff, axis=1)\n",
    "print(dist)\n",
    "print(dist.argsort()[0:2])\n",
    "print(dist[dist.argsort()[0:2]])"
   ]
  },
  {
   "cell_type": "code",
   "execution_count": 4,
   "metadata": {},
   "outputs": [],
   "source": [
    "structures = pd.read_feather('../data/structures_enh.feather')\n",
    "molecules_df = pd.read_feather('../data/molecules.feather')\n",
    "labelled = pd.read_feather('../data/train.feather')\n",
    "unlabelled = pd.read_feather('../data/test.feather')"
   ]
  },
  {
   "cell_type": "code",
   "execution_count": 5,
   "metadata": {},
   "outputs": [],
   "source": [
    "labelled_enh = labelled.merge(molecules_df, left_on='molecule_name', right_on='molecule_name')\n",
    "#labelled_enh.head(32)"
   ]
  },
  {
   "cell_type": "code",
   "execution_count": 6,
   "metadata": {},
   "outputs": [],
   "source": [
    "unlabelled_enh = unlabelled.merge(molecules_df, left_on='molecule_name', right_on='molecule_name')\n",
    "#unlabelled_enh.head(32)"
   ]
  },
  {
   "cell_type": "code",
   "execution_count": 14,
   "metadata": {},
   "outputs": [
    {
     "name": "stdout",
     "output_type": "stream",
     "text": [
      "  0%|          | 0/10 [00:00<?, ?it/s, best loss: ?]"
     ]
    },
    {
     "name": "stderr",
     "output_type": "stream",
     "text": [
      "/home/gautham/apps/anaconda3/envs/kaggle-cpu/lib/python3.7/site-packages/lightgbm/engine.py:118: UserWarning:\n",
      "\n",
      "Found `num_iterations` in params. Will use it instead of argument\n",
      "\n",
      "\n"
     ]
    },
    {
     "name": "stdout",
     "output_type": "stream",
     "text": [
      " 10%|█         | 1/10 [01:22<12:24, 82.75s/it, best loss: -0.49589307632330837]"
     ]
    },
    {
     "name": "stderr",
     "output_type": "stream",
     "text": [
      "/home/gautham/apps/anaconda3/envs/kaggle-cpu/lib/python3.7/site-packages/lightgbm/engine.py:118: UserWarning:\n",
      "\n",
      "Found `num_iterations` in params. Will use it instead of argument\n",
      "\n",
      "\n",
      "/home/gautham/apps/anaconda3/envs/kaggle-cpu/lib/python3.7/site-packages/lightgbm/engine.py:118: UserWarning:\n",
      "\n",
      "Found `num_iterations` in params. Will use it instead of argument\n",
      "\n",
      "\n"
     ]
    },
    {
     "name": "stdout",
     "output_type": "stream",
     "text": [
      " 20%|██        | 2/10 [03:21<12:27, 93.43s/it, best loss: -0.5311903023803697] "
     ]
    },
    {
     "name": "stderr",
     "output_type": "stream",
     "text": [
      "/home/gautham/apps/anaconda3/envs/kaggle-cpu/lib/python3.7/site-packages/lightgbm/engine.py:118: UserWarning:\n",
      "\n",
      "Found `num_iterations` in params. Will use it instead of argument\n",
      "\n",
      "\n",
      "/home/gautham/apps/anaconda3/envs/kaggle-cpu/lib/python3.7/site-packages/lightgbm/engine.py:118: UserWarning:\n",
      "\n",
      "Found `num_iterations` in params. Will use it instead of argument\n",
      "\n",
      "\n"
     ]
    },
    {
     "name": "stdout",
     "output_type": "stream",
     "text": [
      " 30%|███       | 3/10 [04:46<10:37, 91.04s/it, best loss: -0.5311903023803697]"
     ]
    },
    {
     "name": "stderr",
     "output_type": "stream",
     "text": [
      "/home/gautham/apps/anaconda3/envs/kaggle-cpu/lib/python3.7/site-packages/lightgbm/engine.py:118: UserWarning:\n",
      "\n",
      "Found `num_iterations` in params. Will use it instead of argument\n",
      "\n",
      "\n",
      "/home/gautham/apps/anaconda3/envs/kaggle-cpu/lib/python3.7/site-packages/lightgbm/engine.py:118: UserWarning:\n",
      "\n",
      "Found `num_iterations` in params. Will use it instead of argument\n",
      "\n",
      "\n"
     ]
    },
    {
     "name": "stdout",
     "output_type": "stream",
     "text": [
      " 40%|████      | 4/10 [06:20<09:11, 91.95s/it, best loss: -0.5311903023803697]"
     ]
    },
    {
     "name": "stderr",
     "output_type": "stream",
     "text": [
      "/home/gautham/apps/anaconda3/envs/kaggle-cpu/lib/python3.7/site-packages/lightgbm/engine.py:118: UserWarning:\n",
      "\n",
      "Found `num_iterations` in params. Will use it instead of argument\n",
      "\n",
      "\n",
      "/home/gautham/apps/anaconda3/envs/kaggle-cpu/lib/python3.7/site-packages/lightgbm/engine.py:118: UserWarning:\n",
      "\n",
      "Found `num_iterations` in params. Will use it instead of argument\n",
      "\n",
      "\n"
     ]
    },
    {
     "name": "stdout",
     "output_type": "stream",
     "text": [
      " 50%|█████     | 5/10 [07:40<07:21, 88.35s/it, best loss: -0.5311903023803697]"
     ]
    },
    {
     "name": "stderr",
     "output_type": "stream",
     "text": [
      "/home/gautham/apps/anaconda3/envs/kaggle-cpu/lib/python3.7/site-packages/lightgbm/engine.py:118: UserWarning:\n",
      "\n",
      "Found `num_iterations` in params. Will use it instead of argument\n",
      "\n",
      "\n",
      "/home/gautham/apps/anaconda3/envs/kaggle-cpu/lib/python3.7/site-packages/lightgbm/engine.py:118: UserWarning:\n",
      "\n",
      "Found `num_iterations` in params. Will use it instead of argument\n",
      "\n",
      "\n"
     ]
    },
    {
     "name": "stdout",
     "output_type": "stream",
     "text": [
      " 60%|██████    | 6/10 [08:47<05:27, 81.82s/it, best loss: -0.5311903023803697]"
     ]
    },
    {
     "name": "stderr",
     "output_type": "stream",
     "text": [
      "/home/gautham/apps/anaconda3/envs/kaggle-cpu/lib/python3.7/site-packages/lightgbm/engine.py:118: UserWarning:\n",
      "\n",
      "Found `num_iterations` in params. Will use it instead of argument\n",
      "\n",
      "\n",
      "/home/gautham/apps/anaconda3/envs/kaggle-cpu/lib/python3.7/site-packages/lightgbm/engine.py:118: UserWarning:\n",
      "\n",
      "Found `num_iterations` in params. Will use it instead of argument\n",
      "\n",
      "\n"
     ]
    },
    {
     "name": "stdout",
     "output_type": "stream",
     "text": [
      " 70%|███████   | 7/10 [10:15<04:11, 83.83s/it, best loss: -0.5311903023803697]"
     ]
    },
    {
     "name": "stderr",
     "output_type": "stream",
     "text": [
      "/home/gautham/apps/anaconda3/envs/kaggle-cpu/lib/python3.7/site-packages/lightgbm/engine.py:118: UserWarning:\n",
      "\n",
      "Found `num_iterations` in params. Will use it instead of argument\n",
      "\n",
      "\n",
      "/home/gautham/apps/anaconda3/envs/kaggle-cpu/lib/python3.7/site-packages/lightgbm/engine.py:118: UserWarning:\n",
      "\n",
      "Found `num_iterations` in params. Will use it instead of argument\n",
      "\n",
      "\n"
     ]
    },
    {
     "name": "stdout",
     "output_type": "stream",
     "text": [
      " 80%|████████  | 8/10 [11:23<02:37, 78.99s/it, best loss: -0.5311903023803697]"
     ]
    },
    {
     "name": "stderr",
     "output_type": "stream",
     "text": [
      "/home/gautham/apps/anaconda3/envs/kaggle-cpu/lib/python3.7/site-packages/lightgbm/engine.py:118: UserWarning:\n",
      "\n",
      "Found `num_iterations` in params. Will use it instead of argument\n",
      "\n",
      "\n",
      "/home/gautham/apps/anaconda3/envs/kaggle-cpu/lib/python3.7/site-packages/lightgbm/engine.py:118: UserWarning:\n",
      "\n",
      "Found `num_iterations` in params. Will use it instead of argument\n",
      "\n",
      "\n"
     ]
    },
    {
     "name": "stdout",
     "output_type": "stream",
     "text": [
      " 90%|█████████ | 9/10 [12:34<01:16, 76.65s/it, best loss: -0.5311903023803697]"
     ]
    },
    {
     "name": "stderr",
     "output_type": "stream",
     "text": [
      "/home/gautham/apps/anaconda3/envs/kaggle-cpu/lib/python3.7/site-packages/lightgbm/engine.py:118: UserWarning:\n",
      "\n",
      "Found `num_iterations` in params. Will use it instead of argument\n",
      "\n",
      "\n",
      "/home/gautham/apps/anaconda3/envs/kaggle-cpu/lib/python3.7/site-packages/lightgbm/engine.py:118: UserWarning:\n",
      "\n",
      "Found `num_iterations` in params. Will use it instead of argument\n",
      "\n",
      "\n"
     ]
    },
    {
     "name": "stdout",
     "output_type": "stream",
     "text": [
      "100%|██████████| 10/10 [14:42<00:00, 92.13s/it, best loss: -0.5462469105383353]\n"
     ]
    },
    {
     "data": {
      "text/plain": [
       "{'bagging_fraction': 0.9921343868390777,\n",
       " 'bagging_freq': 0,\n",
       " 'min_child_samples': 70.0,\n",
       " 'min_data_in_leaf': 68.0,\n",
       " 'num_leaves': 9,\n",
       " 'reg_alpha': 3.3985058768448306,\n",
       " 'reg_lambda': 0.6552719703561464}"
      ]
     },
     "execution_count": 14,
     "metadata": {},
     "output_type": "execute_result"
    }
   ],
   "source": [
    "from models import LGBModel\n",
    "from models import partition_data\n",
    "import util\n",
    "from hyperopt import fmin, tpe, hp, STATUS_OK\n",
    "\n",
    "#coupling_types = sorted(labelled_enh.type.unique())[0:1]\n",
    "coupling_types = ['3JHC', '3JHH']\n",
    "models = {}\n",
    "def run_test(data, count, args):\n",
    "    \n",
    "    num_leaves, min_child_samples, min_data_in_leaf, reg_alpha, reg_lambda, bagging_fraction, bagging_freq = args\n",
    "    \n",
    "    lgb_args = dict(n_jobs=8,\n",
    "                    max_depth=16,\n",
    "                    boosting_type='gbdt',\n",
    "                    num_leaves=num_leaves,\n",
    "                    min_child_samples=int(min_child_samples),\n",
    "                    min_data_in_leaf=int(min_data_in_leaf),\n",
    "                    learning_rate=0.1,\n",
    "                    n_estimators=1000,\n",
    "                    reg_alpha=reg_alpha,\n",
    "                    reg_lambda=reg_lambda,\n",
    "                    bagging_fraction = bagging_fraction,\n",
    "                    bagging_freq = int(bagging_freq),\n",
    "                    num_iterations=300)\n",
    "    lgb_fit_args = dict(early_stopping_rounds=20,\n",
    "                        verbose=False)\n",
    "    \n",
    "    out_df = None\n",
    "    \n",
    "    try:\n",
    "        for i, t in enumerate(coupling_types, 1):    \n",
    "            data_df = data[data.type == t].sample(count)\n",
    "\n",
    "            train_df, valid_df, test_df = partition_data(data_df)\n",
    "\n",
    "            if len(train_df) < 10 or len(test_df) < 10:\n",
    "                continue\n",
    "\n",
    "            model = LGBModel(dict(molecules=molecules, \n",
    "                                  structures=structures),\n",
    "                             lgb_args, lgb_fit_args)\n",
    "            models[t] = model\n",
    "\n",
    "            model.fit(train_df, train_df, valid_df, valid_df)\n",
    "            output = model.predict(test_df)\n",
    "\n",
    "            id = test_df['id']\n",
    "            out_df_coupling = pd.DataFrame(data={'id':id, 'out_scc':output}, index=test_df.index)\n",
    "            out_df_coupling['type'] = test_df.type\n",
    "            out_df_coupling['ref_scc'] = test_df.scalar_coupling_constant\n",
    "\n",
    "            if out_df is None:\n",
    "                out_df = out_df_coupling\n",
    "            else:\n",
    "                out_df = out_df.append(out_df_coupling).sort_index()\n",
    "\n",
    "        return util.score(out_df, out_df.ref_scc, out_df.out_scc)\n",
    "    except:\n",
    "        return 100000\n",
    "\n",
    "def run_opt(data, count):\n",
    "    fn = lambda args: run_test(data, count, args)\n",
    "    \n",
    "    space = [\n",
    "        hp.choice('num_leaves', [128, 256, 512, 1024, 2048, 4096, 8192, 16384, 32768, 65536]),\n",
    "        hp.quniform('min_child_samples', 10, 100, 1),\n",
    "        hp.quniform('min_data_in_leaf', 50, 200, 1),\n",
    "        hp.uniform('reg_alpha', 0.01, 5),\n",
    "        hp.uniform('reg_lambda', 0.01, 5),\n",
    "        hp.uniform('bagging_fraction', 0.9, 1),\n",
    "        hp.choice('bagging_freq', [1, 3, 5]),\n",
    "    ]\n",
    "    \n",
    "    best = fmin(fn,\n",
    "                space=space,\n",
    "                algo=tpe.suggest,\n",
    "                max_evals=10)\n",
    "    return best\n",
    "    \n",
    " \n",
    "run_opt(labelled_enh, 50000)\n",
    "#run_test(labelled_enh.head(200))"
   ]
  },
  {
   "cell_type": "code",
   "execution_count": null,
   "metadata": {},
   "outputs": [],
   "source": []
  }
 ],
 "metadata": {
  "kernelspec": {
   "display_name": "Python 3",
   "language": "python",
   "name": "python3"
  },
  "language_info": {
   "codemirror_mode": {
    "name": "ipython",
    "version": 3
   },
   "file_extension": ".py",
   "mimetype": "text/x-python",
   "name": "python",
   "nbconvert_exporter": "python",
   "pygments_lexer": "ipython3",
   "version": "3.7.3"
  }
 },
 "nbformat": 4,
 "nbformat_minor": 2
}
