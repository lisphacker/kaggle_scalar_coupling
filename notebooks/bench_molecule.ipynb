{
 "cells": [
  {
   "cell_type": "code",
   "execution_count": 1,
   "metadata": {},
   "outputs": [],
   "source": [
    "%load_ext autoreload\n",
    "%autoreload 2"
   ]
  },
  {
   "cell_type": "code",
   "execution_count": 2,
   "metadata": {},
   "outputs": [],
   "source": [
    "import pandas as pd"
   ]
  },
  {
   "cell_type": "code",
   "execution_count": 3,
   "metadata": {},
   "outputs": [],
   "source": [
    "structures = pd.read_feather('../data/structures.feather')\n",
    "labelled = pd.read_feather('../data/train.feather')\n",
    "unlabelled = pd.read_feather('../data/test.feather')"
   ]
  },
  {
   "cell_type": "code",
   "execution_count": 41,
   "metadata": {},
   "outputs": [],
   "source": [
    "import chemistry\n",
    "import chemistry2"
   ]
  },
  {
   "cell_type": "code",
   "execution_count": 42,
   "metadata": {},
   "outputs": [],
   "source": [
    "molecule_name = 'dsgdb9nsd_133831'\n",
    "molecule_df = structures[structures.molecule_name == molecule_name]"
   ]
  },
  {
   "cell_type": "code",
   "execution_count": 43,
   "metadata": {},
   "outputs": [],
   "source": [
    "def make_molecule(name, molecule_df):\n",
    "    atoms = []\n",
    "    for i, atom in molecule_df.iterrows():\n",
    "        atoms.append(chemistry.Atom(atom.atom, (atom.x, atom.y, atom.z)))\n",
    "        \n",
    "    return chemistry.Molecule(name, atoms)"
   ]
  },
  {
   "cell_type": "code",
   "execution_count": 44,
   "metadata": {},
   "outputs": [],
   "source": [
    "#Bootup\n",
    "m = make_molecule(molecule_name, molecule_df)\n",
    "m = chemistry2.Molecule(molecule_df)"
   ]
  },
  {
   "cell_type": "code",
   "execution_count": 45,
   "metadata": {},
   "outputs": [
    {
     "name": "stdout",
     "output_type": "stream",
     "text": [
      "47.8 ms ± 669 µs per loop (mean ± std. dev. of 7 runs, 100 loops each)\n"
     ]
    }
   ],
   "source": [
    "%%timeit -n 100 -r 7\n",
    "m = make_molecule(molecule_name, molecule_df)"
   ]
  },
  {
   "cell_type": "code",
   "execution_count": 35,
   "metadata": {},
   "outputs": [
    {
     "name": "stdout",
     "output_type": "stream",
     "text": [
      "3.09 ms ± 172 µs per loop (mean ± std. dev. of 7 runs, 100 loops each)\n"
     ]
    }
   ],
   "source": [
    "%%timeit -n 100 -r 7\n",
    "m = chemistry2.Molecule(molecule_df)"
   ]
  },
  {
   "cell_type": "code",
   "execution_count": 46,
   "metadata": {},
   "outputs": [
    {
     "name": "stdout",
     "output_type": "stream",
     "text": [
      " "
     ]
    },
    {
     "data": {
      "text/plain": [
       "         1043 function calls (1040 primitive calls) in 0.007 seconds\n",
       "\n",
       "   Ordered by: internal time\n",
       "\n",
       "   ncalls  tottime  percall  cumtime  percall filename:lineno(function)\n",
       "      286    0.002    0.000    0.004    0.000 chemistry2.py:117(__compute_bond)\n",
       "      136    0.001    0.000    0.002    0.000 chemistry2.py:137(__get_distance)\n",
       "        1    0.001    0.001    0.005    0.005 chemistry2.py:97(__compute_bonds)\n",
       "      136    0.001    0.000    0.001    0.000 {built-in method numpy.dot}\n",
       "       73    0.000    0.000    0.000    0.000 {built-in method builtins.isinstance}\n",
       "        1    0.000    0.000    0.002    0.002 chemistry2.py:78(__init)\n",
       "        4    0.000    0.000    0.000    0.000 base.py:786(array)\n",
       "       41    0.000    0.000    0.000    0.000 {built-in method builtins.getattr}\n",
       "       18    0.000    0.000    0.000    0.000 generic.py:7(_check)\n",
       "        8    0.000    0.000    0.000    0.000 common.py:1702(is_extension_array_dtype)\n",
       "       34    0.000    0.000    0.000    0.000 {built-in method builtins.issubclass}\n",
       "        1    0.000    0.000    0.000    0.000 categorical.py:2048(__getitem__)\n",
       "        1    0.000    0.000    0.007    0.007 {built-in method builtins.exec}\n",
       "        1    0.000    0.000    0.000    0.000 algorithms.py:1544(take_nd)\n",
       "        4    0.000    0.000    0.000    0.000 frame.py:2893(__getitem__)\n",
       "        7    0.000    0.000    0.000    0.000 dtypes.py:68(find)\n",
       "        7    0.000    0.000    0.000    0.000 common.py:1845(_is_dtype_type)\n",
       "        4    0.000    0.000    0.000    0.000 generic.py:5053(__getattr__)\n",
       "        3    0.000    0.000    0.000    0.000 numpy_.py:35(__init__)\n",
       "        8    0.000    0.000    0.000    0.000 base.py:3918(__contains__)\n",
       "       10    0.000    0.000    0.000    0.000 numerictypes.py:293(issubclass_)\n",
       "        5    0.000    0.000    0.000    0.000 numerictypes.py:365(issubdtype)\n",
       "        8    0.000    0.000    0.000    0.000 common.py:1809(_get_dtype)\n",
       "      5/4    0.000    0.000    0.000    0.000 {built-in method numpy.array}\n",
       "       12    0.000    0.000    0.000    0.000 {built-in method builtins.hasattr}\n",
       "        5    0.000    0.000    0.000    0.000 _dtype.py:319(_name_get)\n",
       "        1    0.000    0.000    0.000    0.000 indexing.py:2089(_is_scalar_access)\n",
       "       21    0.000    0.000    0.000    0.000 {method 'append' of 'list' objects}\n",
       "        5    0.000    0.000    0.000    0.000 managers.py:1549(internal_values)\n",
       "        5    0.000    0.000    0.000    0.000 base.py:75(is_dtype)\n",
       "        1    0.000    0.000    0.000    0.000 cast.py:255(maybe_promote)\n",
       "        4    0.000    0.000    0.000    0.000 common.py:131(is_object_dtype)\n",
       "        3    0.000    0.000    0.000    0.000 numpy_.py:127(__init__)\n",
       "        4    0.000    0.000    0.000    0.000 common.py:1118(is_datetime64_ns_dtype)\n",
       "        2    0.000    0.000    0.000    0.000 base.py:3940(__getitem__)\n",
       "        4    0.000    0.000    0.000    0.000 categorical.py:394(categories)\n",
       "        4    0.000    0.000    0.000    0.000 base.py:3975(_can_hold_identifiers_and_holds_name)\n",
       "        5    0.000    0.000    0.000    0.000 common.py:1981(pandas_dtype)\n",
       "        5    0.000    0.000    0.000    0.000 generic.py:3056(_get_item_cache)\n",
       "        6    0.000    0.000    0.000    0.000 common.py:119(<lambda>)\n",
       "        2    0.000    0.000    0.000    0.000 {built-in method numpy.empty}\n",
       "        1    0.000    0.000    0.000    0.000 indexing.py:1485(__getitem__)\n",
       "        5    0.000    0.000    0.000    0.000 generic.py:426(_info_axis)\n",
       "        1    0.000    0.000    0.000    0.000 {pandas._libs.algos.ensure_int64}\n",
       "        5    0.000    0.000    0.000    0.000 series.py:476(_values)\n",
       "        6    0.000    0.000    0.000    0.000 common.py:316(apply_if_callable)\n",
       "        1    0.000    0.000    0.000    0.000 {pandas._libs.algos.take_1d_object_object}\n",
       "        4    0.000    0.000    0.000    0.000 common.py:434(is_datetime64tz_dtype)\n",
       "        1    0.000    0.000    0.000    0.000 algorithms.py:1417(_get_take_nd_function)\n",
       "        4    0.000    0.000    0.000    0.000 common.py:1784(_is_dtype)\n",
       "      6/4    0.000    0.000    0.000    0.000 {built-in method builtins.len}\n",
       "        1    0.000    0.000    0.000    0.000 frame.py:2761(_get_value)\n",
       "        4    0.000    0.000    0.000    0.000 base.py:1681(is_object)\n",
       "        1    0.000    0.000    0.000    0.000 categorical.py:1278(__array__)\n",
       "        4    0.000    0.000    0.000    0.000 numeric.py:469(asarray)\n",
       "        4    0.000    0.000    0.000    0.000 <frozen importlib._bootstrap>:1009(_handle_fromlist)\n",
       "        3    0.000    0.000    0.000    0.000 indexing.py:1487(<genexpr>)\n",
       "        7    0.000    0.000    0.000    0.000 categorical.py:441(dtype)\n",
       "        6    0.000    0.000    0.000    0.000 common.py:117(classes)\n",
       "        3    0.000    0.000    0.000    0.000 numpy_.py:170(__array__)\n",
       "        1    0.000    0.000    0.001    0.001 categorical.py:1486(get_values)\n",
       "        2    0.000    0.000    0.000    0.000 dtypes.py:355(__eq__)\n",
       "        4    0.000    0.000    0.000    0.000 common.py:1167(is_timedelta64_ns_dtype)\n",
       "        8    0.000    0.000    0.000    0.000 {built-in method builtins.hash}\n",
       "        5    0.000    0.000    0.000    0.000 managers.py:1488(_block)\n",
       "        1    0.000    0.000    0.000    0.000 generic.py:3081(_iget_item_cache)\n",
       "        1    0.000    0.000    0.000    0.000 common.py:702(is_datetimelike)\n",
       "        6    0.000    0.000    0.000    0.000 {built-in method builtins.callable}\n",
       "        6    0.000    0.000    0.000    0.000 {method 'get' of 'dict' objects}\n",
       "        1    0.000    0.000    0.007    0.007 <string>:2(<module>)\n",
       "        5    0.000    0.000    0.000    0.000 blocks.py:165(internal_values)\n",
       "        2    0.000    0.000    0.000    0.000 common.py:144(cast_scalar_indexer)\n",
       "        1    0.000    0.000    0.000    0.000 dtypes.py:973(is_dtype)\n",
       "        1    0.000    0.000    0.000    0.000 common.py:160(is_sparse)\n",
       "        1    0.000    0.000    0.001    0.001 categorical.py:1926(__iter__)\n",
       "        1    0.000    0.000    0.000    0.000 common.py:79(maybe_box_datetimelike)\n",
       "        1    0.000    0.000    0.000    0.000 indexing.py:2110(_getitem_scalar)\n",
       "        1    0.000    0.000    0.000    0.000 generic.py:450(ndim)\n",
       "        1    0.000    0.000    0.000    0.000 base.py:3608(values)\n",
       "        1    0.000    0.000    0.000    0.000 common.py:403(is_datetime64_dtype)\n",
       "        1    0.000    0.000    0.000    0.000 common.py:868(is_integer_dtype)\n",
       "        1    0.000    0.000    0.007    0.007 chemistry2.py:73(__init__)\n",
       "        4    0.000    0.000    0.000    0.000 dtypes.py:555(categories)\n",
       "        1    0.000    0.000    0.000    0.000 common.py:536(is_interval_dtype)\n",
       "        4    0.000    0.000    0.000    0.000 common.py:1195(<lambda>)\n",
       "        4    0.000    0.000    0.000    0.000 base.py:1396(nlevels)\n",
       "        1    0.000    0.000    0.000    0.000 common.py:472(is_timedelta64_dtype)\n",
       "        1    0.000    0.000    0.000    0.000 managers.py:143(ndim)\n",
       "        2    0.000    0.000    0.000    0.000 frame.py:474(axes)\n",
       "        1    0.000    0.000    0.000    0.000 base.py:652(__len__)\n",
       "        1    0.000    0.000    0.000    0.000 common.py:127(<lambda>)\n",
       "        1    0.000    0.000    0.000    0.000 {method 'view' of 'numpy.ndarray' objects}\n",
       "        1    0.000    0.000    0.000    0.000 chemistry2.py:89(<listcomp>)\n",
       "        1    0.000    0.000    0.000    0.000 frame.py:937(__len__)\n",
       "        2    0.000    0.000    0.000    0.000 {pandas._libs.lib.is_integer}\n",
       "        3    0.000    0.000    0.000    0.000 {pandas._libs.lib.is_float}\n",
       "        1    0.000    0.000    0.000    0.000 {method 'tolist' of 'numpy.ndarray' objects}\n",
       "        1    0.000    0.000    0.000    0.000 {built-in method builtins.iter}\n",
       "        1    0.000    0.000    0.000    0.000 common.py:122(classes_and_not_datetimelike)\n",
       "        2    0.000    0.000    0.000    0.000 {pandas._libs.lib.is_scalar}\n",
       "        1    0.000    0.000    0.000    0.000 {method 'disable' of '_lsprof.Profiler' objects}"
      ]
     },
     "metadata": {},
     "output_type": "display_data"
    }
   ],
   "source": [
    "%%prun\n",
    "m = chemistry2.Molecule(molecule_df)"
   ]
  },
  {
   "cell_type": "code",
   "execution_count": null,
   "metadata": {},
   "outputs": [],
   "source": [
    "make_molecule(molecule_name, molecule_df)"
   ]
  },
  {
   "cell_type": "code",
   "execution_count": 32,
   "metadata": {},
   "outputs": [
    {
     "data": {
      "text/plain": [
       "Name: dsgdb9nsd_133831\n",
       "Atoms:\n",
       "  C 0: [ 7.1290708  -0.23947415  1.5433184 ]\n",
       "  C 1: [ 5.958452  -0.6051551  0.6894248]\n",
       "  C 2: [ 5.376736    0.39405635 -0.4207745 ]\n",
       "  N 3: [4.6866765  0.04563917 0.8531409 ]\n",
       "  C 4: [ 3.7068458  -0.88342124  0.16111001]\n",
       "  C 5: [ 4.2642756  -2.2859604   0.40881297]\n",
       "  C 6: [ 5.6962214  -1.9372891  -0.02532818]\n",
       "  C 7: [ 5.460571  -1.1090924 -1.3002751]\n",
       "  C 8: [ 4.221902  -0.4070971 -1.2444373]\n",
       "  H 9: [7.1031966 0.8263654 1.7870042]\n",
       "  H 10: [ 8.072174   -0.45967948  1.0327901 ]\n",
       "  H 11: [ 7.114516  -0.8009527  2.484724 ]\n",
       "  H 12: [ 5.822103    1.3528761  -0.65166646]\n",
       "  H 13: [ 2.6738477  -0.68098897  0.43301037]\n",
       "  H 14: [ 3.795556   -3.036533   -0.23508602]\n",
       "  H 15: [ 4.1979995 -2.6047716  1.4542422]\n",
       "  H 16: [ 6.4804955e+00 -2.6884468e+00 -1.7936520e-03]\n",
       "  H 17: [ 6.230948  -0.9708533 -2.051524 ]\n",
       "Bonds:\n",
       "  C(0) - C(1)\n",
       "  C(0) - H(9)\n",
       "  C(0) - H(10)\n",
       "  C(0) - H(11)\n",
       "  C(1) - C(2)\n",
       "  C(1) - N(3)\n",
       "  C(1) - C(6)\n",
       "  C(2) - N(3)\n",
       "  C(2) - C(8)\n",
       "  C(2) - H(12)\n",
       "  C(4) - N(3)\n",
       "  C(4) - C(5)\n",
       "  C(4) - C(8)\n",
       "  C(4) - H(13)\n",
       "  C(5) - C(6)\n",
       "  C(5) - H(14)\n",
       "  C(5) - H(15)\n",
       "  C(6) - C(7)\n",
       "  C(6) - H(16)\n",
       "  C(7) - C(8)\n",
       "  C(7) - H(17)\n"
      ]
     },
     "execution_count": 32,
     "metadata": {},
     "output_type": "execute_result"
    }
   ],
   "source": [
    "import chemistry2\n",
    "chemistry2.Molecule(molecule_df)"
   ]
  },
  {
   "cell_type": "code",
   "execution_count": null,
   "metadata": {},
   "outputs": [],
   "source": []
  }
 ],
 "metadata": {
  "kernelspec": {
   "display_name": "Python 3",
   "language": "python",
   "name": "python3"
  },
  "language_info": {
   "codemirror_mode": {
    "name": "ipython",
    "version": 3
   },
   "file_extension": ".py",
   "mimetype": "text/x-python",
   "name": "python",
   "nbconvert_exporter": "python",
   "pygments_lexer": "ipython3",
   "version": "3.7.3"
  }
 },
 "nbformat": 4,
 "nbformat_minor": 2
}
