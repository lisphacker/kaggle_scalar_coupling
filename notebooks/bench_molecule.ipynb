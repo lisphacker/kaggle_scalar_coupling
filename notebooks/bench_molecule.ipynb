{
 "cells": [
  {
   "cell_type": "code",
   "execution_count": 1,
   "metadata": {},
   "outputs": [],
   "source": [
    "%load_ext autoreload\n",
    "%autoreload 2\n",
    "\n",
    "%load_ext line_profiler"
   ]
  },
  {
   "cell_type": "code",
   "execution_count": 2,
   "metadata": {},
   "outputs": [],
   "source": [
    "import pandas as pd"
   ]
  },
  {
   "cell_type": "code",
   "execution_count": 3,
   "metadata": {},
   "outputs": [],
   "source": [
    "structures = pd.read_feather('../data/structures.feather')\n",
    "labelled = pd.read_feather('../data/train.feather')\n",
    "unlabelled = pd.read_feather('../data/test.feather')"
   ]
  },
  {
   "cell_type": "code",
   "execution_count": 4,
   "metadata": {},
   "outputs": [],
   "source": [
    "from chemistry import *"
   ]
  },
  {
   "cell_type": "code",
   "execution_count": 5,
   "metadata": {},
   "outputs": [],
   "source": [
    "molecule_name = 'dsgdb9nsd_133831'\n",
    "molecule_df = structures[structures.molecule_name == molecule_name]\n",
    "molecule = Molecule(molecule_df)"
   ]
  },
  {
   "cell_type": "code",
   "execution_count": 6,
   "metadata": {},
   "outputs": [
    {
     "name": "stdout",
     "output_type": "stream",
     "text": [
      "40.2 µs ± 3.96 µs per loop (mean ± std. dev. of 10 runs, 100 loops each)\n"
     ]
    }
   ],
   "source": [
    "%%timeit -n 100 -r 10\n",
    "molecule.compute_path(12, 3)"
   ]
  },
  {
   "cell_type": "code",
   "execution_count": 7,
   "metadata": {},
   "outputs": [
    {
     "name": "stdout",
     "output_type": "stream",
     "text": [
      " "
     ]
    },
    {
     "data": {
      "text/plain": [
       "         65003 function calls in 0.182 seconds\n",
       "\n",
       "   Ordered by: internal time\n",
       "\n",
       "   ncalls  tottime  percall  cumtime  percall filename:lineno(function)\n",
       "     1000    0.110    0.000    0.180    0.000 chemistry.py:213(compute_path)\n",
       "    46000    0.050    0.000    0.050    0.000 {method 'append' of 'list' objects}\n",
       "    18000    0.020    0.000    0.020    0.000 {method 'remove' of 'set' objects}\n",
       "        1    0.002    0.002    0.182    0.182 <string>:2(<module>)\n",
       "        1    0.000    0.000    0.182    0.182 {built-in method builtins.exec}\n",
       "        1    0.000    0.000    0.000    0.000 {method 'disable' of '_lsprof.Profiler' objects}"
      ]
     },
     "metadata": {},
     "output_type": "display_data"
    }
   ],
   "source": [
    "%%prun\n",
    "for i in range(1000):\n",
    "    molecule.compute_path(12, 3)"
   ]
  },
  {
   "cell_type": "code",
   "execution_count": 8,
   "metadata": {},
   "outputs": [
    {
     "data": {
      "text/plain": [
       "[12, 2, 3]"
      ]
     },
     "execution_count": 8,
     "metadata": {},
     "output_type": "execute_result"
    }
   ],
   "source": [
    "molecule.compute_path(12, 3)"
   ]
  },
  {
   "cell_type": "code",
   "execution_count": 9,
   "metadata": {},
   "outputs": [
    {
     "data": {
      "text/plain": [
       "Timer unit: 1e-06 s\n",
       "\n",
       "Total time: 1.41351 s\n",
       "File: /home/gautham/work/kaggle/scalar_coupling/notebooks/chemistry.py\n",
       "Function: compute_path at line 213\n",
       "\n",
       "Line #      Hits         Time  Per Hit   % Time  Line Contents\n",
       "==============================================================\n",
       "   213                                               def compute_path(self, i1, i2):\n",
       "   214      1000       2913.0      2.9      0.2          unvisited = set(range(self.n_atoms))\n",
       "   215      1000       1697.0      1.7      0.1          unvisited_count = self.n_atoms\n",
       "   216      1000       1968.0      2.0      0.1          previous_node = [None] * self.n_atoms\n",
       "   217                                           \n",
       "   218      1000       1695.0      1.7      0.1          edges = {}\n",
       "   219     19000      30791.0      1.6      2.2          for i in range(self.n_atoms):\n",
       "   220     18000      30105.0      1.7      2.1              edges[i] = []\n",
       "   221                                           \n",
       "   222     23000      37984.0      1.7      2.7          for i, j in self.bonds:\n",
       "   223     22000      39732.0      1.8      2.8              edges[i].append(j)\n",
       "   224     22000      39369.0      1.8      2.8              edges[j].append(i)\n",
       "   225                                           \n",
       "   226      1000       2093.0      2.1      0.1          dist = [math.inf] * self.n_atoms\n",
       "   227      1000       1735.0      1.7      0.1          dist[i1] = 0\n",
       "   228                                           \n",
       "   229     19000      32015.0      1.7      2.3          while unvisited_count > 0:\n",
       "   230     18000      30382.0      1.7      2.1              mn = math.inf\n",
       "   231     18000      29067.0      1.6      2.1              mni = -1\n",
       "   232    189000     308347.0      1.6     21.8              for u in unvisited:\n",
       "   233    171000     292375.0      1.7     20.7                  if dist[u] < mn:\n",
       "   234     24000      38405.0      1.6      2.7                      mni = u\n",
       "   235     24000      39777.0      1.7      2.8                      mn = dist[u]\n",
       "   236                                           \n",
       "   237     18000      30212.0      1.7      2.1              if mni == -1:\n",
       "   238                                                           break\n",
       "   239                                           \n",
       "   240     18000      28835.0      1.6      2.0              u = mni\n",
       "   241     18000      32448.0      1.8      2.3              unvisited.remove(u)\n",
       "   242     18000      30187.0      1.7      2.1              unvisited_count -= 1\n",
       "   243                                           \n",
       "   244     62000     104710.0      1.7      7.4              for v in edges[u]:\n",
       "   245     44000      76011.0      1.7      5.4                  new_dist = dist[u] + 1\n",
       "   246     44000      75447.0      1.7      5.3                  if new_dist < dist[v]:\n",
       "   247     17000      28580.0      1.7      2.0                      dist[v] = new_dist\n",
       "   248     17000      28102.0      1.7      2.0                      previous_node[v] = u\n",
       "   249                                           \n",
       "   250      1000       1632.0      1.6      0.1          node = i2\n",
       "   251      1000       1714.0      1.7      0.1          path = [node]\n",
       "   252      3000       5409.0      1.8      0.4          while previous_node[node] is not None:\n",
       "   253      2000       3376.0      1.7      0.2              node = previous_node[node]\n",
       "   254      2000       3722.0      1.9      0.3              path.append(node)\n",
       "   255                                           \n",
       "   256      1000       2679.0      2.7      0.2          return list(reversed(path))"
      ]
     },
     "metadata": {},
     "output_type": "display_data"
    }
   ],
   "source": [
    "def f(): \n",
    "    for i in range(1000): \n",
    "        molecule.compute_path(12, 3)\n",
    "        \n",
    "%lprun -f Molecule.compute_path f()"
   ]
  },
  {
   "cell_type": "code",
   "execution_count": null,
   "metadata": {},
   "outputs": [],
   "source": []
  },
  {
   "cell_type": "code",
   "execution_count": null,
   "metadata": {},
   "outputs": [],
   "source": []
  }
 ],
 "metadata": {
  "kernelspec": {
   "display_name": "Python 3",
   "language": "python",
   "name": "python3"
  },
  "language_info": {
   "codemirror_mode": {
    "name": "ipython",
    "version": 3
   },
   "file_extension": ".py",
   "mimetype": "text/x-python",
   "name": "python",
   "nbconvert_exporter": "python",
   "pygments_lexer": "ipython3",
   "version": "3.7.3"
  }
 },
 "nbformat": 4,
 "nbformat_minor": 2
}
