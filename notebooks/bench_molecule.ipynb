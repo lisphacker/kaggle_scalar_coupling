{
 "cells": [
  {
   "cell_type": "code",
   "execution_count": 1,
   "metadata": {},
   "outputs": [],
   "source": [
    "%load_ext autoreload\n",
    "%autoreload 2\n",
    "\n",
    "%load_ext line_profiler"
   ]
  },
  {
   "cell_type": "code",
   "execution_count": 2,
   "metadata": {},
   "outputs": [],
   "source": [
    "import pandas as pd"
   ]
  },
  {
   "cell_type": "code",
   "execution_count": 3,
   "metadata": {},
   "outputs": [],
   "source": [
    "structures = pd.read_feather('../data/structures.feather')\n",
    "labelled = pd.read_feather('../data/train.feather')\n",
    "unlabelled = pd.read_feather('../data/test.feather')"
   ]
  },
  {
   "cell_type": "code",
   "execution_count": 4,
   "metadata": {},
   "outputs": [],
   "source": [
    "from chemistry import *"
   ]
  },
  {
   "cell_type": "code",
   "execution_count": 5,
   "metadata": {},
   "outputs": [],
   "source": [
    "molecule_name = 'dsgdb9nsd_133831'\n",
    "molecule_df = structures[structures.molecule_name == molecule_name]\n",
    "molecule = Molecule(molecule_df)"
   ]
  },
  {
   "cell_type": "code",
   "execution_count": 6,
   "metadata": {},
   "outputs": [
    {
     "name": "stdout",
     "output_type": "stream",
     "text": [
      "33.9 µs ± 213 ns per loop (mean ± std. dev. of 10 runs, 100 loops each)\n"
     ]
    }
   ],
   "source": [
    "%%timeit -n 100 -r 10\n",
    "molecule.compute_path(12, 3)"
   ]
  },
  {
   "cell_type": "code",
   "execution_count": 7,
   "metadata": {},
   "outputs": [
    {
     "name": "stdout",
     "output_type": "stream",
     "text": [
      " "
     ]
    },
    {
     "data": {
      "text/plain": [
       "         63003 function calls in 0.172 seconds\n",
       "\n",
       "   Ordered by: internal time\n",
       "\n",
       "   ncalls  tottime  percall  cumtime  percall filename:lineno(function)\n",
       "     1000    0.102    0.000    0.170    0.000 chemistry.py:154(compute_path)\n",
       "    44000    0.048    0.000    0.048    0.000 {method 'append' of 'list' objects}\n",
       "    18000    0.020    0.000    0.020    0.000 {method 'remove' of 'set' objects}\n",
       "        1    0.002    0.002    0.172    0.172 <string>:2(<module>)\n",
       "        1    0.000    0.000    0.172    0.172 {built-in method builtins.exec}\n",
       "        1    0.000    0.000    0.000    0.000 {method 'disable' of '_lsprof.Profiler' objects}"
      ]
     },
     "metadata": {},
     "output_type": "display_data"
    }
   ],
   "source": [
    "%%prun\n",
    "for i in range(1000):\n",
    "    molecule.compute_path(12, 3)"
   ]
  },
  {
   "cell_type": "code",
   "execution_count": 8,
   "metadata": {},
   "outputs": [
    {
     "data": {
      "text/plain": [
       "[12, 2, 3]"
      ]
     },
     "execution_count": 8,
     "metadata": {},
     "output_type": "execute_result"
    }
   ],
   "source": [
    "molecule.compute_path(12, 3)"
   ]
  },
  {
   "cell_type": "code",
   "execution_count": 9,
   "metadata": {},
   "outputs": [
    {
     "data": {
      "text/plain": [
       "Timer unit: 1e-06 s\n",
       "\n",
       "Total time: 1.35684 s\n",
       "File: /home/gautham/work/kaggle/scalar_coupling/notebooks/chemistry.py\n",
       "Function: compute_path at line 154\n",
       "\n",
       "Line #      Hits         Time  Per Hit   % Time  Line Contents\n",
       "==============================================================\n",
       "   154                                               def compute_path(self, i1, i2):\n",
       "   155      1000       2691.0      2.7      0.2          unvisited = set(range(self.n_atoms))\n",
       "   156      1000       1621.0      1.6      0.1          unvisited_count = self.n_atoms\n",
       "   157      1000       1975.0      2.0      0.1          previous_node = [None] * self.n_atoms\n",
       "   158                                           \n",
       "   159      1000       1656.0      1.7      0.1          edges = {}\n",
       "   160     19000      29896.0      1.6      2.2          for i in range(self.n_atoms):\n",
       "   161     18000      29612.0      1.6      2.2              edges[i] = []\n",
       "   162                                           \n",
       "   163     22000      35139.0      1.6      2.6          for i, j in self.bonds:\n",
       "   164     21000      36005.0      1.7      2.7              edges[i].append(j)\n",
       "   165     21000      35712.0      1.7      2.6              edges[j].append(i)\n",
       "   166                                           \n",
       "   167      1000       2009.0      2.0      0.1          dist = [math.inf] * self.n_atoms\n",
       "   168      1000       1700.0      1.7      0.1          dist[i1] = 0\n",
       "   169                                           \n",
       "   170     19000      30941.0      1.6      2.3          while unvisited_count > 0:\n",
       "   171     18000      29879.0      1.7      2.2              mn = math.inf\n",
       "   172     18000      28344.0      1.6      2.1              mni = -1\n",
       "   173    189000     299550.0      1.6     22.1              for u in unvisited:\n",
       "   174    171000     284152.0      1.7     20.9                  if dist[u] < mn:\n",
       "   175     24000      37505.0      1.6      2.8                      mni = u\n",
       "   176     24000      38777.0      1.6      2.9                      mn = dist[u]\n",
       "   177                                           \n",
       "   178     18000      29463.0      1.6      2.2              if mni == -1:\n",
       "   179                                                           break\n",
       "   180                                           \n",
       "   181     18000      28396.0      1.6      2.1              u = mni\n",
       "   182     18000      31068.0      1.7      2.3              unvisited.remove(u)\n",
       "   183     18000      29207.0      1.6      2.2              unvisited_count -= 1\n",
       "   184                                           \n",
       "   185     60000      98467.0      1.6      7.3              for v in edges[u]:\n",
       "   186     42000      70401.0      1.7      5.2                  new_dist = dist[u] + 1\n",
       "   187     42000      69870.0      1.7      5.1                  if new_dist < dist[v]:\n",
       "   188     17000      27689.0      1.6      2.0                      dist[v] = new_dist\n",
       "   189     17000      27516.0      1.6      2.0                      previous_node[v] = u\n",
       "   190                                           \n",
       "   191      1000       1597.0      1.6      0.1          node = i2\n",
       "   192      1000       1662.0      1.7      0.1          path = [node]\n",
       "   193      3000       5102.0      1.7      0.4          while previous_node[node] is not None:\n",
       "   194      2000       3283.0      1.6      0.2              node = previous_node[node]\n",
       "   195      2000       3503.0      1.8      0.3              path.append(node)\n",
       "   196                                           \n",
       "   197      1000       2451.0      2.5      0.2          return list(reversed(path))"
      ]
     },
     "metadata": {},
     "output_type": "display_data"
    }
   ],
   "source": [
    "def f(): \n",
    "    for i in range(1000): \n",
    "        molecule.compute_path(12, 3)\n",
    "        \n",
    "%lprun -f Molecule.compute_path f()"
   ]
  },
  {
   "cell_type": "code",
   "execution_count": null,
   "metadata": {},
   "outputs": [],
   "source": []
  },
  {
   "cell_type": "code",
   "execution_count": null,
   "metadata": {},
   "outputs": [],
   "source": []
  }
 ],
 "metadata": {
  "kernelspec": {
   "display_name": "Python 3",
   "language": "python",
   "name": "python3"
  },
  "language_info": {
   "codemirror_mode": {
    "name": "ipython",
    "version": 3
   },
   "file_extension": ".py",
   "mimetype": "text/x-python",
   "name": "python",
   "nbconvert_exporter": "python",
   "pygments_lexer": "ipython3",
   "version": "3.7.3"
  }
 },
 "nbformat": 4,
 "nbformat_minor": 2
}
