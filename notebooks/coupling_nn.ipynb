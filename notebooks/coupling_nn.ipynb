{
 "cells": [
  {
   "cell_type": "code",
   "execution_count": 1,
   "metadata": {},
   "outputs": [],
   "source": [
    "%load_ext autoreload\n",
    "%autoreload 2\n",
    "\n",
    "%load_ext line_profiler"
   ]
  },
  {
   "cell_type": "code",
   "execution_count": 2,
   "metadata": {},
   "outputs": [],
   "source": [
    "import pandas as pd\n",
    "import numpy as np\n",
    "\n",
    "import  matplotlib.pyplot as plt\n",
    "import pickle\n",
    "\n",
    "from chemistry import Molecule\n",
    "from util import score\n",
    "from pprint import pprint\n"
   ]
  },
  {
   "cell_type": "code",
   "execution_count": 3,
   "metadata": {},
   "outputs": [],
   "source": [
    "with open('../data/molecules_enh.pickle', 'rb') as f:\n",
    "    molecules = pickle.load(f)"
   ]
  },
  {
   "cell_type": "code",
   "execution_count": 4,
   "metadata": {},
   "outputs": [
    {
     "name": "stderr",
     "output_type": "stream",
     "text": [
      "/home/gautham/apps/anaconda3/envs/kaggle/lib/python3.7/site-packages/pyarrow/pandas_compat.py:752: FutureWarning:\n",
      "\n",
      ".labels was deprecated in version 0.24.0. Use .codes instead.\n",
      "\n"
     ]
    }
   ],
   "source": [
    "structures = pd.read_feather('../data/structures_enh.feather')\n",
    "molecules_df = pd.read_feather('../data/molecules.feather')\n",
    "labelled = pd.read_feather('../data/train.feather')\n",
    "unlabelled = pd.read_feather('../data/test.feather')"
   ]
  },
  {
   "cell_type": "code",
   "execution_count": 5,
   "metadata": {},
   "outputs": [],
   "source": [
    "dipole_moments = pd.read_feather('../data/dipole_moments.feather')\n",
    "magnetic_shielding_tensors = pd.read_feather('../data/magnetic_shielding_tensors.feather')\n",
    "mulliken_charges = pd.read_feather('../data/mulliken_charges.feather')\n",
    "potential_energy = pd.read_feather('../data/potential_energy.feather')\n",
    "scalar_coupling_contributions = pd.read_feather('../data/scalar_coupling_contributions.feather')"
   ]
  },
  {
   "cell_type": "code",
   "execution_count": 6,
   "metadata": {},
   "outputs": [],
   "source": [
    "labelled_enh = labelled.merge(molecules_df, left_on='molecule_name', right_on='molecule_name')\n",
    "#labelled_enh.head(32)"
   ]
  },
  {
   "cell_type": "code",
   "execution_count": 7,
   "metadata": {},
   "outputs": [],
   "source": [
    "unlabelled_enh = unlabelled.merge(molecules_df, left_on='molecule_name', right_on='molecule_name')\n",
    "#unlabelled_enh.head(32)"
   ]
  },
  {
   "cell_type": "code",
   "execution_count": null,
   "metadata": {},
   "outputs": [],
   "source": [
    "len(labelled), len(labelled_enh)"
   ]
  },
  {
   "cell_type": "code",
   "execution_count": null,
   "metadata": {},
   "outputs": [],
   "source": [
    "nn_args = dict(dipole_moments=dipole_moments,\n",
    "               magnetic_shielding_tensors=magnetic_shielding_tensors,\n",
    "               mulliken_charges=mulliken_charges,\n",
    "               potential_energy=potential_energy,\n",
    "               scalar_coupling_contributions=scalar_coupling_contributions)"
   ]
  },
  {
   "cell_type": "code",
   "execution_count": null,
   "metadata": {},
   "outputs": [],
   "source": [
    "model.structures.dtypes"
   ]
  },
  {
   "cell_type": "code",
   "execution_count": null,
   "metadata": {},
   "outputs": [],
   "source": [
    "labelled_enh.dtypes"
   ]
  },
  {
   "cell_type": "code",
   "execution_count": null,
   "metadata": {},
   "outputs": [],
   "source": [
    "from models import NNModel, partition_data\n",
    "\n",
    "print('Running')\n",
    "\n",
    "#data_df = labelled[labelled.type == '1JHC'].head(10)\n",
    "data_df = labelled_enh.head(10)\n",
    "train_df, test_df = partition_data(data_df, train_frac=1)\n",
    "train_df = train_df.copy()\n",
    "        \n",
    "model = NNModel(model_args = dict(molecules=molecules,\n",
    "                                  structures=structures),\n",
    "               **nn_args)\n",
    "#model.corr(train_df, train_df)\n",
    "model.setup_data(train_df, train_df)"
   ]
  },
  {
   "cell_type": "code",
   "execution_count": null,
   "metadata": {},
   "outputs": [],
   "source": [
    "list(model.input_df.columns)"
   ]
  },
  {
   "cell_type": "code",
   "execution_count": null,
   "metadata": {},
   "outputs": [],
   "source": [
    "model.input_df.dtypes"
   ]
  },
  {
   "cell_type": "code",
   "execution_count": null,
   "metadata": {},
   "outputs": [],
   "source": [
    "labelled_enh.head()"
   ]
  },
  {
   "cell_type": "code",
   "execution_count": null,
   "metadata": {},
   "outputs": [],
   "source": [
    "import itertools"
   ]
  },
  {
   "cell_type": "code",
   "execution_count": null,
   "metadata": {},
   "outputs": [],
   "source": []
  },
  {
   "cell_type": "code",
   "execution_count": null,
   "metadata": {},
   "outputs": [],
   "source": [
    "df = labelled_enh.head(32)"
   ]
  },
  {
   "cell_type": "code",
   "execution_count": null,
   "metadata": {},
   "outputs": [],
   "source": [
    "#df[['molecule_name']].merge(dipole_moments, left_on='molecule_name', right_on='molecule_name')\n"
   ]
  },
  {
   "cell_type": "code",
   "execution_count": null,
   "metadata": {},
   "outputs": [],
   "source": []
  },
  {
   "cell_type": "code",
   "execution_count": 14,
   "metadata": {},
   "outputs": [],
   "source": [
    "def plot_history(history, label):\n",
    "    n = 5\n",
    "    \n",
    "    loss = np.array(history.history['scc_loss'], dtype='float32')\n",
    "    val_loss = np.array(history.history['val_scc_loss'], dtype='float32')\n",
    "    \n",
    "    loss_mean = loss.mean()\n",
    "    loss_nstd = n * loss.std()\n",
    "    \n",
    "    val_loss_mean = val_loss.mean()\n",
    "    val_loss_nstd = n * val_loss.std()\n",
    "       \n",
    "#     mn = min(loss_mean - loss_nstd, val_loss_mean - val_loss_nstd)\n",
    "#     mx = min(loss_mean + loss_nstd, val_loss_mean + val_loss_nstd)\n",
    "    mn = loss_mean - loss_nstd\n",
    "    mx = loss_mean + loss_nstd\n",
    "    \n",
    "#     print(loss.min(), loss.max())\n",
    "#     print(val_loss.min(), val_loss.max())\n",
    "#     print(loss_mean, loss_nstd, val_loss_mean, val_loss_nstd)\n",
    "#     print(mn, mx)\n",
    "    \n",
    "    plt.plot(loss)\n",
    "    plt.plot(val_loss)\n",
    "    plt.title('Loss for %s' % label)\n",
    "    plt.ylabel('Loss')\n",
    "    plt.xlabel('Epoch')\n",
    "    plt.ylim(mn, mx)\n",
    "    _= plt.legend(['Train','Validation'], loc='upper left')"
   ]
  },
  {
   "cell_type": "code",
   "execution_count": 15,
   "metadata": {},
   "outputs": [],
   "source": [
    "nn_args = dict(dipole_moments=dipole_moments,\n",
    "               magnetic_shielding_tensors=magnetic_shielding_tensors,\n",
    "               mulliken_charges=mulliken_charges,\n",
    "               potential_energy=potential_energy,\n",
    "               scalar_coupling_contributions=scalar_coupling_contributions,\n",
    "               epochs=100,\n",
    "               learning_rate=0.001,\n",
    "               validation_split=0.3\n",
    "               )"
   ]
  },
  {
   "cell_type": "code",
   "execution_count": 28,
   "metadata": {},
   "outputs": [
    {
     "name": "stdout",
     "output_type": "stream",
     "text": [
      "Training 21000 samples for 1JHC\n",
      "Train on 14699 samples, validate on 6301 samples\n",
      "Epoch 1/100\n",
      "14699/14699 [==============================] - 15s 998us/sample - loss: 6.8159 - scc_loss: 1.1812 - output_dipole_moments_loss: 1.1534 - output_magnetic_shielding_tensors_loss: 1.1284 - output_mulliken_charges_loss: 1.0862 - output_potential_energy_loss: 1.1971 - output_scalar_coupling_contributions_loss: 1.0579 - val_loss: 9.8392 - val_scc_loss: 1.5636 - val_output_dipole_moments_loss: 1.4642 - val_output_magnetic_shielding_tensors_loss: 1.7733 - val_output_mulliken_charges_loss: 1.3197 - val_output_potential_energy_loss: 1.1954 - val_output_scalar_coupling_contributions_loss: 2.4563\n",
      "Epoch 2/100\n",
      "14699/14699 [==============================] - 3s 181us/sample - loss: 4.8171 - scc_loss: 0.7161 - output_dipole_moments_loss: 0.9015 - output_magnetic_shielding_tensors_loss: 0.8334 - output_mulliken_charges_loss: 0.8081 - output_potential_energy_loss: 0.9010 - output_scalar_coupling_contributions_loss: 0.6529 - val_loss: 6.0528 - val_scc_loss: 1.1386 - val_output_dipole_moments_loss: 0.9116 - val_output_magnetic_shielding_tensors_loss: 1.1265 - val_output_mulliken_charges_loss: 0.8840 - val_output_potential_energy_loss: 0.7732 - val_output_scalar_coupling_contributions_loss: 1.2260\n",
      "Epoch 3/100\n",
      "14699/14699 [==============================] - 3s 184us/sample - loss: 4.0316 - scc_loss: 0.5241 - output_dipole_moments_loss: 0.7907 - output_magnetic_shielding_tensors_loss: 0.7726 - output_mulliken_charges_loss: 0.6780 - output_potential_energy_loss: 0.7775 - output_scalar_coupling_contributions_loss: 0.4870 - val_loss: 4.2829 - val_scc_loss: 0.6984 - val_output_dipole_moments_loss: 0.8087 - val_output_magnetic_shielding_tensors_loss: 0.8577 - val_output_mulliken_charges_loss: 0.7147 - val_output_potential_energy_loss: 0.6432 - val_output_scalar_coupling_contributions_loss: 0.5471\n",
      "Epoch 4/100\n",
      "14699/14699 [==============================] - 3s 184us/sample - loss: 3.6939 - scc_loss: 0.4321 - output_dipole_moments_loss: 0.7476 - output_magnetic_shielding_tensors_loss: 0.7521 - output_mulliken_charges_loss: 0.6264 - output_potential_energy_loss: 0.7146 - output_scalar_coupling_contributions_loss: 0.4204 - val_loss: 3.7102 - val_scc_loss: 0.4482 - val_output_dipole_moments_loss: 0.7740 - val_output_magnetic_shielding_tensors_loss: 0.7932 - val_output_mulliken_charges_loss: 0.6680 - val_output_potential_energy_loss: 0.6369 - val_output_scalar_coupling_contributions_loss: 0.3805\n",
      "Epoch 5/100\n",
      "14699/14699 [==============================] - 3s 184us/sample - loss: 3.5527 - scc_loss: 0.4042 - output_dipole_moments_loss: 0.7336 - output_magnetic_shielding_tensors_loss: 0.7398 - output_mulliken_charges_loss: 0.5964 - output_potential_energy_loss: 0.6982 - output_scalar_coupling_contributions_loss: 0.3803 - val_loss: 3.5575 - val_scc_loss: 0.3735 - val_output_dipole_moments_loss: 0.7579 - val_output_magnetic_shielding_tensors_loss: 0.7774 - val_output_mulliken_charges_loss: 0.7096 - val_output_potential_energy_loss: 0.6270 - val_output_scalar_coupling_contributions_loss: 0.3138\n",
      "Epoch 6/100\n",
      "14699/14699 [==============================] - 3s 182us/sample - loss: 3.4492 - scc_loss: 0.3851 - output_dipole_moments_loss: 0.7190 - output_magnetic_shielding_tensors_loss: 0.7320 - output_mulliken_charges_loss: 0.5786 - output_potential_energy_loss: 0.6797 - output_scalar_coupling_contributions_loss: 0.3547 - val_loss: 3.4438 - val_scc_loss: 0.3218 - val_output_dipole_moments_loss: 0.7510 - val_output_magnetic_shielding_tensors_loss: 0.7741 - val_output_mulliken_charges_loss: 0.6561 - val_output_potential_energy_loss: 0.6488 - val_output_scalar_coupling_contributions_loss: 0.2886\n",
      "Epoch 7/100\n",
      "14699/14699 [==============================] - 3s 184us/sample - loss: 3.3755 - scc_loss: 0.3715 - output_dipole_moments_loss: 0.7081 - output_magnetic_shielding_tensors_loss: 0.7259 - output_mulliken_charges_loss: 0.5626 - output_potential_energy_loss: 0.6669 - output_scalar_coupling_contributions_loss: 0.3419 - val_loss: 3.4081 - val_scc_loss: 0.3284 - val_output_dipole_moments_loss: 0.7500 - val_output_magnetic_shielding_tensors_loss: 0.7725 - val_output_mulliken_charges_loss: 0.6447 - val_output_potential_energy_loss: 0.6245 - val_output_scalar_coupling_contributions_loss: 0.2891\n",
      "Epoch 8/100\n",
      "14699/14699 [==============================] - 3s 186us/sample - loss: 3.3029 - scc_loss: 0.3464 - output_dipole_moments_loss: 0.7009 - output_magnetic_shielding_tensors_loss: 0.7192 - output_mulliken_charges_loss: 0.5514 - output_potential_energy_loss: 0.6641 - output_scalar_coupling_contributions_loss: 0.3218 - val_loss: 3.3769 - val_scc_loss: 0.3219 - val_output_dipole_moments_loss: 0.7476 - val_output_magnetic_shielding_tensors_loss: 0.7716 - val_output_mulliken_charges_loss: 0.6476 - val_output_potential_energy_loss: 0.6193 - val_output_scalar_coupling_contributions_loss: 0.2667\n",
      "Epoch 9/100\n",
      "14699/14699 [==============================] - 3s 183us/sample - loss: 3.2618 - scc_loss: 0.3370 - output_dipole_moments_loss: 0.6947 - output_magnetic_shielding_tensors_loss: 0.7170 - output_mulliken_charges_loss: 0.5431 - output_potential_energy_loss: 0.6610 - output_scalar_coupling_contributions_loss: 0.3098 - val_loss: 3.3424 - val_scc_loss: 0.3111 - val_output_dipole_moments_loss: 0.7423 - val_output_magnetic_shielding_tensors_loss: 0.7709 - val_output_mulliken_charges_loss: 0.6266 - val_output_potential_energy_loss: 0.6247 - val_output_scalar_coupling_contributions_loss: 0.2657\n",
      "Epoch 10/100\n",
      "14699/14699 [==============================] - 3s 182us/sample - loss: 3.2272 - scc_loss: 0.3231 - output_dipole_moments_loss: 0.6929 - output_magnetic_shielding_tensors_loss: 0.7126 - output_mulliken_charges_loss: 0.5442 - output_potential_energy_loss: 0.6575 - output_scalar_coupling_contributions_loss: 0.2976 - val_loss: 3.3185 - val_scc_loss: 0.3003 - val_output_dipole_moments_loss: 0.7459 - val_output_magnetic_shielding_tensors_loss: 0.7700 - val_output_mulliken_charges_loss: 0.6141 - val_output_potential_energy_loss: 0.6242 - val_output_scalar_coupling_contributions_loss: 0.2640\n",
      "Epoch 11/100\n",
      "14699/14699 [==============================] - 3s 176us/sample - loss: 3.1891 - scc_loss: 0.3077 - output_dipole_moments_loss: 0.6883 - output_magnetic_shielding_tensors_loss: 0.7133 - output_mulliken_charges_loss: 0.5397 - output_potential_energy_loss: 0.6516 - output_scalar_coupling_contributions_loss: 0.2886 - val_loss: 3.2981 - val_scc_loss: 0.2870 - val_output_dipole_moments_loss: 0.7490 - val_output_magnetic_shielding_tensors_loss: 0.7701 - val_output_mulliken_charges_loss: 0.6094 - val_output_potential_energy_loss: 0.6318 - val_output_scalar_coupling_contributions_loss: 0.2502\n",
      "Epoch 12/100\n",
      "14699/14699 [==============================] - 3s 187us/sample - loss: 3.1602 - scc_loss: 0.3048 - output_dipole_moments_loss: 0.6864 - output_magnetic_shielding_tensors_loss: 0.7075 - output_mulliken_charges_loss: 0.5345 - output_potential_energy_loss: 0.6479 - output_scalar_coupling_contributions_loss: 0.2802 - val_loss: 3.3054 - val_scc_loss: 0.2882 - val_output_dipole_moments_loss: 0.7485 - val_output_magnetic_shielding_tensors_loss: 0.7692 - val_output_mulliken_charges_loss: 0.6165 - val_output_potential_energy_loss: 0.6276 - val_output_scalar_coupling_contributions_loss: 0.2553\n",
      "Epoch 13/100\n",
      "14699/14699 [==============================] - 3s 181us/sample - loss: 3.1342 - scc_loss: 0.2918 - output_dipole_moments_loss: 0.6845 - output_magnetic_shielding_tensors_loss: 0.7074 - output_mulliken_charges_loss: 0.5266 - output_potential_energy_loss: 0.6528 - output_scalar_coupling_contributions_loss: 0.2714 - val_loss: 3.2974 - val_scc_loss: 0.2827 - val_output_dipole_moments_loss: 0.7455 - val_output_magnetic_shielding_tensors_loss: 0.7740 - val_output_mulliken_charges_loss: 0.6106 - val_output_potential_energy_loss: 0.6410 - val_output_scalar_coupling_contributions_loss: 0.2429\n",
      "Epoch 14/100\n",
      "14699/14699 [==============================] - 3s 175us/sample - loss: 3.1113 - scc_loss: 0.2880 - output_dipole_moments_loss: 0.6840 - output_magnetic_shielding_tensors_loss: 0.7038 - output_mulliken_charges_loss: 0.5211 - output_potential_energy_loss: 0.6484 - output_scalar_coupling_contributions_loss: 0.2672 - val_loss: 3.3295 - val_scc_loss: 0.2866 - val_output_dipole_moments_loss: 0.7502 - val_output_magnetic_shielding_tensors_loss: 0.7817 - val_output_mulliken_charges_loss: 0.6093 - val_output_potential_energy_loss: 0.6303 - val_output_scalar_coupling_contributions_loss: 0.2727\n",
      "Epoch 15/100\n",
      "14699/14699 [==============================] - 3s 179us/sample - loss: 3.0992 - scc_loss: 0.2792 - output_dipole_moments_loss: 0.6830 - output_magnetic_shielding_tensors_loss: 0.7034 - output_mulliken_charges_loss: 0.5237 - output_potential_energy_loss: 0.6466 - output_scalar_coupling_contributions_loss: 0.2644 - val_loss: 3.3369 - val_scc_loss: 0.2969 - val_output_dipole_moments_loss: 0.7498 - val_output_magnetic_shielding_tensors_loss: 0.7802 - val_output_mulliken_charges_loss: 0.6021 - val_output_potential_energy_loss: 0.6353 - val_output_scalar_coupling_contributions_loss: 0.2645\n",
      "Epoch 16/100\n",
      "14699/14699 [==============================] - 3s 177us/sample - loss: 3.0913 - scc_loss: 0.2765 - output_dipole_moments_loss: 0.6788 - output_magnetic_shielding_tensors_loss: 0.7021 - output_mulliken_charges_loss: 0.5270 - output_potential_energy_loss: 0.6483 - output_scalar_coupling_contributions_loss: 0.2592 - val_loss: 3.3785 - val_scc_loss: 0.3220 - val_output_dipole_moments_loss: 0.7650 - val_output_magnetic_shielding_tensors_loss: 0.7868 - val_output_mulliken_charges_loss: 0.6028 - val_output_potential_energy_loss: 0.6333 - val_output_scalar_coupling_contributions_loss: 0.2631\n",
      "Epoch 17/100\n",
      "14699/14699 [==============================] - 3s 191us/sample - loss: 3.0606 - scc_loss: 0.2664 - output_dipole_moments_loss: 0.6811 - output_magnetic_shielding_tensors_loss: 0.7002 - output_mulliken_charges_loss: 0.5183 - output_potential_energy_loss: 0.6426 - output_scalar_coupling_contributions_loss: 0.2527 - val_loss: 3.3240 - val_scc_loss: 0.3051 - val_output_dipole_moments_loss: 0.7615 - val_output_magnetic_shielding_tensors_loss: 0.7725 - val_output_mulliken_charges_loss: 0.5985 - val_output_potential_energy_loss: 0.6286 - val_output_scalar_coupling_contributions_loss: 0.2710\n",
      "Epoch 18/100\n",
      "14699/14699 [==============================] - 3s 180us/sample - loss: 3.0410 - scc_loss: 0.2618 - output_dipole_moments_loss: 0.6801 - output_magnetic_shielding_tensors_loss: 0.7003 - output_mulliken_charges_loss: 0.5119 - output_potential_energy_loss: 0.6399 - output_scalar_coupling_contributions_loss: 0.2476 - val_loss: 3.2951 - val_scc_loss: 0.2963 - val_output_dipole_moments_loss: 0.7483 - val_output_magnetic_shielding_tensors_loss: 0.7714 - val_output_mulliken_charges_loss: 0.6007 - val_output_potential_energy_loss: 0.6272 - val_output_scalar_coupling_contributions_loss: 0.2488\n",
      "Epoch 19/100\n",
      "14699/14699 [==============================] - 3s 182us/sample - loss: 3.0238 - scc_loss: 0.2589 - output_dipole_moments_loss: 0.6771 - output_magnetic_shielding_tensors_loss: 0.6972 - output_mulliken_charges_loss: 0.5080 - output_potential_energy_loss: 0.6402 - output_scalar_coupling_contributions_loss: 0.2435 - val_loss: 3.2488 - val_scc_loss: 0.2694 - val_output_dipole_moments_loss: 0.7476 - val_output_magnetic_shielding_tensors_loss: 0.7737 - val_output_mulliken_charges_loss: 0.5958 - val_output_potential_energy_loss: 0.6240 - val_output_scalar_coupling_contributions_loss: 0.2310\n",
      "Epoch 20/100\n",
      "14699/14699 [==============================] - 3s 183us/sample - loss: 3.0150 - scc_loss: 0.2567 - output_dipole_moments_loss: 0.6760 - output_magnetic_shielding_tensors_loss: 0.6974 - output_mulliken_charges_loss: 0.5097 - output_potential_energy_loss: 0.6396 - output_scalar_coupling_contributions_loss: 0.2360 - val_loss: 3.2441 - val_scc_loss: 0.2645 - val_output_dipole_moments_loss: 0.7463 - val_output_magnetic_shielding_tensors_loss: 0.7717 - val_output_mulliken_charges_loss: 0.5952 - val_output_potential_energy_loss: 0.6295 - val_output_scalar_coupling_contributions_loss: 0.2398\n",
      "Epoch 21/100\n",
      "14699/14699 [==============================] - 3s 180us/sample - loss: 3.0116 - scc_loss: 0.2546 - output_dipole_moments_loss: 0.6789 - output_magnetic_shielding_tensors_loss: 0.6977 - output_mulliken_charges_loss: 0.5082 - output_potential_energy_loss: 0.6397 - output_scalar_coupling_contributions_loss: 0.2331 - val_loss: 3.2497 - val_scc_loss: 0.2672 - val_output_dipole_moments_loss: 0.7566 - val_output_magnetic_shielding_tensors_loss: 0.7765 - val_output_mulliken_charges_loss: 0.6019 - val_output_potential_energy_loss: 0.6234 - val_output_scalar_coupling_contributions_loss: 0.2222\n",
      "Epoch 22/100\n",
      "14699/14699 [==============================] - 3s 180us/sample - loss: 2.9909 - scc_loss: 0.2462 - output_dipole_moments_loss: 0.6787 - output_magnetic_shielding_tensors_loss: 0.6951 - output_mulliken_charges_loss: 0.5053 - output_potential_energy_loss: 0.6396 - output_scalar_coupling_contributions_loss: 0.2270 - val_loss: 3.2017 - val_scc_loss: 0.2457 - val_output_dipole_moments_loss: 0.7499 - val_output_magnetic_shielding_tensors_loss: 0.7705 - val_output_mulliken_charges_loss: 0.5895 - val_output_potential_energy_loss: 0.6301 - val_output_scalar_coupling_contributions_loss: 0.2197\n",
      "Epoch 23/100\n",
      "14699/14699 [==============================] - 3s 180us/sample - loss: 2.9816 - scc_loss: 0.2441 - output_dipole_moments_loss: 0.6761 - output_magnetic_shielding_tensors_loss: 0.6959 - output_mulliken_charges_loss: 0.5036 - output_potential_energy_loss: 0.6383 - output_scalar_coupling_contributions_loss: 0.2241 - val_loss: 3.3127 - val_scc_loss: 0.3011 - val_output_dipole_moments_loss: 0.7626 - val_output_magnetic_shielding_tensors_loss: 0.7753 - val_output_mulliken_charges_loss: 0.5933 - val_output_potential_energy_loss: 0.6314 - val_output_scalar_coupling_contributions_loss: 0.2463\n",
      "Epoch 24/100\n",
      "14699/14699 [==============================] - 3s 179us/sample - loss: 2.9856 - scc_loss: 0.2420 - output_dipole_moments_loss: 0.6764 - output_magnetic_shielding_tensors_loss: 0.6948 - output_mulliken_charges_loss: 0.5051 - output_potential_energy_loss: 0.6431 - output_scalar_coupling_contributions_loss: 0.2251 - val_loss: 3.3828 - val_scc_loss: 0.2954 - val_output_dipole_moments_loss: 0.7786 - val_output_magnetic_shielding_tensors_loss: 0.7891 - val_output_mulliken_charges_loss: 0.6162 - val_output_potential_energy_loss: 0.6510 - val_output_scalar_coupling_contributions_loss: 0.2453\n",
      "Epoch 25/100\n",
      "14699/14699 [==============================] - 3s 182us/sample - loss: 2.9784 - scc_loss: 0.2349 - output_dipole_moments_loss: 0.6810 - output_magnetic_shielding_tensors_loss: 0.6936 - output_mulliken_charges_loss: 0.5106 - output_potential_energy_loss: 0.6376 - output_scalar_coupling_contributions_loss: 0.2216 - val_loss: 3.2796 - val_scc_loss: 0.2484 - val_output_dipole_moments_loss: 0.7627 - val_output_magnetic_shielding_tensors_loss: 0.7889 - val_output_mulliken_charges_loss: 0.6156 - val_output_potential_energy_loss: 0.6403 - val_output_scalar_coupling_contributions_loss: 0.2356\n",
      "Epoch 26/100\n",
      "14699/14699 [==============================] - 3s 183us/sample - loss: 2.9600 - scc_loss: 0.2343 - output_dipole_moments_loss: 0.6730 - output_magnetic_shielding_tensors_loss: 0.6941 - output_mulliken_charges_loss: 0.5022 - output_potential_energy_loss: 0.6388 - output_scalar_coupling_contributions_loss: 0.2184 - val_loss: 3.7514 - val_scc_loss: 0.3103 - val_output_dipole_moments_loss: 0.7796 - val_output_magnetic_shielding_tensors_loss: 0.9865 - val_output_mulliken_charges_loss: 0.6497 - val_output_potential_energy_loss: 0.7636 - val_output_scalar_coupling_contributions_loss: 0.2433\n",
      "Epoch 27/100\n",
      "14699/14699 [==============================] - 3s 183us/sample - loss: 2.9829 - scc_loss: 0.2375 - output_dipole_moments_loss: 0.6792 - output_magnetic_shielding_tensors_loss: 0.7002 - output_mulliken_charges_loss: 0.5089 - output_potential_energy_loss: 0.6358 - output_scalar_coupling_contributions_loss: 0.2222 - val_loss: 3.4354 - val_scc_loss: 0.3316 - val_output_dipole_moments_loss: 0.8140 - val_output_magnetic_shielding_tensors_loss: 0.8147 - val_output_mulliken_charges_loss: 0.5961 - val_output_potential_energy_loss: 0.6579 - val_output_scalar_coupling_contributions_loss: 0.2203\n",
      "Epoch 28/100\n",
      "14699/14699 [==============================] - 3s 177us/sample - loss: 2.9637 - scc_loss: 0.2426 - output_dipole_moments_loss: 0.6792 - output_magnetic_shielding_tensors_loss: 0.6953 - output_mulliken_charges_loss: 0.4963 - output_potential_energy_loss: 0.6351 - output_scalar_coupling_contributions_loss: 0.2160 - val_loss: 3.1748 - val_scc_loss: 0.2277 - val_output_dipole_moments_loss: 0.7454 - val_output_magnetic_shielding_tensors_loss: 0.7724 - val_output_mulliken_charges_loss: 0.5891 - val_output_potential_energy_loss: 0.6412 - val_output_scalar_coupling_contributions_loss: 0.1986\n",
      "Epoch 29/100\n",
      "14699/14699 [==============================] - 3s 175us/sample - loss: 2.9297 - scc_loss: 0.2247 - output_dipole_moments_loss: 0.6703 - output_magnetic_shielding_tensors_loss: 0.6932 - output_mulliken_charges_loss: 0.4942 - output_potential_energy_loss: 0.6367 - output_scalar_coupling_contributions_loss: 0.2114 - val_loss: 3.1723 - val_scc_loss: 0.2377 - val_output_dipole_moments_loss: 0.7505 - val_output_magnetic_shielding_tensors_loss: 0.7692 - val_output_mulliken_charges_loss: 0.5860 - val_output_potential_energy_loss: 0.6377 - val_output_scalar_coupling_contributions_loss: 0.1905\n",
      "Epoch 30/100\n",
      "14699/14699 [==============================] - 3s 183us/sample - loss: 2.9384 - scc_loss: 0.2261 - output_dipole_moments_loss: 0.6720 - output_magnetic_shielding_tensors_loss: 0.6936 - output_mulliken_charges_loss: 0.4989 - output_potential_energy_loss: 0.6391 - output_scalar_coupling_contributions_loss: 0.2096 - val_loss: 3.1975 - val_scc_loss: 0.2408 - val_output_dipole_moments_loss: 0.7504 - val_output_magnetic_shielding_tensors_loss: 0.7701 - val_output_mulliken_charges_loss: 0.5838 - val_output_potential_energy_loss: 0.6503 - val_output_scalar_coupling_contributions_loss: 0.2040\n",
      "Epoch 31/100\n",
      "14699/14699 [==============================] - 3s 172us/sample - loss: 2.9366 - scc_loss: 0.2296 - output_dipole_moments_loss: 0.6730 - output_magnetic_shielding_tensors_loss: 0.6939 - output_mulliken_charges_loss: 0.4944 - output_potential_energy_loss: 0.6388 - output_scalar_coupling_contributions_loss: 0.2081 - val_loss: 3.2348 - val_scc_loss: 0.2305 - val_output_dipole_moments_loss: 0.7527 - val_output_magnetic_shielding_tensors_loss: 0.7996 - val_output_mulliken_charges_loss: 0.6089 - val_output_potential_energy_loss: 0.6367 - val_output_scalar_coupling_contributions_loss: 0.2109\n",
      "Epoch 32/100\n",
      "14699/14699 [==============================] - 3s 173us/sample - loss: 2.9164 - scc_loss: 0.2222 - output_dipole_moments_loss: 0.6721 - output_magnetic_shielding_tensors_loss: 0.6920 - output_mulliken_charges_loss: 0.4908 - output_potential_energy_loss: 0.6348 - output_scalar_coupling_contributions_loss: 0.2051 - val_loss: 3.1240 - val_scc_loss: 0.2104 - val_output_dipole_moments_loss: 0.7475 - val_output_magnetic_shielding_tensors_loss: 0.7672 - val_output_mulliken_charges_loss: 0.5802 - val_output_potential_energy_loss: 0.6398 - val_output_scalar_coupling_contributions_loss: 0.1764\n",
      "Epoch 33/100\n",
      "14699/14699 [==============================] - 3s 175us/sample - loss: 2.9322 - scc_loss: 0.2280 - output_dipole_moments_loss: 0.6753 - output_magnetic_shielding_tensors_loss: 0.6931 - output_mulliken_charges_loss: 0.4913 - output_potential_energy_loss: 0.6367 - output_scalar_coupling_contributions_loss: 0.2084 - val_loss: 3.2665 - val_scc_loss: 0.2327 - val_output_dipole_moments_loss: 0.7766 - val_output_magnetic_shielding_tensors_loss: 0.7984 - val_output_mulliken_charges_loss: 0.5917 - val_output_potential_energy_loss: 0.6608 - val_output_scalar_coupling_contributions_loss: 0.1992\n",
      "Epoch 34/100\n",
      "14699/14699 [==============================] - 3s 175us/sample - loss: 2.9058 - scc_loss: 0.2167 - output_dipole_moments_loss: 0.6706 - output_magnetic_shielding_tensors_loss: 0.6914 - output_mulliken_charges_loss: 0.4901 - output_potential_energy_loss: 0.6347 - output_scalar_coupling_contributions_loss: 0.2033 - val_loss: 3.1483 - val_scc_loss: 0.2221 - val_output_dipole_moments_loss: 0.7444 - val_output_magnetic_shielding_tensors_loss: 0.7628 - val_output_mulliken_charges_loss: 0.5880 - val_output_potential_energy_loss: 0.6479 - val_output_scalar_coupling_contributions_loss: 0.1833\n",
      "Epoch 35/100\n",
      "14699/14699 [==============================] - 3s 175us/sample - loss: 2.8992 - scc_loss: 0.2197 - output_dipole_moments_loss: 0.6719 - output_magnetic_shielding_tensors_loss: 0.6897 - output_mulliken_charges_loss: 0.4855 - output_potential_energy_loss: 0.6302 - output_scalar_coupling_contributions_loss: 0.2035 - val_loss: 3.1683 - val_scc_loss: 0.2229 - val_output_dipole_moments_loss: 0.7489 - val_output_magnetic_shielding_tensors_loss: 0.7693 - val_output_mulliken_charges_loss: 0.5892 - val_output_potential_energy_loss: 0.6401 - val_output_scalar_coupling_contributions_loss: 0.1969\n",
      "Epoch 36/100\n",
      "14699/14699 [==============================] - 3s 177us/sample - loss: 2.9002 - scc_loss: 0.2142 - output_dipole_moments_loss: 0.6720 - output_magnetic_shielding_tensors_loss: 0.6899 - output_mulliken_charges_loss: 0.4905 - output_potential_energy_loss: 0.6309 - output_scalar_coupling_contributions_loss: 0.2042 - val_loss: 3.1383 - val_scc_loss: 0.2175 - val_output_dipole_moments_loss: 0.7492 - val_output_magnetic_shielding_tensors_loss: 0.7636 - val_output_mulliken_charges_loss: 0.5885 - val_output_potential_energy_loss: 0.6399 - val_output_scalar_coupling_contributions_loss: 0.1773\n",
      "Epoch 37/100\n",
      "14699/14699 [==============================] - 3s 179us/sample - loss: 2.8993 - scc_loss: 0.2173 - output_dipole_moments_loss: 0.6740 - output_magnetic_shielding_tensors_loss: 0.6900 - output_mulliken_charges_loss: 0.4866 - output_potential_energy_loss: 0.6330 - output_scalar_coupling_contributions_loss: 0.1994 - val_loss: 3.1486 - val_scc_loss: 0.2008 - val_output_dipole_moments_loss: 0.7557 - val_output_magnetic_shielding_tensors_loss: 0.7718 - val_output_mulliken_charges_loss: 0.5882 - val_output_potential_energy_loss: 0.6441 - val_output_scalar_coupling_contributions_loss: 0.1865\n",
      "Epoch 38/100\n",
      "14699/14699 [==============================] - 3s 185us/sample - loss: 2.8869 - scc_loss: 0.2082 - output_dipole_moments_loss: 0.6751 - output_magnetic_shielding_tensors_loss: 0.6894 - output_mulliken_charges_loss: 0.4825 - output_potential_energy_loss: 0.6307 - output_scalar_coupling_contributions_loss: 0.2017 - val_loss: 3.1361 - val_scc_loss: 0.2137 - val_output_dipole_moments_loss: 0.7524 - val_output_magnetic_shielding_tensors_loss: 0.7660 - val_output_mulliken_charges_loss: 0.5810 - val_output_potential_energy_loss: 0.6399 - val_output_scalar_coupling_contributions_loss: 0.1810\n",
      "Epoch 39/100\n",
      "14699/14699 [==============================] - 3s 178us/sample - loss: 2.8824 - scc_loss: 0.2123 - output_dipole_moments_loss: 0.6708 - output_magnetic_shielding_tensors_loss: 0.6889 - output_mulliken_charges_loss: 0.4836 - output_potential_energy_loss: 0.6284 - output_scalar_coupling_contributions_loss: 0.1992 - val_loss: 3.0907 - val_scc_loss: 0.1865 - val_output_dipole_moments_loss: 0.7496 - val_output_magnetic_shielding_tensors_loss: 0.7640 - val_output_mulliken_charges_loss: 0.5882 - val_output_potential_energy_loss: 0.6395 - val_output_scalar_coupling_contributions_loss: 0.1659\n",
      "Epoch 40/100\n",
      "14699/14699 [==============================] - 3s 177us/sample - loss: 2.8861 - scc_loss: 0.2127 - output_dipole_moments_loss: 0.6725 - output_magnetic_shielding_tensors_loss: 0.6928 - output_mulliken_charges_loss: 0.4810 - output_potential_energy_loss: 0.6266 - output_scalar_coupling_contributions_loss: 0.2015 - val_loss: 3.2981 - val_scc_loss: 0.2237 - val_output_dipole_moments_loss: 0.7800 - val_output_magnetic_shielding_tensors_loss: 0.8273 - val_output_mulliken_charges_loss: 0.6081 - val_output_potential_energy_loss: 0.6359 - val_output_scalar_coupling_contributions_loss: 0.2154\n",
      "Epoch 41/100\n",
      "14699/14699 [==============================] - 3s 180us/sample - loss: 2.8710 - scc_loss: 0.2080 - output_dipole_moments_loss: 0.6704 - output_magnetic_shielding_tensors_loss: 0.6904 - output_mulliken_charges_loss: 0.4823 - output_potential_energy_loss: 0.6271 - output_scalar_coupling_contributions_loss: 0.1932 - val_loss: 3.1047 - val_scc_loss: 0.2013 - val_output_dipole_moments_loss: 0.7523 - val_output_magnetic_shielding_tensors_loss: 0.7691 - val_output_mulliken_charges_loss: 0.5813 - val_output_potential_energy_loss: 0.6329 - val_output_scalar_coupling_contributions_loss: 0.1718\n",
      "Epoch 42/100\n",
      "14699/14699 [==============================] - 3s 175us/sample - loss: 2.8556 - scc_loss: 0.2061 - output_dipole_moments_loss: 0.6688 - output_magnetic_shielding_tensors_loss: 0.6871 - output_mulliken_charges_loss: 0.4749 - output_potential_energy_loss: 0.6268 - output_scalar_coupling_contributions_loss: 0.1927 - val_loss: 3.1469 - val_scc_loss: 0.2214 - val_output_dipole_moments_loss: 0.7449 - val_output_magnetic_shielding_tensors_loss: 0.7764 - val_output_mulliken_charges_loss: 0.5846 - val_output_potential_energy_loss: 0.6456 - val_output_scalar_coupling_contributions_loss: 0.1728\n",
      "Epoch 43/100\n",
      "14699/14699 [==============================] - 3s 179us/sample - loss: 2.8541 - scc_loss: 0.2067 - output_dipole_moments_loss: 0.6667 - output_magnetic_shielding_tensors_loss: 0.6862 - output_mulliken_charges_loss: 0.4785 - output_potential_energy_loss: 0.6224 - output_scalar_coupling_contributions_loss: 0.1947 - val_loss: 3.1368 - val_scc_loss: 0.2097 - val_output_dipole_moments_loss: 0.7474 - val_output_magnetic_shielding_tensors_loss: 0.7655 - val_output_mulliken_charges_loss: 0.5883 - val_output_potential_energy_loss: 0.6454 - val_output_scalar_coupling_contributions_loss: 0.1707\n",
      "Epoch 44/100\n",
      "14699/14699 [==============================] - 3s 173us/sample - loss: 2.8576 - scc_loss: 0.2057 - output_dipole_moments_loss: 0.6700 - output_magnetic_shielding_tensors_loss: 0.6881 - output_mulliken_charges_loss: 0.4755 - output_potential_energy_loss: 0.6239 - output_scalar_coupling_contributions_loss: 0.1951 - val_loss: 3.1249 - val_scc_loss: 0.1886 - val_output_dipole_moments_loss: 0.7538 - val_output_magnetic_shielding_tensors_loss: 0.7719 - val_output_mulliken_charges_loss: 0.5980 - val_output_potential_energy_loss: 0.6472 - val_output_scalar_coupling_contributions_loss: 0.1584\n",
      "Epoch 45/100\n",
      "14699/14699 [==============================] - 3s 174us/sample - loss: 2.8435 - scc_loss: 0.2080 - output_dipole_moments_loss: 0.6687 - output_magnetic_shielding_tensors_loss: 0.6876 - output_mulliken_charges_loss: 0.4727 - output_potential_energy_loss: 0.6187 - output_scalar_coupling_contributions_loss: 0.1890 - val_loss: 3.1097 - val_scc_loss: 0.2050 - val_output_dipole_moments_loss: 0.7484 - val_output_magnetic_shielding_tensors_loss: 0.7631 - val_output_mulliken_charges_loss: 0.5754 - val_output_potential_energy_loss: 0.6405 - val_output_scalar_coupling_contributions_loss: 0.1674\n",
      "Epoch 46/100\n",
      "14699/14699 [==============================] - 3s 179us/sample - loss: 2.8452 - scc_loss: 0.2034 - output_dipole_moments_loss: 0.6685 - output_magnetic_shielding_tensors_loss: 0.6867 - output_mulliken_charges_loss: 0.4739 - output_potential_energy_loss: 0.6241 - output_scalar_coupling_contributions_loss: 0.1894 - val_loss: 3.1158 - val_scc_loss: 0.1935 - val_output_dipole_moments_loss: 0.7481 - val_output_magnetic_shielding_tensors_loss: 0.7760 - val_output_mulliken_charges_loss: 0.5778 - val_output_potential_energy_loss: 0.6615 - val_output_scalar_coupling_contributions_loss: 0.1749\n",
      "Epoch 47/100\n",
      "14699/14699 [==============================] - 3s 173us/sample - loss: 2.8393 - scc_loss: 0.2033 - output_dipole_moments_loss: 0.6687 - output_magnetic_shielding_tensors_loss: 0.6857 - output_mulliken_charges_loss: 0.4716 - output_potential_energy_loss: 0.6231 - output_scalar_coupling_contributions_loss: 0.1881 - val_loss: 3.1476 - val_scc_loss: 0.2093 - val_output_dipole_moments_loss: 0.7677 - val_output_magnetic_shielding_tensors_loss: 0.7695 - val_output_mulliken_charges_loss: 0.5790 - val_output_potential_energy_loss: 0.6491 - val_output_scalar_coupling_contributions_loss: 0.1649\n",
      "Epoch 48/100\n",
      "14699/14699 [==============================] - 3s 183us/sample - loss: 2.8381 - scc_loss: 0.2029 - output_dipole_moments_loss: 0.6700 - output_magnetic_shielding_tensors_loss: 0.6860 - output_mulliken_charges_loss: 0.4732 - output_potential_energy_loss: 0.6199 - output_scalar_coupling_contributions_loss: 0.1870 - val_loss: 3.0888 - val_scc_loss: 0.1906 - val_output_dipole_moments_loss: 0.7460 - val_output_magnetic_shielding_tensors_loss: 0.7616 - val_output_mulliken_charges_loss: 0.5760 - val_output_potential_energy_loss: 0.6479 - val_output_scalar_coupling_contributions_loss: 0.1610\n",
      "Epoch 49/100\n",
      "14699/14699 [==============================] - 3s 174us/sample - loss: 2.8277 - scc_loss: 0.1968 - output_dipole_moments_loss: 0.6679 - output_magnetic_shielding_tensors_loss: 0.6865 - output_mulliken_charges_loss: 0.4693 - output_potential_energy_loss: 0.6196 - output_scalar_coupling_contributions_loss: 0.1882 - val_loss: 3.0622 - val_scc_loss: 0.1770 - val_output_dipole_moments_loss: 0.7445 - val_output_magnetic_shielding_tensors_loss: 0.7622 - val_output_mulliken_charges_loss: 0.5731 - val_output_potential_energy_loss: 0.6521 - val_output_scalar_coupling_contributions_loss: 0.1561\n",
      "Epoch 50/100\n",
      "14699/14699 [==============================] - 3s 179us/sample - loss: 2.8578 - scc_loss: 0.2023 - output_dipole_moments_loss: 0.6734 - output_magnetic_shielding_tensors_loss: 0.6876 - output_mulliken_charges_loss: 0.4760 - output_potential_energy_loss: 0.6249 - output_scalar_coupling_contributions_loss: 0.1942 - val_loss: 3.6767 - val_scc_loss: 0.2427 - val_output_dipole_moments_loss: 0.8412 - val_output_magnetic_shielding_tensors_loss: 0.8894 - val_output_mulliken_charges_loss: 0.6578 - val_output_potential_energy_loss: 0.7275 - val_output_scalar_coupling_contributions_loss: 0.2919\n",
      "Epoch 51/100\n",
      "14699/14699 [==============================] - 3s 179us/sample - loss: 2.8298 - scc_loss: 0.1986 - output_dipole_moments_loss: 0.6686 - output_magnetic_shielding_tensors_loss: 0.6848 - output_mulliken_charges_loss: 0.4686 - output_potential_energy_loss: 0.6208 - output_scalar_coupling_contributions_loss: 0.1891 - val_loss: 3.1398 - val_scc_loss: 0.1817 - val_output_dipole_moments_loss: 0.7785 - val_output_magnetic_shielding_tensors_loss: 0.7715 - val_output_mulliken_charges_loss: 0.5818 - val_output_potential_energy_loss: 0.6472 - val_output_scalar_coupling_contributions_loss: 0.1796\n",
      "Epoch 52/100\n",
      "14699/14699 [==============================] - 3s 175us/sample - loss: 2.8232 - scc_loss: 0.1960 - output_dipole_moments_loss: 0.6702 - output_magnetic_shielding_tensors_loss: 0.6855 - output_mulliken_charges_loss: 0.4691 - output_potential_energy_loss: 0.6189 - output_scalar_coupling_contributions_loss: 0.1843 - val_loss: 3.0862 - val_scc_loss: 0.1858 - val_output_dipole_moments_loss: 0.7491 - val_output_magnetic_shielding_tensors_loss: 0.7605 - val_output_mulliken_charges_loss: 0.5716 - val_output_potential_energy_loss: 0.6476 - val_output_scalar_coupling_contributions_loss: 0.1650\n",
      "Epoch 53/100\n",
      "14699/14699 [==============================] - 3s 175us/sample - loss: 2.8274 - scc_loss: 0.2021 - output_dipole_moments_loss: 0.6669 - output_magnetic_shielding_tensors_loss: 0.6834 - output_mulliken_charges_loss: 0.4679 - output_potential_energy_loss: 0.6203 - output_scalar_coupling_contributions_loss: 0.1874 - val_loss: 3.0915 - val_scc_loss: 0.1926 - val_output_dipole_moments_loss: 0.7424 - val_output_magnetic_shielding_tensors_loss: 0.7594 - val_output_mulliken_charges_loss: 0.5828 - val_output_potential_energy_loss: 0.6493 - val_output_scalar_coupling_contributions_loss: 0.1653\n",
      "Epoch 54/100\n",
      "14699/14699 [==============================] - 3s 181us/sample - loss: 2.8143 - scc_loss: 0.1942 - output_dipole_moments_loss: 0.6682 - output_magnetic_shielding_tensors_loss: 0.6835 - output_mulliken_charges_loss: 0.4670 - output_potential_energy_loss: 0.6177 - output_scalar_coupling_contributions_loss: 0.1846 - val_loss: 3.0898 - val_scc_loss: 0.1898 - val_output_dipole_moments_loss: 0.7465 - val_output_magnetic_shielding_tensors_loss: 0.7608 - val_output_mulliken_charges_loss: 0.5698 - val_output_potential_energy_loss: 0.6593 - val_output_scalar_coupling_contributions_loss: 0.1629\n",
      "Epoch 55/100\n",
      "14699/14699 [==============================] - 3s 172us/sample - loss: 2.8150 - scc_loss: 0.2031 - output_dipole_moments_loss: 0.6685 - output_magnetic_shielding_tensors_loss: 0.6820 - output_mulliken_charges_loss: 0.4653 - output_potential_energy_loss: 0.6116 - output_scalar_coupling_contributions_loss: 0.1857 - val_loss: 3.0782 - val_scc_loss: 0.1812 - val_output_dipole_moments_loss: 0.7509 - val_output_magnetic_shielding_tensors_loss: 0.7625 - val_output_mulliken_charges_loss: 0.5780 - val_output_potential_energy_loss: 0.6540 - val_output_scalar_coupling_contributions_loss: 0.1590\n",
      "Epoch 56/100\n",
      "14699/14699 [==============================] - 3s 174us/sample - loss: 2.8033 - scc_loss: 0.1961 - output_dipole_moments_loss: 0.6648 - output_magnetic_shielding_tensors_loss: 0.6833 - output_mulliken_charges_loss: 0.4627 - output_potential_energy_loss: 0.6145 - output_scalar_coupling_contributions_loss: 0.1824 - val_loss: 3.0830 - val_scc_loss: 0.1890 - val_output_dipole_moments_loss: 0.7525 - val_output_magnetic_shielding_tensors_loss: 0.7618 - val_output_mulliken_charges_loss: 0.5797 - val_output_potential_energy_loss: 0.6439 - val_output_scalar_coupling_contributions_loss: 0.1548\n",
      "Epoch 57/100\n",
      "14699/14699 [==============================] - 3s 184us/sample - loss: 2.8027 - scc_loss: 0.1958 - output_dipole_moments_loss: 0.6682 - output_magnetic_shielding_tensors_loss: 0.6825 - output_mulliken_charges_loss: 0.4595 - output_potential_energy_loss: 0.6161 - output_scalar_coupling_contributions_loss: 0.1813 - val_loss: 3.1297 - val_scc_loss: 0.1776 - val_output_dipole_moments_loss: 0.7501 - val_output_magnetic_shielding_tensors_loss: 0.7660 - val_output_mulliken_charges_loss: 0.5677 - val_output_potential_energy_loss: 0.7032 - val_output_scalar_coupling_contributions_loss: 0.1615\n",
      "Epoch 58/100\n",
      "14699/14699 [==============================] - 3s 177us/sample - loss: 2.8013 - scc_loss: 0.1917 - output_dipole_moments_loss: 0.6684 - output_magnetic_shielding_tensors_loss: 0.6827 - output_mulliken_charges_loss: 0.4627 - output_potential_energy_loss: 0.6163 - output_scalar_coupling_contributions_loss: 0.1803 - val_loss: 3.0531 - val_scc_loss: 0.1731 - val_output_dipole_moments_loss: 0.7516 - val_output_magnetic_shielding_tensors_loss: 0.7592 - val_output_mulliken_charges_loss: 0.5661 - val_output_potential_energy_loss: 0.6559 - val_output_scalar_coupling_contributions_loss: 0.1500\n",
      "Epoch 59/100\n",
      "14699/14699 [==============================] - 3s 181us/sample - loss: 2.7947 - scc_loss: 0.1923 - output_dipole_moments_loss: 0.6730 - output_magnetic_shielding_tensors_loss: 0.6831 - output_mulliken_charges_loss: 0.4560 - output_potential_energy_loss: 0.6126 - output_scalar_coupling_contributions_loss: 0.1786 - val_loss: 3.2670 - val_scc_loss: 0.2171 - val_output_dipole_moments_loss: 0.7802 - val_output_magnetic_shielding_tensors_loss: 0.8573 - val_output_mulliken_charges_loss: 0.5773 - val_output_potential_energy_loss: 0.6535 - val_output_scalar_coupling_contributions_loss: 0.1674\n",
      "Epoch 60/100\n",
      "14699/14699 [==============================] - 3s 170us/sample - loss: 2.7961 - scc_loss: 0.1959 - output_dipole_moments_loss: 0.6670 - output_magnetic_shielding_tensors_loss: 0.6836 - output_mulliken_charges_loss: 0.4588 - output_potential_energy_loss: 0.6095 - output_scalar_coupling_contributions_loss: 0.1818 - val_loss: 3.0612 - val_scc_loss: 0.1733 - val_output_dipole_moments_loss: 0.7476 - val_output_magnetic_shielding_tensors_loss: 0.7572 - val_output_mulliken_charges_loss: 0.5614 - val_output_potential_energy_loss: 0.6629 - val_output_scalar_coupling_contributions_loss: 0.1528\n",
      "Epoch 61/100\n",
      "14699/14699 [==============================] - 3s 171us/sample - loss: 2.8074 - scc_loss: 0.1938 - output_dipole_moments_loss: 0.6699 - output_magnetic_shielding_tensors_loss: 0.6845 - output_mulliken_charges_loss: 0.4575 - output_potential_energy_loss: 0.6154 - output_scalar_coupling_contributions_loss: 0.1869 - val_loss: 3.3710 - val_scc_loss: 0.3011 - val_output_dipole_moments_loss: 0.7940 - val_output_magnetic_shielding_tensors_loss: 0.8286 - val_output_mulliken_charges_loss: 0.5724 - val_output_potential_energy_loss: 0.6794 - val_output_scalar_coupling_contributions_loss: 0.2236\n",
      "Epoch 62/100\n",
      "14699/14699 [==============================] - 3s 174us/sample - loss: 2.7920 - scc_loss: 0.1898 - output_dipole_moments_loss: 0.6715 - output_magnetic_shielding_tensors_loss: 0.6832 - output_mulliken_charges_loss: 0.4551 - output_potential_energy_loss: 0.6134 - output_scalar_coupling_contributions_loss: 0.1797 - val_loss: 3.0975 - val_scc_loss: 0.1733 - val_output_dipole_moments_loss: 0.7617 - val_output_magnetic_shielding_tensors_loss: 0.7589 - val_output_mulliken_charges_loss: 0.5832 - val_output_potential_energy_loss: 0.6643 - val_output_scalar_coupling_contributions_loss: 0.1566\n",
      "Epoch 63/100\n",
      "14699/14699 [==============================] - 3s 183us/sample - loss: 2.7832 - scc_loss: 0.1881 - output_dipole_moments_loss: 0.6731 - output_magnetic_shielding_tensors_loss: 0.6813 - output_mulliken_charges_loss: 0.4546 - output_potential_energy_loss: 0.6088 - output_scalar_coupling_contributions_loss: 0.1778 - val_loss: 3.0783 - val_scc_loss: 0.1866 - val_output_dipole_moments_loss: 0.7497 - val_output_magnetic_shielding_tensors_loss: 0.7542 - val_output_mulliken_charges_loss: 0.5651 - val_output_potential_energy_loss: 0.6676 - val_output_scalar_coupling_contributions_loss: 0.1521\n",
      "Epoch 64/100\n",
      "14699/14699 [==============================] - 3s 172us/sample - loss: 2.7832 - scc_loss: 0.1942 - output_dipole_moments_loss: 0.6719 - output_magnetic_shielding_tensors_loss: 0.6788 - output_mulliken_charges_loss: 0.4531 - output_potential_energy_loss: 0.6057 - output_scalar_coupling_contributions_loss: 0.1799 - val_loss: 3.0451 - val_scc_loss: 0.1631 - val_output_dipole_moments_loss: 0.7475 - val_output_magnetic_shielding_tensors_loss: 0.7554 - val_output_mulliken_charges_loss: 0.5679 - val_output_potential_energy_loss: 0.6620 - val_output_scalar_coupling_contributions_loss: 0.1482\n",
      "Epoch 65/100\n",
      "14699/14699 [==============================] - 3s 173us/sample - loss: 2.7624 - scc_loss: 0.1842 - output_dipole_moments_loss: 0.6667 - output_magnetic_shielding_tensors_loss: 0.6796 - output_mulliken_charges_loss: 0.4498 - output_potential_energy_loss: 0.6058 - output_scalar_coupling_contributions_loss: 0.1770 - val_loss: 3.0362 - val_scc_loss: 0.1656 - val_output_dipole_moments_loss: 0.7497 - val_output_magnetic_shielding_tensors_loss: 0.7507 - val_output_mulliken_charges_loss: 0.5653 - val_output_potential_energy_loss: 0.6527 - val_output_scalar_coupling_contributions_loss: 0.1529\n",
      "Epoch 66/100\n",
      "14699/14699 [==============================] - 3s 173us/sample - loss: 2.7689 - scc_loss: 0.1841 - output_dipole_moments_loss: 0.6687 - output_magnetic_shielding_tensors_loss: 0.6809 - output_mulliken_charges_loss: 0.4496 - output_potential_energy_loss: 0.6060 - output_scalar_coupling_contributions_loss: 0.1798 - val_loss: 3.0561 - val_scc_loss: 0.1687 - val_output_dipole_moments_loss: 0.7515 - val_output_magnetic_shielding_tensors_loss: 0.7582 - val_output_mulliken_charges_loss: 0.5626 - val_output_potential_energy_loss: 0.6615 - val_output_scalar_coupling_contributions_loss: 0.1504\n",
      "Epoch 67/100\n",
      "14699/14699 [==============================] - 3s 182us/sample - loss: 2.7614 - scc_loss: 0.1846 - output_dipole_moments_loss: 0.6666 - output_magnetic_shielding_tensors_loss: 0.6793 - output_mulliken_charges_loss: 0.4498 - output_potential_energy_loss: 0.6031 - output_scalar_coupling_contributions_loss: 0.1782 - val_loss: 3.0651 - val_scc_loss: 0.1665 - val_output_dipole_moments_loss: 0.7580 - val_output_magnetic_shielding_tensors_loss: 0.7728 - val_output_mulliken_charges_loss: 0.5702 - val_output_potential_energy_loss: 0.6683 - val_output_scalar_coupling_contributions_loss: 0.1656\n",
      "Epoch 68/100\n",
      "14699/14699 [==============================] - 3s 173us/sample - loss: 2.7582 - scc_loss: 0.1906 - output_dipole_moments_loss: 0.6659 - output_magnetic_shielding_tensors_loss: 0.6781 - output_mulliken_charges_loss: 0.4480 - output_potential_energy_loss: 0.6001 - output_scalar_coupling_contributions_loss: 0.1759 - val_loss: 3.0642 - val_scc_loss: 0.1767 - val_output_dipole_moments_loss: 0.7482 - val_output_magnetic_shielding_tensors_loss: 0.7596 - val_output_mulliken_charges_loss: 0.5677 - val_output_potential_energy_loss: 0.6653 - val_output_scalar_coupling_contributions_loss: 0.1477\n",
      "Epoch 69/100\n",
      "14699/14699 [==============================] - 3s 171us/sample - loss: 2.7496 - scc_loss: 0.1848 - output_dipole_moments_loss: 0.6685 - output_magnetic_shielding_tensors_loss: 0.6789 - output_mulliken_charges_loss: 0.4449 - output_potential_energy_loss: 0.5974 - output_scalar_coupling_contributions_loss: 0.1756 - val_loss: 3.0428 - val_scc_loss: 0.1678 - val_output_dipole_moments_loss: 0.7452 - val_output_magnetic_shielding_tensors_loss: 0.7506 - val_output_mulliken_charges_loss: 0.5629 - val_output_potential_energy_loss: 0.6731 - val_output_scalar_coupling_contributions_loss: 0.1432\n",
      "Epoch 70/100\n",
      "14699/14699 [==============================] - 3s 173us/sample - loss: 2.7474 - scc_loss: 0.1800 - output_dipole_moments_loss: 0.6672 - output_magnetic_shielding_tensors_loss: 0.6786 - output_mulliken_charges_loss: 0.4458 - output_potential_energy_loss: 0.6027 - output_scalar_coupling_contributions_loss: 0.1734 - val_loss: 3.0890 - val_scc_loss: 0.1656 - val_output_dipole_moments_loss: 0.7621 - val_output_magnetic_shielding_tensors_loss: 0.7677 - val_output_mulliken_charges_loss: 0.5707 - val_output_potential_energy_loss: 0.6826 - val_output_scalar_coupling_contributions_loss: 0.1422\n",
      "Epoch 71/100\n",
      "14699/14699 [==============================] - 2s 168us/sample - loss: 2.7444 - scc_loss: 0.1862 - output_dipole_moments_loss: 0.6686 - output_magnetic_shielding_tensors_loss: 0.6789 - output_mulliken_charges_loss: 0.4412 - output_potential_energy_loss: 0.5958 - output_scalar_coupling_contributions_loss: 0.1743 - val_loss: 3.0995 - val_scc_loss: 0.1756 - val_output_dipole_moments_loss: 0.7576 - val_output_magnetic_shielding_tensors_loss: 0.7607 - val_output_mulliken_charges_loss: 0.5662 - val_output_potential_energy_loss: 0.6830 - val_output_scalar_coupling_contributions_loss: 0.1532\n",
      "Epoch 72/100\n",
      "14699/14699 [==============================] - 3s 175us/sample - loss: 2.7397 - scc_loss: 0.1820 - output_dipole_moments_loss: 0.6713 - output_magnetic_shielding_tensors_loss: 0.6771 - output_mulliken_charges_loss: 0.4408 - output_potential_energy_loss: 0.5952 - output_scalar_coupling_contributions_loss: 0.1737 - val_loss: 3.1322 - val_scc_loss: 0.1678 - val_output_dipole_moments_loss: 0.7882 - val_output_magnetic_shielding_tensors_loss: 0.7699 - val_output_mulliken_charges_loss: 0.5612 - val_output_potential_energy_loss: 0.6777 - val_output_scalar_coupling_contributions_loss: 0.1583\n",
      "Epoch 73/100\n",
      "14699/14699 [==============================] - 3s 182us/sample - loss: 2.7370 - scc_loss: 0.1803 - output_dipole_moments_loss: 0.6659 - output_magnetic_shielding_tensors_loss: 0.6766 - output_mulliken_charges_loss: 0.4420 - output_potential_energy_loss: 0.6008 - output_scalar_coupling_contributions_loss: 0.1721 - val_loss: 3.0599 - val_scc_loss: 0.1608 - val_output_dipole_moments_loss: 0.7568 - val_output_magnetic_shielding_tensors_loss: 0.7514 - val_output_mulliken_charges_loss: 0.5674 - val_output_potential_energy_loss: 0.6808 - val_output_scalar_coupling_contributions_loss: 0.1395\n",
      "Epoch 74/100\n",
      "14699/14699 [==============================] - 3s 198us/sample - loss: 2.7334 - scc_loss: 0.1811 - output_dipole_moments_loss: 0.6663 - output_magnetic_shielding_tensors_loss: 0.6774 - output_mulliken_charges_loss: 0.4386 - output_potential_energy_loss: 0.5967 - output_scalar_coupling_contributions_loss: 0.1737 - val_loss: 3.1387 - val_scc_loss: 0.1852 - val_output_dipole_moments_loss: 0.7529 - val_output_magnetic_shielding_tensors_loss: 0.7590 - val_output_mulliken_charges_loss: 0.5636 - val_output_potential_energy_loss: 0.7200 - val_output_scalar_coupling_contributions_loss: 0.1514\n",
      "Epoch 75/100\n",
      "14699/14699 [==============================] - 3s 179us/sample - loss: 2.7294 - scc_loss: 0.1838 - output_dipole_moments_loss: 0.6654 - output_magnetic_shielding_tensors_loss: 0.6776 - output_mulliken_charges_loss: 0.4383 - output_potential_energy_loss: 0.5922 - output_scalar_coupling_contributions_loss: 0.1721 - val_loss: 3.2999 - val_scc_loss: 0.1840 - val_output_dipole_moments_loss: 0.7994 - val_output_magnetic_shielding_tensors_loss: 0.8571 - val_output_mulliken_charges_loss: 0.6060 - val_output_potential_energy_loss: 0.6813 - val_output_scalar_coupling_contributions_loss: 0.1665\n",
      "Epoch 76/100\n",
      "14699/14699 [==============================] - 3s 189us/sample - loss: 2.7321 - scc_loss: 0.1847 - output_dipole_moments_loss: 0.6655 - output_magnetic_shielding_tensors_loss: 0.6768 - output_mulliken_charges_loss: 0.4433 - output_potential_energy_loss: 0.5897 - output_scalar_coupling_contributions_loss: 0.1727 - val_loss: 3.0613 - val_scc_loss: 0.1620 - val_output_dipole_moments_loss: 0.7499 - val_output_magnetic_shielding_tensors_loss: 0.7567 - val_output_mulliken_charges_loss: 0.5706 - val_output_potential_energy_loss: 0.6776 - val_output_scalar_coupling_contributions_loss: 0.1459\n",
      "Epoch 77/100\n",
      "14699/14699 [==============================] - 3s 180us/sample - loss: 2.7255 - scc_loss: 0.1789 - output_dipole_moments_loss: 0.6669 - output_magnetic_shielding_tensors_loss: 0.6759 - output_mulliken_charges_loss: 0.4432 - output_potential_energy_loss: 0.5896 - output_scalar_coupling_contributions_loss: 0.1710 - val_loss: 3.0501 - val_scc_loss: 0.1578 - val_output_dipole_moments_loss: 0.7511 - val_output_magnetic_shielding_tensors_loss: 0.7507 - val_output_mulliken_charges_loss: 0.5550 - val_output_potential_energy_loss: 0.6847 - val_output_scalar_coupling_contributions_loss: 0.1438\n",
      "Epoch 78/100\n",
      "14699/14699 [==============================] - 3s 176us/sample - loss: 2.7171 - scc_loss: 0.1757 - output_dipole_moments_loss: 0.6676 - output_magnetic_shielding_tensors_loss: 0.6765 - output_mulliken_charges_loss: 0.4386 - output_potential_energy_loss: 0.5887 - output_scalar_coupling_contributions_loss: 0.1704 - val_loss: 3.1097 - val_scc_loss: 0.1714 - val_output_dipole_moments_loss: 0.7615 - val_output_magnetic_shielding_tensors_loss: 0.7553 - val_output_mulliken_charges_loss: 0.5846 - val_output_potential_energy_loss: 0.6806 - val_output_scalar_coupling_contributions_loss: 0.1521\n",
      "Epoch 79/100\n",
      "14699/14699 [==============================] - 3s 187us/sample - loss: 2.7114 - scc_loss: 0.1720 - output_dipole_moments_loss: 0.6672 - output_magnetic_shielding_tensors_loss: 0.6739 - output_mulliken_charges_loss: 0.4440 - output_potential_energy_loss: 0.5871 - output_scalar_coupling_contributions_loss: 0.1680 - val_loss: 3.0585 - val_scc_loss: 0.1562 - val_output_dipole_moments_loss: 0.7510 - val_output_magnetic_shielding_tensors_loss: 0.7527 - val_output_mulliken_charges_loss: 0.5708 - val_output_potential_energy_loss: 0.6831 - val_output_scalar_coupling_contributions_loss: 0.1390\n",
      "Epoch 80/100\n",
      "14699/14699 [==============================] - 3s 188us/sample - loss: 2.7014 - scc_loss: 0.1766 - output_dipole_moments_loss: 0.6664 - output_magnetic_shielding_tensors_loss: 0.6750 - output_mulliken_charges_loss: 0.4330 - output_potential_energy_loss: 0.5816 - output_scalar_coupling_contributions_loss: 0.1689 - val_loss: 3.0497 - val_scc_loss: 0.1594 - val_output_dipole_moments_loss: 0.7511 - val_output_magnetic_shielding_tensors_loss: 0.7599 - val_output_mulliken_charges_loss: 0.5582 - val_output_potential_energy_loss: 0.6861 - val_output_scalar_coupling_contributions_loss: 0.1375\n",
      "Epoch 81/100\n",
      "14699/14699 [==============================] - 3s 184us/sample - loss: 2.7007 - scc_loss: 0.1768 - output_dipole_moments_loss: 0.6660 - output_magnetic_shielding_tensors_loss: 0.6756 - output_mulliken_charges_loss: 0.4321 - output_potential_energy_loss: 0.5813 - output_scalar_coupling_contributions_loss: 0.1691 - val_loss: 3.0673 - val_scc_loss: 0.1535 - val_output_dipole_moments_loss: 0.7522 - val_output_magnetic_shielding_tensors_loss: 0.7658 - val_output_mulliken_charges_loss: 0.5723 - val_output_potential_energy_loss: 0.6716 - val_output_scalar_coupling_contributions_loss: 0.1504\n",
      "Epoch 82/100\n",
      "14699/14699 [==============================] - 3s 176us/sample - loss: 2.6937 - scc_loss: 0.1759 - output_dipole_moments_loss: 0.6636 - output_magnetic_shielding_tensors_loss: 0.6744 - output_mulliken_charges_loss: 0.4330 - output_potential_energy_loss: 0.5766 - output_scalar_coupling_contributions_loss: 0.1703 - val_loss: 3.0484 - val_scc_loss: 0.1616 - val_output_dipole_moments_loss: 0.7493 - val_output_magnetic_shielding_tensors_loss: 0.7569 - val_output_mulliken_charges_loss: 0.5642 - val_output_potential_energy_loss: 0.6773 - val_output_scalar_coupling_contributions_loss: 0.1371\n",
      "Epoch 83/100\n",
      "14699/14699 [==============================] - 2s 166us/sample - loss: 2.6977 - scc_loss: 0.1759 - output_dipole_moments_loss: 0.6655 - output_magnetic_shielding_tensors_loss: 0.6749 - output_mulliken_charges_loss: 0.4325 - output_potential_energy_loss: 0.5800 - output_scalar_coupling_contributions_loss: 0.1690 - val_loss: 3.1171 - val_scc_loss: 0.1664 - val_output_dipole_moments_loss: 0.7724 - val_output_magnetic_shielding_tensors_loss: 0.7653 - val_output_mulliken_charges_loss: 0.5747 - val_output_potential_energy_loss: 0.6786 - val_output_scalar_coupling_contributions_loss: 0.1562\n",
      "Epoch 84/100\n",
      "14699/14699 [==============================] - 3s 172us/sample - loss: 2.6887 - scc_loss: 0.1770 - output_dipole_moments_loss: 0.6652 - output_magnetic_shielding_tensors_loss: 0.6723 - output_mulliken_charges_loss: 0.4278 - output_potential_energy_loss: 0.5777 - output_scalar_coupling_contributions_loss: 0.1693 - val_loss: 3.0883 - val_scc_loss: 0.1798 - val_output_dipole_moments_loss: 0.7553 - val_output_magnetic_shielding_tensors_loss: 0.7528 - val_output_mulliken_charges_loss: 0.5686 - val_output_potential_energy_loss: 0.6829 - val_output_scalar_coupling_contributions_loss: 0.1465\n",
      "Epoch 85/100\n",
      "14699/14699 [==============================] - 3s 171us/sample - loss: 2.6815 - scc_loss: 0.1722 - output_dipole_moments_loss: 0.6625 - output_magnetic_shielding_tensors_loss: 0.6718 - output_mulliken_charges_loss: 0.4336 - output_potential_energy_loss: 0.5737 - output_scalar_coupling_contributions_loss: 0.1679 - val_loss: 3.0858 - val_scc_loss: 0.1712 - val_output_dipole_moments_loss: 0.7535 - val_output_magnetic_shielding_tensors_loss: 0.7563 - val_output_mulliken_charges_loss: 0.5620 - val_output_potential_energy_loss: 0.6926 - val_output_scalar_coupling_contributions_loss: 0.1434\n",
      "Epoch 86/100\n",
      "14699/14699 [==============================] - 2s 166us/sample - loss: 2.6648 - scc_loss: 0.1697 - output_dipole_moments_loss: 0.6646 - output_magnetic_shielding_tensors_loss: 0.6717 - output_mulliken_charges_loss: 0.4235 - output_potential_energy_loss: 0.5698 - output_scalar_coupling_contributions_loss: 0.1657 - val_loss: 3.0883 - val_scc_loss: 0.1593 - val_output_dipole_moments_loss: 0.7681 - val_output_magnetic_shielding_tensors_loss: 0.7592 - val_output_mulliken_charges_loss: 0.5593 - val_output_potential_energy_loss: 0.6987 - val_output_scalar_coupling_contributions_loss: 0.1419\n",
      "Epoch 87/100\n",
      "14699/14699 [==============================] - 3s 172us/sample - loss: 2.6674 - scc_loss: 0.1714 - output_dipole_moments_loss: 0.6636 - output_magnetic_shielding_tensors_loss: 0.6717 - output_mulliken_charges_loss: 0.4217 - output_potential_energy_loss: 0.5734 - output_scalar_coupling_contributions_loss: 0.1656 - val_loss: 3.0515 - val_scc_loss: 0.1601 - val_output_dipole_moments_loss: 0.7510 - val_output_magnetic_shielding_tensors_loss: 0.7527 - val_output_mulliken_charges_loss: 0.5616 - val_output_potential_energy_loss: 0.6921 - val_output_scalar_coupling_contributions_loss: 0.1388\n",
      "Epoch 88/100\n",
      "14699/14699 [==============================] - 3s 171us/sample - loss: 2.6659 - scc_loss: 0.1720 - output_dipole_moments_loss: 0.6637 - output_magnetic_shielding_tensors_loss: 0.6725 - output_mulliken_charges_loss: 0.4260 - output_potential_energy_loss: 0.5660 - output_scalar_coupling_contributions_loss: 0.1659 - val_loss: 3.0788 - val_scc_loss: 0.1669 - val_output_dipole_moments_loss: 0.7602 - val_output_magnetic_shielding_tensors_loss: 0.7532 - val_output_mulliken_charges_loss: 0.5688 - val_output_potential_energy_loss: 0.6894 - val_output_scalar_coupling_contributions_loss: 0.1380\n",
      "Epoch 89/100\n",
      "14699/14699 [==============================] - 3s 172us/sample - loss: 2.6750 - scc_loss: 0.1747 - output_dipole_moments_loss: 0.6643 - output_magnetic_shielding_tensors_loss: 0.6722 - output_mulliken_charges_loss: 0.4321 - output_potential_energy_loss: 0.5664 - output_scalar_coupling_contributions_loss: 0.1655 - val_loss: 3.1934 - val_scc_loss: 0.1921 - val_output_dipole_moments_loss: 0.7595 - val_output_magnetic_shielding_tensors_loss: 0.7842 - val_output_mulliken_charges_loss: 0.6382 - val_output_potential_energy_loss: 0.7101 - val_output_scalar_coupling_contributions_loss: 0.1758\n",
      "Epoch 90/100\n",
      "14699/14699 [==============================] - 3s 171us/sample - loss: 2.6648 - scc_loss: 0.1722 - output_dipole_moments_loss: 0.6614 - output_magnetic_shielding_tensors_loss: 0.6710 - output_mulliken_charges_loss: 0.4263 - output_potential_energy_loss: 0.5689 - output_scalar_coupling_contributions_loss: 0.1653 - val_loss: 3.1021 - val_scc_loss: 0.1717 - val_output_dipole_moments_loss: 0.7514 - val_output_magnetic_shielding_tensors_loss: 0.7537 - val_output_mulliken_charges_loss: 0.5716 - val_output_potential_energy_loss: 0.7210 - val_output_scalar_coupling_contributions_loss: 0.1363\n",
      "Epoch 91/100\n",
      "14699/14699 [==============================] - 2s 167us/sample - loss: 2.6595 - scc_loss: 0.1711 - output_dipole_moments_loss: 0.6615 - output_magnetic_shielding_tensors_loss: 0.6716 - output_mulliken_charges_loss: 0.4269 - output_potential_energy_loss: 0.5634 - output_scalar_coupling_contributions_loss: 0.1655 - val_loss: 3.0885 - val_scc_loss: 0.1809 - val_output_dipole_moments_loss: 0.7494 - val_output_magnetic_shielding_tensors_loss: 0.7530 - val_output_mulliken_charges_loss: 0.5608 - val_output_potential_energy_loss: 0.6948 - val_output_scalar_coupling_contributions_loss: 0.1432\n",
      "Epoch 92/100\n",
      "14699/14699 [==============================] - 3s 176us/sample - loss: 2.6585 - scc_loss: 0.1767 - output_dipole_moments_loss: 0.6637 - output_magnetic_shielding_tensors_loss: 0.6701 - output_mulliken_charges_loss: 0.4223 - output_potential_energy_loss: 0.5619 - output_scalar_coupling_contributions_loss: 0.1644 - val_loss: 3.0983 - val_scc_loss: 0.1699 - val_output_dipole_moments_loss: 0.7549 - val_output_magnetic_shielding_tensors_loss: 0.7563 - val_output_mulliken_charges_loss: 0.5541 - val_output_potential_energy_loss: 0.7164 - val_output_scalar_coupling_contributions_loss: 0.1408\n",
      "Epoch 93/100\n",
      "14699/14699 [==============================] - 3s 173us/sample - loss: 2.6624 - scc_loss: 0.1720 - output_dipole_moments_loss: 0.6655 - output_magnetic_shielding_tensors_loss: 0.6702 - output_mulliken_charges_loss: 0.4197 - output_potential_energy_loss: 0.5697 - output_scalar_coupling_contributions_loss: 0.1651 - val_loss: 3.0700 - val_scc_loss: 0.1512 - val_output_dipole_moments_loss: 0.7505 - val_output_magnetic_shielding_tensors_loss: 0.7540 - val_output_mulliken_charges_loss: 0.5618 - val_output_potential_energy_loss: 0.7272 - val_output_scalar_coupling_contributions_loss: 0.1360\n",
      "Epoch 94/100\n",
      "14699/14699 [==============================] - 2s 168us/sample - loss: 2.6499 - scc_loss: 0.1703 - output_dipole_moments_loss: 0.6647 - output_magnetic_shielding_tensors_loss: 0.6687 - output_mulliken_charges_loss: 0.4196 - output_potential_energy_loss: 0.5633 - output_scalar_coupling_contributions_loss: 0.1639 - val_loss: 3.1061 - val_scc_loss: 0.1555 - val_output_dipole_moments_loss: 0.7634 - val_output_magnetic_shielding_tensors_loss: 0.7570 - val_output_mulliken_charges_loss: 0.5658 - val_output_potential_energy_loss: 0.7100 - val_output_scalar_coupling_contributions_loss: 0.1446\n",
      "Epoch 95/100\n",
      "14699/14699 [==============================] - 3s 184us/sample - loss: 2.6759 - scc_loss: 0.1746 - output_dipole_moments_loss: 0.6676 - output_magnetic_shielding_tensors_loss: 0.6728 - output_mulliken_charges_loss: 0.4258 - output_potential_energy_loss: 0.5646 - output_scalar_coupling_contributions_loss: 0.1703 - val_loss: 3.1116 - val_scc_loss: 0.1928 - val_output_dipole_moments_loss: 0.7635 - val_output_magnetic_shielding_tensors_loss: 0.7602 - val_output_mulliken_charges_loss: 0.5708 - val_output_potential_energy_loss: 0.6866 - val_output_scalar_coupling_contributions_loss: 0.1424\n",
      "Epoch 96/100\n",
      "14699/14699 [==============================] - 3s 174us/sample - loss: 2.6565 - scc_loss: 0.1746 - output_dipole_moments_loss: 0.6641 - output_magnetic_shielding_tensors_loss: 0.6700 - output_mulliken_charges_loss: 0.4196 - output_potential_energy_loss: 0.5654 - output_scalar_coupling_contributions_loss: 0.1628 - val_loss: 3.0412 - val_scc_loss: 0.1603 - val_output_dipole_moments_loss: 0.7488 - val_output_magnetic_shielding_tensors_loss: 0.7494 - val_output_mulliken_charges_loss: 0.5524 - val_output_potential_energy_loss: 0.6988 - val_output_scalar_coupling_contributions_loss: 0.1308\n",
      "Epoch 97/100\n",
      "14699/14699 [==============================] - 3s 177us/sample - loss: 2.6492 - scc_loss: 0.1735 - output_dipole_moments_loss: 0.6625 - output_magnetic_shielding_tensors_loss: 0.6686 - output_mulliken_charges_loss: 0.4219 - output_potential_energy_loss: 0.5582 - output_scalar_coupling_contributions_loss: 0.1646 - val_loss: 3.1202 - val_scc_loss: 0.1795 - val_output_dipole_moments_loss: 0.7577 - val_output_magnetic_shielding_tensors_loss: 0.7581 - val_output_mulliken_charges_loss: 0.5695 - val_output_potential_energy_loss: 0.7036 - val_output_scalar_coupling_contributions_loss: 0.1487\n",
      "Epoch 98/100\n",
      "14699/14699 [==============================] - 3s 189us/sample - loss: 2.6499 - scc_loss: 0.1714 - output_dipole_moments_loss: 0.6639 - output_magnetic_shielding_tensors_loss: 0.6690 - output_mulliken_charges_loss: 0.4207 - output_potential_energy_loss: 0.5606 - output_scalar_coupling_contributions_loss: 0.1645 - val_loss: 3.1043 - val_scc_loss: 0.1613 - val_output_dipole_moments_loss: 0.7846 - val_output_magnetic_shielding_tensors_loss: 0.7620 - val_output_mulliken_charges_loss: 0.5641 - val_output_potential_energy_loss: 0.6903 - val_output_scalar_coupling_contributions_loss: 0.1387\n",
      "Epoch 99/100\n",
      "14699/14699 [==============================] - 3s 173us/sample - loss: 2.6444 - scc_loss: 0.1714 - output_dipole_moments_loss: 0.6643 - output_magnetic_shielding_tensors_loss: 0.6692 - output_mulliken_charges_loss: 0.4164 - output_potential_energy_loss: 0.5581 - output_scalar_coupling_contributions_loss: 0.1650 - val_loss: 3.0732 - val_scc_loss: 0.1505 - val_output_dipole_moments_loss: 0.7582 - val_output_magnetic_shielding_tensors_loss: 0.7502 - val_output_mulliken_charges_loss: 0.5635 - val_output_potential_energy_loss: 0.7202 - val_output_scalar_coupling_contributions_loss: 0.1285\n",
      "Epoch 100/100\n",
      "14699/14699 [==============================] - 3s 172us/sample - loss: 2.6393 - scc_loss: 0.1686 - output_dipole_moments_loss: 0.6662 - output_magnetic_shielding_tensors_loss: 0.6689 - output_mulliken_charges_loss: 0.4157 - output_potential_energy_loss: 0.5567 - output_scalar_coupling_contributions_loss: 0.1630 - val_loss: 3.1532 - val_scc_loss: 0.1770 - val_output_dipole_moments_loss: 0.7912 - val_output_magnetic_shielding_tensors_loss: 0.7561 - val_output_mulliken_charges_loss: 0.5722 - val_output_potential_energy_loss: 0.7160 - val_output_scalar_coupling_contributions_loss: 0.1495\n",
      "Evaluating 9000 samples\n",
      "1JHC score: 1.016347598642394 (trained on 21000 elements)\n"
     ]
    },
    {
     "data": {
      "image/png": "[encoded data removed]",
      "text/plain": [
       "<Figure size 1800x1800 with 2 Axes>"
      ]
     },
     "metadata": {
      "needs_background": "light"
     },
     "output_type": "display_data"
    }
   ],
   "source": [
    "### from models import NNModel\n",
    "from models import partition_data, NNModel\n",
    "\n",
    "# import tensorflow as tf\n",
    "# from tensorflow.keras import backend as tfbe\n",
    "\n",
    "# tf.reset_default_graph()\n",
    "\n",
    "# atom_count_ranges = [(1, 10), (11, 15), (16, 20), (21, 25), (26, 30)]\n",
    "# C_count_ranges = [(1, 5), (6, 6), (7, 7), (8, 9)]\n",
    "coupling_types = sorted(labelled_enh.type.unique())[0:1]\n",
    "def test(data, count=5000):\n",
    "    global model\n",
    "    global history\n",
    "    \n",
    "    plt.figure(figsize=(25, 25))\n",
    "    \n",
    "    for i, t in enumerate(coupling_types, 1):    \n",
    "        data_df = data[data.type == t].head(count)\n",
    "\n",
    "        train_df, test_df = partition_data(data_df)\n",
    "\n",
    "        if len(train_df) < 10 or len(test_df) < 10:\n",
    "            continue\n",
    "\n",
    "        print(f'Training {len(train_df)} samples for {t}')\n",
    "\n",
    "        model = NNModel(dict(molecules=molecules, \n",
    "                             structures=structures),\n",
    "                        **nn_args)\n",
    "        history = model.fit(train_df, train_df)\n",
    "        \n",
    "        print(f'Evaluating {len(test_df)} samples')\n",
    "        output, score = model.evaluate(test_df, test_df)\n",
    "        print(f'{t} score: {score} (trained on {len(train_df)} elements)')\n",
    "\n",
    "\n",
    "        plt.subplot(4, 4, 2 * i - 1)\n",
    "        plot_history(history, t)\n",
    "        \n",
    "        #print(output.shape, test_df.values.shape)\n",
    "        #pprint(list(zip(output[0:20, 0], test_df.scalar_coupling_constant[0:20])))\n",
    "\n",
    "        plt.subplot(4, 4, 2 * i)\n",
    "        plt.plot(test_df.scalar_coupling_constant, output, '*')\n",
    "        mn = min(test_df.scalar_coupling_constant.min(), output.min())\n",
    "        mx = min(test_df.scalar_coupling_constant.max(), output.max())\n",
    "\n",
    "        plt.plot([mn, mx], [mn, mx])\n",
    "        plt.title(t)\n",
    "                        \n",
    "    plt.show()\n",
    "        \n",
    "test(labelled_enh, 30000)\n"
   ]
  },
  {
   "cell_type": "code",
   "execution_count": null,
   "metadata": {},
   "outputs": [],
   "source": [
    "w, b = model.model.layers[1].get_weights()"
   ]
  },
  {
   "cell_type": "code",
   "execution_count": null,
   "metadata": {},
   "outputs": [],
   "source": [
    "w2 = w.sum(axis=1)"
   ]
  },
  {
   "cell_type": "code",
   "execution_count": null,
   "metadata": {},
   "outputs": [],
   "source": [
    "w2.min(), w2.max(), w2.mean()"
   ]
  },
  {
   "cell_type": "code",
   "execution_count": null,
   "metadata": {},
   "outputs": [],
   "source": [
    "model.numeric_input_df.columns[np.abs(w.sum(axis=1)) > 10]"
   ]
  },
  {
   "cell_type": "code",
   "execution_count": null,
   "metadata": {},
   "outputs": [],
   "source": []
  },
  {
   "cell_type": "code",
   "execution_count": null,
   "metadata": {},
   "outputs": [],
   "source": []
  },
  {
   "cell_type": "code",
   "execution_count": null,
   "metadata": {},
   "outputs": [],
   "source": []
  },
  {
   "cell_type": "code",
   "execution_count": null,
   "metadata": {},
   "outputs": [],
   "source": []
  },
  {
   "cell_type": "code",
   "execution_count": null,
   "metadata": {},
   "outputs": [],
   "source": []
  },
  {
   "cell_type": "code",
   "execution_count": null,
   "metadata": {},
   "outputs": [],
   "source": []
  },
  {
   "cell_type": "code",
   "execution_count": null,
   "metadata": {},
   "outputs": [],
   "source": []
  },
  {
   "cell_type": "code",
   "execution_count": null,
   "metadata": {},
   "outputs": [],
   "source": []
  },
  {
   "cell_type": "code",
   "execution_count": null,
   "metadata": {},
   "outputs": [],
   "source": []
  },
  {
   "cell_type": "code",
   "execution_count": null,
   "metadata": {},
   "outputs": [],
   "source": []
  },
  {
   "cell_type": "code",
   "execution_count": null,
   "metadata": {},
   "outputs": [],
   "source": []
  },
  {
   "cell_type": "code",
   "execution_count": null,
   "metadata": {},
   "outputs": [],
   "source": [
    "from models import partition_data, NNModel\n",
    "\n",
    "def train(data):\n",
    "    models = {}\n",
    "    for t in sorted(data.type.unique()):\n",
    "        train_df = data[data.type == t]\n",
    "        print(f'Training {len(train_df)} samples for {t}')\n",
    "        model = NNModel(dict(molecules=molecules, \n",
    "                             structures=structures),\n",
    "                        None)\n",
    "        models[t] = model\n",
    "        model.fit(train_df, train_df)\n",
    "    \n",
    "    return models\n",
    "\n",
    "models = train(labelled_enh)"
   ]
  },
  {
   "cell_type": "code",
   "execution_count": null,
   "metadata": {},
   "outputs": [],
   "source": [
    "unlabelled_enh.shape"
   ]
  },
  {
   "cell_type": "code",
   "execution_count": null,
   "metadata": {},
   "outputs": [],
   "source": [
    "def predict(data, models):\n",
    "    out_df = None\n",
    "    \n",
    "    for t in sorted(data.type.unique()):\n",
    "        predict_df = data[data.type == t]\n",
    "        print(f'Predicting {len(predict_df)} samples for {t}')\n",
    "        output = models[t].predict(predict_df)\n",
    "        \n",
    "        id = predict_df['id']\n",
    "        out_df_coupling = pd.DataFrame(data={'id':id, 'scalar_coupling_constant':output.flatten()}, index=predict_df.index)\n",
    "        \n",
    "        if out_df is None:\n",
    "            out_df = out_df_coupling\n",
    "        else:\n",
    "            out_df = out_df.append(out_df_coupling).sort_index()\n",
    "\n",
    "    return out_df.sort_index()\n",
    "    \n",
    "#%prun -s cumulative f(unlabelled.head(10000))\n",
    "prediction = predict(unlabelled_enh, models)"
   ]
  },
  {
   "cell_type": "code",
   "execution_count": null,
   "metadata": {},
   "outputs": [],
   "source": [
    "prediction.head()"
   ]
  },
  {
   "cell_type": "code",
   "execution_count": null,
   "metadata": {},
   "outputs": [],
   "source": [
    "prediction.to_csv('../data/pred.csv',index=False)"
   ]
  },
  {
   "cell_type": "code",
   "execution_count": null,
   "metadata": {},
   "outputs": [],
   "source": [
    "import pickle\n",
    "with open('nn.pickle', 'wb') as f:\n",
    "    pickle.dump(models, f)"
   ]
  },
  {
   "cell_type": "code",
   "execution_count": null,
   "metadata": {},
   "outputs": [],
   "source": [
    "models"
   ]
  },
  {
   "cell_type": "code",
   "execution_count": null,
   "metadata": {},
   "outputs": [],
   "source": []
  }
 ],
 "metadata": {
  "kernelspec": {
   "display_name": "Python 3",
   "language": "python",
   "name": "python3"
  },
  "language_info": {
   "codemirror_mode": {
    "name": "ipython",
    "version": 3
   },
   "file_extension": ".py",
   "mimetype": "text/x-python",
   "name": "python",
   "nbconvert_exporter": "python",
   "pygments_lexer": "ipython3",
   "version": "3.7.3"
  }
 },
 "nbformat": 4,
 "nbformat_minor": 4
}
