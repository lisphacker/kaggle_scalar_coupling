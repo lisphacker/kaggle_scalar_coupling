{
 "cells": [
  {
   "cell_type": "code",
   "execution_count": 1,
   "metadata": {},
   "outputs": [],
   "source": [
    "%load_ext autoreload\n",
    "%autoreload 2\n",
    "\n",
    "%load_ext line_profiler"
   ]
  },
  {
   "cell_type": "code",
   "execution_count": 2,
   "metadata": {},
   "outputs": [],
   "source": [
    "import pandas as pd\n",
    "import numpy as np\n",
    "\n",
    "import  matplotlib.pyplot as plt\n",
    "import pickle\n",
    "\n",
    "from chemistry import Molecule\n",
    "from util import score\n",
    "from pprint import pprint\n"
   ]
  },
  {
   "cell_type": "code",
   "execution_count": 3,
   "metadata": {},
   "outputs": [],
   "source": [
    "with open('../data/molecules_enh.pickle', 'rb') as f:\n",
    "    molecules = pickle.load(f)"
   ]
  },
  {
   "cell_type": "code",
   "execution_count": 4,
   "metadata": {},
   "outputs": [
    {
     "name": "stderr",
     "output_type": "stream",
     "text": [
      "/home/gautham/apps/anaconda3/envs/kaggle/lib/python3.7/site-packages/pyarrow/pandas_compat.py:752: FutureWarning:\n",
      "\n",
      ".labels was deprecated in version 0.24.0. Use .codes instead.\n",
      "\n"
     ]
    }
   ],
   "source": [
    "structures = pd.read_feather('../data/structures_enh.feather')\n",
    "molecules_df = pd.read_feather('../data/molecules.feather')\n",
    "labelled = pd.read_feather('../data/train.feather')\n",
    "unlabelled = pd.read_feather('../data/test.feather')"
   ]
  },
  {
   "cell_type": "code",
   "execution_count": 5,
   "metadata": {},
   "outputs": [],
   "source": [
    "dipole_moments = pd.read_feather('../data/dipole_moments.feather')\n",
    "magnetic_shielding_tensors = pd.read_feather('../data/magnetic_shielding_tensors.feather')\n",
    "mulliken_charges = pd.read_feather('../data/mulliken_charges.feather')\n",
    "potential_energy = pd.read_feather('../data/potential_energy.feather')\n",
    "scalar_coupling_contributions = pd.read_feather('../data/scalar_coupling_contributions.feather')"
   ]
  },
  {
   "cell_type": "code",
   "execution_count": 6,
   "metadata": {},
   "outputs": [],
   "source": [
    "labelled_enh = labelled.merge(molecules_df, left_on='molecule_name', right_on='molecule_name')\n",
    "#labelled_enh.head(32)"
   ]
  },
  {
   "cell_type": "code",
   "execution_count": 7,
   "metadata": {},
   "outputs": [],
   "source": [
    "unlabelled_enh = unlabelled.merge(molecules_df, left_on='molecule_name', right_on='molecule_name')\n",
    "#unlabelled_enh.head(32)"
   ]
  },
  {
   "cell_type": "code",
   "execution_count": null,
   "metadata": {},
   "outputs": [],
   "source": [
    "len(labelled), len(labelled_enh)"
   ]
  },
  {
   "cell_type": "code",
   "execution_count": null,
   "metadata": {},
   "outputs": [],
   "source": [
    "nn_args = dict(dipole_moments=dipole_moments,\n",
    "               magnetic_shielding_tensors=magnetic_shielding_tensors,\n",
    "               mulliken_charges=mulliken_charges,\n",
    "               potential_energy=potential_energy,\n",
    "               scalar_coupling_contributions=scalar_coupling_contributions)"
   ]
  },
  {
   "cell_type": "code",
   "execution_count": null,
   "metadata": {},
   "outputs": [],
   "source": [
    "model.structures.dtypes"
   ]
  },
  {
   "cell_type": "code",
   "execution_count": null,
   "metadata": {},
   "outputs": [],
   "source": [
    "labelled_enh.dtypes"
   ]
  },
  {
   "cell_type": "code",
   "execution_count": null,
   "metadata": {},
   "outputs": [],
   "source": [
    "from models import NNModel, partition_data\n",
    "\n",
    "print('Running')\n",
    "\n",
    "#data_df = labelled[labelled.type == '1JHC'].head(10)\n",
    "data_df = labelled_enh.head(10)\n",
    "train_df, test_df = partition_data(data_df, train_frac=1)\n",
    "train_df = train_df.copy()\n",
    "        \n",
    "model = NNModel(model_args = dict(molecules=molecules,\n",
    "                                  structures=structures),\n",
    "               **nn_args)\n",
    "#model.corr(train_df, train_df)\n",
    "model.setup_data(train_df, train_df)"
   ]
  },
  {
   "cell_type": "code",
   "execution_count": null,
   "metadata": {},
   "outputs": [],
   "source": [
    "list(model.input_df.columns)"
   ]
  },
  {
   "cell_type": "code",
   "execution_count": null,
   "metadata": {},
   "outputs": [],
   "source": [
    "model.input_df.dtypes"
   ]
  },
  {
   "cell_type": "code",
   "execution_count": null,
   "metadata": {},
   "outputs": [],
   "source": [
    "labelled_enh.head()"
   ]
  },
  {
   "cell_type": "code",
   "execution_count": null,
   "metadata": {},
   "outputs": [],
   "source": [
    "import itertools"
   ]
  },
  {
   "cell_type": "code",
   "execution_count": null,
   "metadata": {},
   "outputs": [],
   "source": []
  },
  {
   "cell_type": "code",
   "execution_count": null,
   "metadata": {},
   "outputs": [],
   "source": [
    "df = labelled_enh.head(32)"
   ]
  },
  {
   "cell_type": "code",
   "execution_count": null,
   "metadata": {},
   "outputs": [],
   "source": [
    "#df[['molecule_name']].merge(dipole_moments, left_on='molecule_name', right_on='molecule_name')\n"
   ]
  },
  {
   "cell_type": "code",
   "execution_count": null,
   "metadata": {},
   "outputs": [],
   "source": []
  },
  {
   "cell_type": "code",
   "execution_count": 8,
   "metadata": {},
   "outputs": [],
   "source": [
    "def plot_history(history, label):\n",
    "    n = 5\n",
    "    \n",
    "    loss = np.array(history.history['scc_loss'], dtype='float32')\n",
    "    val_loss = np.array(history.history['val_scc_loss'], dtype='float32')\n",
    "    \n",
    "    loss_mean = loss.mean()\n",
    "    loss_nstd = n * loss.std()\n",
    "    \n",
    "    val_loss_mean = val_loss.mean()\n",
    "    val_loss_nstd = n * val_loss.std()\n",
    "       \n",
    "#     mn = min(loss_mean - loss_nstd, val_loss_mean - val_loss_nstd)\n",
    "#     mx = min(loss_mean + loss_nstd, val_loss_mean + val_loss_nstd)\n",
    "    mn = loss_mean - loss_nstd\n",
    "    mx = loss_mean + loss_nstd\n",
    "    \n",
    "#     print(loss.min(), loss.max())\n",
    "#     print(val_loss.min(), val_loss.max())\n",
    "#     print(loss_mean, loss_nstd, val_loss_mean, val_loss_nstd)\n",
    "#     print(mn, mx)\n",
    "    \n",
    "    plt.plot(loss)\n",
    "    plt.plot(val_loss)\n",
    "    plt.title('Loss for %s' % label)\n",
    "    plt.ylabel('Loss')\n",
    "    plt.xlabel('Epoch')\n",
    "    plt.ylim(mn, mx)\n",
    "    _= plt.legend(['Train','Validation'], loc='upper left')"
   ]
  },
  {
   "cell_type": "code",
   "execution_count": 9,
   "metadata": {},
   "outputs": [],
   "source": [
    "nn_args = dict(dipole_moments=dipole_moments,\n",
    "               magnetic_shielding_tensors=magnetic_shielding_tensors,\n",
    "               mulliken_charges=mulliken_charges,\n",
    "               potential_energy=potential_energy,\n",
    "               scalar_coupling_contributions=scalar_coupling_contributions,\n",
    "               epochs=100,\n",
    "               learning_rate=0.001,\n",
    "               validation_split=0.3\n",
    "               )"
   ]
  },
  {
   "cell_type": "code",
   "execution_count": 15,
   "metadata": {},
   "outputs": [
    {
     "name": "stdout",
     "output_type": "stream",
     "text": [
      "Training 21000 samples for 1JHC\n"
     ]
    },
    {
     "name": "stderr",
     "output_type": "stream",
     "text": [
      "WARNING: Logging before flag parsing goes to stderr.\n",
      "W0819 00:25:53.773461 140259609708352 deprecation.py:506] From /home/gautham/apps/anaconda3/envs/kaggle/lib/python3.7/site-packages/tensorflow/python/keras/initializers.py:143: calling RandomNormal.__init__ (from tensorflow.python.ops.init_ops) with dtype is deprecated and will be removed in a future version.\n",
      "Instructions for updating:\n",
      "Call initializer instance with the dtype argument instead of passing it to the constructor\n",
      "W0819 00:25:57.642318 140259609708352 deprecation.py:506] From /home/gautham/apps/anaconda3/envs/kaggle/lib/python3.7/site-packages/tensorflow/python/ops/init_ops.py:1251: calling VarianceScaling.__init__ (from tensorflow.python.ops.init_ops) with dtype is deprecated and will be removed in a future version.\n",
      "Instructions for updating:\n",
      "Call initializer instance with the dtype argument instead of passing it to the constructor\n"
     ]
    },
    {
     "name": "stdout",
     "output_type": "stream",
     "text": [
      "Train on 14699 samples, validate on 6301 samples\n",
      "Epoch 1/100\n",
      "14699/14699 [==============================] - 11s 717us/sample - loss: 6.6068 - scc_loss: 1.1109 - output_dipole_moments_loss: 1.1404 - output_magnetic_shielding_tensors_loss: 1.0899 - output_mulliken_charges_loss: 1.0861 - output_potential_energy_loss: 1.1428 - output_scalar_coupling_contributions_loss: 1.0252 - val_loss: 52.8750 - val_scc_loss: 21.6383 - val_output_dipole_moments_loss: 4.2105 - val_output_magnetic_shielding_tensors_loss: 7.4263 - val_output_mulliken_charges_loss: 2.5669 - val_output_potential_energy_loss: 1.1497 - val_output_scalar_coupling_contributions_loss: 15.7801\n",
      "Epoch 2/100\n",
      "14699/14699 [==============================] - 2s 169us/sample - loss: 4.6068 - scc_loss: 0.6548 - output_dipole_moments_loss: 0.8678 - output_magnetic_shielding_tensors_loss: 0.8105 - output_mulliken_charges_loss: 0.8160 - output_potential_energy_loss: 0.8546 - output_scalar_coupling_contributions_loss: 0.5997 - val_loss: 19.9445 - val_scc_loss: 2.7343 - val_output_dipole_moments_loss: 2.4660 - val_output_magnetic_shielding_tensors_loss: 4.1249 - val_output_mulliken_charges_loss: 0.9958 - val_output_potential_energy_loss: 2.9594 - val_output_scalar_coupling_contributions_loss: 6.6321\n",
      "Epoch 3/100\n",
      "14699/14699 [==============================] - 3s 172us/sample - loss: 3.8893 - scc_loss: 0.4637 - output_dipole_moments_loss: 0.7764 - output_magnetic_shielding_tensors_loss: 0.7723 - output_mulliken_charges_loss: 0.6945 - output_potential_energy_loss: 0.7385 - output_scalar_coupling_contributions_loss: 0.4443 - val_loss: 9.4348 - val_scc_loss: 2.0046 - val_output_dipole_moments_loss: 1.9516 - val_output_magnetic_shielding_tensors_loss: 1.3364 - val_output_mulliken_charges_loss: 1.0722 - val_output_potential_energy_loss: 0.9188 - val_output_scalar_coupling_contributions_loss: 2.1904\n",
      "Epoch 4/100\n",
      "14699/14699 [==============================] - 2s 169us/sample - loss: 3.6276 - scc_loss: 0.3963 - output_dipole_moments_loss: 0.7423 - output_magnetic_shielding_tensors_loss: 0.7586 - output_mulliken_charges_loss: 0.6570 - output_potential_energy_loss: 0.6954 - output_scalar_coupling_contributions_loss: 0.3783 - val_loss: 5.8436 - val_scc_loss: 1.3157 - val_output_dipole_moments_loss: 0.8990 - val_output_magnetic_shielding_tensors_loss: 0.9155 - val_output_mulliken_charges_loss: 0.8617 - val_output_potential_energy_loss: 0.6565 - val_output_scalar_coupling_contributions_loss: 1.2859\n",
      "Epoch 5/100\n",
      "14699/14699 [==============================] - 3s 170us/sample - loss: 3.5124 - scc_loss: 0.3669 - output_dipole_moments_loss: 0.7211 - output_magnetic_shielding_tensors_loss: 0.7516 - output_mulliken_charges_loss: 0.6424 - output_potential_energy_loss: 0.6791 - output_scalar_coupling_contributions_loss: 0.3521 - val_loss: 4.5986 - val_scc_loss: 0.7854 - val_output_dipole_moments_loss: 0.8714 - val_output_magnetic_shielding_tensors_loss: 0.8634 - val_output_mulliken_charges_loss: 0.8368 - val_output_potential_energy_loss: 0.6971 - val_output_scalar_coupling_contributions_loss: 0.5002\n",
      "Epoch 6/100\n",
      "14699/14699 [==============================] - 3s 172us/sample - loss: 3.4404 - scc_loss: 0.3446 - output_dipole_moments_loss: 0.7127 - output_magnetic_shielding_tensors_loss: 0.7470 - output_mulliken_charges_loss: 0.6305 - output_potential_energy_loss: 0.6739 - output_scalar_coupling_contributions_loss: 0.3328 - val_loss: 3.9053 - val_scc_loss: 0.4102 - val_output_dipole_moments_loss: 0.8417 - val_output_magnetic_shielding_tensors_loss: 0.8361 - val_output_mulliken_charges_loss: 0.7614 - val_output_potential_energy_loss: 0.6444 - val_output_scalar_coupling_contributions_loss: 0.4146\n",
      "Epoch 7/100\n",
      "14699/14699 [==============================] - 2s 169us/sample - loss: 3.3950 - scc_loss: 0.3349 - output_dipole_moments_loss: 0.7084 - output_magnetic_shielding_tensors_loss: 0.7446 - output_mulliken_charges_loss: 0.6263 - output_potential_energy_loss: 0.6634 - output_scalar_coupling_contributions_loss: 0.3191 - val_loss: 3.8235 - val_scc_loss: 0.4727 - val_output_dipole_moments_loss: 0.7486 - val_output_magnetic_shielding_tensors_loss: 0.8193 - val_output_mulliken_charges_loss: 0.7588 - val_output_potential_energy_loss: 0.6613 - val_output_scalar_coupling_contributions_loss: 0.3484\n",
      "Epoch 8/100\n",
      "14699/14699 [==============================] - 2s 169us/sample - loss: 3.3527 - scc_loss: 0.3193 - output_dipole_moments_loss: 0.7028 - output_magnetic_shielding_tensors_loss: 0.7444 - output_mulliken_charges_loss: 0.6245 - output_potential_energy_loss: 0.6590 - output_scalar_coupling_contributions_loss: 0.3045 - val_loss: 3.6122 - val_scc_loss: 0.2983 - val_output_dipole_moments_loss: 0.7470 - val_output_magnetic_shielding_tensors_loss: 0.8131 - val_output_mulliken_charges_loss: 0.7613 - val_output_potential_energy_loss: 0.6771 - val_output_scalar_coupling_contributions_loss: 0.3118\n",
      "Epoch 9/100\n",
      "14699/14699 [==============================] - 2s 167us/sample - loss: 3.3193 - scc_loss: 0.3038 - output_dipole_moments_loss: 0.7003 - output_magnetic_shielding_tensors_loss: 0.7413 - output_mulliken_charges_loss: 0.6208 - output_potential_energy_loss: 0.6602 - output_scalar_coupling_contributions_loss: 0.2946 - val_loss: 3.5648 - val_scc_loss: 0.3439 - val_output_dipole_moments_loss: 0.7477 - val_output_magnetic_shielding_tensors_loss: 0.7981 - val_output_mulliken_charges_loss: 0.7119 - val_output_potential_energy_loss: 0.6479 - val_output_scalar_coupling_contributions_loss: 0.3119\n",
      "Epoch 10/100\n",
      "14699/14699 [==============================] - 2s 169us/sample - loss: 3.2805 - scc_loss: 0.2963 - output_dipole_moments_loss: 0.6965 - output_magnetic_shielding_tensors_loss: 0.7385 - output_mulliken_charges_loss: 0.6155 - output_potential_energy_loss: 0.6480 - output_scalar_coupling_contributions_loss: 0.2871 - val_loss: 3.4886 - val_scc_loss: 0.2846 - val_output_dipole_moments_loss: 0.7503 - val_output_magnetic_shielding_tensors_loss: 0.7961 - val_output_mulliken_charges_loss: 0.7083 - val_output_potential_energy_loss: 0.6724 - val_output_scalar_coupling_contributions_loss: 0.2787\n",
      "Epoch 11/100\n",
      "14699/14699 [==============================] - 2s 170us/sample - loss: 3.2657 - scc_loss: 0.2822 - output_dipole_moments_loss: 0.6953 - output_magnetic_shielding_tensors_loss: 0.7358 - output_mulliken_charges_loss: 0.6169 - output_potential_energy_loss: 0.6601 - output_scalar_coupling_contributions_loss: 0.2771 - val_loss: 3.4469 - val_scc_loss: 0.2619 - val_output_dipole_moments_loss: 0.7597 - val_output_magnetic_shielding_tensors_loss: 0.7972 - val_output_mulliken_charges_loss: 0.7086 - val_output_potential_energy_loss: 0.6466 - val_output_scalar_coupling_contributions_loss: 0.2726\n",
      "Epoch 12/100\n",
      "14699/14699 [==============================] - 2s 168us/sample - loss: 3.2468 - scc_loss: 0.2758 - output_dipole_moments_loss: 0.6964 - output_magnetic_shielding_tensors_loss: 0.7341 - output_mulliken_charges_loss: 0.6172 - output_potential_energy_loss: 0.6546 - output_scalar_coupling_contributions_loss: 0.2700 - val_loss: 3.4918 - val_scc_loss: 0.3002 - val_output_dipole_moments_loss: 0.7477 - val_output_magnetic_shielding_tensors_loss: 0.7942 - val_output_mulliken_charges_loss: 0.7076 - val_output_potential_energy_loss: 0.6982 - val_output_scalar_coupling_contributions_loss: 0.2441\n",
      "Epoch 13/100\n",
      "14699/14699 [==============================] - 2s 168us/sample - loss: 3.2158 - scc_loss: 0.2660 - output_dipole_moments_loss: 0.6917 - output_magnetic_shielding_tensors_loss: 0.7313 - output_mulliken_charges_loss: 0.6119 - output_potential_energy_loss: 0.6529 - output_scalar_coupling_contributions_loss: 0.2637 - val_loss: 3.4223 - val_scc_loss: 0.3069 - val_output_dipole_moments_loss: 0.7387 - val_output_magnetic_shielding_tensors_loss: 0.7955 - val_output_mulliken_charges_loss: 0.6969 - val_output_potential_energy_loss: 0.6496 - val_output_scalar_coupling_contributions_loss: 0.2345\n",
      "Epoch 14/100\n",
      "14699/14699 [==============================] - 2s 166us/sample - loss: 3.1978 - scc_loss: 0.2654 - output_dipole_moments_loss: 0.6900 - output_magnetic_shielding_tensors_loss: 0.7285 - output_mulliken_charges_loss: 0.6115 - output_potential_energy_loss: 0.6445 - output_scalar_coupling_contributions_loss: 0.2596 - val_loss: 3.4887 - val_scc_loss: 0.2894 - val_output_dipole_moments_loss: 0.7510 - val_output_magnetic_shielding_tensors_loss: 0.7911 - val_output_mulliken_charges_loss: 0.7188 - val_output_potential_energy_loss: 0.6830 - val_output_scalar_coupling_contributions_loss: 0.2508\n",
      "Epoch 15/100\n",
      "14699/14699 [==============================] - 2s 166us/sample - loss: 3.1801 - scc_loss: 0.2606 - output_dipole_moments_loss: 0.6882 - output_magnetic_shielding_tensors_loss: 0.7273 - output_mulliken_charges_loss: 0.6074 - output_potential_energy_loss: 0.6503 - output_scalar_coupling_contributions_loss: 0.2480 - val_loss: 3.3658 - val_scc_loss: 0.2545 - val_output_dipole_moments_loss: 0.7480 - val_output_magnetic_shielding_tensors_loss: 0.7910 - val_output_mulliken_charges_loss: 0.7057 - val_output_potential_energy_loss: 0.6383 - val_output_scalar_coupling_contributions_loss: 0.2251\n",
      "Epoch 16/100\n",
      "14699/14699 [==============================] - 3s 175us/sample - loss: 3.1708 - scc_loss: 0.2591 - output_dipole_moments_loss: 0.6942 - output_magnetic_shielding_tensors_loss: 0.7251 - output_mulliken_charges_loss: 0.6065 - output_potential_energy_loss: 0.6427 - output_scalar_coupling_contributions_loss: 0.2451 - val_loss: 3.4194 - val_scc_loss: 0.2781 - val_output_dipole_moments_loss: 0.7410 - val_output_magnetic_shielding_tensors_loss: 0.7905 - val_output_mulliken_charges_loss: 0.7178 - val_output_potential_energy_loss: 0.6486 - val_output_scalar_coupling_contributions_loss: 0.2434\n",
      "Epoch 17/100\n",
      "14699/14699 [==============================] - 3s 172us/sample - loss: 3.1329 - scc_loss: 0.2458 - output_dipole_moments_loss: 0.6847 - output_magnetic_shielding_tensors_loss: 0.7217 - output_mulliken_charges_loss: 0.6039 - output_potential_energy_loss: 0.6394 - output_scalar_coupling_contributions_loss: 0.2395 - val_loss: 3.3547 - val_scc_loss: 0.2441 - val_output_dipole_moments_loss: 0.7396 - val_output_magnetic_shielding_tensors_loss: 0.7921 - val_output_mulliken_charges_loss: 0.7136 - val_output_potential_energy_loss: 0.6532 - val_output_scalar_coupling_contributions_loss: 0.2061\n",
      "Epoch 18/100\n",
      "14699/14699 [==============================] - 3s 173us/sample - loss: 3.1314 - scc_loss: 0.2470 - output_dipole_moments_loss: 0.6798 - output_magnetic_shielding_tensors_loss: 0.7191 - output_mulliken_charges_loss: 0.6055 - output_potential_energy_loss: 0.6470 - output_scalar_coupling_contributions_loss: 0.2348 - val_loss: 3.4389 - val_scc_loss: 0.2564 - val_output_dipole_moments_loss: 0.7443 - val_output_magnetic_shielding_tensors_loss: 0.8504 - val_output_mulliken_charges_loss: 0.7120 - val_output_potential_energy_loss: 0.6692 - val_output_scalar_coupling_contributions_loss: 0.2129\n",
      "Epoch 19/100\n",
      "14699/14699 [==============================] - 3s 171us/sample - loss: 3.1228 - scc_loss: 0.2433 - output_dipole_moments_loss: 0.6785 - output_magnetic_shielding_tensors_loss: 0.7195 - output_mulliken_charges_loss: 0.6033 - output_potential_energy_loss: 0.6476 - output_scalar_coupling_contributions_loss: 0.2324 - val_loss: 3.3639 - val_scc_loss: 0.2330 - val_output_dipole_moments_loss: 0.7368 - val_output_magnetic_shielding_tensors_loss: 0.8025 - val_output_mulliken_charges_loss: 0.7120 - val_output_potential_energy_loss: 0.6604 - val_output_scalar_coupling_contributions_loss: 0.2123\n",
      "Epoch 20/100\n",
      "14699/14699 [==============================] - 2s 165us/sample - loss: 3.1055 - scc_loss: 0.2397 - output_dipole_moments_loss: 0.6793 - output_magnetic_shielding_tensors_loss: 0.7158 - output_mulliken_charges_loss: 0.6061 - output_potential_energy_loss: 0.6365 - output_scalar_coupling_contributions_loss: 0.2298 - val_loss: 3.3224 - val_scc_loss: 0.2010 - val_output_dipole_moments_loss: 0.7510 - val_output_magnetic_shielding_tensors_loss: 0.8191 - val_output_mulliken_charges_loss: 0.7070 - val_output_potential_energy_loss: 0.6525 - val_output_scalar_coupling_contributions_loss: 0.1954\n",
      "Epoch 21/100\n",
      "14699/14699 [==============================] - 2s 167us/sample - loss: 3.0921 - scc_loss: 0.2402 - output_dipole_moments_loss: 0.6773 - output_magnetic_shielding_tensors_loss: 0.7141 - output_mulliken_charges_loss: 0.6028 - output_potential_energy_loss: 0.6363 - output_scalar_coupling_contributions_loss: 0.2229 - val_loss: 3.3708 - val_scc_loss: 0.2295 - val_output_dipole_moments_loss: 0.7354 - val_output_magnetic_shielding_tensors_loss: 0.8270 - val_output_mulliken_charges_loss: 0.7135 - val_output_potential_energy_loss: 0.6758 - val_output_scalar_coupling_contributions_loss: 0.1940\n",
      "Epoch 22/100\n",
      "14699/14699 [==============================] - 2s 169us/sample - loss: 3.0743 - scc_loss: 0.2284 - output_dipole_moments_loss: 0.6794 - output_magnetic_shielding_tensors_loss: 0.7143 - output_mulliken_charges_loss: 0.5993 - output_potential_energy_loss: 0.6349 - output_scalar_coupling_contributions_loss: 0.2198 - val_loss: 3.3281 - val_scc_loss: 0.2005 - val_output_dipole_moments_loss: 0.7537 - val_output_magnetic_shielding_tensors_loss: 0.8278 - val_output_mulliken_charges_loss: 0.7197 - val_output_potential_energy_loss: 0.6418 - val_output_scalar_coupling_contributions_loss: 0.1781\n",
      "Epoch 23/100\n",
      "14699/14699 [==============================] - 3s 174us/sample - loss: 3.0618 - scc_loss: 0.2286 - output_dipole_moments_loss: 0.6732 - output_magnetic_shielding_tensors_loss: 0.7132 - output_mulliken_charges_loss: 0.5993 - output_potential_energy_loss: 0.6353 - output_scalar_coupling_contributions_loss: 0.2140 - val_loss: 3.2934 - val_scc_loss: 0.1963 - val_output_dipole_moments_loss: 0.7359 - val_output_magnetic_shielding_tensors_loss: 0.8229 - val_output_mulliken_charges_loss: 0.7102 - val_output_potential_energy_loss: 0.6451 - val_output_scalar_coupling_contributions_loss: 0.1796\n",
      "Epoch 24/100\n",
      "14699/14699 [==============================] - 2s 168us/sample - loss: 3.0476 - scc_loss: 0.2185 - output_dipole_moments_loss: 0.6736 - output_magnetic_shielding_tensors_loss: 0.7110 - output_mulliken_charges_loss: 0.5993 - output_potential_energy_loss: 0.6347 - output_scalar_coupling_contributions_loss: 0.2125 - val_loss: 3.3407 - val_scc_loss: 0.2173 - val_output_dipole_moments_loss: 0.7514 - val_output_magnetic_shielding_tensors_loss: 0.8300 - val_output_mulliken_charges_loss: 0.7240 - val_output_potential_energy_loss: 0.6499 - val_output_scalar_coupling_contributions_loss: 0.1788\n",
      "Epoch 25/100\n",
      "14699/14699 [==============================] - 2s 168us/sample - loss: 3.0431 - scc_loss: 0.2224 - output_dipole_moments_loss: 0.6709 - output_magnetic_shielding_tensors_loss: 0.7110 - output_mulliken_charges_loss: 0.6000 - output_potential_energy_loss: 0.6321 - output_scalar_coupling_contributions_loss: 0.2084 - val_loss: 3.3383 - val_scc_loss: 0.2222 - val_output_dipole_moments_loss: 0.7437 - val_output_magnetic_shielding_tensors_loss: 0.8205 - val_output_mulliken_charges_loss: 0.7114 - val_output_potential_energy_loss: 0.6543 - val_output_scalar_coupling_contributions_loss: 0.1785\n",
      "Epoch 26/100\n",
      "14699/14699 [==============================] - 2s 169us/sample - loss: 3.0471 - scc_loss: 0.2219 - output_dipole_moments_loss: 0.6733 - output_magnetic_shielding_tensors_loss: 0.7104 - output_mulliken_charges_loss: 0.6017 - output_potential_energy_loss: 0.6314 - output_scalar_coupling_contributions_loss: 0.2102 - val_loss: 3.2806 - val_scc_loss: 0.1770 - val_output_dipole_moments_loss: 0.7440 - val_output_magnetic_shielding_tensors_loss: 0.8107 - val_output_mulliken_charges_loss: 0.7181 - val_output_potential_energy_loss: 0.6470 - val_output_scalar_coupling_contributions_loss: 0.1708\n",
      "Epoch 27/100\n",
      "14699/14699 [==============================] - 2s 166us/sample - loss: 3.0335 - scc_loss: 0.2164 - output_dipole_moments_loss: 0.6750 - output_magnetic_shielding_tensors_loss: 0.7099 - output_mulliken_charges_loss: 0.5965 - output_potential_energy_loss: 0.6350 - output_scalar_coupling_contributions_loss: 0.2025 - val_loss: 3.3483 - val_scc_loss: 0.2408 - val_output_dipole_moments_loss: 0.7601 - val_output_magnetic_shielding_tensors_loss: 0.8132 - val_output_mulliken_charges_loss: 0.7194 - val_output_potential_energy_loss: 0.6435 - val_output_scalar_coupling_contributions_loss: 0.1712\n",
      "Epoch 28/100\n",
      "14699/14699 [==============================] - 2s 167us/sample - loss: 3.0273 - scc_loss: 0.2180 - output_dipole_moments_loss: 0.6738 - output_magnetic_shielding_tensors_loss: 0.7104 - output_mulliken_charges_loss: 0.5930 - output_potential_energy_loss: 0.6310 - output_scalar_coupling_contributions_loss: 0.2029 - val_loss: 3.3139 - val_scc_loss: 0.1748 - val_output_dipole_moments_loss: 0.7495 - val_output_magnetic_shielding_tensors_loss: 0.8390 - val_output_mulliken_charges_loss: 0.7202 - val_output_potential_energy_loss: 0.6494 - val_output_scalar_coupling_contributions_loss: 0.1714\n",
      "Epoch 29/100\n",
      "14699/14699 [==============================] - 2s 167us/sample - loss: 3.0236 - scc_loss: 0.2140 - output_dipole_moments_loss: 0.6720 - output_magnetic_shielding_tensors_loss: 0.7105 - output_mulliken_charges_loss: 0.5946 - output_potential_energy_loss: 0.6344 - output_scalar_coupling_contributions_loss: 0.2002 - val_loss: 3.3441 - val_scc_loss: 0.1865 - val_output_dipole_moments_loss: 0.7601 - val_output_magnetic_shielding_tensors_loss: 0.8588 - val_output_mulliken_charges_loss: 0.7357 - val_output_potential_energy_loss: 0.6546 - val_output_scalar_coupling_contributions_loss: 0.1752\n",
      "Epoch 30/100\n",
      "14699/14699 [==============================] - 2s 164us/sample - loss: 3.0183 - scc_loss: 0.2087 - output_dipole_moments_loss: 0.6713 - output_magnetic_shielding_tensors_loss: 0.7110 - output_mulliken_charges_loss: 0.5975 - output_potential_energy_loss: 0.6348 - output_scalar_coupling_contributions_loss: 0.1967 - val_loss: 3.3591 - val_scc_loss: 0.2125 - val_output_dipole_moments_loss: 0.7570 - val_output_magnetic_shielding_tensors_loss: 0.8260 - val_output_mulliken_charges_loss: 0.7325 - val_output_potential_energy_loss: 0.6465 - val_output_scalar_coupling_contributions_loss: 0.1734\n",
      "Epoch 31/100\n",
      "14699/14699 [==============================] - 2s 169us/sample - loss: 3.0117 - scc_loss: 0.2087 - output_dipole_moments_loss: 0.6710 - output_magnetic_shielding_tensors_loss: 0.7090 - output_mulliken_charges_loss: 0.5929 - output_potential_energy_loss: 0.6329 - output_scalar_coupling_contributions_loss: 0.1992 - val_loss: 3.3306 - val_scc_loss: 0.2244 - val_output_dipole_moments_loss: 0.7429 - val_output_magnetic_shielding_tensors_loss: 0.8217 - val_output_mulliken_charges_loss: 0.7234 - val_output_potential_energy_loss: 0.6583 - val_output_scalar_coupling_contributions_loss: 0.1652\n",
      "Epoch 32/100\n",
      "14699/14699 [==============================] - 2s 165us/sample - loss: 2.9986 - scc_loss: 0.2070 - output_dipole_moments_loss: 0.6698 - output_magnetic_shielding_tensors_loss: 0.7081 - output_mulliken_charges_loss: 0.5921 - output_potential_energy_loss: 0.6275 - output_scalar_coupling_contributions_loss: 0.1956 - val_loss: 3.2693 - val_scc_loss: 0.1708 - val_output_dipole_moments_loss: 0.7412 - val_output_magnetic_shielding_tensors_loss: 0.8150 - val_output_mulliken_charges_loss: 0.7103 - val_output_potential_energy_loss: 0.6575 - val_output_scalar_coupling_contributions_loss: 0.1687\n",
      "Epoch 33/100\n",
      "14699/14699 [==============================] - 2s 164us/sample - loss: 3.0003 - scc_loss: 0.2110 - output_dipole_moments_loss: 0.6713 - output_magnetic_shielding_tensors_loss: 0.7098 - output_mulliken_charges_loss: 0.5917 - output_potential_energy_loss: 0.6274 - output_scalar_coupling_contributions_loss: 0.1909 - val_loss: 3.4269 - val_scc_loss: 0.1827 - val_output_dipole_moments_loss: 0.7904 - val_output_magnetic_shielding_tensors_loss: 0.8729 - val_output_mulliken_charges_loss: 0.7261 - val_output_potential_energy_loss: 0.6729 - val_output_scalar_coupling_contributions_loss: 0.1798\n",
      "Epoch 34/100\n",
      "14699/14699 [==============================] - 2s 170us/sample - loss: 2.9959 - scc_loss: 0.2039 - output_dipole_moments_loss: 0.6735 - output_magnetic_shielding_tensors_loss: 0.7080 - output_mulliken_charges_loss: 0.5921 - output_potential_energy_loss: 0.6263 - output_scalar_coupling_contributions_loss: 0.1937 - val_loss: 3.2913 - val_scc_loss: 0.1678 - val_output_dipole_moments_loss: 0.7532 - val_output_magnetic_shielding_tensors_loss: 0.8158 - val_output_mulliken_charges_loss: 0.7209 - val_output_potential_energy_loss: 0.6614 - val_output_scalar_coupling_contributions_loss: 0.1674\n",
      "Epoch 35/100\n",
      "14699/14699 [==============================] - 2s 166us/sample - loss: 2.9944 - scc_loss: 0.2003 - output_dipole_moments_loss: 0.6717 - output_magnetic_shielding_tensors_loss: 0.7089 - output_mulliken_charges_loss: 0.5924 - output_potential_energy_loss: 0.6332 - output_scalar_coupling_contributions_loss: 0.1898 - val_loss: 3.3297 - val_scc_loss: 0.1884 - val_output_dipole_moments_loss: 0.7517 - val_output_magnetic_shielding_tensors_loss: 0.8261 - val_output_mulliken_charges_loss: 0.7363 - val_output_potential_energy_loss: 0.6551 - val_output_scalar_coupling_contributions_loss: 0.1685\n",
      "Epoch 36/100\n",
      "14699/14699 [==============================] - 2s 164us/sample - loss: 2.9832 - scc_loss: 0.1962 - output_dipole_moments_loss: 0.6704 - output_magnetic_shielding_tensors_loss: 0.7085 - output_mulliken_charges_loss: 0.5900 - output_potential_energy_loss: 0.6300 - output_scalar_coupling_contributions_loss: 0.1900 - val_loss: 3.2830 - val_scc_loss: 0.1860 - val_output_dipole_moments_loss: 0.7529 - val_output_magnetic_shielding_tensors_loss: 0.8077 - val_output_mulliken_charges_loss: 0.7275 - val_output_potential_energy_loss: 0.6396 - val_output_scalar_coupling_contributions_loss: 0.1609\n",
      "Epoch 37/100\n",
      "14699/14699 [==============================] - 2s 166us/sample - loss: 2.9889 - scc_loss: 0.2018 - output_dipole_moments_loss: 0.6712 - output_magnetic_shielding_tensors_loss: 0.7083 - output_mulliken_charges_loss: 0.5886 - output_potential_energy_loss: 0.6303 - output_scalar_coupling_contributions_loss: 0.1901 - val_loss: 3.3385 - val_scc_loss: 0.1891 - val_output_dipole_moments_loss: 0.7652 - val_output_magnetic_shielding_tensors_loss: 0.8271 - val_output_mulliken_charges_loss: 0.7357 - val_output_potential_energy_loss: 0.6611 - val_output_scalar_coupling_contributions_loss: 0.1582\n",
      "Epoch 38/100\n",
      "14699/14699 [==============================] - 2s 164us/sample - loss: 2.9860 - scc_loss: 0.2015 - output_dipole_moments_loss: 0.6711 - output_magnetic_shielding_tensors_loss: 0.7087 - output_mulliken_charges_loss: 0.5964 - output_potential_energy_loss: 0.6235 - output_scalar_coupling_contributions_loss: 0.1866 - val_loss: 3.3200 - val_scc_loss: 0.1713 - val_output_dipole_moments_loss: 0.7546 - val_output_magnetic_shielding_tensors_loss: 0.8419 - val_output_mulliken_charges_loss: 0.7385 - val_output_potential_energy_loss: 0.6522 - val_output_scalar_coupling_contributions_loss: 0.1528\n",
      "Epoch 39/100\n",
      "14699/14699 [==============================] - 2s 167us/sample - loss: 2.9712 - scc_loss: 0.1977 - output_dipole_moments_loss: 0.6669 - output_magnetic_shielding_tensors_loss: 0.7065 - output_mulliken_charges_loss: 0.5890 - output_potential_energy_loss: 0.6273 - output_scalar_coupling_contributions_loss: 0.1855 - val_loss: 3.2819 - val_scc_loss: 0.1729 - val_output_dipole_moments_loss: 0.7454 - val_output_magnetic_shielding_tensors_loss: 0.8094 - val_output_mulliken_charges_loss: 0.7235 - val_output_potential_energy_loss: 0.6516 - val_output_scalar_coupling_contributions_loss: 0.1665\n",
      "Epoch 40/100\n",
      "14699/14699 [==============================] - 2s 165us/sample - loss: 2.9702 - scc_loss: 0.1938 - output_dipole_moments_loss: 0.6688 - output_magnetic_shielding_tensors_loss: 0.7074 - output_mulliken_charges_loss: 0.5888 - output_potential_energy_loss: 0.6301 - output_scalar_coupling_contributions_loss: 0.1831 - val_loss: 3.3195 - val_scc_loss: 0.1922 - val_output_dipole_moments_loss: 0.7641 - val_output_magnetic_shielding_tensors_loss: 0.8163 - val_output_mulliken_charges_loss: 0.7180 - val_output_potential_energy_loss: 0.6506 - val_output_scalar_coupling_contributions_loss: 0.1717\n",
      "Epoch 41/100\n",
      "14699/14699 [==============================] - 2s 163us/sample - loss: 2.9732 - scc_loss: 0.1918 - output_dipole_moments_loss: 0.6730 - output_magnetic_shielding_tensors_loss: 0.7061 - output_mulliken_charges_loss: 0.5901 - output_potential_energy_loss: 0.6303 - output_scalar_coupling_contributions_loss: 0.1834 - val_loss: 3.2829 - val_scc_loss: 0.1708 - val_output_dipole_moments_loss: 0.7403 - val_output_magnetic_shielding_tensors_loss: 0.8103 - val_output_mulliken_charges_loss: 0.7280 - val_output_potential_energy_loss: 0.6653 - val_output_scalar_coupling_contributions_loss: 0.1654\n",
      "Epoch 42/100\n",
      "14699/14699 [==============================] - 2s 166us/sample - loss: 2.9759 - scc_loss: 0.1957 - output_dipole_moments_loss: 0.6700 - output_magnetic_shielding_tensors_loss: 0.7077 - output_mulliken_charges_loss: 0.5923 - output_potential_energy_loss: 0.6303 - output_scalar_coupling_contributions_loss: 0.1820 - val_loss: 3.3127 - val_scc_loss: 0.1856 - val_output_dipole_moments_loss: 0.7367 - val_output_magnetic_shielding_tensors_loss: 0.8094 - val_output_mulliken_charges_loss: 0.7319 - val_output_potential_energy_loss: 0.6823 - val_output_scalar_coupling_contributions_loss: 0.1585\n",
      "Epoch 43/100\n",
      "14699/14699 [==============================] - 2s 169us/sample - loss: 2.9806 - scc_loss: 0.2004 - output_dipole_moments_loss: 0.6716 - output_magnetic_shielding_tensors_loss: 0.7084 - output_mulliken_charges_loss: 0.5937 - output_potential_energy_loss: 0.6284 - output_scalar_coupling_contributions_loss: 0.1801 - val_loss: 3.3539 - val_scc_loss: 0.1805 - val_output_dipole_moments_loss: 0.7635 - val_output_magnetic_shielding_tensors_loss: 0.8321 - val_output_mulliken_charges_loss: 0.7388 - val_output_potential_energy_loss: 0.6645 - val_output_scalar_coupling_contributions_loss: 0.1730\n",
      "Epoch 44/100\n",
      "14699/14699 [==============================] - 2s 164us/sample - loss: 2.9577 - scc_loss: 0.1916 - output_dipole_moments_loss: 0.6666 - output_magnetic_shielding_tensors_loss: 0.7072 - output_mulliken_charges_loss: 0.5901 - output_potential_energy_loss: 0.6237 - output_scalar_coupling_contributions_loss: 0.1802 - val_loss: 3.3283 - val_scc_loss: 0.1971 - val_output_dipole_moments_loss: 0.7494 - val_output_magnetic_shielding_tensors_loss: 0.8114 - val_output_mulliken_charges_loss: 0.7464 - val_output_potential_energy_loss: 0.6598 - val_output_scalar_coupling_contributions_loss: 0.1585\n",
      "Epoch 45/100\n",
      "14699/14699 [==============================] - 2s 164us/sample - loss: 2.9592 - scc_loss: 0.1912 - output_dipole_moments_loss: 0.6679 - output_magnetic_shielding_tensors_loss: 0.7056 - output_mulliken_charges_loss: 0.5938 - output_potential_energy_loss: 0.6224 - output_scalar_coupling_contributions_loss: 0.1800 - val_loss: 3.2911 - val_scc_loss: 0.1617 - val_output_dipole_moments_loss: 0.7498 - val_output_magnetic_shielding_tensors_loss: 0.8339 - val_output_mulliken_charges_loss: 0.7363 - val_output_potential_energy_loss: 0.6719 - val_output_scalar_coupling_contributions_loss: 0.1503\n",
      "Epoch 46/100\n",
      "14699/14699 [==============================] - 2s 165us/sample - loss: 2.9531 - scc_loss: 0.1883 - output_dipole_moments_loss: 0.6672 - output_magnetic_shielding_tensors_loss: 0.7073 - output_mulliken_charges_loss: 0.5893 - output_potential_energy_loss: 0.6229 - output_scalar_coupling_contributions_loss: 0.1796 - val_loss: 3.3181 - val_scc_loss: 0.2021 - val_output_dipole_moments_loss: 0.7442 - val_output_magnetic_shielding_tensors_loss: 0.8073 - val_output_mulliken_charges_loss: 0.7389 - val_output_potential_energy_loss: 0.6571 - val_output_scalar_coupling_contributions_loss: 0.1699\n",
      "Epoch 47/100\n",
      "14699/14699 [==============================] - 2s 164us/sample - loss: 2.9605 - scc_loss: 0.1892 - output_dipole_moments_loss: 0.6697 - output_magnetic_shielding_tensors_loss: 0.7080 - output_mulliken_charges_loss: 0.5943 - output_potential_energy_loss: 0.6247 - output_scalar_coupling_contributions_loss: 0.1765 - val_loss: 3.2830 - val_scc_loss: 0.1769 - val_output_dipole_moments_loss: 0.7448 - val_output_magnetic_shielding_tensors_loss: 0.8191 - val_output_mulliken_charges_loss: 0.7354 - val_output_potential_energy_loss: 0.6578 - val_output_scalar_coupling_contributions_loss: 0.1550\n",
      "Epoch 48/100\n",
      "14699/14699 [==============================] - 2s 163us/sample - loss: 2.9469 - scc_loss: 0.1865 - output_dipole_moments_loss: 0.6683 - output_magnetic_shielding_tensors_loss: 0.7063 - output_mulliken_charges_loss: 0.5895 - output_potential_energy_loss: 0.6218 - output_scalar_coupling_contributions_loss: 0.1760 - val_loss: 3.3245 - val_scc_loss: 0.1821 - val_output_dipole_moments_loss: 0.7787 - val_output_magnetic_shielding_tensors_loss: 0.8401 - val_output_mulliken_charges_loss: 0.7412 - val_output_potential_energy_loss: 0.6791 - val_output_scalar_coupling_contributions_loss: 0.1537\n",
      "Epoch 49/100\n",
      "14699/14699 [==============================] - 2s 166us/sample - loss: 2.9590 - scc_loss: 0.1876 - output_dipole_moments_loss: 0.6691 - output_magnetic_shielding_tensors_loss: 0.7063 - output_mulliken_charges_loss: 0.5960 - output_potential_energy_loss: 0.6259 - output_scalar_coupling_contributions_loss: 0.1759 - val_loss: 3.2594 - val_scc_loss: 0.1639 - val_output_dipole_moments_loss: 0.7638 - val_output_magnetic_shielding_tensors_loss: 0.8142 - val_output_mulliken_charges_loss: 0.7274 - val_output_potential_energy_loss: 0.6637 - val_output_scalar_coupling_contributions_loss: 0.1473\n",
      "Epoch 50/100\n",
      "14699/14699 [==============================] - 2s 164us/sample - loss: 2.9526 - scc_loss: 0.1906 - output_dipole_moments_loss: 0.6692 - output_magnetic_shielding_tensors_loss: 0.7053 - output_mulliken_charges_loss: 0.5912 - output_potential_energy_loss: 0.6220 - output_scalar_coupling_contributions_loss: 0.1760 - val_loss: 3.2571 - val_scc_loss: 0.1627 - val_output_dipole_moments_loss: 0.7418 - val_output_magnetic_shielding_tensors_loss: 0.8151 - val_output_mulliken_charges_loss: 0.7413 - val_output_potential_energy_loss: 0.6522 - val_output_scalar_coupling_contributions_loss: 0.1456\n",
      "Epoch 51/100\n",
      "14699/14699 [==============================] - 2s 164us/sample - loss: 2.9325 - scc_loss: 0.1799 - output_dipole_moments_loss: 0.6681 - output_magnetic_shielding_tensors_loss: 0.7052 - output_mulliken_charges_loss: 0.5873 - output_potential_energy_loss: 0.6223 - output_scalar_coupling_contributions_loss: 0.1713 - val_loss: 3.2781 - val_scc_loss: 0.1726 - val_output_dipole_moments_loss: 0.7516 - val_output_magnetic_shielding_tensors_loss: 0.8196 - val_output_mulliken_charges_loss: 0.7308 - val_output_potential_energy_loss: 0.6623 - val_output_scalar_coupling_contributions_loss: 0.1455\n",
      "Epoch 52/100\n",
      "14699/14699 [==============================] - 2s 164us/sample - loss: 2.9310 - scc_loss: 0.1828 - output_dipole_moments_loss: 0.6684 - output_magnetic_shielding_tensors_loss: 0.7044 - output_mulliken_charges_loss: 0.5866 - output_potential_energy_loss: 0.6213 - output_scalar_coupling_contributions_loss: 0.1692 - val_loss: 3.2217 - val_scc_loss: 0.1496 - val_output_dipole_moments_loss: 0.7449 - val_output_magnetic_shielding_tensors_loss: 0.8056 - val_output_mulliken_charges_loss: 0.7181 - val_output_potential_energy_loss: 0.6576 - val_output_scalar_coupling_contributions_loss: 0.1457\n",
      "Epoch 53/100\n",
      "14699/14699 [==============================] - 2s 163us/sample - loss: 2.9286 - scc_loss: 0.1812 - output_dipole_moments_loss: 0.6669 - output_magnetic_shielding_tensors_loss: 0.7061 - output_mulliken_charges_loss: 0.5847 - output_potential_energy_loss: 0.6207 - output_scalar_coupling_contributions_loss: 0.1707 - val_loss: 3.2921 - val_scc_loss: 0.1593 - val_output_dipole_moments_loss: 0.7541 - val_output_magnetic_shielding_tensors_loss: 0.8351 - val_output_mulliken_charges_loss: 0.7305 - val_output_potential_energy_loss: 0.6641 - val_output_scalar_coupling_contributions_loss: 0.1454\n",
      "Epoch 54/100\n",
      "14699/14699 [==============================] - 2s 165us/sample - loss: 2.9250 - scc_loss: 0.1796 - output_dipole_moments_loss: 0.6663 - output_magnetic_shielding_tensors_loss: 0.7068 - output_mulliken_charges_loss: 0.5877 - output_potential_energy_loss: 0.6166 - output_scalar_coupling_contributions_loss: 0.1698 - val_loss: 3.2763 - val_scc_loss: 0.1502 - val_output_dipole_moments_loss: 0.7422 - val_output_magnetic_shielding_tensors_loss: 0.8326 - val_output_mulliken_charges_loss: 0.7275 - val_output_potential_energy_loss: 0.6751 - val_output_scalar_coupling_contributions_loss: 0.1444\n",
      "Epoch 55/100\n",
      "14699/14699 [==============================] - 2s 164us/sample - loss: 2.9292 - scc_loss: 0.1812 - output_dipole_moments_loss: 0.6660 - output_magnetic_shielding_tensors_loss: 0.7066 - output_mulliken_charges_loss: 0.5850 - output_potential_energy_loss: 0.6227 - output_scalar_coupling_contributions_loss: 0.1691 - val_loss: 3.2454 - val_scc_loss: 0.1549 - val_output_dipole_moments_loss: 0.7422 - val_output_magnetic_shielding_tensors_loss: 0.8098 - val_output_mulliken_charges_loss: 0.7202 - val_output_potential_energy_loss: 0.6750 - val_output_scalar_coupling_contributions_loss: 0.1323\n",
      "Epoch 56/100\n",
      "14699/14699 [==============================] - 2s 162us/sample - loss: 2.9232 - scc_loss: 0.1784 - output_dipole_moments_loss: 0.6653 - output_magnetic_shielding_tensors_loss: 0.7062 - output_mulliken_charges_loss: 0.5876 - output_potential_energy_loss: 0.6165 - output_scalar_coupling_contributions_loss: 0.1708 - val_loss: 3.2439 - val_scc_loss: 0.1495 - val_output_dipole_moments_loss: 0.7470 - val_output_magnetic_shielding_tensors_loss: 0.8152 - val_output_mulliken_charges_loss: 0.7205 - val_output_potential_energy_loss: 0.6607 - val_output_scalar_coupling_contributions_loss: 0.1480\n",
      "Epoch 57/100\n",
      "14699/14699 [==============================] - 2s 166us/sample - loss: 2.9247 - scc_loss: 0.1814 - output_dipole_moments_loss: 0.6676 - output_magnetic_shielding_tensors_loss: 0.7054 - output_mulliken_charges_loss: 0.5864 - output_potential_energy_loss: 0.6174 - output_scalar_coupling_contributions_loss: 0.1684 - val_loss: 3.2440 - val_scc_loss: 0.1430 - val_output_dipole_moments_loss: 0.7419 - val_output_magnetic_shielding_tensors_loss: 0.8271 - val_output_mulliken_charges_loss: 0.7223 - val_output_potential_energy_loss: 0.6813 - val_output_scalar_coupling_contributions_loss: 0.1379\n",
      "Epoch 58/100\n",
      "14699/14699 [==============================] - 2s 162us/sample - loss: 2.9216 - scc_loss: 0.1797 - output_dipole_moments_loss: 0.6667 - output_magnetic_shielding_tensors_loss: 0.7040 - output_mulliken_charges_loss: 0.5870 - output_potential_energy_loss: 0.6189 - output_scalar_coupling_contributions_loss: 0.1671 - val_loss: 3.3217 - val_scc_loss: 0.1619 - val_output_dipole_moments_loss: 0.7535 - val_output_magnetic_shielding_tensors_loss: 0.8136 - val_output_mulliken_charges_loss: 0.7411 - val_output_potential_energy_loss: 0.7041 - val_output_scalar_coupling_contributions_loss: 0.1492\n",
      "Epoch 59/100\n",
      "14699/14699 [==============================] - 2s 159us/sample - loss: 2.9336 - scc_loss: 0.1784 - output_dipole_moments_loss: 0.6718 - output_magnetic_shielding_tensors_loss: 0.7044 - output_mulliken_charges_loss: 0.5851 - output_potential_energy_loss: 0.6256 - output_scalar_coupling_contributions_loss: 0.1697 - val_loss: 3.3715 - val_scc_loss: 0.1589 - val_output_dipole_moments_loss: 0.7692 - val_output_magnetic_shielding_tensors_loss: 0.8377 - val_output_mulliken_charges_loss: 0.7558 - val_output_potential_energy_loss: 0.7036 - val_output_scalar_coupling_contributions_loss: 0.1562\n",
      "Epoch 60/100\n",
      "14699/14699 [==============================] - 2s 164us/sample - loss: 2.9212 - scc_loss: 0.1741 - output_dipole_moments_loss: 0.6713 - output_magnetic_shielding_tensors_loss: 0.7032 - output_mulliken_charges_loss: 0.5884 - output_potential_energy_loss: 0.6166 - output_scalar_coupling_contributions_loss: 0.1691 - val_loss: 3.3010 - val_scc_loss: 0.1597 - val_output_dipole_moments_loss: 0.7596 - val_output_magnetic_shielding_tensors_loss: 0.8141 - val_output_mulliken_charges_loss: 0.7382 - val_output_potential_energy_loss: 0.6888 - val_output_scalar_coupling_contributions_loss: 0.1389\n",
      "Epoch 61/100\n",
      "14699/14699 [==============================] - 2s 161us/sample - loss: 2.9218 - scc_loss: 0.1743 - output_dipole_moments_loss: 0.6690 - output_magnetic_shielding_tensors_loss: 0.7049 - output_mulliken_charges_loss: 0.5845 - output_potential_energy_loss: 0.6272 - output_scalar_coupling_contributions_loss: 0.1637 - val_loss: 3.2994 - val_scc_loss: 0.1440 - val_output_dipole_moments_loss: 0.7535 - val_output_magnetic_shielding_tensors_loss: 0.8285 - val_output_mulliken_charges_loss: 0.7470 - val_output_potential_energy_loss: 0.6850 - val_output_scalar_coupling_contributions_loss: 0.1370\n",
      "Epoch 62/100\n",
      "14699/14699 [==============================] - 2s 162us/sample - loss: 2.9237 - scc_loss: 0.1784 - output_dipole_moments_loss: 0.6678 - output_magnetic_shielding_tensors_loss: 0.7061 - output_mulliken_charges_loss: 0.5881 - output_potential_energy_loss: 0.6187 - output_scalar_coupling_contributions_loss: 0.1663 - val_loss: 3.2694 - val_scc_loss: 0.1553 - val_output_dipole_moments_loss: 0.7456 - val_output_magnetic_shielding_tensors_loss: 0.8126 - val_output_mulliken_charges_loss: 0.7390 - val_output_potential_energy_loss: 0.6739 - val_output_scalar_coupling_contributions_loss: 0.1388\n",
      "Epoch 63/100\n",
      "14699/14699 [==============================] - 2s 163us/sample - loss: 2.9057 - scc_loss: 0.1749 - output_dipole_moments_loss: 0.6629 - output_magnetic_shielding_tensors_loss: 0.7042 - output_mulliken_charges_loss: 0.5832 - output_potential_energy_loss: 0.6183 - output_scalar_coupling_contributions_loss: 0.1636 - val_loss: 3.2746 - val_scc_loss: 0.1453 - val_output_dipole_moments_loss: 0.7534 - val_output_magnetic_shielding_tensors_loss: 0.8213 - val_output_mulliken_charges_loss: 0.7331 - val_output_potential_energy_loss: 0.7027 - val_output_scalar_coupling_contributions_loss: 0.1295\n",
      "Epoch 64/100\n",
      "14699/14699 [==============================] - 2s 162us/sample - loss: 2.9046 - scc_loss: 0.1745 - output_dipole_moments_loss: 0.6663 - output_magnetic_shielding_tensors_loss: 0.7035 - output_mulliken_charges_loss: 0.5863 - output_potential_energy_loss: 0.6137 - output_scalar_coupling_contributions_loss: 0.1619 - val_loss: 3.3199 - val_scc_loss: 0.1695 - val_output_dipole_moments_loss: 0.7538 - val_output_magnetic_shielding_tensors_loss: 0.8691 - val_output_mulliken_charges_loss: 0.7443 - val_output_potential_energy_loss: 0.6744 - val_output_scalar_coupling_contributions_loss: 0.1446\n",
      "Epoch 65/100\n",
      "14699/14699 [==============================] - 2s 163us/sample - loss: 2.9076 - scc_loss: 0.1760 - output_dipole_moments_loss: 0.6656 - output_magnetic_shielding_tensors_loss: 0.7049 - output_mulliken_charges_loss: 0.5833 - output_potential_energy_loss: 0.6152 - output_scalar_coupling_contributions_loss: 0.1644 - val_loss: 3.3404 - val_scc_loss: 0.1580 - val_output_dipole_moments_loss: 0.7637 - val_output_magnetic_shielding_tensors_loss: 0.8184 - val_output_mulliken_charges_loss: 0.7238 - val_output_potential_energy_loss: 0.7160 - val_output_scalar_coupling_contributions_loss: 0.1535\n",
      "Epoch 66/100\n",
      "14699/14699 [==============================] - 2s 161us/sample - loss: 2.8918 - scc_loss: 0.1711 - output_dipole_moments_loss: 0.6647 - output_magnetic_shielding_tensors_loss: 0.7044 - output_mulliken_charges_loss: 0.5797 - output_potential_energy_loss: 0.6105 - output_scalar_coupling_contributions_loss: 0.1631 - val_loss: 3.3240 - val_scc_loss: 0.1868 - val_output_dipole_moments_loss: 0.7421 - val_output_magnetic_shielding_tensors_loss: 0.8428 - val_output_mulliken_charges_loss: 0.7342 - val_output_potential_energy_loss: 0.6786 - val_output_scalar_coupling_contributions_loss: 0.1357\n",
      "Epoch 67/100\n",
      "14699/14699 [==============================] - 2s 162us/sample - loss: 2.8991 - scc_loss: 0.1754 - output_dipole_moments_loss: 0.6666 - output_magnetic_shielding_tensors_loss: 0.7036 - output_mulliken_charges_loss: 0.5805 - output_potential_energy_loss: 0.6117 - output_scalar_coupling_contributions_loss: 0.1629 - val_loss: 3.2745 - val_scc_loss: 0.1472 - val_output_dipole_moments_loss: 0.7576 - val_output_magnetic_shielding_tensors_loss: 0.8179 - val_output_mulliken_charges_loss: 0.7269 - val_output_potential_energy_loss: 0.6807 - val_output_scalar_coupling_contributions_loss: 0.1445\n",
      "Epoch 68/100\n",
      "14699/14699 [==============================] - 2s 166us/sample - loss: 2.8951 - scc_loss: 0.1699 - output_dipole_moments_loss: 0.6682 - output_magnetic_shielding_tensors_loss: 0.7038 - output_mulliken_charges_loss: 0.5795 - output_potential_energy_loss: 0.6137 - output_scalar_coupling_contributions_loss: 0.1617 - val_loss: 3.2944 - val_scc_loss: 0.1585 - val_output_dipole_moments_loss: 0.7459 - val_output_magnetic_shielding_tensors_loss: 0.8322 - val_output_mulliken_charges_loss: 0.7401 - val_output_potential_energy_loss: 0.6721 - val_output_scalar_coupling_contributions_loss: 0.1372\n",
      "Epoch 69/100\n",
      "14699/14699 [==============================] - 2s 164us/sample - loss: 2.8889 - scc_loss: 0.1648 - output_dipole_moments_loss: 0.6667 - output_magnetic_shielding_tensors_loss: 0.7031 - output_mulliken_charges_loss: 0.5832 - output_potential_energy_loss: 0.6093 - output_scalar_coupling_contributions_loss: 0.1634 - val_loss: 3.3063 - val_scc_loss: 0.1465 - val_output_dipole_moments_loss: 0.7513 - val_output_magnetic_shielding_tensors_loss: 0.8206 - val_output_mulliken_charges_loss: 0.7539 - val_output_potential_energy_loss: 0.6915 - val_output_scalar_coupling_contributions_loss: 0.1449\n",
      "Epoch 70/100\n",
      "14699/14699 [==============================] - 2s 159us/sample - loss: 2.8845 - scc_loss: 0.1646 - output_dipole_moments_loss: 0.6655 - output_magnetic_shielding_tensors_loss: 0.7027 - output_mulliken_charges_loss: 0.5833 - output_potential_energy_loss: 0.6102 - output_scalar_coupling_contributions_loss: 0.1595 - val_loss: 3.2318 - val_scc_loss: 0.1379 - val_output_dipole_moments_loss: 0.7389 - val_output_magnetic_shielding_tensors_loss: 0.8006 - val_output_mulliken_charges_loss: 0.7325 - val_output_potential_energy_loss: 0.6853 - val_output_scalar_coupling_contributions_loss: 0.1330\n",
      "Epoch 71/100\n",
      "14699/14699 [==============================] - 2s 160us/sample - loss: 2.8985 - scc_loss: 0.1750 - output_dipole_moments_loss: 0.6658 - output_magnetic_shielding_tensors_loss: 0.7031 - output_mulliken_charges_loss: 0.5838 - output_potential_energy_loss: 0.6098 - output_scalar_coupling_contributions_loss: 0.1625 - val_loss: 4.5271 - val_scc_loss: 0.4435 - val_output_dipole_moments_loss: 0.8242 - val_output_magnetic_shielding_tensors_loss: 1.1414 - val_output_mulliken_charges_loss: 0.8643 - val_output_potential_energy_loss: 0.8872 - val_output_scalar_coupling_contributions_loss: 0.4173\n",
      "Epoch 72/100\n",
      "14699/14699 [==============================] - 2s 163us/sample - loss: 2.8980 - scc_loss: 0.1730 - output_dipole_moments_loss: 0.6675 - output_magnetic_shielding_tensors_loss: 0.7057 - output_mulliken_charges_loss: 0.5805 - output_potential_energy_loss: 0.6100 - output_scalar_coupling_contributions_loss: 0.1629 - val_loss: 3.4072 - val_scc_loss: 0.2369 - val_output_dipole_moments_loss: 0.7662 - val_output_magnetic_shielding_tensors_loss: 0.8384 - val_output_mulliken_charges_loss: 0.7259 - val_output_potential_energy_loss: 0.6846 - val_output_scalar_coupling_contributions_loss: 0.1671\n",
      "Epoch 73/100\n",
      "14699/14699 [==============================] - 2s 159us/sample - loss: 2.8913 - scc_loss: 0.1710 - output_dipole_moments_loss: 0.6656 - output_magnetic_shielding_tensors_loss: 0.7032 - output_mulliken_charges_loss: 0.5831 - output_potential_energy_loss: 0.6077 - output_scalar_coupling_contributions_loss: 0.1618 - val_loss: 3.2850 - val_scc_loss: 0.1598 - val_output_dipole_moments_loss: 0.7438 - val_output_magnetic_shielding_tensors_loss: 0.8179 - val_output_mulliken_charges_loss: 0.7408 - val_output_potential_energy_loss: 0.6746 - val_output_scalar_coupling_contributions_loss: 0.1368\n",
      "Epoch 74/100\n",
      "14699/14699 [==============================] - 2s 160us/sample - loss: 2.8812 - scc_loss: 0.1675 - output_dipole_moments_loss: 0.6645 - output_magnetic_shielding_tensors_loss: 0.7019 - output_mulliken_charges_loss: 0.5812 - output_potential_energy_loss: 0.6063 - output_scalar_coupling_contributions_loss: 0.1612 - val_loss: 3.2297 - val_scc_loss: 0.1515 - val_output_dipole_moments_loss: 0.7389 - val_output_magnetic_shielding_tensors_loss: 0.8034 - val_output_mulliken_charges_loss: 0.7271 - val_output_potential_energy_loss: 0.6782 - val_output_scalar_coupling_contributions_loss: 0.1349\n",
      "Epoch 75/100\n",
      "14699/14699 [==============================] - 2s 157us/sample - loss: 2.8940 - scc_loss: 0.1706 - output_dipole_moments_loss: 0.6660 - output_magnetic_shielding_tensors_loss: 0.7040 - output_mulliken_charges_loss: 0.5799 - output_potential_energy_loss: 0.6138 - output_scalar_coupling_contributions_loss: 0.1613 - val_loss: 3.2192 - val_scc_loss: 0.1531 - val_output_dipole_moments_loss: 0.7387 - val_output_magnetic_shielding_tensors_loss: 0.7987 - val_output_mulliken_charges_loss: 0.7242 - val_output_potential_energy_loss: 0.6735 - val_output_scalar_coupling_contributions_loss: 0.1303\n",
      "Epoch 76/100\n",
      "14699/14699 [==============================] - 2s 158us/sample - loss: 2.8901 - scc_loss: 0.1715 - output_dipole_moments_loss: 0.6673 - output_magnetic_shielding_tensors_loss: 0.7039 - output_mulliken_charges_loss: 0.5788 - output_potential_energy_loss: 0.6102 - output_scalar_coupling_contributions_loss: 0.1601 - val_loss: 3.2093 - val_scc_loss: 0.1460 - val_output_dipole_moments_loss: 0.7402 - val_output_magnetic_shielding_tensors_loss: 0.7950 - val_output_mulliken_charges_loss: 0.7289 - val_output_potential_energy_loss: 0.6672 - val_output_scalar_coupling_contributions_loss: 0.1278\n",
      "Epoch 77/100\n",
      "14699/14699 [==============================] - 2s 159us/sample - loss: 2.8742 - scc_loss: 0.1661 - output_dipole_moments_loss: 0.6643 - output_magnetic_shielding_tensors_loss: 0.7016 - output_mulliken_charges_loss: 0.5795 - output_potential_energy_loss: 0.6054 - output_scalar_coupling_contributions_loss: 0.1589 - val_loss: 3.2683 - val_scc_loss: 0.1401 - val_output_dipole_moments_loss: 0.7516 - val_output_magnetic_shielding_tensors_loss: 0.8172 - val_output_mulliken_charges_loss: 0.7593 - val_output_potential_energy_loss: 0.6797 - val_output_scalar_coupling_contributions_loss: 0.1387\n",
      "Epoch 78/100\n",
      "14699/14699 [==============================] - 2s 160us/sample - loss: 2.8801 - scc_loss: 0.1669 - output_dipole_moments_loss: 0.6672 - output_magnetic_shielding_tensors_loss: 0.7029 - output_mulliken_charges_loss: 0.5808 - output_potential_energy_loss: 0.6059 - output_scalar_coupling_contributions_loss: 0.1578 - val_loss: 3.2628 - val_scc_loss: 0.1487 - val_output_dipole_moments_loss: 0.7625 - val_output_magnetic_shielding_tensors_loss: 0.8167 - val_output_mulliken_charges_loss: 0.7281 - val_output_potential_energy_loss: 0.6828 - val_output_scalar_coupling_contributions_loss: 0.1356\n",
      "Epoch 79/100\n",
      "14699/14699 [==============================] - 2s 160us/sample - loss: 2.8756 - scc_loss: 0.1649 - output_dipole_moments_loss: 0.6697 - output_magnetic_shielding_tensors_loss: 0.7025 - output_mulliken_charges_loss: 0.5747 - output_potential_energy_loss: 0.6065 - output_scalar_coupling_contributions_loss: 0.1591 - val_loss: 3.2547 - val_scc_loss: 0.1398 - val_output_dipole_moments_loss: 0.7585 - val_output_magnetic_shielding_tensors_loss: 0.7987 - val_output_mulliken_charges_loss: 0.7337 - val_output_potential_energy_loss: 0.6830 - val_output_scalar_coupling_contributions_loss: 0.1334\n",
      "Epoch 80/100\n",
      "14699/14699 [==============================] - 2s 160us/sample - loss: 2.8792 - scc_loss: 0.1700 - output_dipole_moments_loss: 0.6711 - output_magnetic_shielding_tensors_loss: 0.7023 - output_mulliken_charges_loss: 0.5775 - output_potential_energy_loss: 0.6031 - output_scalar_coupling_contributions_loss: 0.1568 - val_loss: 3.3669 - val_scc_loss: 0.1533 - val_output_dipole_moments_loss: 0.7737 - val_output_magnetic_shielding_tensors_loss: 0.8465 - val_output_mulliken_charges_loss: 0.7540 - val_output_potential_energy_loss: 0.6990 - val_output_scalar_coupling_contributions_loss: 0.1398\n",
      "Epoch 81/100\n",
      "14699/14699 [==============================] - 2s 160us/sample - loss: 2.8759 - scc_loss: 0.1675 - output_dipole_moments_loss: 0.6667 - output_magnetic_shielding_tensors_loss: 0.7022 - output_mulliken_charges_loss: 0.5783 - output_potential_energy_loss: 0.6025 - output_scalar_coupling_contributions_loss: 0.1604 - val_loss: 3.3079 - val_scc_loss: 0.1692 - val_output_dipole_moments_loss: 0.7581 - val_output_magnetic_shielding_tensors_loss: 0.8243 - val_output_mulliken_charges_loss: 0.7573 - val_output_potential_energy_loss: 0.6695 - val_output_scalar_coupling_contributions_loss: 0.1390\n",
      "Epoch 82/100\n",
      "14699/14699 [==============================] - 2s 159us/sample - loss: 2.8656 - scc_loss: 0.1637 - output_dipole_moments_loss: 0.6681 - output_magnetic_shielding_tensors_loss: 0.7019 - output_mulliken_charges_loss: 0.5740 - output_potential_energy_loss: 0.6025 - output_scalar_coupling_contributions_loss: 0.1571 - val_loss: 3.2538 - val_scc_loss: 0.1451 - val_output_dipole_moments_loss: 0.7441 - val_output_magnetic_shielding_tensors_loss: 0.8053 - val_output_mulliken_charges_loss: 0.7461 - val_output_potential_energy_loss: 0.6668 - val_output_scalar_coupling_contributions_loss: 0.1407\n",
      "Epoch 83/100\n",
      "14699/14699 [==============================] - 2s 160us/sample - loss: 2.8719 - scc_loss: 0.1610 - output_dipole_moments_loss: 0.6677 - output_magnetic_shielding_tensors_loss: 0.7018 - output_mulliken_charges_loss: 0.5810 - output_potential_energy_loss: 0.6041 - output_scalar_coupling_contributions_loss: 0.1579 - val_loss: 3.2110 - val_scc_loss: 0.1436 - val_output_dipole_moments_loss: 0.7394 - val_output_magnetic_shielding_tensors_loss: 0.7862 - val_output_mulliken_charges_loss: 0.7240 - val_output_potential_energy_loss: 0.6872 - val_output_scalar_coupling_contributions_loss: 0.1301\n",
      "Epoch 84/100\n",
      "14699/14699 [==============================] - 2s 159us/sample - loss: 2.8725 - scc_loss: 0.1662 - output_dipole_moments_loss: 0.6662 - output_magnetic_shielding_tensors_loss: 0.7032 - output_mulliken_charges_loss: 0.5780 - output_potential_energy_loss: 0.6021 - output_scalar_coupling_contributions_loss: 0.1586 - val_loss: 3.4110 - val_scc_loss: 0.1584 - val_output_dipole_moments_loss: 0.7636 - val_output_magnetic_shielding_tensors_loss: 0.8376 - val_output_mulliken_charges_loss: 0.7680 - val_output_potential_energy_loss: 0.7184 - val_output_scalar_coupling_contributions_loss: 0.1503\n",
      "Epoch 85/100\n",
      "14699/14699 [==============================] - 2s 159us/sample - loss: 2.8644 - scc_loss: 0.1638 - output_dipole_moments_loss: 0.6663 - output_magnetic_shielding_tensors_loss: 0.7015 - output_mulliken_charges_loss: 0.5768 - output_potential_energy_loss: 0.5978 - output_scalar_coupling_contributions_loss: 0.1597 - val_loss: 3.2751 - val_scc_loss: 0.1572 - val_output_dipole_moments_loss: 0.7375 - val_output_magnetic_shielding_tensors_loss: 0.8217 - val_output_mulliken_charges_loss: 0.7299 - val_output_potential_energy_loss: 0.6928 - val_output_scalar_coupling_contributions_loss: 0.1334\n",
      "Epoch 86/100\n",
      "14699/14699 [==============================] - 2s 159us/sample - loss: 2.8542 - scc_loss: 0.1637 - output_dipole_moments_loss: 0.6647 - output_magnetic_shielding_tensors_loss: 0.7014 - output_mulliken_charges_loss: 0.5719 - output_potential_energy_loss: 0.5975 - output_scalar_coupling_contributions_loss: 0.1564 - val_loss: 3.2990 - val_scc_loss: 0.1604 - val_output_dipole_moments_loss: 0.7441 - val_output_magnetic_shielding_tensors_loss: 0.8110 - val_output_mulliken_charges_loss: 0.7380 - val_output_potential_energy_loss: 0.6974 - val_output_scalar_coupling_contributions_loss: 0.1536\n",
      "Epoch 87/100\n",
      "14699/14699 [==============================] - 2s 157us/sample - loss: 2.8555 - scc_loss: 0.1650 - output_dipole_moments_loss: 0.6651 - output_magnetic_shielding_tensors_loss: 0.7013 - output_mulliken_charges_loss: 0.5743 - output_potential_energy_loss: 0.5956 - output_scalar_coupling_contributions_loss: 0.1555 - val_loss: 3.2581 - val_scc_loss: 0.1434 - val_output_dipole_moments_loss: 0.7460 - val_output_magnetic_shielding_tensors_loss: 0.8026 - val_output_mulliken_charges_loss: 0.7277 - val_output_potential_energy_loss: 0.7017 - val_output_scalar_coupling_contributions_loss: 0.1227\n",
      "Epoch 88/100\n",
      "14699/14699 [==============================] - 2s 156us/sample - loss: 2.8474 - scc_loss: 0.1584 - output_dipole_moments_loss: 0.6659 - output_magnetic_shielding_tensors_loss: 0.7019 - output_mulliken_charges_loss: 0.5730 - output_potential_energy_loss: 0.5965 - output_scalar_coupling_contributions_loss: 0.1535 - val_loss: 3.2281 - val_scc_loss: 0.1454 - val_output_dipole_moments_loss: 0.7364 - val_output_magnetic_shielding_tensors_loss: 0.7928 - val_output_mulliken_charges_loss: 0.7338 - val_output_potential_energy_loss: 0.6909 - val_output_scalar_coupling_contributions_loss: 0.1324\n",
      "Epoch 89/100\n",
      "14699/14699 [==============================] - 2s 158us/sample - loss: 2.8479 - scc_loss: 0.1608 - output_dipole_moments_loss: 0.6634 - output_magnetic_shielding_tensors_loss: 0.7003 - output_mulliken_charges_loss: 0.5716 - output_potential_energy_loss: 0.5987 - output_scalar_coupling_contributions_loss: 0.1545 - val_loss: 3.2966 - val_scc_loss: 0.1410 - val_output_dipole_moments_loss: 0.7508 - val_output_magnetic_shielding_tensors_loss: 0.8178 - val_output_mulliken_charges_loss: 0.7526 - val_output_potential_energy_loss: 0.7084 - val_output_scalar_coupling_contributions_loss: 0.1290\n",
      "Epoch 90/100\n",
      "14699/14699 [==============================] - 2s 156us/sample - loss: 2.8389 - scc_loss: 0.1573 - output_dipole_moments_loss: 0.6643 - output_magnetic_shielding_tensors_loss: 0.7010 - output_mulliken_charges_loss: 0.5715 - output_potential_energy_loss: 0.5927 - output_scalar_coupling_contributions_loss: 0.1537 - val_loss: 3.3308 - val_scc_loss: 0.1581 - val_output_dipole_moments_loss: 0.7466 - val_output_magnetic_shielding_tensors_loss: 0.8451 - val_output_mulliken_charges_loss: 0.7439 - val_output_potential_energy_loss: 0.7184 - val_output_scalar_coupling_contributions_loss: 0.1487\n",
      "Epoch 91/100\n",
      "14699/14699 [==============================] - 2s 158us/sample - loss: 2.8549 - scc_loss: 0.1607 - output_dipole_moments_loss: 0.6654 - output_magnetic_shielding_tensors_loss: 0.7018 - output_mulliken_charges_loss: 0.5731 - output_potential_energy_loss: 0.6029 - output_scalar_coupling_contributions_loss: 0.1527 - val_loss: 3.4299 - val_scc_loss: 0.1419 - val_output_dipole_moments_loss: 0.7589 - val_output_magnetic_shielding_tensors_loss: 0.9115 - val_output_mulliken_charges_loss: 0.7809 - val_output_potential_energy_loss: 0.6920 - val_output_scalar_coupling_contributions_loss: 0.1355\n",
      "Epoch 92/100\n",
      "14699/14699 [==============================] - 2s 156us/sample - loss: 2.8441 - scc_loss: 0.1591 - output_dipole_moments_loss: 0.6634 - output_magnetic_shielding_tensors_loss: 0.7011 - output_mulliken_charges_loss: 0.5718 - output_potential_energy_loss: 0.5956 - output_scalar_coupling_contributions_loss: 0.1547 - val_loss: 3.2768 - val_scc_loss: 0.1375 - val_output_dipole_moments_loss: 0.7442 - val_output_magnetic_shielding_tensors_loss: 0.8287 - val_output_mulliken_charges_loss: 0.7538 - val_output_potential_energy_loss: 0.6845 - val_output_scalar_coupling_contributions_loss: 0.1605\n",
      "Epoch 93/100\n",
      "14699/14699 [==============================] - 2s 159us/sample - loss: 2.8457 - scc_loss: 0.1595 - output_dipole_moments_loss: 0.6647 - output_magnetic_shielding_tensors_loss: 0.7024 - output_mulliken_charges_loss: 0.5714 - output_potential_energy_loss: 0.5932 - output_scalar_coupling_contributions_loss: 0.1557 - val_loss: 3.3396 - val_scc_loss: 0.1647 - val_output_dipole_moments_loss: 0.7594 - val_output_magnetic_shielding_tensors_loss: 0.8543 - val_output_mulliken_charges_loss: 0.7396 - val_output_potential_energy_loss: 0.6738 - val_output_scalar_coupling_contributions_loss: 0.1364\n",
      "Epoch 94/100\n",
      "14699/14699 [==============================] - 2s 160us/sample - loss: 2.8494 - scc_loss: 0.1593 - output_dipole_moments_loss: 0.6683 - output_magnetic_shielding_tensors_loss: 0.7014 - output_mulliken_charges_loss: 0.5713 - output_potential_energy_loss: 0.5974 - output_scalar_coupling_contributions_loss: 0.1532 - val_loss: 3.3131 - val_scc_loss: 0.1641 - val_output_dipole_moments_loss: 0.7669 - val_output_magnetic_shielding_tensors_loss: 0.8139 - val_output_mulliken_charges_loss: 0.7341 - val_output_potential_energy_loss: 0.7041 - val_output_scalar_coupling_contributions_loss: 0.1426\n",
      "Epoch 95/100\n",
      "14699/14699 [==============================] - 2s 156us/sample - loss: 2.8452 - scc_loss: 0.1560 - output_dipole_moments_loss: 0.6699 - output_magnetic_shielding_tensors_loss: 0.7017 - output_mulliken_charges_loss: 0.5686 - output_potential_energy_loss: 0.5978 - output_scalar_coupling_contributions_loss: 0.1524 - val_loss: 3.2131 - val_scc_loss: 0.1422 - val_output_dipole_moments_loss: 0.7446 - val_output_magnetic_shielding_tensors_loss: 0.7953 - val_output_mulliken_charges_loss: 0.7260 - val_output_potential_energy_loss: 0.6779 - val_output_scalar_coupling_contributions_loss: 0.1248\n",
      "Epoch 96/100\n",
      "14699/14699 [==============================] - 2s 158us/sample - loss: 2.8517 - scc_loss: 0.1610 - output_dipole_moments_loss: 0.6655 - output_magnetic_shielding_tensors_loss: 0.7032 - output_mulliken_charges_loss: 0.5700 - output_potential_energy_loss: 0.5985 - output_scalar_coupling_contributions_loss: 0.1550 - val_loss: 3.5473 - val_scc_loss: 0.1598 - val_output_dipole_moments_loss: 0.7966 - val_output_magnetic_shielding_tensors_loss: 0.9162 - val_output_mulliken_charges_loss: 0.7909 - val_output_potential_energy_loss: 0.6861 - val_output_scalar_coupling_contributions_loss: 0.1822\n",
      "Epoch 97/100\n",
      "14699/14699 [==============================] - 2s 158us/sample - loss: 2.8457 - scc_loss: 0.1594 - output_dipole_moments_loss: 0.6636 - output_magnetic_shielding_tensors_loss: 0.7016 - output_mulliken_charges_loss: 0.5713 - output_potential_energy_loss: 0.5974 - output_scalar_coupling_contributions_loss: 0.1539 - val_loss: 3.2410 - val_scc_loss: 0.1546 - val_output_dipole_moments_loss: 0.7407 - val_output_magnetic_shielding_tensors_loss: 0.7952 - val_output_mulliken_charges_loss: 0.7306 - val_output_potential_energy_loss: 0.6906 - val_output_scalar_coupling_contributions_loss: 0.1261\n",
      "Epoch 98/100\n",
      "14699/14699 [==============================] - 2s 156us/sample - loss: 2.8313 - scc_loss: 0.1576 - output_dipole_moments_loss: 0.6630 - output_magnetic_shielding_tensors_loss: 0.7014 - output_mulliken_charges_loss: 0.5687 - output_potential_energy_loss: 0.5912 - output_scalar_coupling_contributions_loss: 0.1509 - val_loss: 3.2437 - val_scc_loss: 0.1382 - val_output_dipole_moments_loss: 0.7452 - val_output_magnetic_shielding_tensors_loss: 0.8120 - val_output_mulliken_charges_loss: 0.7319 - val_output_potential_energy_loss: 0.6927 - val_output_scalar_coupling_contributions_loss: 0.1231\n",
      "Epoch 99/100\n",
      "14699/14699 [==============================] - 2s 160us/sample - loss: 2.8390 - scc_loss: 0.1599 - output_dipole_moments_loss: 0.6654 - output_magnetic_shielding_tensors_loss: 0.7010 - output_mulliken_charges_loss: 0.5696 - output_potential_energy_loss: 0.5928 - output_scalar_coupling_contributions_loss: 0.1517 - val_loss: 3.6574 - val_scc_loss: 0.1515 - val_output_dipole_moments_loss: 0.8373 - val_output_magnetic_shielding_tensors_loss: 0.9858 - val_output_mulliken_charges_loss: 0.8462 - val_output_potential_energy_loss: 0.6989 - val_output_scalar_coupling_contributions_loss: 0.1796\n",
      "Epoch 100/100\n",
      "14699/14699 [==============================] - 2s 159us/sample - loss: 2.8479 - scc_loss: 0.1636 - output_dipole_moments_loss: 0.6670 - output_magnetic_shielding_tensors_loss: 0.7011 - output_mulliken_charges_loss: 0.5694 - output_potential_energy_loss: 0.5955 - output_scalar_coupling_contributions_loss: 0.1526 - val_loss: 3.3230 - val_scc_loss: 0.1655 - val_output_dipole_moments_loss: 0.7453 - val_output_magnetic_shielding_tensors_loss: 0.8272 - val_output_mulliken_charges_loss: 0.7248 - val_output_potential_energy_loss: 0.7254 - val_output_scalar_coupling_contributions_loss: 0.1398\n",
      "Evaluating 9000 samples\n",
      "1JHC score: 0.9827616295606404 (trained on 21000 elements)\n"
     ]
    },
    {
     "data": {
      "image/png": "[encoded data removed]",
      "text/plain": [
       "<Figure size 1800x1800 with 2 Axes>"
      ]
     },
     "metadata": {
      "needs_background": "light"
     },
     "output_type": "display_data"
    }
   ],
   "source": [
    "### from models import NNModel\n",
    "from models import partition_data, NNModel\n",
    "\n",
    "# import tensorflow as tf\n",
    "# from tensorflow.keras import backend as tfbe\n",
    "\n",
    "# tf.reset_default_graph()\n",
    "\n",
    "# atom_count_ranges = [(1, 10), (11, 15), (16, 20), (21, 25), (26, 30)]\n",
    "# C_count_ranges = [(1, 5), (6, 6), (7, 7), (8, 9)]\n",
    "coupling_types = sorted(labelled_enh.type.unique())[0:1]\n",
    "def test(data, count=5000):\n",
    "    global model\n",
    "    global history\n",
    "    \n",
    "    plt.figure(figsize=(25, 25))\n",
    "    \n",
    "    for i, t in enumerate(coupling_types, 1):    \n",
    "        data_df = data[data.type == t].head(count)\n",
    "\n",
    "        train_df, valid_df, test_df = partition_data(data_df, train_frac=0.7, valid_frac=0)\n",
    "\n",
    "        if len(train_df) < 10 or len(test_df) < 10:\n",
    "            continue\n",
    "\n",
    "        print(f'Training {len(train_df)} samples for {t}')\n",
    "\n",
    "        model = NNModel(dict(molecules=molecules, \n",
    "                             structures=structures),\n",
    "                        **nn_args)\n",
    "        history = model.fit(train_df, train_df)\n",
    "        \n",
    "        print(f'Evaluating {len(test_df)} samples')\n",
    "        output, score = model.evaluate(test_df, test_df)\n",
    "        print(f'{t} score: {score} (trained on {len(train_df)} elements)')\n",
    "\n",
    "\n",
    "        plt.subplot(4, 4, 2 * i - 1)\n",
    "        plot_history(history, t)\n",
    "        \n",
    "        #print(output.shape, test_df.values.shape)\n",
    "        #pprint(list(zip(output[0:20, 0], test_df.scalar_coupling_constant[0:20])))\n",
    "\n",
    "        plt.subplot(4, 4, 2 * i)\n",
    "        plt.plot(test_df.scalar_coupling_constant, output, '*')\n",
    "        mn = min(test_df.scalar_coupling_constant.min(), output.min())\n",
    "        mx = min(test_df.scalar_coupling_constant.max(), output.max())\n",
    "\n",
    "        plt.plot([mn, mx], [mn, mx])\n",
    "        plt.title(t)\n",
    "                        \n",
    "    plt.show()\n",
    "        \n",
    "test(labelled_enh, 30000)\n"
   ]
  },
  {
   "cell_type": "code",
   "execution_count": 16,
   "metadata": {},
   "outputs": [],
   "source": [
    "w, b = model.model.layers[1].get_weights()"
   ]
  },
  {
   "cell_type": "code",
   "execution_count": 17,
   "metadata": {},
   "outputs": [],
   "source": [
    "w2 = w.sum(axis=1)"
   ]
  },
  {
   "cell_type": "code",
   "execution_count": 18,
   "metadata": {},
   "outputs": [
    {
     "data": {
      "text/plain": [
       "(-16.288034, 6.0512857, -0.16814478)"
      ]
     },
     "execution_count": 18,
     "metadata": {},
     "output_type": "execute_result"
    }
   ],
   "source": [
    "w2.min(), w2.max(), w2.mean()"
   ]
  },
  {
   "cell_type": "code",
   "execution_count": 19,
   "metadata": {},
   "outputs": [
    {
     "ename": "AttributeError",
     "evalue": "'NNModel' object has no attribute 'numeric_input_df'",
     "output_type": "error",
     "traceback": [
      "\u001b[0;31m---------------------------------------------------------------------------\u001b[0m",
      "\u001b[0;31mAttributeError\u001b[0m                            Traceback (most recent call last)",
      "\u001b[0;32m<ipython-input-19-a279564bc4b5>\u001b[0m in \u001b[0;36m<module>\u001b[0;34m\u001b[0m\n\u001b[0;32m----> 1\u001b[0;31m \u001b[0mmodel\u001b[0m\u001b[0;34m.\u001b[0m\u001b[0mnumeric_input_df\u001b[0m\u001b[0;34m.\u001b[0m\u001b[0mcolumns\u001b[0m\u001b[0;34m[\u001b[0m\u001b[0mnp\u001b[0m\u001b[0;34m.\u001b[0m\u001b[0mabs\u001b[0m\u001b[0;34m(\u001b[0m\u001b[0mw\u001b[0m\u001b[0;34m.\u001b[0m\u001b[0msum\u001b[0m\u001b[0;34m(\u001b[0m\u001b[0maxis\u001b[0m\u001b[0;34m=\u001b[0m\u001b[0;36m1\u001b[0m\u001b[0;34m)\u001b[0m\u001b[0;34m)\u001b[0m \u001b[0;34m>\u001b[0m \u001b[0;36m10\u001b[0m\u001b[0;34m]\u001b[0m\u001b[0;34m\u001b[0m\u001b[0;34m\u001b[0m\u001b[0m\n\u001b[0m",
      "\u001b[0;31mAttributeError\u001b[0m: 'NNModel' object has no attribute 'numeric_input_df'"
     ]
    }
   ],
   "source": [
    "model.numeric_input_df.columns[np.abs(w.sum(axis=1)) > 10]"
   ]
  },
  {
   "cell_type": "code",
   "execution_count": null,
   "metadata": {},
   "outputs": [],
   "source": []
  },
  {
   "cell_type": "code",
   "execution_count": null,
   "metadata": {},
   "outputs": [],
   "source": []
  },
  {
   "cell_type": "code",
   "execution_count": null,
   "metadata": {},
   "outputs": [],
   "source": []
  },
  {
   "cell_type": "code",
   "execution_count": null,
   "metadata": {},
   "outputs": [],
   "source": []
  },
  {
   "cell_type": "code",
   "execution_count": null,
   "metadata": {},
   "outputs": [],
   "source": []
  },
  {
   "cell_type": "code",
   "execution_count": null,
   "metadata": {},
   "outputs": [],
   "source": []
  },
  {
   "cell_type": "code",
   "execution_count": null,
   "metadata": {},
   "outputs": [],
   "source": []
  },
  {
   "cell_type": "code",
   "execution_count": null,
   "metadata": {},
   "outputs": [],
   "source": []
  },
  {
   "cell_type": "code",
   "execution_count": null,
   "metadata": {},
   "outputs": [],
   "source": []
  },
  {
   "cell_type": "code",
   "execution_count": null,
   "metadata": {},
   "outputs": [],
   "source": []
  },
  {
   "cell_type": "code",
   "execution_count": null,
   "metadata": {},
   "outputs": [],
   "source": []
  },
  {
   "cell_type": "code",
   "execution_count": null,
   "metadata": {},
   "outputs": [],
   "source": [
    "from models import partition_data, NNModel\n",
    "\n",
    "def train(data):\n",
    "    models = {}\n",
    "    for t in sorted(data.type.unique()):\n",
    "        train_df = data[data.type == t]\n",
    "        print(f'Training {len(train_df)} samples for {t}')\n",
    "        model = NNModel(dict(molecules=molecules, \n",
    "                             structures=structures),\n",
    "                        None)\n",
    "        models[t] = model\n",
    "        model.fit(train_df, train_df)\n",
    "    \n",
    "    return models\n",
    "\n",
    "models = train(labelled_enh)"
   ]
  },
  {
   "cell_type": "code",
   "execution_count": null,
   "metadata": {},
   "outputs": [],
   "source": [
    "unlabelled_enh.shape"
   ]
  },
  {
   "cell_type": "code",
   "execution_count": null,
   "metadata": {},
   "outputs": [],
   "source": [
    "def predict(data, models):\n",
    "    out_df = None\n",
    "    \n",
    "    for t in sorted(data.type.unique()):\n",
    "        predict_df = data[data.type == t]\n",
    "        print(f'Predicting {len(predict_df)} samples for {t}')\n",
    "        output = models[t].predict(predict_df)\n",
    "        \n",
    "        id = predict_df['id']\n",
    "        out_df_coupling = pd.DataFrame(data={'id':id, 'scalar_coupling_constant':output.flatten()}, index=predict_df.index)\n",
    "        \n",
    "        if out_df is None:\n",
    "            out_df = out_df_coupling\n",
    "        else:\n",
    "            out_df = out_df.append(out_df_coupling).sort_index()\n",
    "\n",
    "    return out_df.sort_index()\n",
    "    \n",
    "#%prun -s cumulative f(unlabelled.head(10000))\n",
    "prediction = predict(unlabelled_enh, models)"
   ]
  },
  {
   "cell_type": "code",
   "execution_count": null,
   "metadata": {},
   "outputs": [],
   "source": [
    "prediction.head()"
   ]
  },
  {
   "cell_type": "code",
   "execution_count": null,
   "metadata": {},
   "outputs": [],
   "source": [
    "prediction.to_csv('../data/pred.csv',index=False)"
   ]
  },
  {
   "cell_type": "code",
   "execution_count": null,
   "metadata": {},
   "outputs": [],
   "source": [
    "import pickle\n",
    "with open('nn.pickle', 'wb') as f:\n",
    "    pickle.dump(models, f)"
   ]
  },
  {
   "cell_type": "code",
   "execution_count": null,
   "metadata": {},
   "outputs": [],
   "source": [
    "models"
   ]
  },
  {
   "cell_type": "code",
   "execution_count": null,
   "metadata": {},
   "outputs": [],
   "source": []
  }
 ],
 "metadata": {
  "kernelspec": {
   "display_name": "Python 3",
   "language": "python",
   "name": "python3"
  },
  "language_info": {
   "codemirror_mode": {
    "name": "ipython",
    "version": 3
   },
   "file_extension": ".py",
   "mimetype": "text/x-python",
   "name": "python",
   "nbconvert_exporter": "python",
   "pygments_lexer": "ipython3",
   "version": "3.7.3"
  }
 },
 "nbformat": 4,
 "nbformat_minor": 4
}
