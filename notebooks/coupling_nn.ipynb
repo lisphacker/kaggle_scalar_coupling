{
 "cells": [
  {
   "cell_type": "code",
   "execution_count": 1,
   "metadata": {},
   "outputs": [],
   "source": [
    "%load_ext autoreload\n",
    "%autoreload 2\n",
    "\n",
    "%load_ext line_profiler"
   ]
  },
  {
   "cell_type": "code",
   "execution_count": 2,
   "metadata": {},
   "outputs": [],
   "source": [
    "import pandas as pd\n",
    "import numpy as np\n",
    "\n",
    "import  matplotlib.pyplot as plt\n",
    "import pickle\n",
    "\n",
    "from chemistry import Molecule\n",
    "from util import score\n",
    "from pprint import pprint\n"
   ]
  },
  {
   "cell_type": "code",
   "execution_count": 3,
   "metadata": {},
   "outputs": [],
   "source": [
    "with open('../data/molecules_enh.pickle', 'rb') as f:\n",
    "    molecules = pickle.load(f)"
   ]
  },
  {
   "cell_type": "code",
   "execution_count": 4,
   "metadata": {},
   "outputs": [
    {
     "name": "stderr",
     "output_type": "stream",
     "text": [
      "/home/gautham/apps/anaconda3/envs/kaggle/lib/python3.7/site-packages/pyarrow/pandas_compat.py:752: FutureWarning:\n",
      "\n",
      ".labels was deprecated in version 0.24.0. Use .codes instead.\n",
      "\n"
     ]
    }
   ],
   "source": [
    "structures = pd.read_feather('../data/structures_enh.feather')\n",
    "molecules_df = pd.read_feather('../data/molecules.feather')\n",
    "labelled = pd.read_feather('../data/train.feather')\n",
    "unlabelled = pd.read_feather('../data/test.feather')"
   ]
  },
  {
   "cell_type": "code",
   "execution_count": 5,
   "metadata": {},
   "outputs": [],
   "source": [
    "dipole_moments = pd.read_feather('../data/dipole_moments.feather')\n",
    "magnetic_shielding_tensors = pd.read_feather('../data/magnetic_shielding_tensors.feather')\n",
    "mulliken_charges = pd.read_feather('../data/mulliken_charges.feather')\n",
    "potential_energy = pd.read_feather('../data/potential_energy.feather')\n",
    "scalar_coupling_contributions = pd.read_feather('../data/scalar_coupling_contributions.feather')"
   ]
  },
  {
   "cell_type": "code",
   "execution_count": 6,
   "metadata": {},
   "outputs": [],
   "source": [
    "labelled_enh = labelled.merge(molecules_df, left_on='molecule_name', right_on='molecule_name')\n",
    "#labelled_enh.head(32)"
   ]
  },
  {
   "cell_type": "code",
   "execution_count": 7,
   "metadata": {},
   "outputs": [],
   "source": [
    "unlabelled_enh = unlabelled.merge(molecules_df, left_on='molecule_name', right_on='molecule_name')\n",
    "#unlabelled_enh.head(32)"
   ]
  },
  {
   "cell_type": "code",
   "execution_count": null,
   "metadata": {},
   "outputs": [],
   "source": [
    "len(labelled), len(labelled_enh)"
   ]
  },
  {
   "cell_type": "code",
   "execution_count": null,
   "metadata": {},
   "outputs": [],
   "source": [
    "nn_args = dict(dipole_moments=dipole_moments,\n",
    "               magnetic_shielding_tensors=magnetic_shielding_tensors,\n",
    "               mulliken_charges=mulliken_charges,\n",
    "               potential_energy=potential_energy,\n",
    "               scalar_coupling_contributions=scalar_coupling_contributions)"
   ]
  },
  {
   "cell_type": "code",
   "execution_count": null,
   "metadata": {},
   "outputs": [],
   "source": [
    "model.structures.dtypes"
   ]
  },
  {
   "cell_type": "code",
   "execution_count": null,
   "metadata": {},
   "outputs": [],
   "source": [
    "labelled_enh.dtypes"
   ]
  },
  {
   "cell_type": "code",
   "execution_count": null,
   "metadata": {},
   "outputs": [],
   "source": [
    "from models import NNModel, partition_data\n",
    "\n",
    "print('Running')\n",
    "\n",
    "#data_df = labelled[labelled.type == '1JHC'].head(10)\n",
    "data_df = labelled_enh.head(10)\n",
    "train_df, test_df = partition_data(data_df, train_frac=1)\n",
    "train_df = train_df.copy()\n",
    "        \n",
    "model = NNModel(model_args = dict(molecules=molecules,\n",
    "                                  structures=structures),\n",
    "               **nn_args)\n",
    "#model.corr(train_df, train_df)\n",
    "model.setup_data(train_df, train_df)"
   ]
  },
  {
   "cell_type": "code",
   "execution_count": null,
   "metadata": {},
   "outputs": [],
   "source": [
    "list(model.input_df.columns)"
   ]
  },
  {
   "cell_type": "code",
   "execution_count": null,
   "metadata": {},
   "outputs": [],
   "source": [
    "model.input_df.dtypes"
   ]
  },
  {
   "cell_type": "code",
   "execution_count": null,
   "metadata": {},
   "outputs": [],
   "source": [
    "labelled_enh.head()"
   ]
  },
  {
   "cell_type": "code",
   "execution_count": null,
   "metadata": {},
   "outputs": [],
   "source": [
    "import itertools"
   ]
  },
  {
   "cell_type": "code",
   "execution_count": null,
   "metadata": {},
   "outputs": [],
   "source": []
  },
  {
   "cell_type": "code",
   "execution_count": null,
   "metadata": {},
   "outputs": [],
   "source": [
    "df = labelled_enh.head(32)"
   ]
  },
  {
   "cell_type": "code",
   "execution_count": null,
   "metadata": {},
   "outputs": [],
   "source": [
    "#df[['molecule_name']].merge(dipole_moments, left_on='molecule_name', right_on='molecule_name')\n"
   ]
  },
  {
   "cell_type": "code",
   "execution_count": null,
   "metadata": {},
   "outputs": [],
   "source": []
  },
  {
   "cell_type": "code",
   "execution_count": 8,
   "metadata": {},
   "outputs": [],
   "source": [
    "def plot_history(history, label):\n",
    "    n = 5\n",
    "    \n",
    "    loss = np.array(history.history['merged_loss'], dtype='float32')\n",
    "    val_loss = np.array(history.history['val_merged_loss'], dtype='float32')\n",
    "    \n",
    "    loss_mean = loss.mean()\n",
    "    loss_nstd = n * loss.std()\n",
    "    \n",
    "    val_loss_mean = val_loss.mean()\n",
    "    val_loss_nstd = n * val_loss.std()\n",
    "       \n",
    "#     mn = min(loss_mean - loss_nstd, val_loss_mean - val_loss_nstd)\n",
    "#     mx = min(loss_mean + loss_nstd, val_loss_mean + val_loss_nstd)\n",
    "    mn = loss_mean - loss_nstd\n",
    "    mx = loss_mean + loss_nstd\n",
    "    \n",
    "#     print(loss.min(), loss.max())\n",
    "#     print(val_loss.min(), val_loss.max())\n",
    "#     print(loss_mean, loss_nstd, val_loss_mean, val_loss_nstd)\n",
    "#     print(mn, mx)\n",
    "    \n",
    "    plt.plot(loss)\n",
    "    plt.plot(val_loss)\n",
    "    plt.title('Loss for %s' % label)\n",
    "    plt.ylabel('Loss')\n",
    "    plt.xlabel('Epoch')\n",
    "    plt.ylim(mn, mx)\n",
    "    _= plt.legend(['Train','Validation'], loc='upper left')"
   ]
  },
  {
   "cell_type": "code",
   "execution_count": 9,
   "metadata": {},
   "outputs": [],
   "source": [
    "nn_args = dict(dipole_moments=dipole_moments,\n",
    "               magnetic_shielding_tensors=magnetic_shielding_tensors,\n",
    "               mulliken_charges=mulliken_charges,\n",
    "               potential_energy=potential_energy,\n",
    "               scalar_coupling_contributions=scalar_coupling_contributions,\n",
    "               epochs=100,\n",
    "               learning_rate=0.001,\n",
    "               validation_split=0.3\n",
    "               )"
   ]
  },
  {
   "cell_type": "code",
   "execution_count": null,
   "metadata": {},
   "outputs": [
    {
     "name": "stdout",
     "output_type": "stream",
     "text": [
      "Training 21000 samples for 1JHC\n"
     ]
    },
    {
     "name": "stderr",
     "output_type": "stream",
     "text": [
      "WARNING: Logging before flag parsing goes to stderr.\n",
      "W0817 05:07:15.682738 140054599849792 deprecation.py:506] From /home/gautham/apps/anaconda3/envs/kaggle/lib/python3.7/site-packages/tensorflow/python/keras/initializers.py:143: calling RandomNormal.__init__ (from tensorflow.python.ops.init_ops) with dtype is deprecated and will be removed in a future version.\n",
      "Instructions for updating:\n",
      "Call initializer instance with the dtype argument instead of passing it to the constructor\n",
      "W0817 05:07:16.853063 140054599849792 deprecation.py:506] From /home/gautham/apps/anaconda3/envs/kaggle/lib/python3.7/site-packages/tensorflow/python/ops/init_ops.py:1251: calling VarianceScaling.__init__ (from tensorflow.python.ops.init_ops) with dtype is deprecated and will be removed in a future version.\n",
      "Instructions for updating:\n",
      "Call initializer instance with the dtype argument instead of passing it to the constructor\n"
     ]
    },
    {
     "name": "stdout",
     "output_type": "stream",
     "text": [
      "Train on 14699 samples, validate on 6301 samples\n",
      "Epoch 1/100\n",
      "14699/14699 [==============================] - 7s 489us/sample - loss: 5.4379 - merged_loss: 0.9052 - output_dipole_moments_loss: 0.9686 - output_magnetic_shielding_tensors_loss: 0.9302 - output_mulliken_charges_loss: 0.8642 - output_potential_energy_loss: 1.0526 - output_scalar_coupling_contributions_loss: 0.7017 - val_loss: 118.3085 - val_merged_loss: 34.2069 - val_output_dipole_moments_loss: 29.8645 - val_output_magnetic_shielding_tensors_loss: 13.8705 - val_output_mulliken_charges_loss: 13.8565 - val_output_potential_energy_loss: 8.0721 - val_output_scalar_coupling_contributions_loss: 18.2784\n",
      "Epoch 2/100\n",
      "14699/14699 [==============================] - 3s 233us/sample - loss: 3.5560 - merged_loss: 0.4158 - output_dipole_moments_loss: 0.7420 - output_magnetic_shielding_tensors_loss: 0.7430 - output_mulliken_charges_loss: 0.5949 - output_potential_energy_loss: 0.6938 - output_scalar_coupling_contributions_loss: 0.3652 - val_loss: 18.5590 - val_merged_loss: 5.4029 - val_output_dipole_moments_loss: 1.3186 - val_output_magnetic_shielding_tensors_loss: 1.5798 - val_output_mulliken_charges_loss: 2.4565 - val_output_potential_energy_loss: 2.8653 - val_output_scalar_coupling_contributions_loss: 5.0281\n",
      "Epoch 3/100\n",
      "14699/14699 [==============================] - 4s 238us/sample - loss: 3.3376 - merged_loss: 0.3516 - output_dipole_moments_loss: 0.7131 - output_magnetic_shielding_tensors_loss: 0.7283 - output_mulliken_charges_loss: 0.5596 - output_potential_energy_loss: 0.6695 - output_scalar_coupling_contributions_loss: 0.3156 - val_loss: 6.0599 - val_merged_loss: 1.4002 - val_output_dipole_moments_loss: 0.9321 - val_output_magnetic_shielding_tensors_loss: 0.8725 - val_output_mulliken_charges_loss: 0.8031 - val_output_potential_energy_loss: 0.8444 - val_output_scalar_coupling_contributions_loss: 1.2030\n",
      "Epoch 4/100\n",
      "14699/14699 [==============================] - 4s 242us/sample - loss: 3.2648 - merged_loss: 0.3309 - output_dipole_moments_loss: 0.7094 - output_magnetic_shielding_tensors_loss: 0.7228 - output_mulliken_charges_loss: 0.5482 - output_potential_energy_loss: 0.6628 - output_scalar_coupling_contributions_loss: 0.2896 - val_loss: 3.9418 - val_merged_loss: 0.5724 - val_output_dipole_moments_loss: 0.7688 - val_output_magnetic_shielding_tensors_loss: 0.7926 - val_output_mulliken_charges_loss: 0.6366 - val_output_potential_energy_loss: 0.6754 - val_output_scalar_coupling_contributions_loss: 0.4923\n",
      "Epoch 5/100\n",
      "14699/14699 [==============================] - 4s 245us/sample - loss: 3.2120 - merged_loss: 0.3117 - output_dipole_moments_loss: 0.7035 - output_magnetic_shielding_tensors_loss: 0.7162 - output_mulliken_charges_loss: 0.5410 - output_potential_energy_loss: 0.6625 - output_scalar_coupling_contributions_loss: 0.2770 - val_loss: 3.5414 - val_merged_loss: 0.4403 - val_output_dipole_moments_loss: 0.7350 - val_output_magnetic_shielding_tensors_loss: 0.7715 - val_output_mulliken_charges_loss: 0.6078 - val_output_potential_energy_loss: 0.6669 - val_output_scalar_coupling_contributions_loss: 0.3153\n",
      "Epoch 6/100\n",
      "14699/14699 [==============================] - 4s 257us/sample - loss: 3.1335 - merged_loss: 0.2865 - output_dipole_moments_loss: 0.6964 - output_magnetic_shielding_tensors_loss: 0.7119 - output_mulliken_charges_loss: 0.5281 - output_potential_energy_loss: 0.6540 - output_scalar_coupling_contributions_loss: 0.2567 - val_loss: 3.3372 - val_merged_loss: 0.3086 - val_output_dipole_moments_loss: 0.7286 - val_output_magnetic_shielding_tensors_loss: 0.7664 - val_output_mulliken_charges_loss: 0.6203 - val_output_potential_energy_loss: 0.6562 - val_output_scalar_coupling_contributions_loss: 0.2607\n",
      "Epoch 7/100\n",
      "14699/14699 [==============================] - 4s 252us/sample - loss: 3.0712 - merged_loss: 0.2638 - output_dipole_moments_loss: 0.6907 - output_magnetic_shielding_tensors_loss: 0.7068 - output_mulliken_charges_loss: 0.5179 - output_potential_energy_loss: 0.6501 - output_scalar_coupling_contributions_loss: 0.2412 - val_loss: 3.2270 - val_merged_loss: 0.2656 - val_output_dipole_moments_loss: 0.7333 - val_output_magnetic_shielding_tensors_loss: 0.7678 - val_output_mulliken_charges_loss: 0.5971 - val_output_potential_energy_loss: 0.6569 - val_output_scalar_coupling_contributions_loss: 0.2100\n",
      "Epoch 8/100\n",
      "14699/14699 [==============================] - 4s 243us/sample - loss: 3.0516 - merged_loss: 0.2665 - output_dipole_moments_loss: 0.6892 - output_magnetic_shielding_tensors_loss: 0.7046 - output_mulliken_charges_loss: 0.5111 - output_potential_energy_loss: 0.6462 - output_scalar_coupling_contributions_loss: 0.2333 - val_loss: 3.2742 - val_merged_loss: 0.2889 - val_output_dipole_moments_loss: 0.7316 - val_output_magnetic_shielding_tensors_loss: 0.7675 - val_output_mulliken_charges_loss: 0.6043 - val_output_potential_energy_loss: 0.6750 - val_output_scalar_coupling_contributions_loss: 0.2042\n",
      "Epoch 9/100\n",
      "14699/14699 [==============================] - 3s 237us/sample - loss: 3.0359 - merged_loss: 0.2648 - output_dipole_moments_loss: 0.6879 - output_magnetic_shielding_tensors_loss: 0.7033 - output_mulliken_charges_loss: 0.5078 - output_potential_energy_loss: 0.6409 - output_scalar_coupling_contributions_loss: 0.2311 - val_loss: 3.2381 - val_merged_loss: 0.2741 - val_output_dipole_moments_loss: 0.7324 - val_output_magnetic_shielding_tensors_loss: 0.7673 - val_output_mulliken_charges_loss: 0.5974 - val_output_potential_energy_loss: 0.6617 - val_output_scalar_coupling_contributions_loss: 0.2007\n",
      "Epoch 10/100\n",
      "14699/14699 [==============================] - 4s 245us/sample - loss: 3.0332 - merged_loss: 0.2586 - output_dipole_moments_loss: 0.6895 - output_magnetic_shielding_tensors_loss: 0.7031 - output_mulliken_charges_loss: 0.5053 - output_potential_energy_loss: 0.6445 - output_scalar_coupling_contributions_loss: 0.2320 - val_loss: 3.5423 - val_merged_loss: 0.4155 - val_output_dipole_moments_loss: 0.7564 - val_output_magnetic_shielding_tensors_loss: 0.7838 - val_output_mulliken_charges_loss: 0.6015 - val_output_potential_energy_loss: 0.6936 - val_output_scalar_coupling_contributions_loss: 0.2702\n",
      "Epoch 11/100\n",
      "14699/14699 [==============================] - 3s 236us/sample - loss: 3.0003 - merged_loss: 0.2505 - output_dipole_moments_loss: 0.6850 - output_magnetic_shielding_tensors_loss: 0.6993 - output_mulliken_charges_loss: 0.4976 - output_potential_energy_loss: 0.6474 - output_scalar_coupling_contributions_loss: 0.2202 - val_loss: 3.1490 - val_merged_loss: 0.2179 - val_output_dipole_moments_loss: 0.7296 - val_output_magnetic_shielding_tensors_loss: 0.7673 - val_output_mulliken_charges_loss: 0.5807 - val_output_potential_energy_loss: 0.6607 - val_output_scalar_coupling_contributions_loss: 0.1904\n",
      "Epoch 12/100\n",
      "14699/14699 [==============================] - 4s 246us/sample - loss: 2.9614 - merged_loss: 0.2364 - output_dipole_moments_loss: 0.6831 - output_magnetic_shielding_tensors_loss: 0.6968 - output_mulliken_charges_loss: 0.4969 - output_potential_energy_loss: 0.6347 - output_scalar_coupling_contributions_loss: 0.2139 - val_loss: 3.2107 - val_merged_loss: 0.2711 - val_output_dipole_moments_loss: 0.7304 - val_output_magnetic_shielding_tensors_loss: 0.7622 - val_output_mulliken_charges_loss: 0.5757 - val_output_potential_energy_loss: 0.6679 - val_output_scalar_coupling_contributions_loss: 0.2028\n",
      "Epoch 13/100\n",
      "14699/14699 [==============================] - 3s 236us/sample - loss: 2.9601 - merged_loss: 0.2424 - output_dipole_moments_loss: 0.6834 - output_magnetic_shielding_tensors_loss: 0.6970 - output_mulliken_charges_loss: 0.4895 - output_potential_energy_loss: 0.6378 - output_scalar_coupling_contributions_loss: 0.2103 - val_loss: 3.2001 - val_merged_loss: 0.2410 - val_output_dipole_moments_loss: 0.7460 - val_output_magnetic_shielding_tensors_loss: 0.7718 - val_output_mulliken_charges_loss: 0.5947 - val_output_potential_energy_loss: 0.6757 - val_output_scalar_coupling_contributions_loss: 0.1728\n",
      "Epoch 14/100\n",
      "14699/14699 [==============================] - 3s 234us/sample - loss: 2.9378 - merged_loss: 0.2355 - output_dipole_moments_loss: 0.6784 - output_magnetic_shielding_tensors_loss: 0.6937 - output_mulliken_charges_loss: 0.4872 - output_potential_energy_loss: 0.6361 - output_scalar_coupling_contributions_loss: 0.2074 - val_loss: 3.2070 - val_merged_loss: 0.2431 - val_output_dipole_moments_loss: 0.7354 - val_output_magnetic_shielding_tensors_loss: 0.7680 - val_output_mulliken_charges_loss: 0.5757 - val_output_potential_energy_loss: 0.6890 - val_output_scalar_coupling_contributions_loss: 0.1864\n",
      "Epoch 15/100\n",
      "14699/14699 [==============================] - 3s 231us/sample - loss: 2.9145 - merged_loss: 0.2195 - output_dipole_moments_loss: 0.6787 - output_magnetic_shielding_tensors_loss: 0.6928 - output_mulliken_charges_loss: 0.4851 - output_potential_energy_loss: 0.6418 - output_scalar_coupling_contributions_loss: 0.1970 - val_loss: 3.1532 - val_merged_loss: 0.2408 - val_output_dipole_moments_loss: 0.7354 - val_output_magnetic_shielding_tensors_loss: 0.7639 - val_output_mulliken_charges_loss: 0.5764 - val_output_potential_energy_loss: 0.6586 - val_output_scalar_coupling_contributions_loss: 0.1776\n",
      "Epoch 16/100\n",
      "14699/14699 [==============================] - 3s 234us/sample - loss: 2.8943 - merged_loss: 0.2176 - output_dipole_moments_loss: 0.6819 - output_magnetic_shielding_tensors_loss: 0.6909 - output_mulliken_charges_loss: 0.4790 - output_potential_energy_loss: 0.6298 - output_scalar_coupling_contributions_loss: 0.1958 - val_loss: 3.1321 - val_merged_loss: 0.2083 - val_output_dipole_moments_loss: 0.7385 - val_output_magnetic_shielding_tensors_loss: 0.7674 - val_output_mulliken_charges_loss: 0.5828 - val_output_potential_energy_loss: 0.6652 - val_output_scalar_coupling_contributions_loss: 0.1658\n",
      "Epoch 17/100\n",
      "14699/14699 [==============================] - 3s 232us/sample - loss: 2.9044 - merged_loss: 0.2237 - output_dipole_moments_loss: 0.6838 - output_magnetic_shielding_tensors_loss: 0.6911 - output_mulliken_charges_loss: 0.4760 - output_potential_energy_loss: 0.6294 - output_scalar_coupling_contributions_loss: 0.2010 - val_loss: 3.2638 - val_merged_loss: 0.2281 - val_output_dipole_moments_loss: 0.7528 - val_output_magnetic_shielding_tensors_loss: 0.7721 - val_output_mulliken_charges_loss: 0.5892 - val_output_potential_energy_loss: 0.7731 - val_output_scalar_coupling_contributions_loss: 0.1655\n",
      "Epoch 18/100\n",
      "14699/14699 [==============================] - 3s 232us/sample - loss: 2.8624 - merged_loss: 0.2066 - output_dipole_moments_loss: 0.6794 - output_magnetic_shielding_tensors_loss: 0.6906 - output_mulliken_charges_loss: 0.4708 - output_potential_energy_loss: 0.6249 - output_scalar_coupling_contributions_loss: 0.1903 - val_loss: 3.2564 - val_merged_loss: 0.2887 - val_output_dipole_moments_loss: 0.7486 - val_output_magnetic_shielding_tensors_loss: 0.7813 - val_output_mulliken_charges_loss: 0.5745 - val_output_potential_energy_loss: 0.6724 - val_output_scalar_coupling_contributions_loss: 0.1902\n",
      "Epoch 19/100\n",
      "14699/14699 [==============================] - 3s 233us/sample - loss: 2.8411 - merged_loss: 0.2043 - output_dipole_moments_loss: 0.6745 - output_magnetic_shielding_tensors_loss: 0.6881 - output_mulliken_charges_loss: 0.4686 - output_potential_energy_loss: 0.6242 - output_scalar_coupling_contributions_loss: 0.1826 - val_loss: 3.1674 - val_merged_loss: 0.2223 - val_output_dipole_moments_loss: 0.7462 - val_output_magnetic_shielding_tensors_loss: 0.7711 - val_output_mulliken_charges_loss: 0.5989 - val_output_potential_energy_loss: 0.6705 - val_output_scalar_coupling_contributions_loss: 0.1647\n",
      "Epoch 20/100\n",
      "14699/14699 [==============================] - 3s 234us/sample - loss: 2.8359 - merged_loss: 0.2035 - output_dipole_moments_loss: 0.6740 - output_magnetic_shielding_tensors_loss: 0.6872 - output_mulliken_charges_loss: 0.4686 - output_potential_energy_loss: 0.6190 - output_scalar_coupling_contributions_loss: 0.1832 - val_loss: 3.1962 - val_merged_loss: 0.2185 - val_output_dipole_moments_loss: 0.7302 - val_output_magnetic_shielding_tensors_loss: 0.7658 - val_output_mulliken_charges_loss: 0.5900 - val_output_potential_energy_loss: 0.6851 - val_output_scalar_coupling_contributions_loss: 0.1964\n",
      "Epoch 21/100\n",
      "14699/14699 [==============================] - 3s 232us/sample - loss: 2.8269 - merged_loss: 0.2024 - output_dipole_moments_loss: 0.6722 - output_magnetic_shielding_tensors_loss: 0.6877 - output_mulliken_charges_loss: 0.4645 - output_potential_energy_loss: 0.6167 - output_scalar_coupling_contributions_loss: 0.1834 - val_loss: 3.1185 - val_merged_loss: 0.1931 - val_output_dipole_moments_loss: 0.7316 - val_output_magnetic_shielding_tensors_loss: 0.7641 - val_output_mulliken_charges_loss: 0.5855 - val_output_potential_energy_loss: 0.6825 - val_output_scalar_coupling_contributions_loss: 0.1629\n",
      "Epoch 22/100\n",
      "14699/14699 [==============================] - 3s 236us/sample - loss: 2.8128 - merged_loss: 0.2032 - output_dipole_moments_loss: 0.6712 - output_magnetic_shielding_tensors_loss: 0.6853 - output_mulliken_charges_loss: 0.4614 - output_potential_energy_loss: 0.6102 - output_scalar_coupling_contributions_loss: 0.1822 - val_loss: 3.1486 - val_merged_loss: 0.2143 - val_output_dipole_moments_loss: 0.7404 - val_output_magnetic_shielding_tensors_loss: 0.7713 - val_output_mulliken_charges_loss: 0.5814 - val_output_potential_energy_loss: 0.6794 - val_output_scalar_coupling_contributions_loss: 0.1743\n",
      "Epoch 23/100\n",
      "14699/14699 [==============================] - 3s 234us/sample - loss: 2.7958 - merged_loss: 0.1987 - output_dipole_moments_loss: 0.6716 - output_magnetic_shielding_tensors_loss: 0.6851 - output_mulliken_charges_loss: 0.4566 - output_potential_energy_loss: 0.6068 - output_scalar_coupling_contributions_loss: 0.1782 - val_loss: 3.1290 - val_merged_loss: 0.2090 - val_output_dipole_moments_loss: 0.7375 - val_output_magnetic_shielding_tensors_loss: 0.7637 - val_output_mulliken_charges_loss: 0.5703 - val_output_potential_energy_loss: 0.6962 - val_output_scalar_coupling_contributions_loss: 0.1561\n",
      "Epoch 24/100\n",
      "14699/14699 [==============================] - 3s 233us/sample - loss: 2.8099 - merged_loss: 0.2047 - output_dipole_moments_loss: 0.6744 - output_magnetic_shielding_tensors_loss: 0.6854 - output_mulliken_charges_loss: 0.4544 - output_potential_energy_loss: 0.6080 - output_scalar_coupling_contributions_loss: 0.1824 - val_loss: 3.1748 - val_merged_loss: 0.2197 - val_output_dipole_moments_loss: 0.7513 - val_output_magnetic_shielding_tensors_loss: 0.7663 - val_output_mulliken_charges_loss: 0.5740 - val_output_potential_energy_loss: 0.6924 - val_output_scalar_coupling_contributions_loss: 0.1700\n",
      "Epoch 25/100\n",
      "14699/14699 [==============================] - 3s 234us/sample - loss: 2.7910 - merged_loss: 0.2020 - output_dipole_moments_loss: 0.6691 - output_magnetic_shielding_tensors_loss: 0.6828 - output_mulliken_charges_loss: 0.4504 - output_potential_energy_loss: 0.6060 - output_scalar_coupling_contributions_loss: 0.1808 - val_loss: 3.1008 - val_merged_loss: 0.2108 - val_output_dipole_moments_loss: 0.7283 - val_output_magnetic_shielding_tensors_loss: 0.7582 - val_output_mulliken_charges_loss: 0.5639 - val_output_potential_energy_loss: 0.6730 - val_output_scalar_coupling_contributions_loss: 0.1646\n",
      "Epoch 26/100\n",
      "14699/14699 [==============================] - 3s 234us/sample - loss: 2.7768 - merged_loss: 0.1945 - output_dipole_moments_loss: 0.6708 - output_magnetic_shielding_tensors_loss: 0.6833 - output_mulliken_charges_loss: 0.4474 - output_potential_energy_loss: 0.6039 - output_scalar_coupling_contributions_loss: 0.1774 - val_loss: 3.0609 - val_merged_loss: 0.1744 - val_output_dipole_moments_loss: 0.7326 - val_output_magnetic_shielding_tensors_loss: 0.7659 - val_output_mulliken_charges_loss: 0.5670 - val_output_potential_energy_loss: 0.6765 - val_output_scalar_coupling_contributions_loss: 0.1443\n",
      "Epoch 27/100\n",
      "14699/14699 [==============================] - 3s 231us/sample - loss: 2.7691 - merged_loss: 0.1908 - output_dipole_moments_loss: 0.6700 - output_magnetic_shielding_tensors_loss: 0.6825 - output_mulliken_charges_loss: 0.4477 - output_potential_energy_loss: 0.6039 - output_scalar_coupling_contributions_loss: 0.1743 - val_loss: 3.1151 - val_merged_loss: 0.1818 - val_output_dipole_moments_loss: 0.7356 - val_output_magnetic_shielding_tensors_loss: 0.7646 - val_output_mulliken_charges_loss: 0.5817 - val_output_potential_energy_loss: 0.6820 - val_output_scalar_coupling_contributions_loss: 0.1672\n",
      "Epoch 28/100\n",
      "14699/14699 [==============================] - 3s 231us/sample - loss: 2.7507 - merged_loss: 0.1891 - output_dipole_moments_loss: 0.6682 - output_magnetic_shielding_tensors_loss: 0.6812 - output_mulliken_charges_loss: 0.4451 - output_potential_energy_loss: 0.5968 - output_scalar_coupling_contributions_loss: 0.1715 - val_loss: 3.1176 - val_merged_loss: 0.2109 - val_output_dipole_moments_loss: 0.7340 - val_output_magnetic_shielding_tensors_loss: 0.7655 - val_output_mulliken_charges_loss: 0.5766 - val_output_potential_energy_loss: 0.6727 - val_output_scalar_coupling_contributions_loss: 0.1659\n",
      "Epoch 29/100\n",
      "14699/14699 [==============================] - 3s 231us/sample - loss: 2.7627 - merged_loss: 0.1966 - output_dipole_moments_loss: 0.6685 - output_magnetic_shielding_tensors_loss: 0.6806 - output_mulliken_charges_loss: 0.4446 - output_potential_energy_loss: 0.5962 - output_scalar_coupling_contributions_loss: 0.1759 - val_loss: 3.2013 - val_merged_loss: 0.1904 - val_output_dipole_moments_loss: 0.7477 - val_output_magnetic_shielding_tensors_loss: 0.7934 - val_output_mulliken_charges_loss: 0.6124 - val_output_potential_energy_loss: 0.6918 - val_output_scalar_coupling_contributions_loss: 0.1603\n",
      "Epoch 30/100\n",
      "14699/14699 [==============================] - 4s 238us/sample - loss: 2.7381 - merged_loss: 0.1882 - output_dipole_moments_loss: 0.6684 - output_magnetic_shielding_tensors_loss: 0.6800 - output_mulliken_charges_loss: 0.4395 - output_potential_energy_loss: 0.5927 - output_scalar_coupling_contributions_loss: 0.1698 - val_loss: 3.1375 - val_merged_loss: 0.2095 - val_output_dipole_moments_loss: 0.7371 - val_output_magnetic_shielding_tensors_loss: 0.7594 - val_output_mulliken_charges_loss: 0.5612 - val_output_potential_energy_loss: 0.7086 - val_output_scalar_coupling_contributions_loss: 0.1648\n",
      "Epoch 31/100\n",
      "14699/14699 [==============================] - 4s 248us/sample - loss: 2.7339 - merged_loss: 0.1917 - output_dipole_moments_loss: 0.6700 - output_magnetic_shielding_tensors_loss: 0.6776 - output_mulliken_charges_loss: 0.4385 - output_potential_energy_loss: 0.5887 - output_scalar_coupling_contributions_loss: 0.1685 - val_loss: 3.2647 - val_merged_loss: 0.2653 - val_output_dipole_moments_loss: 0.7577 - val_output_magnetic_shielding_tensors_loss: 0.7692 - val_output_mulliken_charges_loss: 0.6029 - val_output_potential_energy_loss: 0.6993 - val_output_scalar_coupling_contributions_loss: 0.1624\n",
      "Epoch 32/100\n",
      "14699/14699 [==============================] - 3s 234us/sample - loss: 2.7149 - merged_loss: 0.1862 - output_dipole_moments_loss: 0.6679 - output_magnetic_shielding_tensors_loss: 0.6772 - output_mulliken_charges_loss: 0.4333 - output_potential_energy_loss: 0.5854 - output_scalar_coupling_contributions_loss: 0.1657 - val_loss: 3.0986 - val_merged_loss: 0.1974 - val_output_dipole_moments_loss: 0.7338 - val_output_magnetic_shielding_tensors_loss: 0.7584 - val_output_mulliken_charges_loss: 0.5651 - val_output_potential_energy_loss: 0.6917 - val_output_scalar_coupling_contributions_loss: 0.1502\n",
      "Epoch 33/100\n",
      "14699/14699 [==============================] - 3s 234us/sample - loss: 2.6902 - merged_loss: 0.1790 - output_dipole_moments_loss: 0.6646 - output_magnetic_shielding_tensors_loss: 0.6759 - output_mulliken_charges_loss: 0.4291 - output_potential_energy_loss: 0.5838 - output_scalar_coupling_contributions_loss: 0.1580 - val_loss: 3.0898 - val_merged_loss: 0.1908 - val_output_dipole_moments_loss: 0.7351 - val_output_magnetic_shielding_tensors_loss: 0.7589 - val_output_mulliken_charges_loss: 0.5599 - val_output_potential_energy_loss: 0.6958 - val_output_scalar_coupling_contributions_loss: 0.1451\n",
      "Epoch 34/100\n",
      "14699/14699 [==============================] - 3s 232us/sample - loss: 2.6900 - merged_loss: 0.1788 - output_dipole_moments_loss: 0.6654 - output_magnetic_shielding_tensors_loss: 0.6746 - output_mulliken_charges_loss: 0.4250 - output_potential_energy_loss: 0.5813 - output_scalar_coupling_contributions_loss: 0.1651 - val_loss: 3.0694 - val_merged_loss: 0.1792 - val_output_dipole_moments_loss: 0.7342 - val_output_magnetic_shielding_tensors_loss: 0.7534 - val_output_mulliken_charges_loss: 0.5521 - val_output_potential_energy_loss: 0.6982 - val_output_scalar_coupling_contributions_loss: 0.1479\n",
      "Epoch 35/100\n",
      "14699/14699 [==============================] - 4s 252us/sample - loss: 2.6732 - merged_loss: 0.1761 - output_dipole_moments_loss: 0.6646 - output_magnetic_shielding_tensors_loss: 0.6750 - output_mulliken_charges_loss: 0.4238 - output_potential_energy_loss: 0.5734 - output_scalar_coupling_contributions_loss: 0.1608 - val_loss: 3.0793 - val_merged_loss: 0.1856 - val_output_dipole_moments_loss: 0.7286 - val_output_magnetic_shielding_tensors_loss: 0.7552 - val_output_mulliken_charges_loss: 0.5576 - val_output_potential_energy_loss: 0.6903 - val_output_scalar_coupling_contributions_loss: 0.1606\n",
      "Epoch 36/100\n",
      "14699/14699 [==============================] - 4s 242us/sample - loss: 2.6864 - merged_loss: 0.1828 - output_dipole_moments_loss: 0.6659 - output_magnetic_shielding_tensors_loss: 0.6749 - output_mulliken_charges_loss: 0.4237 - output_potential_energy_loss: 0.5747 - output_scalar_coupling_contributions_loss: 0.1648 - val_loss: 3.1216 - val_merged_loss: 0.1789 - val_output_dipole_moments_loss: 0.7450 - val_output_magnetic_shielding_tensors_loss: 0.7677 - val_output_mulliken_charges_loss: 0.5666 - val_output_potential_energy_loss: 0.7101 - val_output_scalar_coupling_contributions_loss: 0.1613\n",
      "Epoch 37/100\n",
      "14699/14699 [==============================] - 3s 233us/sample - loss: 2.6668 - merged_loss: 0.1818 - output_dipole_moments_loss: 0.6650 - output_magnetic_shielding_tensors_loss: 0.6738 - output_mulliken_charges_loss: 0.4157 - output_potential_energy_loss: 0.5661 - output_scalar_coupling_contributions_loss: 0.1646 - val_loss: 3.1265 - val_merged_loss: 0.2109 - val_output_dipole_moments_loss: 0.7346 - val_output_magnetic_shielding_tensors_loss: 0.7591 - val_output_mulliken_charges_loss: 0.5616 - val_output_potential_energy_loss: 0.6882 - val_output_scalar_coupling_contributions_loss: 0.1729\n",
      "Epoch 38/100\n",
      "14699/14699 [==============================] - 3s 234us/sample - loss: 2.6458 - merged_loss: 0.1708 - output_dipole_moments_loss: 0.6651 - output_magnetic_shielding_tensors_loss: 0.6720 - output_mulliken_charges_loss: 0.4140 - output_potential_energy_loss: 0.5678 - output_scalar_coupling_contributions_loss: 0.1564 - val_loss: 3.1201 - val_merged_loss: 0.2038 - val_output_dipole_moments_loss: 0.7346 - val_output_magnetic_shielding_tensors_loss: 0.7561 - val_output_mulliken_charges_loss: 0.5616 - val_output_potential_energy_loss: 0.7064 - val_output_scalar_coupling_contributions_loss: 0.1631\n",
      "Epoch 39/100\n",
      "14699/14699 [==============================] - 3s 236us/sample - loss: 2.6606 - merged_loss: 0.1773 - output_dipole_moments_loss: 0.6659 - output_magnetic_shielding_tensors_loss: 0.6725 - output_mulliken_charges_loss: 0.4142 - output_potential_energy_loss: 0.5684 - output_scalar_coupling_contributions_loss: 0.1620 - val_loss: 3.0583 - val_merged_loss: 0.1746 - val_output_dipole_moments_loss: 0.7304 - val_output_magnetic_shielding_tensors_loss: 0.7575 - val_output_mulliken_charges_loss: 0.5538 - val_output_potential_energy_loss: 0.6941 - val_output_scalar_coupling_contributions_loss: 0.1434\n",
      "Epoch 40/100\n",
      "14699/14699 [==============================] - 3s 232us/sample - loss: 2.6422 - merged_loss: 0.1726 - output_dipole_moments_loss: 0.6640 - output_magnetic_shielding_tensors_loss: 0.6699 - output_mulliken_charges_loss: 0.4129 - output_potential_energy_loss: 0.5660 - output_scalar_coupling_contributions_loss: 0.1566 - val_loss: 3.1207 - val_merged_loss: 0.2017 - val_output_dipole_moments_loss: 0.7302 - val_output_magnetic_shielding_tensors_loss: 0.7572 - val_output_mulliken_charges_loss: 0.5704 - val_output_potential_energy_loss: 0.6999 - val_output_scalar_coupling_contributions_loss: 0.1571\n",
      "Epoch 41/100\n",
      "14699/14699 [==============================] - 3s 235us/sample - loss: 2.6487 - merged_loss: 0.1804 - output_dipole_moments_loss: 0.6631 - output_magnetic_shielding_tensors_loss: 0.6703 - output_mulliken_charges_loss: 0.4096 - output_potential_energy_loss: 0.5618 - output_scalar_coupling_contributions_loss: 0.1643 - val_loss: 3.0896 - val_merged_loss: 0.1980 - val_output_dipole_moments_loss: 0.7300 - val_output_magnetic_shielding_tensors_loss: 0.7537 - val_output_mulliken_charges_loss: 0.5557 - val_output_potential_energy_loss: 0.7024 - val_output_scalar_coupling_contributions_loss: 0.1553\n",
      "Epoch 42/100\n",
      "14699/14699 [==============================] - 4s 243us/sample - loss: 2.6327 - merged_loss: 0.1732 - output_dipole_moments_loss: 0.6620 - output_magnetic_shielding_tensors_loss: 0.6699 - output_mulliken_charges_loss: 0.4110 - output_potential_energy_loss: 0.5576 - output_scalar_coupling_contributions_loss: 0.1588 - val_loss: 3.0613 - val_merged_loss: 0.1753 - val_output_dipole_moments_loss: 0.7293 - val_output_magnetic_shielding_tensors_loss: 0.7511 - val_output_mulliken_charges_loss: 0.5502 - val_output_potential_energy_loss: 0.7090 - val_output_scalar_coupling_contributions_loss: 0.1428\n",
      "Epoch 43/100\n",
      "14699/14699 [==============================] - 4s 267us/sample - loss: 2.5991 - merged_loss: 0.1622 - output_dipole_moments_loss: 0.6626 - output_magnetic_shielding_tensors_loss: 0.6684 - output_mulliken_charges_loss: 0.4070 - output_potential_energy_loss: 0.5471 - output_scalar_coupling_contributions_loss: 0.1520 - val_loss: 3.0947 - val_merged_loss: 0.1895 - val_output_dipole_moments_loss: 0.7293 - val_output_magnetic_shielding_tensors_loss: 0.7525 - val_output_mulliken_charges_loss: 0.5623 - val_output_potential_energy_loss: 0.7034 - val_output_scalar_coupling_contributions_loss: 0.1492\n",
      "Epoch 44/100\n",
      "14699/14699 [==============================] - 4s 261us/sample - loss: 2.5993 - merged_loss: 0.1713 - output_dipole_moments_loss: 0.6605 - output_magnetic_shielding_tensors_loss: 0.6684 - output_mulliken_charges_loss: 0.4021 - output_potential_energy_loss: 0.5450 - output_scalar_coupling_contributions_loss: 0.1530 - val_loss: 3.1566 - val_merged_loss: 0.2175 - val_output_dipole_moments_loss: 0.7319 - val_output_magnetic_shielding_tensors_loss: 0.7569 - val_output_mulliken_charges_loss: 0.5816 - val_output_potential_energy_loss: 0.7010 - val_output_scalar_coupling_contributions_loss: 0.1641\n",
      "Epoch 45/100\n",
      "14699/14699 [==============================] - 4s 238us/sample - loss: 2.5965 - merged_loss: 0.1677 - output_dipole_moments_loss: 0.6616 - output_magnetic_shielding_tensors_loss: 0.6669 - output_mulliken_charges_loss: 0.4033 - output_potential_energy_loss: 0.5438 - output_scalar_coupling_contributions_loss: 0.1529 - val_loss: 3.1685 - val_merged_loss: 0.2350 - val_output_dipole_moments_loss: 0.7409 - val_output_magnetic_shielding_tensors_loss: 0.7653 - val_output_mulliken_charges_loss: 0.5725 - val_output_potential_energy_loss: 0.6951 - val_output_scalar_coupling_contributions_loss: 0.1607\n",
      "Epoch 46/100\n",
      "14699/14699 [==============================] - 3s 235us/sample - loss: 2.5945 - merged_loss: 0.1719 - output_dipole_moments_loss: 0.6622 - output_magnetic_shielding_tensors_loss: 0.6659 - output_mulliken_charges_loss: 0.3981 - output_potential_energy_loss: 0.5422 - output_scalar_coupling_contributions_loss: 0.1545 - val_loss: 3.0762 - val_merged_loss: 0.1688 - val_output_dipole_moments_loss: 0.7334 - val_output_magnetic_shielding_tensors_loss: 0.7570 - val_output_mulliken_charges_loss: 0.5622 - val_output_potential_energy_loss: 0.7105 - val_output_scalar_coupling_contributions_loss: 0.1404\n",
      "Epoch 47/100\n",
      "14699/14699 [==============================] - 3s 235us/sample - loss: 2.5730 - merged_loss: 0.1620 - output_dipole_moments_loss: 0.6601 - output_magnetic_shielding_tensors_loss: 0.6655 - output_mulliken_charges_loss: 0.3959 - output_potential_energy_loss: 0.5423 - output_scalar_coupling_contributions_loss: 0.1476 - val_loss: 3.0488 - val_merged_loss: 0.1743 - val_output_dipole_moments_loss: 0.7353 - val_output_magnetic_shielding_tensors_loss: 0.7505 - val_output_mulliken_charges_loss: 0.5551 - val_output_potential_energy_loss: 0.7061 - val_output_scalar_coupling_contributions_loss: 0.1319\n",
      "Epoch 48/100\n",
      "14699/14699 [==============================] - 4s 243us/sample - loss: 2.5848 - merged_loss: 0.1759 - output_dipole_moments_loss: 0.6611 - output_magnetic_shielding_tensors_loss: 0.6655 - output_mulliken_charges_loss: 0.3935 - output_potential_energy_loss: 0.5347 - output_scalar_coupling_contributions_loss: 0.1547 - val_loss: 3.0609 - val_merged_loss: 0.1721 - val_output_dipole_moments_loss: 0.7309 - val_output_magnetic_shielding_tensors_loss: 0.7538 - val_output_mulliken_charges_loss: 0.5582 - val_output_potential_energy_loss: 0.7176 - val_output_scalar_coupling_contributions_loss: 0.1311\n",
      "Epoch 49/100\n",
      "14699/14699 [==============================] - 4s 265us/sample - loss: 2.5552 - merged_loss: 0.1633 - output_dipole_moments_loss: 0.6579 - output_magnetic_shielding_tensors_loss: 0.6652 - output_mulliken_charges_loss: 0.3904 - output_potential_energy_loss: 0.5293 - output_scalar_coupling_contributions_loss: 0.1492 - val_loss: 3.1268 - val_merged_loss: 0.1978 - val_output_dipole_moments_loss: 0.7341 - val_output_magnetic_shielding_tensors_loss: 0.7568 - val_output_mulliken_charges_loss: 0.5618 - val_output_potential_energy_loss: 0.7289 - val_output_scalar_coupling_contributions_loss: 0.1439\n",
      "Epoch 50/100\n",
      "14699/14699 [==============================] - 4s 262us/sample - loss: 2.5467 - merged_loss: 0.1604 - output_dipole_moments_loss: 0.6571 - output_magnetic_shielding_tensors_loss: 0.6633 - output_mulliken_charges_loss: 0.3894 - output_potential_energy_loss: 0.5342 - output_scalar_coupling_contributions_loss: 0.1419 - val_loss: 3.0477 - val_merged_loss: 0.1618 - val_output_dipole_moments_loss: 0.7363 - val_output_magnetic_shielding_tensors_loss: 0.7448 - val_output_mulliken_charges_loss: 0.5566 - val_output_potential_energy_loss: 0.7104 - val_output_scalar_coupling_contributions_loss: 0.1303\n",
      "Epoch 51/100\n",
      "14699/14699 [==============================] - 4s 269us/sample - loss: 2.5291 - merged_loss: 0.1636 - output_dipole_moments_loss: 0.6575 - output_magnetic_shielding_tensors_loss: 0.6623 - output_mulliken_charges_loss: 0.3846 - output_potential_energy_loss: 0.5177 - output_scalar_coupling_contributions_loss: 0.1440 - val_loss: 3.0465 - val_merged_loss: 0.1589 - val_output_dipole_moments_loss: 0.7345 - val_output_magnetic_shielding_tensors_loss: 0.7519 - val_output_mulliken_charges_loss: 0.5526 - val_output_potential_energy_loss: 0.7185 - val_output_scalar_coupling_contributions_loss: 0.1291\n",
      "Epoch 52/100\n",
      "14699/14699 [==============================] - 4s 259us/sample - loss: 2.5294 - merged_loss: 0.1577 - output_dipole_moments_loss: 0.6596 - output_magnetic_shielding_tensors_loss: 0.6614 - output_mulliken_charges_loss: 0.3826 - output_potential_energy_loss: 0.5206 - output_scalar_coupling_contributions_loss: 0.1476 - val_loss: 3.0513 - val_merged_loss: 0.1662 - val_output_dipole_moments_loss: 0.7382 - val_output_magnetic_shielding_tensors_loss: 0.7516 - val_output_mulliken_charges_loss: 0.5546 - val_output_potential_energy_loss: 0.7033 - val_output_scalar_coupling_contributions_loss: 0.1367\n",
      "Epoch 53/100\n",
      "14699/14699 [==============================] - 4s 239us/sample - loss: 2.5153 - merged_loss: 0.1549 - output_dipole_moments_loss: 0.6583 - output_magnetic_shielding_tensors_loss: 0.6599 - output_mulliken_charges_loss: 0.3819 - output_potential_energy_loss: 0.5175 - output_scalar_coupling_contributions_loss: 0.1440 - val_loss: 3.0672 - val_merged_loss: 0.1652 - val_output_dipole_moments_loss: 0.7376 - val_output_magnetic_shielding_tensors_loss: 0.7538 - val_output_mulliken_charges_loss: 0.5673 - val_output_potential_energy_loss: 0.7160 - val_output_scalar_coupling_contributions_loss: 0.1360\n",
      "Epoch 54/100\n",
      "14699/14699 [==============================] - 4s 240us/sample - loss: 2.4953 - merged_loss: 0.1564 - output_dipole_moments_loss: 0.6551 - output_magnetic_shielding_tensors_loss: 0.6591 - output_mulliken_charges_loss: 0.3773 - output_potential_energy_loss: 0.5047 - output_scalar_coupling_contributions_loss: 0.1434 - val_loss: 3.0735 - val_merged_loss: 0.1636 - val_output_dipole_moments_loss: 0.7355 - val_output_magnetic_shielding_tensors_loss: 0.7536 - val_output_mulliken_charges_loss: 0.5607 - val_output_potential_energy_loss: 0.7221 - val_output_scalar_coupling_contributions_loss: 0.1345\n",
      "Epoch 55/100\n",
      "14699/14699 [==============================] - 4s 245us/sample - loss: 2.4848 - merged_loss: 0.1537 - output_dipole_moments_loss: 0.6532 - output_magnetic_shielding_tensors_loss: 0.6589 - output_mulliken_charges_loss: 0.3757 - output_potential_energy_loss: 0.5027 - output_scalar_coupling_contributions_loss: 0.1409 - val_loss: 3.0823 - val_merged_loss: 0.1688 - val_output_dipole_moments_loss: 0.7347 - val_output_magnetic_shielding_tensors_loss: 0.7497 - val_output_mulliken_charges_loss: 0.5640 - val_output_potential_energy_loss: 0.7209 - val_output_scalar_coupling_contributions_loss: 0.1336\n",
      "Epoch 56/100\n",
      "14699/14699 [==============================] - 3s 235us/sample - loss: 2.4844 - merged_loss: 0.1544 - output_dipole_moments_loss: 0.6541 - output_magnetic_shielding_tensors_loss: 0.6582 - output_mulliken_charges_loss: 0.3770 - output_potential_energy_loss: 0.5008 - output_scalar_coupling_contributions_loss: 0.1410 - val_loss: 3.0582 - val_merged_loss: 0.1593 - val_output_dipole_moments_loss: 0.7387 - val_output_magnetic_shielding_tensors_loss: 0.7526 - val_output_mulliken_charges_loss: 0.5576 - val_output_potential_energy_loss: 0.7226 - val_output_scalar_coupling_contributions_loss: 0.1264\n",
      "Epoch 57/100\n",
      "14699/14699 [==============================] - 3s 232us/sample - loss: 2.4722 - merged_loss: 0.1508 - output_dipole_moments_loss: 0.6522 - output_magnetic_shielding_tensors_loss: 0.6573 - output_mulliken_charges_loss: 0.3745 - output_potential_energy_loss: 0.4979 - output_scalar_coupling_contributions_loss: 0.1399 - val_loss: 3.0666 - val_merged_loss: 0.1553 - val_output_dipole_moments_loss: 0.7419 - val_output_magnetic_shielding_tensors_loss: 0.7512 - val_output_mulliken_charges_loss: 0.5560 - val_output_potential_energy_loss: 0.7269 - val_output_scalar_coupling_contributions_loss: 0.1310\n",
      "Epoch 58/100\n",
      "14699/14699 [==============================] - 3s 235us/sample - loss: 2.4592 - merged_loss: 0.1514 - output_dipole_moments_loss: 0.6519 - output_magnetic_shielding_tensors_loss: 0.6582 - output_mulliken_charges_loss: 0.3691 - output_potential_energy_loss: 0.4892 - output_scalar_coupling_contributions_loss: 0.1400 - val_loss: 3.0945 - val_merged_loss: 0.1658 - val_output_dipole_moments_loss: 0.7433 - val_output_magnetic_shielding_tensors_loss: 0.7506 - val_output_mulliken_charges_loss: 0.5617 - val_output_potential_energy_loss: 0.7394 - val_output_scalar_coupling_contributions_loss: 0.1390\n",
      "Epoch 59/100\n",
      "14699/14699 [==============================] - 4s 242us/sample - loss: 2.4584 - merged_loss: 0.1476 - output_dipole_moments_loss: 0.6540 - output_magnetic_shielding_tensors_loss: 0.6564 - output_mulliken_charges_loss: 0.3689 - output_potential_energy_loss: 0.4909 - output_scalar_coupling_contributions_loss: 0.1405 - val_loss: 3.0736 - val_merged_loss: 0.1599 - val_output_dipole_moments_loss: 0.7445 - val_output_magnetic_shielding_tensors_loss: 0.7479 - val_output_mulliken_charges_loss: 0.5589 - val_output_potential_energy_loss: 0.7290 - val_output_scalar_coupling_contributions_loss: 0.1273\n",
      "Epoch 60/100\n",
      "14699/14699 [==============================] - 3s 234us/sample - loss: 2.4599 - merged_loss: 0.1540 - output_dipole_moments_loss: 0.6513 - output_magnetic_shielding_tensors_loss: 0.6557 - output_mulliken_charges_loss: 0.3688 - output_potential_energy_loss: 0.4919 - output_scalar_coupling_contributions_loss: 0.1386 - val_loss: 3.0882 - val_merged_loss: 0.1690 - val_output_dipole_moments_loss: 0.7452 - val_output_magnetic_shielding_tensors_loss: 0.7532 - val_output_mulliken_charges_loss: 0.5554 - val_output_potential_energy_loss: 0.7323 - val_output_scalar_coupling_contributions_loss: 0.1390\n",
      "Epoch 61/100\n",
      "14699/14699 [==============================] - 4s 248us/sample - loss: 2.4515 - merged_loss: 0.1538 - output_dipole_moments_loss: 0.6470 - output_magnetic_shielding_tensors_loss: 0.6557 - output_mulliken_charges_loss: 0.3687 - output_potential_energy_loss: 0.4881 - output_scalar_coupling_contributions_loss: 0.1381 - val_loss: 3.0767 - val_merged_loss: 0.1572 - val_output_dipole_moments_loss: 0.7419 - val_output_magnetic_shielding_tensors_loss: 0.7510 - val_output_mulliken_charges_loss: 0.5590 - val_output_potential_energy_loss: 0.7270 - val_output_scalar_coupling_contributions_loss: 0.1325\n",
      "Epoch 62/100\n",
      "14699/14699 [==============================] - 3s 237us/sample - loss: 2.4274 - merged_loss: 0.1466 - output_dipole_moments_loss: 0.6453 - output_magnetic_shielding_tensors_loss: 0.6546 - output_mulliken_charges_loss: 0.3635 - output_potential_energy_loss: 0.4794 - output_scalar_coupling_contributions_loss: 0.1378 - val_loss: 3.0828 - val_merged_loss: 0.1596 - val_output_dipole_moments_loss: 0.7437 - val_output_magnetic_shielding_tensors_loss: 0.7523 - val_output_mulliken_charges_loss: 0.5624 - val_output_potential_energy_loss: 0.7424 - val_output_scalar_coupling_contributions_loss: 0.1269\n",
      "Epoch 63/100\n",
      "14699/14699 [==============================] - 3s 236us/sample - loss: 2.4209 - merged_loss: 0.1494 - output_dipole_moments_loss: 0.6446 - output_magnetic_shielding_tensors_loss: 0.6543 - output_mulliken_charges_loss: 0.3622 - output_potential_energy_loss: 0.4740 - output_scalar_coupling_contributions_loss: 0.1368 - val_loss: 3.0875 - val_merged_loss: 0.1618 - val_output_dipole_moments_loss: 0.7443 - val_output_magnetic_shielding_tensors_loss: 0.7512 - val_output_mulliken_charges_loss: 0.5594 - val_output_potential_energy_loss: 0.7334 - val_output_scalar_coupling_contributions_loss: 0.1329\n",
      "Epoch 64/100\n",
      "14699/14699 [==============================] - 3s 234us/sample - loss: 2.4230 - merged_loss: 0.1541 - output_dipole_moments_loss: 0.6434 - output_magnetic_shielding_tensors_loss: 0.6535 - output_mulliken_charges_loss: 0.3571 - output_potential_energy_loss: 0.4745 - output_scalar_coupling_contributions_loss: 0.1396 - val_loss: 3.2001 - val_merged_loss: 0.2250 - val_output_dipole_moments_loss: 0.7568 - val_output_magnetic_shielding_tensors_loss: 0.7572 - val_output_mulliken_charges_loss: 0.5564 - val_output_potential_energy_loss: 0.7427 - val_output_scalar_coupling_contributions_loss: 0.1586\n",
      "Epoch 65/100\n",
      "14699/14699 [==============================] - 3s 234us/sample - loss: 2.4069 - merged_loss: 0.1472 - output_dipole_moments_loss: 0.6433 - output_magnetic_shielding_tensors_loss: 0.6533 - output_mulliken_charges_loss: 0.3563 - output_potential_energy_loss: 0.4680 - output_scalar_coupling_contributions_loss: 0.1385 - val_loss: 3.0930 - val_merged_loss: 0.1602 - val_output_dipole_moments_loss: 0.7509 - val_output_magnetic_shielding_tensors_loss: 0.7494 - val_output_mulliken_charges_loss: 0.5657 - val_output_potential_energy_loss: 0.7413 - val_output_scalar_coupling_contributions_loss: 0.1314\n",
      "Epoch 66/100\n",
      "14699/14699 [==============================] - 3s 236us/sample - loss: 2.4436 - merged_loss: 0.1659 - output_dipole_moments_loss: 0.6437 - output_magnetic_shielding_tensors_loss: 0.6533 - output_mulliken_charges_loss: 0.3584 - output_potential_energy_loss: 0.4740 - output_scalar_coupling_contributions_loss: 0.1482 - val_loss: 3.1731 - val_merged_loss: 0.1619 - val_output_dipole_moments_loss: 0.7584 - val_output_magnetic_shielding_tensors_loss: 0.7523 - val_output_mulliken_charges_loss: 0.5734 - val_output_potential_energy_loss: 0.7740 - val_output_scalar_coupling_contributions_loss: 0.1526\n",
      "Epoch 67/100\n",
      "14699/14699 [==============================] - 4s 248us/sample - loss: 2.4044 - merged_loss: 0.1473 - output_dipole_moments_loss: 0.6406 - output_magnetic_shielding_tensors_loss: 0.6522 - output_mulliken_charges_loss: 0.3590 - output_potential_energy_loss: 0.4696 - output_scalar_coupling_contributions_loss: 0.1363 - val_loss: 3.0818 - val_merged_loss: 0.1613 - val_output_dipole_moments_loss: 0.7543 - val_output_magnetic_shielding_tensors_loss: 0.7530 - val_output_mulliken_charges_loss: 0.5562 - val_output_potential_energy_loss: 0.7275 - val_output_scalar_coupling_contributions_loss: 0.1274\n",
      "Epoch 68/100\n",
      "14699/14699 [==============================] - 3s 233us/sample - loss: 2.3773 - merged_loss: 0.1451 - output_dipole_moments_loss: 0.6395 - output_magnetic_shielding_tensors_loss: 0.6510 - output_mulliken_charges_loss: 0.3507 - output_potential_energy_loss: 0.4555 - output_scalar_coupling_contributions_loss: 0.1356 - val_loss: 3.0948 - val_merged_loss: 0.1614 - val_output_dipole_moments_loss: 0.7517 - val_output_magnetic_shielding_tensors_loss: 0.7488 - val_output_mulliken_charges_loss: 0.5557 - val_output_potential_energy_loss: 0.7492 - val_output_scalar_coupling_contributions_loss: 0.1261\n",
      "Epoch 69/100\n",
      "14699/14699 [==============================] - 4s 240us/sample - loss: 2.3736 - merged_loss: 0.1548 - output_dipole_moments_loss: 0.6354 - output_magnetic_shielding_tensors_loss: 0.6492 - output_mulliken_charges_loss: 0.3483 - output_potential_energy_loss: 0.4492 - output_scalar_coupling_contributions_loss: 0.1370 - val_loss: 3.1347 - val_merged_loss: 0.1774 - val_output_dipole_moments_loss: 0.7521 - val_output_magnetic_shielding_tensors_loss: 0.7484 - val_output_mulliken_charges_loss: 0.5581 - val_output_potential_energy_loss: 0.7520 - val_output_scalar_coupling_contributions_loss: 0.1399\n",
      "Epoch 70/100\n",
      "14699/14699 [==============================] - 4s 254us/sample - loss: 2.3667 - merged_loss: 0.1519 - output_dipole_moments_loss: 0.6309 - output_magnetic_shielding_tensors_loss: 0.6489 - output_mulliken_charges_loss: 0.3513 - output_potential_energy_loss: 0.4464 - output_scalar_coupling_contributions_loss: 0.1375 - val_loss: 3.1168 - val_merged_loss: 0.1699 - val_output_dipole_moments_loss: 0.7569 - val_output_magnetic_shielding_tensors_loss: 0.7522 - val_output_mulliken_charges_loss: 0.5656 - val_output_potential_energy_loss: 0.7444 - val_output_scalar_coupling_contributions_loss: 0.1308\n",
      "Epoch 71/100\n",
      "14699/14699 [==============================] - 3s 237us/sample - loss: 2.3460 - merged_loss: 0.1428 - output_dipole_moments_loss: 0.6310 - output_magnetic_shielding_tensors_loss: 0.6476 - output_mulliken_charges_loss: 0.3438 - output_potential_energy_loss: 0.4476 - output_scalar_coupling_contributions_loss: 0.1334 - val_loss: 3.0802 - val_merged_loss: 0.1571 - val_output_dipole_moments_loss: 0.7586 - val_output_magnetic_shielding_tensors_loss: 0.7532 - val_output_mulliken_charges_loss: 0.5587 - val_output_potential_energy_loss: 0.7354 - val_output_scalar_coupling_contributions_loss: 0.1237\n",
      "Epoch 72/100\n",
      "14699/14699 [==============================] - 3s 235us/sample - loss: 2.3306 - merged_loss: 0.1402 - output_dipole_moments_loss: 0.6288 - output_magnetic_shielding_tensors_loss: 0.6463 - output_mulliken_charges_loss: 0.3404 - output_potential_energy_loss: 0.4426 - output_scalar_coupling_contributions_loss: 0.1324 - val_loss: 3.1396 - val_merged_loss: 0.1770 - val_output_dipole_moments_loss: 0.7620 - val_output_magnetic_shielding_tensors_loss: 0.7495 - val_output_mulliken_charges_loss: 0.5616 - val_output_potential_energy_loss: 0.7556 - val_output_scalar_coupling_contributions_loss: 0.1300\n",
      "Epoch 73/100\n",
      "14699/14699 [==============================] - 3s 232us/sample - loss: 2.3553 - merged_loss: 0.1543 - output_dipole_moments_loss: 0.6281 - output_magnetic_shielding_tensors_loss: 0.6481 - output_mulliken_charges_loss: 0.3441 - output_potential_energy_loss: 0.4426 - output_scalar_coupling_contributions_loss: 0.1376 - val_loss: 3.1121 - val_merged_loss: 0.1615 - val_output_dipole_moments_loss: 0.7537 - val_output_magnetic_shielding_tensors_loss: 0.7517 - val_output_mulliken_charges_loss: 0.5608 - val_output_potential_energy_loss: 0.7530 - val_output_scalar_coupling_contributions_loss: 0.1270\n",
      "Epoch 74/100\n",
      "14699/14699 [==============================] - 3s 233us/sample - loss: 2.3302 - merged_loss: 0.1438 - output_dipole_moments_loss: 0.6260 - output_magnetic_shielding_tensors_loss: 0.6470 - output_mulliken_charges_loss: 0.3410 - output_potential_energy_loss: 0.4384 - output_scalar_coupling_contributions_loss: 0.1342 - val_loss: 3.1288 - val_merged_loss: 0.1643 - val_output_dipole_moments_loss: 0.7661 - val_output_magnetic_shielding_tensors_loss: 0.7496 - val_output_mulliken_charges_loss: 0.5580 - val_output_potential_energy_loss: 0.7564 - val_output_scalar_coupling_contributions_loss: 0.1302\n",
      "Epoch 75/100\n",
      "14699/14699 [==============================] - 3s 233us/sample - loss: 2.3059 - merged_loss: 0.1443 - output_dipole_moments_loss: 0.6246 - output_magnetic_shielding_tensors_loss: 0.6448 - output_mulliken_charges_loss: 0.3367 - output_potential_energy_loss: 0.4252 - output_scalar_coupling_contributions_loss: 0.1311 - val_loss: 3.1335 - val_merged_loss: 0.1581 - val_output_dipole_moments_loss: 0.7664 - val_output_magnetic_shielding_tensors_loss: 0.7529 - val_output_mulliken_charges_loss: 0.5756 - val_output_potential_energy_loss: 0.7598 - val_output_scalar_coupling_contributions_loss: 0.1235\n",
      "Epoch 76/100\n",
      "14699/14699 [==============================] - 3s 233us/sample - loss: 2.2966 - merged_loss: 0.1402 - output_dipole_moments_loss: 0.6206 - output_magnetic_shielding_tensors_loss: 0.6441 - output_mulliken_charges_loss: 0.3330 - output_potential_energy_loss: 0.4282 - output_scalar_coupling_contributions_loss: 0.1310 - val_loss: 3.1409 - val_merged_loss: 0.1552 - val_output_dipole_moments_loss: 0.7565 - val_output_magnetic_shielding_tensors_loss: 0.7531 - val_output_mulliken_charges_loss: 0.5637 - val_output_potential_energy_loss: 0.7865 - val_output_scalar_coupling_contributions_loss: 0.1243\n",
      "Epoch 77/100\n",
      "14699/14699 [==============================] - 3s 234us/sample - loss: 2.3903 - merged_loss: 0.1598 - output_dipole_moments_loss: 0.6293 - output_magnetic_shielding_tensors_loss: 0.6510 - output_mulliken_charges_loss: 0.3504 - output_potential_energy_loss: 0.4504 - output_scalar_coupling_contributions_loss: 0.1508 - val_loss: 6.1155 - val_merged_loss: 1.8973 - val_output_dipole_moments_loss: 0.9082 - val_output_magnetic_shielding_tensors_loss: 1.0414 - val_output_mulliken_charges_loss: 0.6287 - val_output_potential_energy_loss: 0.7286 - val_output_scalar_coupling_contributions_loss: 0.9018\n",
      "Epoch 78/100\n",
      "14699/14699 [==============================] - 3s 238us/sample - loss: 2.4382 - merged_loss: 0.1681 - output_dipole_moments_loss: 0.6333 - output_magnetic_shielding_tensors_loss: 0.6534 - output_mulliken_charges_loss: 0.3637 - output_potential_energy_loss: 0.4722 - output_scalar_coupling_contributions_loss: 0.1472 - val_loss: 3.6929 - val_merged_loss: 0.3651 - val_output_dipole_moments_loss: 0.8294 - val_output_magnetic_shielding_tensors_loss: 0.7977 - val_output_mulliken_charges_loss: 0.6175 - val_output_potential_energy_loss: 0.7412 - val_output_scalar_coupling_contributions_loss: 0.3361\n",
      "Epoch 79/100\n",
      "14699/14699 [==============================] - 4s 243us/sample - loss: 2.3786 - merged_loss: 0.1522 - output_dipole_moments_loss: 0.6272 - output_magnetic_shielding_tensors_loss: 0.6493 - output_mulliken_charges_loss: 0.3550 - output_potential_energy_loss: 0.4568 - output_scalar_coupling_contributions_loss: 0.1381 - val_loss: 3.2017 - val_merged_loss: 0.1951 - val_output_dipole_moments_loss: 0.7756 - val_output_magnetic_shielding_tensors_loss: 0.7626 - val_output_mulliken_charges_loss: 0.5961 - val_output_potential_energy_loss: 0.7261 - val_output_scalar_coupling_contributions_loss: 0.1471\n",
      "Epoch 80/100\n",
      "14699/14699 [==============================] - 4s 249us/sample - loss: 2.3417 - merged_loss: 0.1508 - output_dipole_moments_loss: 0.6243 - output_magnetic_shielding_tensors_loss: 0.6457 - output_mulliken_charges_loss: 0.3466 - output_potential_energy_loss: 0.4376 - output_scalar_coupling_contributions_loss: 0.1371 - val_loss: 3.1932 - val_merged_loss: 0.1970 - val_output_dipole_moments_loss: 0.7648 - val_output_magnetic_shielding_tensors_loss: 0.7550 - val_output_mulliken_charges_loss: 0.5686 - val_output_potential_energy_loss: 0.7527 - val_output_scalar_coupling_contributions_loss: 0.1538\n",
      "Epoch 81/100\n",
      "14699/14699 [==============================] - 3s 233us/sample - loss: 2.3252 - merged_loss: 0.1536 - output_dipole_moments_loss: 0.6199 - output_magnetic_shielding_tensors_loss: 0.6456 - output_mulliken_charges_loss: 0.3426 - output_potential_energy_loss: 0.4267 - output_scalar_coupling_contributions_loss: 0.1369 - val_loss: 3.1202 - val_merged_loss: 0.1631 - val_output_dipole_moments_loss: 0.7584 - val_output_magnetic_shielding_tensors_loss: 0.7490 - val_output_mulliken_charges_loss: 0.5566 - val_output_potential_energy_loss: 0.7620 - val_output_scalar_coupling_contributions_loss: 0.1259\n",
      "Epoch 82/100\n",
      "14699/14699 [==============================] - 3s 233us/sample - loss: 2.3089 - merged_loss: 0.1523 - output_dipole_moments_loss: 0.6126 - output_magnetic_shielding_tensors_loss: 0.6431 - output_mulliken_charges_loss: 0.3337 - output_potential_energy_loss: 0.4342 - output_scalar_coupling_contributions_loss: 0.1337 - val_loss: 3.1020 - val_merged_loss: 0.1567 - val_output_dipole_moments_loss: 0.7541 - val_output_magnetic_shielding_tensors_loss: 0.7493 - val_output_mulliken_charges_loss: 0.5547 - val_output_potential_energy_loss: 0.7550 - val_output_scalar_coupling_contributions_loss: 0.1314\n",
      "Epoch 83/100\n",
      "14699/14699 [==============================] - 3s 232us/sample - loss: 2.2756 - merged_loss: 0.1400 - output_dipole_moments_loss: 0.6096 - output_magnetic_shielding_tensors_loss: 0.6420 - output_mulliken_charges_loss: 0.3318 - output_potential_energy_loss: 0.4185 - output_scalar_coupling_contributions_loss: 0.1344 - val_loss: 3.1256 - val_merged_loss: 0.1504 - val_output_dipole_moments_loss: 0.7713 - val_output_magnetic_shielding_tensors_loss: 0.7513 - val_output_mulliken_charges_loss: 0.5710 - val_output_potential_energy_loss: 0.7646 - val_output_scalar_coupling_contributions_loss: 0.1213\n",
      "Epoch 84/100\n",
      "14699/14699 [==============================] - 3s 235us/sample - loss: 2.2645 - merged_loss: 0.1479 - output_dipole_moments_loss: 0.6068 - output_magnetic_shielding_tensors_loss: 0.6408 - output_mulliken_charges_loss: 0.3268 - output_potential_energy_loss: 0.4089 - output_scalar_coupling_contributions_loss: 0.1340 - val_loss: 3.1563 - val_merged_loss: 0.1717 - val_output_dipole_moments_loss: 0.7649 - val_output_magnetic_shielding_tensors_loss: 0.7529 - val_output_mulliken_charges_loss: 0.5659 - val_output_potential_energy_loss: 0.7640 - val_output_scalar_coupling_contributions_loss: 0.1365\n",
      "Epoch 85/100\n",
      "14699/14699 [==============================] - 3s 237us/sample - loss: 2.2804 - merged_loss: 0.1526 - output_dipole_moments_loss: 0.6037 - output_magnetic_shielding_tensors_loss: 0.6404 - output_mulliken_charges_loss: 0.3251 - output_potential_energy_loss: 0.4167 - output_scalar_coupling_contributions_loss: 0.1420 - val_loss: 3.1443 - val_merged_loss: 0.1735 - val_output_dipole_moments_loss: 0.7755 - val_output_magnetic_shielding_tensors_loss: 0.7500 - val_output_mulliken_charges_loss: 0.5600 - val_output_potential_energy_loss: 0.7577 - val_output_scalar_coupling_contributions_loss: 0.1253\n",
      "Epoch 86/100\n",
      "14699/14699 [==============================] - 3s 237us/sample - loss: 2.2308 - merged_loss: 0.1404 - output_dipole_moments_loss: 0.6011 - output_magnetic_shielding_tensors_loss: 0.6394 - output_mulliken_charges_loss: 0.3195 - output_potential_energy_loss: 0.4008 - output_scalar_coupling_contributions_loss: 0.1302 - val_loss: 3.1154 - val_merged_loss: 0.1502 - val_output_dipole_moments_loss: 0.7703 - val_output_magnetic_shielding_tensors_loss: 0.7526 - val_output_mulliken_charges_loss: 0.5611 - val_output_potential_energy_loss: 0.7618 - val_output_scalar_coupling_contributions_loss: 0.1194\n",
      "Epoch 87/100\n",
      "14336/14699 [============================>.] - ETA: 0s - loss: 2.2063 - merged_loss: 0.1333 - output_dipole_moments_loss: 0.5991 - output_magnetic_shielding_tensors_loss: 0.6365 - output_mulliken_charges_loss: 0.3176 - output_potential_energy_loss: 0.3928 - output_scalar_coupling_contributions_loss: 0.1270"
     ]
    }
   ],
   "source": [
    "### from models import NNModel\n",
    "from models import partition_data, NNModel\n",
    "\n",
    "# import tensorflow as tf\n",
    "# from tensorflow.keras import backend as tfbe\n",
    "\n",
    "# tf.reset_default_graph()\n",
    "\n",
    "# atom_count_ranges = [(1, 10), (11, 15), (16, 20), (21, 25), (26, 30)]\n",
    "# C_count_ranges = [(1, 5), (6, 6), (7, 7), (8, 9)]\n",
    "coupling_types = sorted(labelled_enh.type.unique())[0:1]\n",
    "def test(data, count=5000):\n",
    "    global model\n",
    "    global history\n",
    "    \n",
    "    plt.figure(figsize=(25, 25))\n",
    "    \n",
    "    for i, t in enumerate(coupling_types, 1):    \n",
    "        data_df = data[data.type == t].head(count)\n",
    "\n",
    "        train_df, test_df = partition_data(data_df)\n",
    "\n",
    "        if len(train_df) < 10 or len(test_df) < 10:\n",
    "            continue\n",
    "\n",
    "        print(f'Training {len(train_df)} samples for {t}')\n",
    "\n",
    "        model = NNModel(dict(molecules=molecules, \n",
    "                             structures=structures),\n",
    "                        **nn_args)\n",
    "        history = model.fit(train_df, train_df)\n",
    "        \n",
    "        print(f'Evaluating {len(test_df)} samples')\n",
    "        output, score = model.evaluate(test_df, test_df)\n",
    "        print(f'{t} score: {score} (trained on {len(train_df)} elements)')\n",
    "\n",
    "\n",
    "        plt.subplot(4, 4, 2 * i - 1)\n",
    "        plot_history(history, t)\n",
    "        \n",
    "        #print(output.shape, test_df.values.shape)\n",
    "        #pprint(list(zip(output[0:20, 0], test_df.scalar_coupling_constant[0:20])))\n",
    "\n",
    "        plt.subplot(4, 4, 2 * i)\n",
    "        plt.plot(test_df.scalar_coupling_constant, output, '*')\n",
    "        mn = min(test_df.scalar_coupling_constant.min(), output.min())\n",
    "        mx = min(test_df.scalar_coupling_constant.max(), output.max())\n",
    "\n",
    "        plt.plot([mn, mx], [mn, mx])\n",
    "        plt.title(t)\n",
    "                        \n",
    "    plt.show()\n",
    "        \n",
    "test(labelled_enh, 30000)\n"
   ]
  },
  {
   "cell_type": "code",
   "execution_count": null,
   "metadata": {},
   "outputs": [],
   "source": [
    "w, b = model.model.layers[1].get_weights()"
   ]
  },
  {
   "cell_type": "code",
   "execution_count": null,
   "metadata": {},
   "outputs": [],
   "source": [
    "w2 = w.sum(axis=1)"
   ]
  },
  {
   "cell_type": "code",
   "execution_count": null,
   "metadata": {},
   "outputs": [],
   "source": [
    "w2.min(), w2.max(), w2.mean()"
   ]
  },
  {
   "cell_type": "code",
   "execution_count": null,
   "metadata": {},
   "outputs": [],
   "source": [
    "model.numeric_input_df.columns[np.abs(w.sum(axis=1)) > 10]"
   ]
  },
  {
   "cell_type": "code",
   "execution_count": null,
   "metadata": {},
   "outputs": [],
   "source": []
  },
  {
   "cell_type": "code",
   "execution_count": null,
   "metadata": {},
   "outputs": [],
   "source": []
  },
  {
   "cell_type": "code",
   "execution_count": null,
   "metadata": {},
   "outputs": [],
   "source": []
  },
  {
   "cell_type": "code",
   "execution_count": null,
   "metadata": {},
   "outputs": [],
   "source": []
  },
  {
   "cell_type": "code",
   "execution_count": null,
   "metadata": {},
   "outputs": [],
   "source": []
  },
  {
   "cell_type": "code",
   "execution_count": null,
   "metadata": {},
   "outputs": [],
   "source": []
  },
  {
   "cell_type": "code",
   "execution_count": null,
   "metadata": {},
   "outputs": [],
   "source": []
  },
  {
   "cell_type": "code",
   "execution_count": null,
   "metadata": {},
   "outputs": [],
   "source": []
  },
  {
   "cell_type": "code",
   "execution_count": null,
   "metadata": {},
   "outputs": [],
   "source": []
  },
  {
   "cell_type": "code",
   "execution_count": null,
   "metadata": {},
   "outputs": [],
   "source": []
  },
  {
   "cell_type": "code",
   "execution_count": null,
   "metadata": {},
   "outputs": [],
   "source": []
  },
  {
   "cell_type": "code",
   "execution_count": null,
   "metadata": {},
   "outputs": [],
   "source": [
    "from models import partition_data, NNModel\n",
    "\n",
    "def train(data):\n",
    "    models = {}\n",
    "    for t in sorted(data.type.unique()):\n",
    "        train_df = data[data.type == t]\n",
    "        print(f'Training {len(train_df)} samples for {t}')\n",
    "        model = NNModel(dict(molecules=molecules, \n",
    "                             structures=structures),\n",
    "                        None)\n",
    "        models[t] = model\n",
    "        model.fit(train_df, train_df)\n",
    "    \n",
    "    return models\n",
    "\n",
    "models = train(labelled_enh)"
   ]
  },
  {
   "cell_type": "code",
   "execution_count": null,
   "metadata": {},
   "outputs": [],
   "source": [
    "unlabelled_enh.shape"
   ]
  },
  {
   "cell_type": "code",
   "execution_count": null,
   "metadata": {},
   "outputs": [],
   "source": [
    "def predict(data, models):\n",
    "    out_df = None\n",
    "    \n",
    "    for t in sorted(data.type.unique()):\n",
    "        predict_df = data[data.type == t]\n",
    "        print(f'Predicting {len(predict_df)} samples for {t}')\n",
    "        output = models[t].predict(predict_df)\n",
    "        \n",
    "        id = predict_df['id']\n",
    "        out_df_coupling = pd.DataFrame(data={'id':id, 'scalar_coupling_constant':output.flatten()}, index=predict_df.index)\n",
    "        \n",
    "        if out_df is None:\n",
    "            out_df = out_df_coupling\n",
    "        else:\n",
    "            out_df = out_df.append(out_df_coupling).sort_index()\n",
    "\n",
    "    return out_df.sort_index()\n",
    "    \n",
    "#%prun -s cumulative f(unlabelled.head(10000))\n",
    "prediction = predict(unlabelled_enh, models)"
   ]
  },
  {
   "cell_type": "code",
   "execution_count": null,
   "metadata": {},
   "outputs": [],
   "source": [
    "prediction.head()"
   ]
  },
  {
   "cell_type": "code",
   "execution_count": null,
   "metadata": {},
   "outputs": [],
   "source": [
    "prediction.to_csv('../data/pred.csv',index=False)"
   ]
  },
  {
   "cell_type": "code",
   "execution_count": null,
   "metadata": {},
   "outputs": [],
   "source": [
    "import pickle\n",
    "with open('nn.pickle', 'wb') as f:\n",
    "    pickle.dump(models, f)"
   ]
  },
  {
   "cell_type": "code",
   "execution_count": null,
   "metadata": {},
   "outputs": [],
   "source": [
    "models"
   ]
  },
  {
   "cell_type": "code",
   "execution_count": null,
   "metadata": {},
   "outputs": [],
   "source": []
  }
 ],
 "metadata": {
  "kernelspec": {
   "display_name": "Python 3",
   "language": "python",
   "name": "python3"
  },
  "language_info": {
   "codemirror_mode": {
    "name": "ipython",
    "version": 3
   },
   "file_extension": ".py",
   "mimetype": "text/x-python",
   "name": "python",
   "nbconvert_exporter": "python",
   "pygments_lexer": "ipython3",
   "version": "3.7.3"
  }
 },
 "nbformat": 4,
 "nbformat_minor": 4
}
