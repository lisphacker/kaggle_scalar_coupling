{
 "cells": [
  {
   "cell_type": "code",
   "execution_count": 1,
   "metadata": {},
   "outputs": [],
   "source": [
    "%load_ext autoreload\n",
    "%autoreload 2\n",
    "\n",
    "%load_ext line_profiler"
   ]
  },
  {
   "cell_type": "code",
   "execution_count": 3,
   "metadata": {},
   "outputs": [],
   "source": [
    "import pandas as pd\n",
    "import numpy as np\n",
    "\n",
    "import  matplotlib.pyplot as plt\n",
    "import pickle\n",
    "\n",
    "from chemistry import Molecule\n",
    "from util import score\n",
    "from pprint import pprint\n"
   ]
  },
  {
   "cell_type": "code",
   "execution_count": 4,
   "metadata": {},
   "outputs": [],
   "source": [
    "with open('../data/molecules_enh.pickle', 'rb') as f:\n",
    "    molecules = pickle.load(f)"
   ]
  },
  {
   "cell_type": "code",
   "execution_count": 5,
   "metadata": {},
   "outputs": [],
   "source": [
    "structures = pd.read_feather('../data/structures_enh.feather')\n",
    "molecules_df = pd.read_feather('../data/molecules.feather')\n",
    "labelled = pd.read_feather('../data/train.feather')\n",
    "unlabelled = pd.read_feather('../data/test.feather')"
   ]
  },
  {
   "cell_type": "code",
   "execution_count": 6,
   "metadata": {},
   "outputs": [],
   "source": [
    "labelled_enh = labelled.merge(molecules_df, left_on='molecule_name', right_on='molecule_name')\n",
    "#labelled_enh.head(32)"
   ]
  },
  {
   "cell_type": "code",
   "execution_count": 7,
   "metadata": {},
   "outputs": [],
   "source": [
    "unlabelled_enh = unlabelled.merge(molecules_df, left_on='molecule_name', right_on='molecule_name')\n",
    "#unlabelled_enh.head(32)"
   ]
  },
  {
   "cell_type": "code",
   "execution_count": 10,
   "metadata": {},
   "outputs": [
    {
     "data": {
      "text/plain": [
       "Timer unit: 1e-06 s\n",
       "\n",
       "Total time: 4.05767 s\n",
       "File: /home/gautham/work/kaggle/scalar_coupling/notebooks/models.py\n",
       "Function: make_input at line 166\n",
       "\n",
       "Line #      Hits         Time  Per Hit   % Time  Line Contents\n",
       "==============================================================\n",
       "   166                                               def make_input(self, input_df):\n",
       "   167         1    1128443.0 1128443.0     27.8          df = self.make_dist(input_df)\n",
       "   168         1        179.0    179.0      0.0          df['type'] = input_df['type']\n",
       "   169                                           \n",
       "   170         4         16.0      4.0      0.0          for t in self.coupling_types:\n",
       "   171         3       5474.0   1824.7      0.1              df[f'coupling_{t}'] = (df.type == t).astype('int8')\n",
       "   172                                           \n",
       "   173         1     570301.0 570301.0     14.1          self.make_atom_columns(df, df.atom_0, df.atom_index_0, 'atom0')\n",
       "   174         1     569333.0 569333.0     14.0          self.make_atom_columns(df, df.atom_1, df.atom_index_1, 'atomN')\n",
       "   175                                           \n",
       "   176         1          6.0      6.0      0.0          n = len(input_df)\n",
       "   177                                           \n",
       "   178         1          3.0      3.0      0.0          atom_syms = [None] * 3\n",
       "   179         1          3.0      3.0      0.0          atom_indices = [None] * 3\n",
       "   180         4         13.0      3.2      0.0          for i in range(3):\n",
       "   181         3       2893.0    964.3      0.1              atom_syms[i] = pd.Categorical(['X'] * n, categories=list(self.atom_types) + ['X'])\n",
       "   182         3         27.0      9.0      0.0              atom_indices[i] = np.zeros(n, dtype='int16')\n",
       "   183                                           \n",
       "   184                                                   #bond_info = np.zeros((9, n), dtype='float32')\n",
       "   185         1          3.0      3.0      0.0          bond_info_dist = []\n",
       "   186         1          3.0      3.0      0.0          bond_info_valency = []\n",
       "   187         1          2.0      2.0      0.0          bond_info_strength = []\n",
       "   188         1          3.0      3.0      0.0          bond_info_force = []\n",
       "   189         1          3.0      3.0      0.0          bond_info_cos = []\n",
       "   190         4         12.0      3.0      0.0          for i in range(3):\n",
       "   191         3         18.0      6.0      0.0              bond_info_dist.append(np.zeros(n, dtype='float32'))\n",
       "   192         3         17.0      5.7      0.0              bond_info_valency.append(np.zeros(n, dtype='float32'))\n",
       "   193         3         17.0      5.7      0.0              bond_info_strength.append(np.zeros(n, dtype='float32'))\n",
       "   194         3         17.0      5.7      0.0              bond_info_force.append(np.zeros(n, dtype='float32'))\n",
       "   195         3         19.0      6.3      0.0              bond_info_cos.append(np.zeros(n, dtype='float32'))\n",
       "   196                                           \n",
       "   197        17       3916.0    230.4      0.1          for i, row in enumerate(input_df.itertuples()):\n",
       "   198        16         57.0      3.6      0.0              m = self.molecules[row.molecule_name]\n",
       "   199        16         46.0      2.9      0.0              bonds = m.bonds\n",
       "   200                                           \n",
       "   201        16        913.0     57.1      0.0              path = m.compute_path(row.atom_index_0, row.atom_index_1)\n",
       "   202        16         82.0      5.1      0.0              syms = [m.symbols[idx] for idx in path]\n",
       "   203                                           \n",
       "   204        16         41.0      2.6      0.0              try:\n",
       "   205        16         40.0      2.5      0.0                  i0 = path[0]\n",
       "   206        28        109.0      3.9      0.0                  for ai, (i1, sym) in enumerate(zip(path[1:], syms[1:])):\n",
       "   207        24      27924.0   1163.5      0.7                      atom_syms[ai][i] = sym\n",
       "   208        24         95.0      4.0      0.0                      atom_indices[ai][i] = i1\n",
       "   209                                           \n",
       "   210        24         79.0      3.3      0.0                      b = bonds.get((i0, i1), None)\n",
       "   211        24         66.0      2.8      0.0                      if b is None:\n",
       "   212        16         50.0      3.1      0.0                          b = bonds.get((i1, i0), None)\n",
       "   213        24         60.0      2.5      0.0                      if b is None:\n",
       "   214                                                                   print(f'Unable to resolve bond - path = {path}, bond = {(i0, i1)})')\n",
       "   215                                                                   i0 = i1\n",
       "   216                                                                   continue\n",
       "   217        24         74.0      3.1      0.0                      bi = ai\n",
       "   218                                                               # bond_info[bi, i]     = b.dist\n",
       "   219                                                               # bond_info[bi + 1, i] = b.valency\n",
       "   220                                                               # bond_info[bi + 2, i] = b.strength\n",
       "   221        24         80.0      3.3      0.0                      bond_info_dist[bi][i]     = b.dist\n",
       "   222        24         76.0      3.2      0.0                      bond_info_valency[bi][i] = b.valency\n",
       "   223        24         84.0      3.5      0.0                      bond_info_strength[bi][i] = b.strength\n",
       "   224                                           \n",
       "   225        24         87.0      3.6      0.0                      p0 = m.positions[i0]\n",
       "   226        24         73.0      3.0      0.0                      p1 = m.positions[i1]\n",
       "   227        24        756.0     31.5      0.0                      d = np.linalg.norm(p0 - p1)\n",
       "   228        24         93.0      3.9      0.0                      a0 = chemistry.atomic_number[syms[i0]]\n",
       "   229        18         62.0      3.4      0.0                      a1 = chemistry.atomic_number[syms[i1]]\n",
       "   230        12        155.0     12.9      0.0                      f = a0 * a1 / (d * d)\n",
       "   231        12         47.0      3.9      0.0                      bond_info_force[bi][i] = f\n",
       "   232                                           \n",
       "   233        12         40.0      3.3      0.0                      if ai < len(path) - 1:\n",
       "   234        12         33.0      2.8      0.0                          i2 = path[ai + 1]\n",
       "   235        12         53.0      4.4      0.0                          p2 = m.positions[i2]\n",
       "   236        12         33.0      2.8      0.0                          d0 = d\n",
       "   237        12        321.0     26.8      0.0                          d1 = np.linalg.norm(p2 - p1)\n",
       "   238                                           \n",
       "   239        12        155.0     12.9      0.0                          if d0 != 0 and d1 != 0:\n",
       "   240                                                                       dir0 = (p0 - p1) / d0\n",
       "   241                                                                       dir1 = (p2 - p1) / d1\n",
       "   242                                           \n",
       "   243                                                                       bond_info_cos[bi][i] = np.dot(dir0, dir1)\n",
       "   244                                           \n",
       "   245        12         32.0      2.7      0.0                      i0 = i1\n",
       "   246        12         33.0      2.8      0.0              except:\n",
       "   247        12         33.0      2.8      0.0                  pass\n",
       "   248                                           \n",
       "   249         1     561389.0 561389.0     13.8          self.make_atom_columns(df, pd.Series(atom_syms[0], index=df.index), pd.Series(atom_indices[0], index=df.index), 'atom1')\n",
       "   250         1     570399.0 570399.0     14.1          self.make_atom_columns(df, pd.Series(atom_syms[1], index=df.index), pd.Series(atom_indices[1], index=df.index), 'atom2')\n",
       "   251         1     570300.0 570300.0     14.1          self.make_atom_columns(df, pd.Series(atom_syms[2], index=df.index), pd.Series(atom_indices[2], index=df.index), 'atom3')\n",
       "   252                                           \n",
       "   253         4         25.0      6.2      0.0          for i in range(3):\n",
       "   254         3       5679.0   1893.0      0.1              df[f'bond{i}{i + 1}_dist']     = pd.Series(bond_info_dist[i], index=df.index)\n",
       "   255         3       5138.0   1712.7      0.1              df[f'bond{i}{i + 1}_dist2']     = pd.Series(bond_info_dist[i] * bond_info_dist[i], index=df.index)\n",
       "   256                                           \n",
       "   257         3       5210.0   1736.7      0.1              df[f'bond{i}{i + 1}_valency']  = pd.Series(bond_info_valency[i], index=df.index)\n",
       "   258         3       5334.0   1778.0      0.1              df[f'bond{i}{i + 1}_strength'] = pd.Series(bond_info_strength[i], index=df.index)\n",
       "   259         3       5210.0   1736.7      0.1              df[f'bond{i}{i + 1}_force'] = pd.Series(bond_info_force[i], index=df.index)\n",
       "   260                                           \n",
       "   261         3       4519.0   1506.3      0.1              df[f'bond{i}{i + 1}_cos'] = pd.Series(bond_info_cos[i], index=df.index)\n",
       "   262         3       5205.0   1735.0      0.1              df[f'bond{i}{i + 1}_cos2'] = pd.Series(bond_info_cos[i] * bond_info_cos[i], index=df.index)\n",
       "   263         3       6659.0   2219.7      0.2              df[f'bond{i}{i + 1}_sin2'] = 1 - df[f'bond{i}{i + 1}_cos2']\n",
       "   264                                           \n",
       "   265                                                   # cols = ['molecule_name']\n",
       "   266                                                   # for c in self.structures.columns:\n",
       "   267                                                   #     if c[0] == 'n':\n",
       "   268                                                   #         cols.append(c)\n",
       "   269                                                   # df = df.merge(self.structures[cols].groupby('molecule_name').nth(0), how='left', left_on=['molecule_name'], right_on=['molecule_name'])\n",
       "   270                                           \n",
       "   271         1          3.0      3.0      0.0          return df"
      ]
     },
     "metadata": {},
     "output_type": "display_data"
    }
   ],
   "source": [
    "from models import SKModel, partition_data\n",
    "\n",
    "def fn(data_df):\n",
    "    #data_df = labelled[labelled.type == '1JHC'].head(10)\n",
    "    data_df = labelled_enh.head(16)\n",
    "    train_df, valid_df, test_df = partition_data(data_df, train_frac=1)\n",
    "    train_df = train_df#.copy()\n",
    "\n",
    "    model = SKModel(molecules=molecules,\n",
    "                    structures=structures)\n",
    "    input_df, numeric_df, output_df = model.setup_data(train_df, train_df)\n",
    "\n",
    "%lprun -f SKModel.make_input fn(labelled_enh.head(10000))"
   ]
  },
  {
   "cell_type": "code",
   "execution_count": null,
   "metadata": {},
   "outputs": [],
   "source": []
  }
 ],
 "metadata": {
  "kernelspec": {
   "display_name": "Python 3",
   "language": "python",
   "name": "python3"
  },
  "language_info": {
   "codemirror_mode": {
    "name": "ipython",
    "version": 3
   },
   "file_extension": ".py",
   "mimetype": "text/x-python",
   "name": "python",
   "nbconvert_exporter": "python",
   "pygments_lexer": "ipython3",
   "version": "3.7.3"
  }
 },
 "nbformat": 4,
 "nbformat_minor": 2
}
