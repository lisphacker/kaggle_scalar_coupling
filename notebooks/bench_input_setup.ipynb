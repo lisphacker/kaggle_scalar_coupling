{
 "cells": [
  {
   "cell_type": "code",
   "execution_count": 1,
   "metadata": {},
   "outputs": [],
   "source": [
    "%load_ext autoreload\n",
    "%autoreload 2\n",
    "\n",
    "%load_ext line_profiler"
   ]
  },
  {
   "cell_type": "code",
   "execution_count": 3,
   "metadata": {},
   "outputs": [],
   "source": [
    "import pandas as pd\n",
    "import numpy as np\n",
    "\n",
    "import  matplotlib.pyplot as plt\n",
    "import pickle\n",
    "\n",
    "from chemistry import Molecule\n",
    "from util import score\n",
    "from pprint import pprint\n"
   ]
  },
  {
   "cell_type": "code",
   "execution_count": 4,
   "metadata": {},
   "outputs": [],
   "source": [
    "with open('../data/molecules_enh.pickle', 'rb') as f:\n",
    "    molecules = pickle.load(f)"
   ]
  },
  {
   "cell_type": "code",
   "execution_count": 5,
   "metadata": {},
   "outputs": [],
   "source": [
    "structures = pd.read_feather('../data/structures_enh.feather')\n",
    "molecules_df = pd.read_feather('../data/molecules.feather')\n",
    "labelled = pd.read_feather('../data/train.feather')\n",
    "unlabelled = pd.read_feather('../data/test.feather')"
   ]
  },
  {
   "cell_type": "code",
   "execution_count": 6,
   "metadata": {},
   "outputs": [],
   "source": [
    "labelled_enh = labelled.merge(molecules_df, left_on='molecule_name', right_on='molecule_name')\n",
    "#labelled_enh.head(32)"
   ]
  },
  {
   "cell_type": "code",
   "execution_count": 7,
   "metadata": {},
   "outputs": [],
   "source": [
    "unlabelled_enh = unlabelled.merge(molecules_df, left_on='molecule_name', right_on='molecule_name')\n",
    "#unlabelled_enh.head(32)"
   ]
  },
  {
   "cell_type": "code",
   "execution_count": 34,
   "metadata": {},
   "outputs": [
    {
     "name": "stdout",
     "output_type": "stream",
     "text": [
      "1 0\n",
      "[ 0.00215042 -0.00603132  0.00197612] [-0.01269814  1.0858041   0.008001  ]\n",
      "[[-1.2698136e-02  1.0858041e+00  8.0009960e-03]\n",
      " [ 2.1504159e-03 -6.0313176e-03  1.9761203e-03]\n",
      " [ 1.0117308e+00  1.4637512e+00  2.7657481e-04]\n",
      " [-5.4081506e-01  1.4475266e+00 -8.7664372e-01]\n",
      " [-5.2381361e-01  1.4379326e+00  9.0639728e-01]]\n",
      "[0.54597646 0.5459765  1.3739893  1.3740053  1.3740118 ]\n",
      "[2, 3, 4]\n",
      "[1.3739893 1.3740053 1.3740118]\n",
      "Name: dsgdb9nsd_000001\n",
      "Atoms:\n",
      "  C 0: [-0.01269814  1.0858041   0.008001  ]\n",
      "  H 1: [ 0.00215042 -0.00603132  0.00197612]\n",
      "  H 2: [1.0117308e+00 1.4637512e+00 2.7657481e-04]\n",
      "  H 3: [-0.54081506  1.4475266  -0.8766437 ]\n",
      "  H 4: [-0.5238136  1.4379326  0.9063973]\n",
      "Bonds:\n",
      "  C(0) - H(1)\n",
      "  C(0) - H(2)\n",
      "  C(0) - H(3)\n",
      "  C(0) - H(4)\n",
      "Simple field intensity :\n",
      "  C(0) - 3.354708433151245\n",
      "  H(1) - 5.975549221038818\n",
      "  H(2) - 5.975560188293457\n",
      "  H(3) - 5.975599765777588\n",
      "  H(4) - 5.975588798522949\n",
      "Field intensity :\n",
      "  C(0) - 3.05920657410752e-05\n",
      "  H(1) - 5.802408695220947\n",
      "  H(2) - 5.802420616149902\n",
      "  H(3) - 5.802464962005615\n",
      "  H(4) - 5.802454471588135\n",
      "\n",
      "\n",
      "[ 0.00215042 -0.00603132  0.00197612] [-0.01269814  1.0858041   0.008001  ] [1.0117308e+00 1.4637512e+00 2.7657481e-04] [-0.54081506  1.4475266  -0.8766437 ]\n",
      "[ 0.11509199  0.9977627  -0.21659751]\n",
      "1.033505 0.2729947 1.033509 1.0335195\n"
     ]
    },
    {
     "data": {
      "text/plain": [
       "Timer unit: 1e-06 s\n",
       "\n",
       "Total time: 2.49627 s\n",
       "File: /home/gautham/work/kaggle/scalar_coupling/notebooks/models.py\n",
       "Function: make_atom_columns at line 134\n",
       "\n",
       "Line #      Hits         Time  Per Hit   % Time  Line Contents\n",
       "==============================================================\n",
       "   134                                               def make_atom_columns(self, df, atom_syms, atom_index_column, prefix):\n",
       "   135         3       2312.0    770.7      0.1          atom_sym_column = pd.Categorical(atom_syms, categories=list(self.atom_types) + ['X'])\n",
       "   136                                           \n",
       "   137        18         65.0      3.6      0.0          for a in self.atom_types:\n",
       "   138        15      14266.0    951.1      0.6              df[f'{prefix}_{a}'] = (atom_sym_column == a).astype('int8')\n",
       "   139         3       4348.0   1449.3      0.2          df[f'{prefix}_weight'] = pd.Series([chemistry.atom_size[atom] for atom in atom_sym_column], index=df.index, dtype='int8')\n",
       "   140                                           \n",
       "   141         3       1329.0    443.0      0.1          df['ai'] = atom_index_column\n",
       "   142                                           \n",
       "   143         3    2368427.0 789475.7     94.9          m = df.merge(self.structures, how='left', left_on=['molecule_name', 'ai'], right_on=['molecule_name', 'atom_index'])\n",
       "   144         3         78.0     26.0      0.0          m.index = df.index\n",
       "   145                                           \n",
       "   146         3        129.0     43.0      0.0          mask = atom_sym_column == 'X'\n",
       "   147                                           \n",
       "   148         3       6155.0   2051.7      0.2          df.drop(columns=['ai'])\n",
       "   149        24         79.0      3.3      0.0          for c in ['x', 'y', 'z', 'x_mean', 'y_mean', 'z_mean', 'dist_to_mean']:\n",
       "   150        21      20757.0    988.4      0.8              df[f'{prefix}_{c}'] = m[c]\n",
       "   151        21      54648.0   2602.3      2.2              df.loc[mask, [f'{prefix}_{c}']] = 0\n",
       "   152                                           \n",
       "   153         3       1143.0    381.0      0.0          fi_list = [self.molecules[mn].field_intensity[ai] for (mn, ai) in zip(df.molecule_name, atom_index_column)]\n",
       "   154         3         34.0     11.3      0.0          fi_array = np.array(fi_list, dtype='float32')\n",
       "   155         3       3052.0   1017.3      0.1          df[f'{prefix}_fi'] = pd.Series(fi_array, index=df.index)\n",
       "   156         3       7613.0   2537.7      0.3          df.loc[mask, [f'{prefix}_fi']] = 0\n",
       "   157                                           \n",
       "   158         3       1116.0    372.0      0.0          fi_list = [self.molecules[mn].simple_field_intensity[ai] for (mn, ai) in zip(df.molecule_name, atom_index_column)]\n",
       "   159         3         34.0     11.3      0.0          fi_array = np.array(fi_list, dtype='float32')\n",
       "   160         3       3040.0   1013.3      0.1          df[f'{prefix}_simple_fi'] = pd.Series(fi_array, index=df.index)\n",
       "   161         3       7642.0   2547.3      0.3          df.loc[mask, [f'{prefix}_simple_fi']] = 0"
      ]
     },
     "metadata": {},
     "output_type": "display_data"
    }
   ],
   "source": [
    "from models import SKModel, partition_data\n",
    "\n",
    "def fn(data_df, n):\n",
    "    global numeric_df\n",
    "    data_df = labelled[labelled.type == '1JHC'].head(n)\n",
    "    #data_df = labelled_enh.head(16)\n",
    "    train_df, valid_df, test_df = partition_data(data_df, train_frac=1)\n",
    "    train_df = train_df#.copy()\n",
    "\n",
    "    model = SKModel(molecules=molecules,\n",
    "                    structures=structures)\n",
    "    input_df, numeric_df, output_df = model.setup_data(train_df, train_df)\n",
    "\n",
    "%lprun -f SKModel.make_atom_columns fn(labelled_enh, 1)"
   ]
  },
  {
   "cell_type": "code",
   "execution_count": 26,
   "metadata": {},
   "outputs": [
    {
     "data": {
      "text/plain": [
       "[('coupling_distance', 1.091952919960022),\n",
       " ('coupling_1JHC', 1.0),\n",
       " ('atom0_C', 0.0),\n",
       " ('atom0_H', 1.0),\n",
       " ('atom0_F', 0.0),\n",
       " ('atom0_N', 0.0),\n",
       " ('atom0_O', 0.0),\n",
       " ('atom0_weight', 1.0),\n",
       " ('ai', 0.0),\n",
       " ('atom0_x', 0.0021504159085452557),\n",
       " ('atom0_y', -0.006031317636370659),\n",
       " ('atom0_z', 0.0019761202856898308),\n",
       " ('atom0_x_mean', -0.012689118273556232),\n",
       " ('atom0_y_mean', 1.085796594619751),\n",
       " ('atom0_z_mean', 0.008001451380550861),\n",
       " ('atom0_dist_to_mean', 1.0919452905654907),\n",
       " ('atom0_fi', 5.802408695220947),\n",
       " ('atom0_simple_fi', 5.975549221038818),\n",
       " ('atomN_C', 1.0),\n",
       " ('atomN_H', 0.0),\n",
       " ('atomN_F', 0.0),\n",
       " ('atomN_N', 0.0),\n",
       " ('atomN_O', 0.0),\n",
       " ('atomN_weight', 12.0),\n",
       " ('atomN_x', -0.012698136270046234),\n",
       " ('atomN_y', 1.0858041048049927),\n",
       " ('atomN_z', 0.008000995963811874),\n",
       " ('atomN_x_mean', -0.012689118273556232),\n",
       " ('atomN_y_mean', 1.085796594619751),\n",
       " ('atomN_z_mean', 0.008001451380550861),\n",
       " ('atomN_dist_to_mean', 1.1744553376047406e-05),\n",
       " ('atomN_fi', 3.05920657410752e-05),\n",
       " ('atomN_simple_fi', 3.354708433151245),\n",
       " ('atom1_C', 1.0),\n",
       " ('atom1_H', 0.0),\n",
       " ('atom1_F', 0.0),\n",
       " ('atom1_N', 0.0),\n",
       " ('atom1_O', 0.0),\n",
       " ('atom1_weight', 12.0),\n",
       " ('atom1_x', -0.012698136270046234),\n",
       " ('atom1_y', 1.0858041048049927),\n",
       " ('atom1_z', 0.008000995963811874),\n",
       " ('atom1_x_mean', -0.012689118273556232),\n",
       " ('atom1_y_mean', 1.085796594619751),\n",
       " ('atom1_z_mean', 0.008001451380550861),\n",
       " ('atom1_dist_to_mean', 1.1744553376047406e-05),\n",
       " ('atom1_fi', 3.05920657410752e-05),\n",
       " ('atom1_simple_fi', 3.354708433151245),\n",
       " ('bond01_dist', 1.091952919960022),\n",
       " ('bond01_dist2', 1.1923612356185913),\n",
       " ('bond01_valency', 1.0),\n",
       " ('bond01_strength', 411.0),\n",
       " ('bond01_force', 5.032032489776611),\n",
       " ('bond01_force2', 5.494742393493652),\n",
       " ('bond01_cos', 0.0),\n",
       " ('bond01_cos2', 0.0),\n",
       " ('bond01_sin2', 1.0),\n",
       " ('sergii_dist_0', 0.545976459980011),\n",
       " ('sergii_dist_1', 0.545976459980011),\n",
       " ('sergii_dist_2', 0.5459765195846558),\n",
       " ('sergii_dist_3', 0.5459765195846558),\n",
       " ('atom0_dir_x', 0.01358999777585268),\n",
       " ('atom0_dir_y', -0.9998924732208252),\n",
       " ('atom0_dir_z', -0.005517979152500629),\n",
       " ('atomN_dir_x', -0.7678449749946594),\n",
       " ('atomN_dir_y', 0.639461100101471),\n",
       " ('atomN_dir_z', -0.03877684473991394),\n",
       " ('cos0N', -0.6496133208274841),\n",
       " ('atoms0N_dx', 0.014848552644252777),\n",
       " ('atoms0N_dy', 1.091835379600525),\n",
       " ('atoms0N_dz', 0.006024875678122044),\n",
       " ('atoms0N_dist2', 1.1923612356185913),\n",
       " ('atoms0N_dist', 1.091952919960022),\n",
       " ('atoms01_dx', 0.014848552644252777),\n",
       " ('atoms01_dy', 1.091835379600525),\n",
       " ('atoms01_dz', 0.006024875678122044),\n",
       " ('atoms01_dist2', 1.1923612356185913),\n",
       " ('atoms01_dist', 1.091952919960022)]"
      ]
     },
     "execution_count": 26,
     "metadata": {},
     "output_type": "execute_result"
    }
   ],
   "source": [
    "list(zip(numeric_df.columns,numeric_df.loc[0]))"
   ]
  }
 ],
 "metadata": {
  "kernelspec": {
   "display_name": "Python 3",
   "language": "python",
   "name": "python3"
  },
  "language_info": {
   "codemirror_mode": {
    "name": "ipython",
    "version": 3
   },
   "file_extension": ".py",
   "mimetype": "text/x-python",
   "name": "python",
   "nbconvert_exporter": "python",
   "pygments_lexer": "ipython3",
   "version": "3.7.3"
  }
 },
 "nbformat": 4,
 "nbformat_minor": 2
}
