{
 "cells": [
  {
   "cell_type": "code",
   "execution_count": 52,
   "metadata": {},
   "outputs": [],
   "source": [
    "import pandas as pd\n",
    "import pyarrow.parquet as pq\n",
    "import matplotlib.pyplot as plt\n",
    "import seaborn as sns\n",
    "import numpy as np\n",
    "from pprint import pprint"
   ]
  },
  {
   "cell_type": "code",
   "execution_count": 2,
   "metadata": {},
   "outputs": [
    {
     "name": "stderr",
     "output_type": "stream",
     "text": [
      "/home/gautham/apps/anaconda3/envs/kaggle/lib/python3.7/site-packages/pyarrow/pandas_compat.py:752: FutureWarning: .labels was deprecated in version 0.24.0. Use .codes instead.\n",
      "  labels, = index.labels\n"
     ]
    }
   ],
   "source": [
    "structures = pd.read_feather('../data/structures.feather')\n",
    "train = pd.read_feather('../data/train.feather')\n",
    "test = pd.read_feather('../data/test.feather')"
   ]
  },
  {
   "cell_type": "code",
   "execution_count": 15,
   "metadata": {},
   "outputs": [],
   "source": [
    "methane_name = 'dsgdb9nsd_000001'\n",
    "methane = structures[structures.molecule_name == methane_name]\n",
    "\n",
    "ethanol_name = 'dsgdb9nsd_000014'\n",
    "ethanol = structures[structures.molecule_name == ethanol_name]"
   ]
  },
  {
   "cell_type": "code",
   "execution_count": 16,
   "metadata": {},
   "outputs": [
    {
     "data": {
      "text/html": [
       "<div>\n",
       "<style scoped>\n",
       "    .dataframe tbody tr th:only-of-type {\n",
       "        vertical-align: middle;\n",
       "    }\n",
       "\n",
       "    .dataframe tbody tr th {\n",
       "        vertical-align: top;\n",
       "    }\n",
       "\n",
       "    .dataframe thead th {\n",
       "        text-align: right;\n",
       "    }\n",
       "</style>\n",
       "<table border=\"1\" class=\"dataframe\">\n",
       "  <thead>\n",
       "    <tr style=\"text-align: right;\">\n",
       "      <th></th>\n",
       "      <th>molecule_name</th>\n",
       "      <th>atom_index</th>\n",
       "      <th>atom</th>\n",
       "      <th>x</th>\n",
       "      <th>y</th>\n",
       "      <th>z</th>\n",
       "    </tr>\n",
       "  </thead>\n",
       "  <tbody>\n",
       "    <tr>\n",
       "      <th>0</th>\n",
       "      <td>dsgdb9nsd_000001</td>\n",
       "      <td>0</td>\n",
       "      <td>C</td>\n",
       "      <td>-0.012698</td>\n",
       "      <td>1.085804</td>\n",
       "      <td>0.008001</td>\n",
       "    </tr>\n",
       "    <tr>\n",
       "      <th>1</th>\n",
       "      <td>dsgdb9nsd_000001</td>\n",
       "      <td>1</td>\n",
       "      <td>H</td>\n",
       "      <td>0.002150</td>\n",
       "      <td>-0.006031</td>\n",
       "      <td>0.001976</td>\n",
       "    </tr>\n",
       "    <tr>\n",
       "      <th>2</th>\n",
       "      <td>dsgdb9nsd_000001</td>\n",
       "      <td>2</td>\n",
       "      <td>H</td>\n",
       "      <td>1.011731</td>\n",
       "      <td>1.463751</td>\n",
       "      <td>0.000277</td>\n",
       "    </tr>\n",
       "    <tr>\n",
       "      <th>3</th>\n",
       "      <td>dsgdb9nsd_000001</td>\n",
       "      <td>3</td>\n",
       "      <td>H</td>\n",
       "      <td>-0.540815</td>\n",
       "      <td>1.447527</td>\n",
       "      <td>-0.876644</td>\n",
       "    </tr>\n",
       "    <tr>\n",
       "      <th>4</th>\n",
       "      <td>dsgdb9nsd_000001</td>\n",
       "      <td>4</td>\n",
       "      <td>H</td>\n",
       "      <td>-0.523814</td>\n",
       "      <td>1.437933</td>\n",
       "      <td>0.906397</td>\n",
       "    </tr>\n",
       "  </tbody>\n",
       "</table>\n",
       "</div>"
      ],
      "text/plain": [
       "      molecule_name  atom_index atom         x         y         z\n",
       "0  dsgdb9nsd_000001           0    C -0.012698  1.085804  0.008001\n",
       "1  dsgdb9nsd_000001           1    H  0.002150 -0.006031  0.001976\n",
       "2  dsgdb9nsd_000001           2    H  1.011731  1.463751  0.000277\n",
       "3  dsgdb9nsd_000001           3    H -0.540815  1.447527 -0.876644\n",
       "4  dsgdb9nsd_000001           4    H -0.523814  1.437933  0.906397"
      ]
     },
     "execution_count": 16,
     "metadata": {},
     "output_type": "execute_result"
    }
   ],
   "source": [
    "methane"
   ]
  },
  {
   "cell_type": "code",
   "execution_count": 18,
   "metadata": {},
   "outputs": [],
   "source": [
    "from ase import Atoms"
   ]
  },
  {
   "cell_type": "code",
   "execution_count": 54,
   "metadata": {},
   "outputs": [
    {
     "name": "stdout",
     "output_type": "stream",
     "text": [
      "{(('C', 0), ('C', 1)),\n",
      " (('C', 0), ('H', 3)),\n",
      " (('C', 0), ('H', 4)),\n",
      " (('C', 0), ('H', 5)),\n",
      " (('C', 1), ('H', 6)),\n",
      " (('C', 1), ('H', 7))}\n"
     ]
    }
   ],
   "source": [
    "def get_dist(atom1, atom2):\n",
    "    dx = atom1.x - atom2.x\n",
    "    dy = atom1.y - atom2.y\n",
    "    dz = atom1.z - atom2.z\n",
    "    diffsq = dx * dx + dy * dy + dz * dz\n",
    "    return np.sqrt(diffsq)\n",
    "\n",
    "molecule_dist = {\n",
    "    ('C', 'C'): (1.2, 1.54),\n",
    "    ('C', 'H'): (1.06, 1.12),\n",
    "    ('C', 'O'): (1.43, 2.15),\n",
    "    ('C', 'N'): (1.47, 2.10),\n",
    "    ('C', 'F'): (1.34, 1.34),\n",
    "}\n",
    "\n",
    "def get_bond_size(atom1, atom2):\n",
    "    pair = (atom1.atom, atom2.atom)\n",
    "    if pair in molecule_dist:\n",
    "        return molecule_dist[pair]\n",
    "    \n",
    "    pair = (atom2.atom, atom1.atom)\n",
    "    if pair in molecule_dist:\n",
    "        return molecule_dist[pair]\n",
    "    \n",
    "    return (np.inf, np.inf)\n",
    "\n",
    "def compute_bonds(molecule_df):\n",
    "    positions = []\n",
    "    name = molecule_df.iloc[0, 0]\n",
    "    bonds = set()\n",
    "    for i, atom1 in molecule_df.iterrows():\n",
    "        for j, atom2 in molecule_df.iterrows():\n",
    "            if i >= j:\n",
    "                pass\n",
    "            dist = get_dist(atom1, atom2)\n",
    "            bond_len = get_bond_size(atom1, atom2)\n",
    "            if dist >= bond_len[0] and dist <= bond_len[1]:\n",
    "                bond = ((atom1.atom, atom1.atom_index), (atom2.atom, atom2.atom_index))\n",
    "                if bond not in bonds and (bond[1], bond[0]) not in bonds:\n",
    "                    bonds.add(bond)\n",
    "                \n",
    "    return bonds\n",
    "\n",
    "pprint(compute_bonds(ethanol))"
   ]
  },
  {
   "cell_type": "code",
   "execution_count": 50,
   "metadata": {},
   "outputs": [],
   "source": [
    "[1, 2, 3].reverse()"
   ]
  }
 ],
 "metadata": {
  "kernelspec": {
   "display_name": "Python 3",
   "language": "python",
   "name": "python3"
  },
  "language_info": {
   "codemirror_mode": {
    "name": "ipython",
    "version": 3
   },
   "file_extension": ".py",
   "mimetype": "text/x-python",
   "name": "python",
   "nbconvert_exporter": "python",
   "pygments_lexer": "ipython3",
   "version": "3.7.3"
  }
 },
 "nbformat": 4,
 "nbformat_minor": 2
}
