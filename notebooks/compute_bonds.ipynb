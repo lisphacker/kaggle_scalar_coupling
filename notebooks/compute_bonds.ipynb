{
 "cells": [
  {
   "cell_type": "code",
   "execution_count": null,
   "metadata": {},
   "outputs": [],
   "source": [
    "%load_ext autoreload\n",
    "%autoreload 2"
   ]
  },
  {
   "cell_type": "code",
   "execution_count": null,
   "metadata": {},
   "outputs": [],
   "source": [
    "import pandas as pd\n",
    "import matplotlib.pyplot as plt\n",
    "import seaborn as sns\n",
    "import numpy as np\n",
    "from pprint import pprint\n",
    "\n",
    "from dataclasses import dataclass\n",
    "import ase\n",
    "import io\n",
    "from multiprocessing import Pool"
   ]
  },
  {
   "cell_type": "code",
   "execution_count": null,
   "metadata": {},
   "outputs": [],
   "source": [
    "import plotly\n",
    "plotly.offline.init_notebook_mode()"
   ]
  },
  {
   "cell_type": "code",
   "execution_count": null,
   "metadata": {},
   "outputs": [],
   "source": [
    "structures = pd.read_feather('../data/structures.feather')\n",
    "labelled = pd.read_feather('../data/train.feather')\n",
    "unlabelled = pd.read_feather('../data/test.feather')"
   ]
  },
  {
   "cell_type": "code",
   "execution_count": null,
   "metadata": {},
   "outputs": [],
   "source": [
    "methane_name = 'dsgdb9nsd_000001'\n",
    "methane = structures[structures.molecule_name == methane_name]\n",
    "\n",
    "ethanol_name = 'dsgdb9nsd_000014'\n",
    "ethanol = structures[structures.molecule_name == ethanol_name]"
   ]
  },
  {
   "cell_type": "code",
   "execution_count": null,
   "metadata": {},
   "outputs": [],
   "source": [
    "from chemistry import *"
   ]
  },
  {
   "cell_type": "code",
   "execution_count": null,
   "metadata": {},
   "outputs": [],
   "source": [
    "from chemistry import *\n",
    "\n",
    "def make_molecule(name, molecule_df):\n",
    "    atoms = []\n",
    "    for i, atom in molecule_df.iterrows():\n",
    "        atoms.append(Atom(atom.atom, (atom.x, atom.y, atom.z)))\n",
    "        \n",
    "    return Molecule(name, atoms)\n",
    "\n",
    "molecule_name = 'dsgdb9nsd_037488'\n",
    "molecule = make_molecule(molecule_name, structures[structures.molecule_name == molecule_name])\n",
    "print(compute_path(molecule, 12, 3))\n",
    "\n",
    "plt_plot_molecule(molecule)\n",
    "#ase_plot_molecule(molecule)\n",
    "# plotly_plot_molecule(molecule)\n",
    "ipv_plot_molecule(molecule)\n",
    "\n",
    "pprint(molecule)\n"
   ]
  },
  {
   "cell_type": "code",
   "execution_count": null,
   "metadata": {},
   "outputs": [],
   "source": [
    "from chemistry import compute_path\n",
    "molecule = make_molecule('ethanol', ethanol)\n",
    "compute_path(molecule, 0, 8)"
   ]
  },
  {
   "cell_type": "code",
   "execution_count": null,
   "metadata": {},
   "outputs": [],
   "source": [
    "from chemistry import *\n",
    "\n",
    "def read_molecule(molecule_name):\n",
    "    global structures\n",
    "    molecule_df = structures[structures.molecule_name == molecule_name]\n",
    "    molecule = make_molecule(molecule_name, molecule_df)\n",
    "    \n",
    "#     molecule_df = labelled[labelled.molecule_name == molecule.name]\n",
    "#     for _, row in molecule_df.iterrows():\n",
    "#         path = compute_path(molecule, row.atom_index_0, row.atom_index_1)\n",
    "#         if path is None or len(path) > 4:\n",
    "#             raise Exception(f'{molecule.name} {row.atom_index_0} {row.atom_index_1} {row.type} {path} {row} failed')\n",
    "            \n",
    "#     molecule_df = unlabelled[unlabelled.molecule_name == molecule.name]\n",
    "#     for _, row in molecule_df.iterrows():\n",
    "#         path = compute_path(molecule, row.atom_index_0, row.atom_index_1)\n",
    "#         if path is None or len(path) > 4:\n",
    "#             raise Exception(f'{molecule.name} {row.atom_index_0} {row.atom_index_1} {row.type} {path} {row} failed')\n",
    "            \n",
    "    return molecule\n",
    "\n",
    "def read_molecules(data):\n",
    "    molecule_names = data.molecule_name.unique()\n",
    "    with Pool(8) as pool:\n",
    "        molecules = pool.imap_unordered(read_molecule, molecule_names, 1000)\n",
    "        molecule_map = {molecule.name:molecule for molecule in molecules}\n",
    "     \n",
    "    return molecule_map\n",
    "        \n",
    "molecules = read_molecules(structures)"
   ]
  },
  {
   "cell_type": "code",
   "execution_count": null,
   "metadata": {},
   "outputs": [],
   "source": [
    "len(molecules), len(structures.molecule_name.unique())"
   ]
  },
  {
   "cell_type": "code",
   "execution_count": null,
   "metadata": {},
   "outputs": [],
   "source": [
    "import pickle\n",
    "\n",
    "with open('../data/molecules.pickle', 'wb') as f:\n",
    "    pickle.dump(molecules, f)"
   ]
  },
  {
   "cell_type": "code",
   "execution_count": null,
   "metadata": {},
   "outputs": [],
   "source": []
  }
 ],
 "metadata": {
  "kernelspec": {
   "display_name": "Python 3",
   "language": "python",
   "name": "python3"
  },
  "language_info": {
   "codemirror_mode": {
    "name": "ipython",
    "version": 3
   },
   "file_extension": ".py",
   "mimetype": "text/x-python",
   "name": "python",
   "nbconvert_exporter": "python",
   "pygments_lexer": "ipython3",
   "version": "3.7.3"
  }
 },
 "nbformat": 4,
 "nbformat_minor": 2
}
