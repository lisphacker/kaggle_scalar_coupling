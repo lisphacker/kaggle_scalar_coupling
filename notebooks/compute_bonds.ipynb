{
 "cells": [
  {
   "cell_type": "code",
   "execution_count": 6,
   "metadata": {},
   "outputs": [],
   "source": [
    "import pandas as pd\n",
    "import pyarrow.parquet as pq\n",
    "import matplotlib.pyplot as plt\n",
    "import seaborn as sns\n",
    "import numpy as np\n",
    "from pprint import pprint\n",
    "\n",
    "from dataclasses import dataclass\n",
    "import ase\n",
    "import io"
   ]
  },
  {
   "cell_type": "code",
   "execution_count": 7,
   "metadata": {},
   "outputs": [
    {
     "name": "stderr",
     "output_type": "stream",
     "text": [
      "/home/gautham/apps/anaconda3/envs/kaggle/lib/python3.7/site-packages/pyarrow/pandas_compat.py:752: FutureWarning: .labels was deprecated in version 0.24.0. Use .codes instead.\n",
      "  labels, = index.labels\n"
     ]
    }
   ],
   "source": [
    "structures = pd.read_feather('../data/structures.feather')\n",
    "train = pd.read_feather('../data/train.feather')\n",
    "test = pd.read_feather('../data/test.feather')"
   ]
  },
  {
   "cell_type": "code",
   "execution_count": 8,
   "metadata": {},
   "outputs": [],
   "source": [
    "methane_name = 'dsgdb9nsd_000001'\n",
    "methane = structures[structures.molecule_name == methane_name]\n",
    "\n",
    "ethanol_name = 'dsgdb9nsd_000014'\n",
    "ethanol = structures[structures.molecule_name == ethanol_name]"
   ]
  },
  {
   "cell_type": "code",
   "execution_count": 9,
   "metadata": {},
   "outputs": [],
   "source": [
    "from chemistry import Bond, Atom, Molecule"
   ]
  },
  {
   "cell_type": "code",
   "execution_count": 24,
   "metadata": {},
   "outputs": [
    {
     "name": "stdout",
     "output_type": "stream",
     "text": [
      "C O 2.37821202455867\n",
      "O C 2.37821202455867\n",
      "C O 1.4206996776198013\n",
      "Name: ethanol\n",
      "Atoms:\n",
      "  C 0: [-0.00860504  1.50203824 -0.00681217]\n",
      "  C 1: [ 0.0109931  -0.01764877 -0.01377035]\n",
      "  O 2: [ 0.68088841 -0.44041803 -1.19313204]\n",
      "  H 3: [ 1.01153338  1.89662027 -0.01920155]\n",
      "  H 4: [-0.53159863  1.88076115 -0.88974661]\n",
      "  H 5: [-0.51674569  1.87611771  0.88710737]\n",
      "  H 6: [ 0.52377123 -0.38912296  0.88824081]\n",
      "  H 7: [-1.02027547 -0.4050726   0.0169067 ]\n",
      "  H 8: [ 0.69529575 -1.40179563 -1.20148492]\n",
      "Bonds:\n",
      "  C(0) - C(1)\n",
      "  C(0) - H(3)\n",
      "  C(0) - H(4)\n",
      "  C(0) - H(5)\n",
      "  C(1) - O(2)\n",
      "  C(1) - H(6)\n",
      "  C(1) - H(7)\n",
      "  O(2) - H(8)\n",
      "\n"
     ]
    }
   ],
   "source": [
    "def make_molecule(name, molecule_df):\n",
    "    atoms = []\n",
    "    for i, atom in molecule_df.iterrows():\n",
    "        atoms.append(Atom(atom.atom, (atom.x, atom.y, atom.z)))\n",
    "        \n",
    "    return Molecule(name, atoms)\n",
    "\n",
    "molecule = make_molecule('ethanol', ethanol)\n",
    "pprint(molecule)"
   ]
  },
  {
   "cell_type": "code",
   "execution_count": 11,
   "metadata": {},
   "outputs": [
    {
     "data": {
      "text/plain": [
       "[dsgdb9nsd_000001, dsgdb9nsd_000002, dsgdb9nsd_000003, dsgdb9nsd_000004, dsgdb9nsd_000005, ..., dsgdb9nsd_000013, dsgdb9nsd_000014, dsgdb9nsd_000015, dsgdb9nsd_000016, dsgdb9nsd_000017]\n",
       "Length: 16\n",
       "Categories (16, object): [dsgdb9nsd_000001, dsgdb9nsd_000002, dsgdb9nsd_000003, dsgdb9nsd_000004, ..., dsgdb9nsd_000014, dsgdb9nsd_000015, dsgdb9nsd_000016, dsgdb9nsd_000017]"
      ]
     },
     "execution_count": 11,
     "metadata": {},
     "output_type": "execute_result"
    }
   ],
   "source": [
    "structures.head(100).molecule_name.unique()"
   ]
  },
  {
   "cell_type": "code",
   "execution_count": 12,
   "metadata": {},
   "outputs": [
    {
     "data": {
      "text/plain": [
       "Name: \n",
       "Atoms:\n",
       "  C 0: [-0.03215888  1.54021597  0.01074456]\n",
       "  C 1: [0.03381741 0.00745852 0.00180716]\n",
       "  C 2: [ 0.71375573 -0.50856405 -1.27296948]\n",
       "  C 3: [ 0.73848999 -0.52220887  1.25750911]\n",
       "  H 4: [0.97522736 1.97414339 0.00528362]\n",
       "  H 5: [-0.56196767  1.92232323 -0.8683542 ]\n",
       "  H 6: [-0.54817241  1.91268408  0.90208036]\n",
       "  H 7: [-0.99752527 -0.37310579  0.00977296]\n",
       "  H 8: [ 1.75070024 -0.15586784 -1.33269632]\n",
       "  H 9: [ 0.73446691 -1.60328293 -1.29939699]\n",
       "  H 10: [ 0.19367011 -0.16085589 -2.17195511]\n",
       "  H 11: [ 0.2361199  -0.18382017  2.17005253]\n",
       "  H 12: [ 0.75964081 -1.61713147  1.27226102]\n",
       "  H 13: [ 1.7763586  -0.16985318  1.3005302 ]\n",
       "Bonds:\n",
       "  C(0) - C(1)\n",
       "  C(0) - H(4)\n",
       "  C(0) - H(5)\n",
       "  C(0) - H(6)\n",
       "  C(1) - C(2)\n",
       "  C(1) - C(3)\n",
       "  C(1) - H(7)\n",
       "  C(2) - H(8)\n",
       "  C(2) - H(9)\n",
       "  C(2) - H(10)\n",
       "  C(3) - H(11)\n",
       "  C(3) - H(12)\n",
       "  C(3) - H(13)"
      ]
     },
     "execution_count": 12,
     "metadata": {},
     "output_type": "execute_result"
    }
   ],
   "source": [
    "make_molecule('', structures[structures.molecule_name == 'dsgdb9nsd_000021'])"
   ]
  },
  {
   "cell_type": "code",
   "execution_count": 17,
   "metadata": {},
   "outputs": [
    {
     "name": "stdout",
     "output_type": "stream",
     "text": [
      "The autoreload extension is already loaded. To reload it, use:\n",
      "  %reload_ext autoreload\n"
     ]
    }
   ],
   "source": [
    "%load_ext autoreload\n",
    "%autoreload 2"
   ]
  },
  {
   "cell_type": "code",
   "execution_count": 52,
   "metadata": {},
   "outputs": [
    {
     "data": {
      "text/plain": [
       "[0, 1, 2, 8]"
      ]
     },
     "execution_count": 52,
     "metadata": {},
     "output_type": "execute_result"
    }
   ],
   "source": [
    "from chemistry import compute_path\n",
    "molecule = make_molecule('ethanol', ethanol)\n",
    "compute_path(molecule, 0, 8)"
   ]
  },
  {
   "cell_type": "code",
   "execution_count": null,
   "metadata": {},
   "outputs": [],
   "source": []
  }
 ],
 "metadata": {
  "kernelspec": {
   "display_name": "Python 3",
   "language": "python",
   "name": "python3"
  },
  "language_info": {
   "codemirror_mode": {
    "name": "ipython",
    "version": 3
   },
   "file_extension": ".py",
   "mimetype": "text/x-python",
   "name": "python",
   "nbconvert_exporter": "python",
   "pygments_lexer": "ipython3",
   "version": "3.7.3"
  }
 },
 "nbformat": 4,
 "nbformat_minor": 2
}
