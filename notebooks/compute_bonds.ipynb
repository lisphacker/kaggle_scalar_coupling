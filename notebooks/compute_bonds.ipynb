{
 "cells": [
  {
   "cell_type": "code",
   "execution_count": 1,
   "metadata": {},
   "outputs": [],
   "source": [
    "%load_ext autoreload\n",
    "%autoreload 2"
   ]
  },
  {
   "cell_type": "code",
   "execution_count": 2,
   "metadata": {},
   "outputs": [],
   "source": [
    "import pandas as pd\n",
    "import matplotlib.pyplot as plt\n",
    "import seaborn as sns\n",
    "import numpy as np\n",
    "from pprint import pprint\n",
    "\n",
    "from dataclasses import dataclass\n",
    "import ase\n",
    "import io\n",
    "from multiprocessing import Pool"
   ]
  },
  {
   "cell_type": "code",
   "execution_count": 3,
   "metadata": {},
   "outputs": [],
   "source": [
    "structures = pd.read_feather('../data/structures.feather')\n",
    "labelled = pd.read_feather('../data/train.feather')\n",
    "unlabelled = pd.read_feather('../data/test.feather')"
   ]
  },
  {
   "cell_type": "code",
   "execution_count": 4,
   "metadata": {},
   "outputs": [],
   "source": [
    "methane_name = 'dsgdb9nsd_000001'\n",
    "methane = structures[structures.molecule_name == methane_name]\n",
    "\n",
    "ethanol_name = 'dsgdb9nsd_000014'\n",
    "ethanol = structures[structures.molecule_name == ethanol_name]"
   ]
  },
  {
   "cell_type": "code",
   "execution_count": 5,
   "metadata": {},
   "outputs": [],
   "source": [
    "from chemistry import Bond, Atom, Molecule"
   ]
  },
  {
   "cell_type": "code",
   "execution_count": 6,
   "metadata": {},
   "outputs": [
    {
     "name": "stdout",
     "output_type": "stream",
     "text": [
      "Name: dsgdb9nsd_005157\n",
      "Atoms:\n",
      "  N 0: [-0.04380067  0.91265517 -0.92835289]\n",
      "  C 1: [-0.02025951  0.016512   -0.02907792]\n",
      "  N 2: [-1.16610885 -0.49266312  0.5532214 ]\n",
      "  C 3: [-2.44006681  0.01167247  0.31056502]\n",
      "  C 4: [-3.47235942 -0.43425712 -0.45213547]\n",
      "  C 5: [-4.53647614  0.50771636 -0.28167379]\n",
      "  C 6: [-4.06397057  1.45375311  0.57209116]\n",
      "  O 7: [-2.79333162  1.17002368  0.94911319]\n",
      "  H 8: [ 0.90126568  1.12271273 -1.2403121 ]\n",
      "  H 9: [ 0.87793076 -0.46782482  0.37502316]\n",
      "  H 10: [-1.03735054 -1.09128964  1.35376251]\n",
      "  H 11: [-3.4642067  -1.31988931 -1.06688321]\n",
      "  H 12: [-5.51368046  0.4836219  -0.7374481 ]\n",
      "  H 13: [-4.48651171  2.35242915  0.99058348]\n",
      "Bonds:\n",
      "  C(1) - N(0)\n",
      "  N(0) - H(8)\n",
      "  C(1) - H(9)\n",
      "  N(2) - H(10)\n",
      "  C(3) - C(4)\n",
      "  C(4) - C(5)\n",
      "  C(4) - H(11)\n",
      "  C(5) - C(6)\n",
      "  C(5) - H(12)\n",
      "  C(6) - H(13)\n",
      "\n",
      "\n"
     ]
    },
    {
     "ename": "NameError",
     "evalue": "name 'compute_path' is not defined",
     "output_type": "error",
     "traceback": [
      "\u001b[0;31m---------------------------------------------------------------------------\u001b[0m",
      "\u001b[0;31mNameError\u001b[0m                                 Traceback (most recent call last)",
      "\u001b[0;32m<ipython-input-6-2f093ca04064>\u001b[0m in \u001b[0;36m<module>\u001b[0;34m\u001b[0m\n\u001b[1;32m      9\u001b[0m \u001b[0mmolecule\u001b[0m \u001b[0;34m=\u001b[0m \u001b[0mmake_molecule\u001b[0m\u001b[0;34m(\u001b[0m\u001b[0mmolecule_name\u001b[0m\u001b[0;34m,\u001b[0m \u001b[0mstructures\u001b[0m\u001b[0;34m[\u001b[0m\u001b[0mstructures\u001b[0m\u001b[0;34m.\u001b[0m\u001b[0mmolecule_name\u001b[0m \u001b[0;34m==\u001b[0m \u001b[0mmolecule_name\u001b[0m\u001b[0;34m]\u001b[0m\u001b[0;34m)\u001b[0m\u001b[0;34m\u001b[0m\u001b[0;34m\u001b[0m\u001b[0m\n\u001b[1;32m     10\u001b[0m \u001b[0mpprint\u001b[0m\u001b[0;34m(\u001b[0m\u001b[0mmolecule\u001b[0m\u001b[0;34m)\u001b[0m\u001b[0;34m\u001b[0m\u001b[0;34m\u001b[0m\u001b[0m\n\u001b[0;32m---> 11\u001b[0;31m \u001b[0mprint\u001b[0m\u001b[0;34m(\u001b[0m\u001b[0mcompute_path\u001b[0m\u001b[0;34m(\u001b[0m\u001b[0mmolecule\u001b[0m\u001b[0;34m,\u001b[0m \u001b[0;36m8\u001b[0m\u001b[0;34m,\u001b[0m \u001b[0;36m0\u001b[0m\u001b[0;34m)\u001b[0m\u001b[0;34m)\u001b[0m\u001b[0;34m\u001b[0m\u001b[0;34m\u001b[0m\u001b[0m\n\u001b[0m",
      "\u001b[0;31mNameError\u001b[0m: name 'compute_path' is not defined"
     ]
    }
   ],
   "source": [
    "def make_molecule(name, molecule_df):\n",
    "    atoms = []\n",
    "    for i, atom in molecule_df.iterrows():\n",
    "        atoms.append(Atom(atom.atom, (atom.x, atom.y, atom.z)))\n",
    "        \n",
    "    return Molecule(name, atoms)\n",
    "\n",
    "molecule_name = 'dsgdb9nsd_005157'\n",
    "molecule = make_molecule(molecule_name, structures[structures.molecule_name == molecule_name])\n",
    "pprint(molecule)\n",
    "print(compute_path(molecule, 8, 0))"
   ]
  },
  {
   "cell_type": "code",
   "execution_count": 7,
   "metadata": {},
   "outputs": [
    {
     "data": {
      "text/plain": [
       "[0, 1, 2, 8]"
      ]
     },
     "execution_count": 7,
     "metadata": {},
     "output_type": "execute_result"
    }
   ],
   "source": [
    "from chemistry import compute_path\n",
    "molecule = make_molecule('ethanol', ethanol)\n",
    "compute_path(molecule, 0, 8)"
   ]
  },
  {
   "cell_type": "code",
   "execution_count": 8,
   "metadata": {},
   "outputs": [],
   "source": [
    "def read_molecule(molecule_name):\n",
    "    global structures\n",
    "    molecule_df = structures[structures.molecule_name == molecule_name]\n",
    "    molecule = make_molecule(molecule_name, molecule_df)\n",
    "    \n",
    "#     molecule_df = labelled[labelled.molecule_name == molecule.name]\n",
    "#     for _, row in molecule_df.iterrows():\n",
    "#         if compute_path(molecule, row.atom_index_0, row.atom_index_1) is None:\n",
    "#             raise Exception(f'{molecule.name} {row.atom_index_0} {row.atom_index_1} failed')\n",
    "            \n",
    "    return molecule\n",
    "\n",
    "def read_molecules(data):\n",
    "    molecule_names = data.molecule_name.unique()\n",
    "    with Pool(8) as pool:\n",
    "        molecules = pool.imap_unordered(read_molecule, molecule_names, 1000)\n",
    "        molecule_map = {molecule.name:molecule for molecule in molecules}\n",
    "     \n",
    "    return molecule_map\n",
    "        \n",
    "molecules = read_molecules(structures)"
   ]
  },
  {
   "cell_type": "code",
   "execution_count": 9,
   "metadata": {},
   "outputs": [
    {
     "data": {
      "text/plain": [
       "(130775, 130775)"
      ]
     },
     "execution_count": 9,
     "metadata": {},
     "output_type": "execute_result"
    }
   ],
   "source": [
    "len(molecules), len(structures.molecule_name.unique())"
   ]
  },
  {
   "cell_type": "code",
   "execution_count": 10,
   "metadata": {},
   "outputs": [],
   "source": [
    "import pickle\n",
    "\n",
    "with open('../data/molecules.pickle', 'wb') as f:\n",
    "    pickle.dump(molecules, f)"
   ]
  },
  {
   "cell_type": "code",
   "execution_count": null,
   "metadata": {},
   "outputs": [],
   "source": []
  }
 ],
 "metadata": {
  "kernelspec": {
   "display_name": "Python 3",
   "language": "python",
   "name": "python3"
  },
  "language_info": {
   "codemirror_mode": {
    "name": "ipython",
    "version": 3
   },
   "file_extension": ".py",
   "mimetype": "text/x-python",
   "name": "python",
   "nbconvert_exporter": "python",
   "pygments_lexer": "ipython3",
   "version": "3.7.3"
  }
 },
 "nbformat": 4,
 "nbformat_minor": 2
}
