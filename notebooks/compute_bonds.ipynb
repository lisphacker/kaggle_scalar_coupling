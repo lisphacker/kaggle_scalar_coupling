{
 "cells": [
  {
   "cell_type": "code",
   "execution_count": 12,
   "metadata": {},
   "outputs": [],
   "source": [
    "import pandas as pd\n",
    "import pyarrow.parquet as pq\n",
    "import matplotlib.pyplot as plt\n",
    "import seaborn as sns\n",
    "import numpy as np\n",
    "from pprint import pprint\n",
    "\n",
    "from dataclasses import dataclass\n",
    "import ase\n",
    "import io"
   ]
  },
  {
   "cell_type": "code",
   "execution_count": 2,
   "metadata": {},
   "outputs": [
    {
     "name": "stderr",
     "output_type": "stream",
     "text": [
      "/home/gautham/apps/anaconda3/envs/kaggle/lib/python3.7/site-packages/pyarrow/pandas_compat.py:752: FutureWarning: .labels was deprecated in version 0.24.0. Use .codes instead.\n",
      "  labels, = index.labels\n"
     ]
    }
   ],
   "source": [
    "structures = pd.read_feather('../data/structures.feather')\n",
    "train = pd.read_feather('../data/train.feather')\n",
    "test = pd.read_feather('../data/test.feather')"
   ]
  },
  {
   "cell_type": "code",
   "execution_count": 3,
   "metadata": {},
   "outputs": [],
   "source": [
    "methane_name = 'dsgdb9nsd_000001'\n",
    "methane = structures[structures.molecule_name == methane_name]\n",
    "\n",
    "ethanol_name = 'dsgdb9nsd_000014'\n",
    "ethanol = structures[structures.molecule_name == ethanol_name]"
   ]
  },
  {
   "cell_type": "code",
   "execution_count": 53,
   "metadata": {},
   "outputs": [
    {
     "name": "stdout",
     "output_type": "stream",
     "text": [
      "Name: methane\n",
      "Atoms:\n",
      "  C 0: [-0.01269814  1.0858041   0.008001  ]\n",
      "  H 1: [ 0.00215042 -0.00603132  0.00197612]\n",
      "  H 2: [1.01173079e+00 1.46375120e+00 2.76574807e-04]\n",
      "  H 3: [-0.54081506  1.44752657 -0.87664372]\n",
      "  H 4: [-0.52381361  1.43793261  0.90639728]\n",
      "Bonds:\n",
      "  C(0) - H(1)\n",
      "  C(0) - H(2)\n",
      "  C(0) - H(3)\n",
      "  C(0) - H(4)\n",
      "\n"
     ]
    }
   ],
   "source": [
    "\n",
    "    \n",
    "def make_molecule(name, molecule_df):\n",
    "    atoms = []\n",
    "    for i, atom in molecule_df.iterrows():\n",
    "        atoms.append(Atom(atom.atom, (atom.x, atom.y, atom.z)))\n",
    "        \n",
    "    return Molecule(name, atoms)\n",
    "\n",
    "molecule = make_molecule('methane', methane)\n",
    "pprint(molecule)"
   ]
  },
  {
   "cell_type": "code",
   "execution_count": 54,
   "metadata": {},
   "outputs": [
    {
     "data": {
      "text/plain": [
       "[dsgdb9nsd_000001, dsgdb9nsd_000002, dsgdb9nsd_000003, dsgdb9nsd_000004, dsgdb9nsd_000005, ..., dsgdb9nsd_000013, dsgdb9nsd_000014, dsgdb9nsd_000015, dsgdb9nsd_000016, dsgdb9nsd_000017]\n",
       "Length: 16\n",
       "Categories (16, object): [dsgdb9nsd_000001, dsgdb9nsd_000002, dsgdb9nsd_000003, dsgdb9nsd_000004, ..., dsgdb9nsd_000014, dsgdb9nsd_000015, dsgdb9nsd_000016, dsgdb9nsd_000017]"
      ]
     },
     "execution_count": 54,
     "metadata": {},
     "output_type": "execute_result"
    }
   ],
   "source": [
    "structures.head(100).molecule_name.unique()"
   ]
  },
  {
   "cell_type": "code",
   "execution_count": 60,
   "metadata": {},
   "outputs": [
    {
     "data": {
      "text/plain": [
       "Name: \n",
       "Atoms:\n",
       "  C 0: [-0.03215888  1.54021597  0.01074456]\n",
       "  C 1: [0.03381741 0.00745852 0.00180716]\n",
       "  C 2: [ 0.71375573 -0.50856405 -1.27296948]\n",
       "  C 3: [ 0.73848999 -0.52220887  1.25750911]\n",
       "  H 4: [0.97522736 1.97414339 0.00528362]\n",
       "  H 5: [-0.56196767  1.92232323 -0.8683542 ]\n",
       "  H 6: [-0.54817241  1.91268408  0.90208036]\n",
       "  H 7: [-0.99752527 -0.37310579  0.00977296]\n",
       "  H 8: [ 1.75070024 -0.15586784 -1.33269632]\n",
       "  H 9: [ 0.73446691 -1.60328293 -1.29939699]\n",
       "  H 10: [ 0.19367011 -0.16085589 -2.17195511]\n",
       "  H 11: [ 0.2361199  -0.18382017  2.17005253]\n",
       "  H 12: [ 0.75964081 -1.61713147  1.27226102]\n",
       "  H 13: [ 1.7763586  -0.16985318  1.3005302 ]\n",
       "Bonds:\n",
       "  C(0) - C(1)\n",
       "  C(0) - H(4)\n",
       "  C(0) - H(5)\n",
       "  C(0) - H(6)\n",
       "  C(1) - C(2)\n",
       "  C(1) - C(3)\n",
       "  C(1) - H(7)\n",
       "  C(2) - H(8)\n",
       "  C(2) - H(9)\n",
       "  C(2) - H(10)\n",
       "  C(3) - H(11)\n",
       "  C(3) - H(12)\n",
       "  C(3) - H(13)"
      ]
     },
     "execution_count": 60,
     "metadata": {},
     "output_type": "execute_result"
    }
   ],
   "source": [
    "make_molecule('', structures[structures.molecule_name == 'dsgdb9nsd_000021'])"
   ]
  }
 ],
 "metadata": {
  "kernelspec": {
   "display_name": "Python 3",
   "language": "python",
   "name": "python3"
  },
  "language_info": {
   "codemirror_mode": {
    "name": "ipython",
    "version": 3
   },
   "file_extension": ".py",
   "mimetype": "text/x-python",
   "name": "python",
   "nbconvert_exporter": "python",
   "pygments_lexer": "ipython3",
   "version": "3.7.3"
  }
 },
 "nbformat": 4,
 "nbformat_minor": 2
}
