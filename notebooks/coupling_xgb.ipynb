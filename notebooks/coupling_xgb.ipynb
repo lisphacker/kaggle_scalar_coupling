{
 "cells": [
  {
   "cell_type": "code",
   "execution_count": 1,
   "metadata": {},
   "outputs": [],
   "source": [
    "%load_ext autoreload\n",
    "%autoreload 2\n",
    "\n",
    "%load_ext line_profiler"
   ]
  },
  {
   "cell_type": "code",
   "execution_count": 2,
   "metadata": {},
   "outputs": [],
   "source": [
    "import pandas as pd\n",
    "import numpy as np\n",
    "\n",
    "import  matplotlib.pyplot as plt\n",
    "import pickle\n",
    "\n",
    "from chemistry import Molecule\n",
    "from util import score\n",
    "from pprint import pprint\n"
   ]
  },
  {
   "cell_type": "code",
   "execution_count": 3,
   "metadata": {},
   "outputs": [],
   "source": [
    "with open('../data/molecules_enh.pickle', 'rb') as f:\n",
    "    molecules = pickle.load(f)"
   ]
  },
  {
   "cell_type": "code",
   "execution_count": 4,
   "metadata": {},
   "outputs": [],
   "source": [
    "structures = pd.read_feather('../data/structures_enh.feather')\n",
    "molecules_df = pd.read_feather('../data/molecules.feather')\n",
    "labelled = pd.read_feather('../data/train.feather')\n",
    "unlabelled = pd.read_feather('../data/test.feather')"
   ]
  },
  {
   "cell_type": "code",
   "execution_count": 5,
   "metadata": {},
   "outputs": [],
   "source": [
    "labelled_enh = labelled.merge(molecules_df, left_on='molecule_name', right_on='molecule_name')\n",
    "#labelled_enh.head(32)"
   ]
  },
  {
   "cell_type": "code",
   "execution_count": 6,
   "metadata": {},
   "outputs": [],
   "source": [
    "unlabelled_enh = unlabelled.merge(molecules_df, left_on='molecule_name', right_on='molecule_name')\n",
    "#unlabelled_enh.head(32)"
   ]
  },
  {
   "cell_type": "code",
   "execution_count": 7,
   "metadata": {},
   "outputs": [
    {
     "data": {
      "text/plain": [
       "(4658147, 4658147)"
      ]
     },
     "execution_count": 7,
     "metadata": {},
     "output_type": "execute_result"
    }
   ],
   "source": [
    "len(labelled), len(labelled_enh)"
   ]
  },
  {
   "cell_type": "code",
   "execution_count": 8,
   "metadata": {},
   "outputs": [],
   "source": [
    "from models import SKModel, partition_data\n",
    "\n",
    "#data_df = labelled[labelled.type == '1JHC'].head(10)\n",
    "data_df = labelled_enh.head(1000)\n",
    "train_df, test_df = partition_data(data_df, train_frac=1)\n",
    "train_df = train_df.copy()\n",
    "        \n",
    "model = SKModel(molecules=molecules,\n",
    "                structures=structures)\n",
    "model.setup_data(train_df, train_df)"
   ]
  },
  {
   "cell_type": "code",
   "execution_count": 9,
   "metadata": {},
   "outputs": [
    {
     "data": {
      "text/plain": [
       "Index(['molecule_name', 'atom_index', 'atom', 'x', 'y', 'z', 'x_mean',\n",
       "       'y_mean', 'z_mean', 'dist_to_mean'],\n",
       "      dtype='object')"
      ]
     },
     "execution_count": 9,
     "metadata": {},
     "output_type": "execute_result"
    }
   ],
   "source": [
    "model.structures.columns"
   ]
  },
  {
   "cell_type": "code",
   "execution_count": 11,
   "metadata": {},
   "outputs": [
    {
     "data": {
      "text/plain": [
       "['id',\n",
       " 'molecule_name',\n",
       " 'atom_index_0',\n",
       " 'atom_index_1',\n",
       " 'type',\n",
       " 'scalar_coupling_constant',\n",
       " 'nC',\n",
       " 'nF',\n",
       " 'nH',\n",
       " 'nN',\n",
       " 'nO',\n",
       " 'nCNOF',\n",
       " 'nCN',\n",
       " 'nOF',\n",
       " 'nAtoms',\n",
       " 'coupling_distance',\n",
       " 'atom_0',\n",
       " 'atom_1',\n",
       " 'coupling_3JHH',\n",
       " 'coupling_3JHN',\n",
       " 'coupling_1JHN',\n",
       " 'coupling_2JHN',\n",
       " 'coupling_1JHC',\n",
       " 'coupling_2JHH',\n",
       " 'coupling_2JHC',\n",
       " 'coupling_3JHC',\n",
       " 'atom0_C',\n",
       " 'atom0_F',\n",
       " 'atom0_O',\n",
       " 'atom0_H',\n",
       " 'atom0_N',\n",
       " 'atom0_weight',\n",
       " 'ai',\n",
       " 'atom0_x',\n",
       " 'atom0_y',\n",
       " 'atom0_z',\n",
       " 'atom0_x_mean',\n",
       " 'atom0_y_mean',\n",
       " 'atom0_z_mean',\n",
       " 'atom0_dist_to_mean',\n",
       " 'atom0_fi',\n",
       " 'atom0_simple_fi',\n",
       " 'atomN_C',\n",
       " 'atomN_F',\n",
       " 'atomN_O',\n",
       " 'atomN_H',\n",
       " 'atomN_N',\n",
       " 'atomN_weight',\n",
       " 'atomN_x',\n",
       " 'atomN_y',\n",
       " 'atomN_z',\n",
       " 'atomN_x_mean',\n",
       " 'atomN_y_mean',\n",
       " 'atomN_z_mean',\n",
       " 'atomN_dist_to_mean',\n",
       " 'atomN_fi',\n",
       " 'atomN_simple_fi',\n",
       " 'atom1_C',\n",
       " 'atom1_F',\n",
       " 'atom1_O',\n",
       " 'atom1_H',\n",
       " 'atom1_N',\n",
       " 'atom1_weight',\n",
       " 'atom1_x',\n",
       " 'atom1_y',\n",
       " 'atom1_z',\n",
       " 'atom1_x_mean',\n",
       " 'atom1_y_mean',\n",
       " 'atom1_z_mean',\n",
       " 'atom1_dist_to_mean',\n",
       " 'atom1_fi',\n",
       " 'atom1_simple_fi',\n",
       " 'atom2_C',\n",
       " 'atom2_F',\n",
       " 'atom2_O',\n",
       " 'atom2_H',\n",
       " 'atom2_N',\n",
       " 'atom2_weight',\n",
       " 'atom2_x',\n",
       " 'atom2_y',\n",
       " 'atom2_z',\n",
       " 'atom2_x_mean',\n",
       " 'atom2_y_mean',\n",
       " 'atom2_z_mean',\n",
       " 'atom2_dist_to_mean',\n",
       " 'atom2_fi',\n",
       " 'atom2_simple_fi',\n",
       " 'atom3_C',\n",
       " 'atom3_F',\n",
       " 'atom3_O',\n",
       " 'atom3_H',\n",
       " 'atom3_N',\n",
       " 'atom3_weight',\n",
       " 'atom3_x',\n",
       " 'atom3_y',\n",
       " 'atom3_z',\n",
       " 'atom3_x_mean',\n",
       " 'atom3_y_mean',\n",
       " 'atom3_z_mean',\n",
       " 'atom3_dist_to_mean',\n",
       " 'atom3_fi',\n",
       " 'atom3_simple_fi',\n",
       " 'bond01_dist',\n",
       " 'bond01_valency',\n",
       " 'bond01_strength',\n",
       " 'bond12_dist',\n",
       " 'bond12_valency',\n",
       " 'bond12_strength',\n",
       " 'bond23_dist',\n",
       " 'bond23_valency',\n",
       " 'bond23_strength']"
      ]
     },
     "execution_count": 11,
     "metadata": {},
     "output_type": "execute_result"
    }
   ],
   "source": [
    "list(model.input_df.columns)"
   ]
  },
  {
   "cell_type": "code",
   "execution_count": 24,
   "metadata": {},
   "outputs": [
    {
     "data": {
      "text/plain": [
       "id                             int32\n",
       "molecule_name                 object\n",
       "atom_index_0                   int16\n",
       "atom_index_1                   int16\n",
       "type                        category\n",
       "scalar_coupling_constant     float32\n",
       "nC                              int8\n",
       "nF                              int8\n",
       "nH                              int8\n",
       "nN                              int8\n",
       "nO                              int8\n",
       "nCNOF                           int8\n",
       "nCN                             int8\n",
       "nOF                             int8\n",
       "nAtoms                          int8\n",
       "coupling_distance            float32\n",
       "atom_0                      category\n",
       "atom_1                      category\n",
       "coupling_1JHN                   int8\n",
       "coupling_2JHC                   int8\n",
       "coupling_3JHH                   int8\n",
       "coupling_3JHN                   int8\n",
       "coupling_3JHC                   int8\n",
       "coupling_2JHN                   int8\n",
       "coupling_1JHC                   int8\n",
       "coupling_2JHH                   int8\n",
       "atom0_C                         int8\n",
       "atom0_H                         int8\n",
       "atom0_F                         int8\n",
       "atom0_O                         int8\n",
       "                              ...   \n",
       "atom1_O                         int8\n",
       "atom1_N                         int8\n",
       "atom1_weight                    int8\n",
       "atom1_dist_to_mean           float32\n",
       "atom1_fi                     float32\n",
       "atom2_C                         int8\n",
       "atom2_H                         int8\n",
       "atom2_F                         int8\n",
       "atom2_O                         int8\n",
       "atom2_N                         int8\n",
       "atom2_weight                    int8\n",
       "atom2_dist_to_mean           float32\n",
       "atom2_fi                     float32\n",
       "atom3_C                         int8\n",
       "atom3_H                         int8\n",
       "atom3_F                         int8\n",
       "atom3_O                         int8\n",
       "atom3_N                         int8\n",
       "atom3_weight                    int8\n",
       "atom3_dist_to_mean           float32\n",
       "atom3_fi                     float32\n",
       "bond01_dist                  float32\n",
       "bond01_valency               float32\n",
       "bond01_strength              float32\n",
       "bond12_dist                  float32\n",
       "bond12_valency               float32\n",
       "bond12_strength              float32\n",
       "bond23_dist                  float32\n",
       "bond23_valency               float32\n",
       "bond23_strength              float32\n",
       "Length: 76, dtype: object"
      ]
     },
     "execution_count": 24,
     "metadata": {},
     "output_type": "execute_result"
    }
   ],
   "source": [
    "model.input_df.dtypes"
   ]
  },
  {
   "cell_type": "code",
   "execution_count": 12,
   "metadata": {},
   "outputs": [
    {
     "data": {
      "text/html": [
       "<div>\n",
       "<style scoped>\n",
       "    .dataframe tbody tr th:only-of-type {\n",
       "        vertical-align: middle;\n",
       "    }\n",
       "\n",
       "    .dataframe tbody tr th {\n",
       "        vertical-align: top;\n",
       "    }\n",
       "\n",
       "    .dataframe thead th {\n",
       "        text-align: right;\n",
       "    }\n",
       "</style>\n",
       "<table border=\"1\" class=\"dataframe\">\n",
       "  <thead>\n",
       "    <tr style=\"text-align: right;\">\n",
       "      <th></th>\n",
       "      <th>id</th>\n",
       "      <th>molecule_name</th>\n",
       "      <th>atom_index_0</th>\n",
       "      <th>atom_index_1</th>\n",
       "      <th>type</th>\n",
       "      <th>scalar_coupling_constant</th>\n",
       "      <th>nC</th>\n",
       "      <th>nF</th>\n",
       "      <th>nH</th>\n",
       "      <th>nN</th>\n",
       "      <th>nO</th>\n",
       "      <th>nCNOF</th>\n",
       "      <th>nCN</th>\n",
       "      <th>nOF</th>\n",
       "      <th>nAtoms</th>\n",
       "    </tr>\n",
       "  </thead>\n",
       "  <tbody>\n",
       "    <tr>\n",
       "      <th>0</th>\n",
       "      <td>0</td>\n",
       "      <td>dsgdb9nsd_000001</td>\n",
       "      <td>1</td>\n",
       "      <td>0</td>\n",
       "      <td>1JHC</td>\n",
       "      <td>84.807602</td>\n",
       "      <td>1</td>\n",
       "      <td>0</td>\n",
       "      <td>4</td>\n",
       "      <td>0</td>\n",
       "      <td>0</td>\n",
       "      <td>1</td>\n",
       "      <td>1</td>\n",
       "      <td>0</td>\n",
       "      <td>5</td>\n",
       "    </tr>\n",
       "    <tr>\n",
       "      <th>1</th>\n",
       "      <td>1</td>\n",
       "      <td>dsgdb9nsd_000001</td>\n",
       "      <td>1</td>\n",
       "      <td>2</td>\n",
       "      <td>2JHH</td>\n",
       "      <td>-11.257000</td>\n",
       "      <td>1</td>\n",
       "      <td>0</td>\n",
       "      <td>4</td>\n",
       "      <td>0</td>\n",
       "      <td>0</td>\n",
       "      <td>1</td>\n",
       "      <td>1</td>\n",
       "      <td>0</td>\n",
       "      <td>5</td>\n",
       "    </tr>\n",
       "    <tr>\n",
       "      <th>2</th>\n",
       "      <td>2</td>\n",
       "      <td>dsgdb9nsd_000001</td>\n",
       "      <td>1</td>\n",
       "      <td>3</td>\n",
       "      <td>2JHH</td>\n",
       "      <td>-11.254800</td>\n",
       "      <td>1</td>\n",
       "      <td>0</td>\n",
       "      <td>4</td>\n",
       "      <td>0</td>\n",
       "      <td>0</td>\n",
       "      <td>1</td>\n",
       "      <td>1</td>\n",
       "      <td>0</td>\n",
       "      <td>5</td>\n",
       "    </tr>\n",
       "    <tr>\n",
       "      <th>3</th>\n",
       "      <td>3</td>\n",
       "      <td>dsgdb9nsd_000001</td>\n",
       "      <td>1</td>\n",
       "      <td>4</td>\n",
       "      <td>2JHH</td>\n",
       "      <td>-11.254300</td>\n",
       "      <td>1</td>\n",
       "      <td>0</td>\n",
       "      <td>4</td>\n",
       "      <td>0</td>\n",
       "      <td>0</td>\n",
       "      <td>1</td>\n",
       "      <td>1</td>\n",
       "      <td>0</td>\n",
       "      <td>5</td>\n",
       "    </tr>\n",
       "    <tr>\n",
       "      <th>4</th>\n",
       "      <td>4</td>\n",
       "      <td>dsgdb9nsd_000001</td>\n",
       "      <td>2</td>\n",
       "      <td>0</td>\n",
       "      <td>1JHC</td>\n",
       "      <td>84.807404</td>\n",
       "      <td>1</td>\n",
       "      <td>0</td>\n",
       "      <td>4</td>\n",
       "      <td>0</td>\n",
       "      <td>0</td>\n",
       "      <td>1</td>\n",
       "      <td>1</td>\n",
       "      <td>0</td>\n",
       "      <td>5</td>\n",
       "    </tr>\n",
       "  </tbody>\n",
       "</table>\n",
       "</div>"
      ],
      "text/plain": [
       "   id     molecule_name  atom_index_0  atom_index_1  type  \\\n",
       "0   0  dsgdb9nsd_000001             1             0  1JHC   \n",
       "1   1  dsgdb9nsd_000001             1             2  2JHH   \n",
       "2   2  dsgdb9nsd_000001             1             3  2JHH   \n",
       "3   3  dsgdb9nsd_000001             1             4  2JHH   \n",
       "4   4  dsgdb9nsd_000001             2             0  1JHC   \n",
       "\n",
       "   scalar_coupling_constant  nC  nF  nH  nN  nO  nCNOF  nCN  nOF  nAtoms  \n",
       "0                 84.807602   1   0   4   0   0      1    1    0       5  \n",
       "1                -11.257000   1   0   4   0   0      1    1    0       5  \n",
       "2                -11.254800   1   0   4   0   0      1    1    0       5  \n",
       "3                -11.254300   1   0   4   0   0      1    1    0       5  \n",
       "4                 84.807404   1   0   4   0   0      1    1    0       5  "
      ]
     },
     "execution_count": 12,
     "metadata": {},
     "output_type": "execute_result"
    }
   ],
   "source": [
    "labelled_enh.head()"
   ]
  },
  {
   "cell_type": "code",
   "execution_count": 13,
   "metadata": {},
   "outputs": [],
   "source": [
    "import itertools"
   ]
  },
  {
   "cell_type": "code",
   "execution_count": 46,
   "metadata": {},
   "outputs": [
    {
     "name": "stdout",
     "output_type": "stream",
     "text": [
      "Training 35000 samples for 1JHC\n"
     ]
    },
    {
     "ename": "IndexError",
     "evalue": "boolean index did not match indexed array along dimension 0; dimension is 35000 but corresponding boolean dimension is 15000",
     "output_type": "error",
     "traceback": [
      "\u001b[0;31m---------------------------------------------------------------------------\u001b[0m",
      "\u001b[0;31mIndexError\u001b[0m                                Traceback (most recent call last)",
      "\u001b[0;32m<ipython-input-46-9d41022d01b3>\u001b[0m in \u001b[0;36m<module>\u001b[0;34m\u001b[0m\n\u001b[1;32m     59\u001b[0m     \u001b[0mplt\u001b[0m\u001b[0;34m.\u001b[0m\u001b[0mshow\u001b[0m\u001b[0;34m(\u001b[0m\u001b[0;34m)\u001b[0m\u001b[0;34m\u001b[0m\u001b[0;34m\u001b[0m\u001b[0m\n\u001b[1;32m     60\u001b[0m \u001b[0;34m\u001b[0m\u001b[0m\n\u001b[0;32m---> 61\u001b[0;31m \u001b[0mtest\u001b[0m\u001b[0;34m(\u001b[0m\u001b[0mlabelled_enh\u001b[0m\u001b[0;34m,\u001b[0m \u001b[0;36m50000\u001b[0m\u001b[0;34m)\u001b[0m\u001b[0;34m\u001b[0m\u001b[0;34m\u001b[0m\u001b[0m\n\u001b[0m",
      "\u001b[0;32m<ipython-input-46-9d41022d01b3>\u001b[0m in \u001b[0;36mtest\u001b[0;34m(data, count)\u001b[0m\n\u001b[1;32m     42\u001b[0m         \u001b[0;32mfor\u001b[0m \u001b[0mi\u001b[0m \u001b[0;32min\u001b[0m \u001b[0mrange\u001b[0m\u001b[0;34m(\u001b[0m\u001b[0;36m30\u001b[0m\u001b[0;34m)\u001b[0m\u001b[0;34m:\u001b[0m\u001b[0;34m\u001b[0m\u001b[0;34m\u001b[0m\u001b[0m\n\u001b[1;32m     43\u001b[0m             \u001b[0mmodel\u001b[0m\u001b[0;34m.\u001b[0m\u001b[0mfit\u001b[0m\u001b[0;34m(\u001b[0m\u001b[0mtrain_df\u001b[0m\u001b[0;34m,\u001b[0m \u001b[0mtrain_df\u001b[0m\u001b[0;34m)\u001b[0m\u001b[0;34m\u001b[0m\u001b[0;34m\u001b[0m\u001b[0m\n\u001b[0;32m---> 44\u001b[0;31m             \u001b[0moutput\u001b[0m\u001b[0;34m,\u001b[0m \u001b[0mscore\u001b[0m \u001b[0;34m=\u001b[0m \u001b[0mmodel\u001b[0m\u001b[0;34m.\u001b[0m\u001b[0mevaluate\u001b[0m\u001b[0;34m(\u001b[0m\u001b[0mtest_df\u001b[0m\u001b[0;34m,\u001b[0m \u001b[0mtest_df\u001b[0m\u001b[0;34m)\u001b[0m\u001b[0;34m\u001b[0m\u001b[0;34m\u001b[0m\u001b[0m\n\u001b[0m\u001b[1;32m     45\u001b[0m             \u001b[0mhistory\u001b[0m\u001b[0;34m.\u001b[0m\u001b[0mappend\u001b[0m\u001b[0;34m(\u001b[0m\u001b[0mscore\u001b[0m\u001b[0;34m)\u001b[0m\u001b[0;34m\u001b[0m\u001b[0;34m\u001b[0m\u001b[0m\n\u001b[1;32m     46\u001b[0m \u001b[0;34m\u001b[0m\u001b[0m\n",
      "\u001b[0;32m~/work/kaggle/scalar_coupling/notebooks/models.py\u001b[0m in \u001b[0;36mevaluate\u001b[0;34m(self, input_df, output_df)\u001b[0m\n\u001b[1;32m    269\u001b[0m         \u001b[0mref_output\u001b[0m \u001b[0;34m=\u001b[0m \u001b[0mself\u001b[0m\u001b[0;34m.\u001b[0m\u001b[0moutput_df\u001b[0m\u001b[0;34m.\u001b[0m\u001b[0mvalues\u001b[0m\u001b[0;34m.\u001b[0m\u001b[0mflatten\u001b[0m\u001b[0;34m(\u001b[0m\u001b[0;34m)\u001b[0m \u001b[0;32mif\u001b[0m \u001b[0mself\u001b[0m\u001b[0;34m.\u001b[0m\u001b[0mflatten_output\u001b[0m \u001b[0;32melse\u001b[0m \u001b[0mself\u001b[0m\u001b[0;34m.\u001b[0m\u001b[0moutput_df\u001b[0m\u001b[0;34m.\u001b[0m\u001b[0mvalues\u001b[0m\u001b[0;34m.\u001b[0m\u001b[0mreshape\u001b[0m\u001b[0;34m(\u001b[0m\u001b[0;34m(\u001b[0m\u001b[0mlen\u001b[0m\u001b[0;34m(\u001b[0m\u001b[0mself\u001b[0m\u001b[0;34m.\u001b[0m\u001b[0moutput_df\u001b[0m\u001b[0;34m)\u001b[0m\u001b[0;34m,\u001b[0m \u001b[0;36m1\u001b[0m\u001b[0;34m)\u001b[0m\u001b[0;34m)\u001b[0m\u001b[0;34m\u001b[0m\u001b[0;34m\u001b[0m\u001b[0m\n\u001b[1;32m    270\u001b[0m         \u001b[0mtest_output\u001b[0m \u001b[0;34m=\u001b[0m \u001b[0mself\u001b[0m\u001b[0;34m.\u001b[0m\u001b[0mmodel\u001b[0m\u001b[0;34m.\u001b[0m\u001b[0mpredict\u001b[0m\u001b[0;34m(\u001b[0m\u001b[0mself\u001b[0m\u001b[0;34m.\u001b[0m\u001b[0mnumeric_input_df\u001b[0m\u001b[0;34m.\u001b[0m\u001b[0mvalues\u001b[0m\u001b[0;34m)\u001b[0m\u001b[0;34m\u001b[0m\u001b[0;34m\u001b[0m\u001b[0m\n\u001b[0;32m--> 271\u001b[0;31m         \u001b[0;32mreturn\u001b[0m \u001b[0mtest_output\u001b[0m\u001b[0;34m,\u001b[0m \u001b[0mscore\u001b[0m\u001b[0;34m(\u001b[0m\u001b[0moutput_df\u001b[0m\u001b[0;34m,\u001b[0m \u001b[0mref_output\u001b[0m\u001b[0;34m,\u001b[0m \u001b[0mtest_output\u001b[0m\u001b[0;34m)\u001b[0m\u001b[0;34m\u001b[0m\u001b[0;34m\u001b[0m\u001b[0m\n\u001b[0m\u001b[1;32m    272\u001b[0m \u001b[0;34m\u001b[0m\u001b[0m\n\u001b[1;32m    273\u001b[0m     \u001b[0;32mdef\u001b[0m \u001b[0mpredict\u001b[0m\u001b[0;34m(\u001b[0m\u001b[0mself\u001b[0m\u001b[0;34m,\u001b[0m \u001b[0minput_df\u001b[0m\u001b[0;34m)\u001b[0m\u001b[0;34m:\u001b[0m\u001b[0;34m\u001b[0m\u001b[0;34m\u001b[0m\u001b[0m\n",
      "\u001b[0;32m~/work/kaggle/scalar_coupling/notebooks/util.py\u001b[0m in \u001b[0;36mscore\u001b[0;34m(df, ref, test)\u001b[0m\n\u001b[1;32m     10\u001b[0m         \u001b[0msel\u001b[0m \u001b[0;34m=\u001b[0m \u001b[0;34m(\u001b[0m\u001b[0mdf\u001b[0m\u001b[0;34m.\u001b[0m\u001b[0mtype\u001b[0m \u001b[0;34m==\u001b[0m \u001b[0mt\u001b[0m\u001b[0;34m)\u001b[0m\u001b[0;34m.\u001b[0m\u001b[0marray\u001b[0m\u001b[0;34m\u001b[0m\u001b[0;34m\u001b[0m\u001b[0m\n\u001b[1;32m     11\u001b[0m         \u001b[0mnt\u001b[0m \u001b[0;34m=\u001b[0m \u001b[0msel\u001b[0m\u001b[0;34m.\u001b[0m\u001b[0msum\u001b[0m\u001b[0;34m(\u001b[0m\u001b[0;34m)\u001b[0m\u001b[0;34m\u001b[0m\u001b[0;34m\u001b[0m\u001b[0m\n\u001b[0;32m---> 12\u001b[0;31m         \u001b[0mabssum\u001b[0m \u001b[0;34m=\u001b[0m \u001b[0mnp\u001b[0m\u001b[0;34m.\u001b[0m\u001b[0mabs\u001b[0m\u001b[0;34m(\u001b[0m\u001b[0mref\u001b[0m\u001b[0;34m[\u001b[0m\u001b[0msel\u001b[0m\u001b[0;34m]\u001b[0m \u001b[0;34m-\u001b[0m \u001b[0mtest\u001b[0m\u001b[0;34m[\u001b[0m\u001b[0msel\u001b[0m\u001b[0;34m]\u001b[0m\u001b[0;34m)\u001b[0m\u001b[0;34m.\u001b[0m\u001b[0msum\u001b[0m\u001b[0;34m(\u001b[0m\u001b[0;34m)\u001b[0m\u001b[0;34m\u001b[0m\u001b[0;34m\u001b[0m\u001b[0m\n\u001b[0m\u001b[1;32m     13\u001b[0m         \u001b[0mlogavg\u001b[0m \u001b[0;34m=\u001b[0m \u001b[0mnp\u001b[0m\u001b[0;34m.\u001b[0m\u001b[0mlog\u001b[0m\u001b[0;34m(\u001b[0m\u001b[0mabssum\u001b[0m \u001b[0;34m/\u001b[0m \u001b[0mnt\u001b[0m\u001b[0;34m)\u001b[0m\u001b[0;34m\u001b[0m\u001b[0;34m\u001b[0m\u001b[0m\n\u001b[1;32m     14\u001b[0m         \u001b[0ms\u001b[0m \u001b[0;34m+=\u001b[0m \u001b[0mlogavg\u001b[0m\u001b[0;34m\u001b[0m\u001b[0;34m\u001b[0m\u001b[0m\n",
      "\u001b[0;31mIndexError\u001b[0m: boolean index did not match indexed array along dimension 0; dimension is 35000 but corresponding boolean dimension is 15000"
     ]
    },
    {
     "data": {
      "text/plain": [
       "<Figure size 1800x1800 with 0 Axes>"
      ]
     },
     "metadata": {},
     "output_type": "display_data"
    }
   ],
   "source": [
    "from models import LGBModel\n",
    "from models import partition_data\n",
    "\n",
    "# atom_count_ranges = [(1, 10), (11, 15), (16, 20), (21, 25), (26, 30)]\n",
    "# C_count_ranges = [(1, 5), (6, 6), (7, 7), (8, 9)]\n",
    "coupling_types = sorted(labelled_enh.type.unique())[0:1]\n",
    "def test(data, count=5000):\n",
    "    global model\n",
    "    \n",
    "    plt.figure(figsize=(25, 25))\n",
    "#     for i, (t, (min_atoms, max_atoms)) in enumerate(itertools.product(coupling_types, C_count_ranges), 1):\n",
    "    for i, t in enumerate(coupling_types, 1):    \n",
    "#         data_df = data[(data.type == t) & (data.nC >= min_atoms) & (data.nC <= max_atoms)]\n",
    "        data_df = data[data.type == t].head(count)\n",
    "\n",
    "        train_df, test_df = partition_data(data_df)\n",
    "        \n",
    "        if len(train_df) < 10 or len(test_df) < 10:\n",
    "            continue\n",
    "            \n",
    "        print(f'Training {len(train_df)} samples for {t}')\n",
    "\n",
    "        model = LGBModel(dict(molecules=molecules, \n",
    "                              structures=structures),\n",
    "                         dict(n_jobs=8,\n",
    "                              max_depth=9,\n",
    "                              boosting_type='gbdt',\n",
    "                              num_leaves=128,\n",
    "                              min_child_samples=20,\n",
    "                              learning_rate=0.1,\n",
    "                              n_estimators=1000,\n",
    "                              reg_alpha=0.1,\n",
    "                              reg_lambda=0.3,\n",
    "                              subsample_freq = 1,\n",
    "                              subsample = 0.9,\n",
    "                              num_iterations=100,\n",
    "#                               verbose=500\n",
    "                             ))\n",
    "  \n",
    "\n",
    "        model.fit(train_df, train_df)\n",
    "        output, score = model.evaluate(test_df, test_df)\n",
    "        \n",
    "        print(f'{t} score: {score} (trained on {len(train_df)} elements)')\n",
    "        plt.subplot(4, 4, 2 * i - 1)\n",
    "        plt.plot(test_df.scalar_coupling_constant, output, '*')\n",
    "        mn = min(test_df.scalar_coupling_constant.min(), output.min())\n",
    "        mx = min(test_df.scalar_coupling_constant.max(), output.max())\n",
    "        plt.plot([mn, mx], [mn, mx])\n",
    "        plt.title(t)\n",
    "        \n",
    "        plt.subplot(4, 4, 2 * i - 1)\n",
    "        plt.plot(history)\n",
    "    plt.show()\n",
    "        \n",
    "test(labelled_enh, 50000)\n"
   ]
  },
  {
   "cell_type": "code",
   "execution_count": 44,
   "metadata": {},
   "outputs": [
    {
     "name": "stdout",
     "output_type": "stream",
     "text": [
      "Axes(0,0;1x1)\n"
     ]
    },
    {
     "data": {
      "image/png": "[encoded data removed]",
      "text/plain": [
       "<Figure size 1080x720 with 1 Axes>"
      ]
     },
     "metadata": {
      "needs_background": "light"
     },
     "output_type": "display_data"
    }
   ],
   "source": [
    "from models import LGBModel\n",
    "fig = plt.figure(figsize=(15, 10))\n",
    "model.plot_importance(ax=fig.add_axes([0, 0, 1, 1]), height=0.5)\n",
    "plt.show()"
   ]
  },
  {
   "cell_type": "code",
   "execution_count": null,
   "metadata": {},
   "outputs": [],
   "source": []
  },
  {
   "cell_type": "code",
   "execution_count": null,
   "metadata": {},
   "outputs": [],
   "source": []
  },
  {
   "cell_type": "code",
   "execution_count": null,
   "metadata": {},
   "outputs": [],
   "source": []
  },
  {
   "cell_type": "code",
   "execution_count": null,
   "metadata": {},
   "outputs": [],
   "source": []
  },
  {
   "cell_type": "code",
   "execution_count": 28,
   "metadata": {},
   "outputs": [
    {
     "name": "stdout",
     "output_type": "stream",
     "text": [
      "Training 709416 samples for 1JHC\n",
      "Training 43363 samples for 1JHN\n",
      "Training 1140674 samples for 2JHC\n",
      "Training 378036 samples for 2JHH\n",
      "Training 119253 samples for 2JHN\n",
      "Training 1510379 samples for 3JHC\n",
      "Training 590611 samples for 3JHH\n",
      "Training 166415 samples for 3JHN\n"
     ]
    }
   ],
   "source": [
    "def train(data):\n",
    "    models = {}\n",
    "    for t in sorted(data.type.unique()):\n",
    "        train_df = data[data.type == t]\n",
    "        print(f'Training {len(train_df)} samples for {t}')\n",
    "        model = LGBModel(dict(molecules=molecules, \n",
    "                              structures=structures),\n",
    "                         dict(n_jobs=8,\n",
    "                              max_depth=9,\n",
    "                              boosting_type='gbdt',\n",
    "                              num_leaves=128,\n",
    "                              min_child_samples=20,\n",
    "                              learning_rate=0.2,\n",
    "                              n_estimators=1000,\n",
    "                              reg_alpha=0.1,\n",
    "                              reg_lambda=0.3,\n",
    "                              subsample_freq = 1,\n",
    "                              subsample = 0.9))\n",
    "        models[t] = model\n",
    "        model.fit(train_df, train_df)\n",
    "    \n",
    "    return models\n",
    "\n",
    "models = train(labelled_enh)"
   ]
  },
  {
   "cell_type": "code",
   "execution_count": 29,
   "metadata": {},
   "outputs": [
    {
     "name": "stdout",
     "output_type": "stream",
     "text": [
      "Predicting 380609 samples for 1JHC\n",
      "Predicting 24195 samples for 1JHN\n",
      "Predicting 613138 samples for 2JHC\n",
      "Predicting 203126 samples for 2JHH\n",
      "Predicting 64424 samples for 2JHN\n",
      "Predicting 811999 samples for 3JHC\n",
      "Predicting 317435 samples for 3JHH\n",
      "Predicting 90616 samples for 3JHN\n"
     ]
    }
   ],
   "source": [
    "def predict(data, models):\n",
    "    out_df = None\n",
    "    \n",
    "    for t in sorted(data.type.unique()):\n",
    "        predict_df = data[data.type == t]\n",
    "        print(f'Predicting {len(predict_df)} samples for {t}')\n",
    "        output = models[t].predict(predict_df)\n",
    "        \n",
    "        id = predict_df['id']\n",
    "        out_df_coupling = pd.DataFrame(data={'id':id, 'scalar_coupling_constant':output}, index=predict_df.index)\n",
    "        \n",
    "        if out_df is None:\n",
    "            out_df = out_df_coupling\n",
    "        else:\n",
    "            out_df = out_df.append(out_df_coupling).sort_index()\n",
    "\n",
    "    return out_df.sort_index()\n",
    "    \n",
    "#%prun -s cumulative f(unlabelled.head(10000))\n",
    "prediction = predict(unlabelled_enh, models)"
   ]
  },
  {
   "cell_type": "code",
   "execution_count": 30,
   "metadata": {},
   "outputs": [
    {
     "data": {
      "text/html": [
       "<div>\n",
       "<style scoped>\n",
       "    .dataframe tbody tr th:only-of-type {\n",
       "        vertical-align: middle;\n",
       "    }\n",
       "\n",
       "    .dataframe tbody tr th {\n",
       "        vertical-align: top;\n",
       "    }\n",
       "\n",
       "    .dataframe thead th {\n",
       "        text-align: right;\n",
       "    }\n",
       "</style>\n",
       "<table border=\"1\" class=\"dataframe\">\n",
       "  <thead>\n",
       "    <tr style=\"text-align: right;\">\n",
       "      <th></th>\n",
       "      <th>id</th>\n",
       "      <th>scalar_coupling_constant</th>\n",
       "    </tr>\n",
       "  </thead>\n",
       "  <tbody>\n",
       "    <tr>\n",
       "      <th>0</th>\n",
       "      <td>4658147</td>\n",
       "      <td>24.510750</td>\n",
       "    </tr>\n",
       "    <tr>\n",
       "      <th>1</th>\n",
       "      <td>4658148</td>\n",
       "      <td>177.117127</td>\n",
       "    </tr>\n",
       "    <tr>\n",
       "      <th>2</th>\n",
       "      <td>4658149</td>\n",
       "      <td>1.882473</td>\n",
       "    </tr>\n",
       "    <tr>\n",
       "      <th>3</th>\n",
       "      <td>4658150</td>\n",
       "      <td>173.697553</td>\n",
       "    </tr>\n",
       "    <tr>\n",
       "      <th>4</th>\n",
       "      <td>4658151</td>\n",
       "      <td>23.688759</td>\n",
       "    </tr>\n",
       "  </tbody>\n",
       "</table>\n",
       "</div>"
      ],
      "text/plain": [
       "        id  scalar_coupling_constant\n",
       "0  4658147                 24.510750\n",
       "1  4658148                177.117127\n",
       "2  4658149                  1.882473\n",
       "3  4658150                173.697553\n",
       "4  4658151                 23.688759"
      ]
     },
     "execution_count": 30,
     "metadata": {},
     "output_type": "execute_result"
    }
   ],
   "source": [
    "prediction.head()"
   ]
  },
  {
   "cell_type": "code",
   "execution_count": 31,
   "metadata": {},
   "outputs": [],
   "source": [
    "prediction.to_csv('../data/pred.csv',index=False)"
   ]
  },
  {
   "cell_type": "code",
   "execution_count": null,
   "metadata": {},
   "outputs": [],
   "source": []
  }
 ],
 "metadata": {
  "kernelspec": {
   "display_name": "Python 3",
   "language": "python",
   "name": "python3"
  },
  "language_info": {
   "codemirror_mode": {
    "name": "ipython",
    "version": 3
   },
   "file_extension": ".py",
   "mimetype": "text/x-python",
   "name": "python",
   "nbconvert_exporter": "python",
   "pygments_lexer": "ipython3",
   "version": "3.7.3"
  }
 },
 "nbformat": 4,
 "nbformat_minor": 2
}
