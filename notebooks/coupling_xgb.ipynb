{
 "cells": [
  {
   "cell_type": "code",
   "execution_count": 1,
   "metadata": {},
   "outputs": [],
   "source": [
    "%load_ext autoreload\n",
    "%autoreload 2\n",
    "\n",
    "%load_ext line_profiler"
   ]
  },
  {
   "cell_type": "code",
   "execution_count": 2,
   "metadata": {},
   "outputs": [],
   "source": [
    "import pandas as pd\n",
    "import numpy as np\n",
    "\n",
    "import  matplotlib.pyplot as plt\n",
    "import pickle\n",
    "\n",
    "from chemistry import Molecule\n",
    "from util import score\n",
    "from pprint import pprint\n"
   ]
  },
  {
   "cell_type": "code",
   "execution_count": 3,
   "metadata": {},
   "outputs": [],
   "source": [
    "with open('../data/molecules.pickle', 'rb') as f:\n",
    "    molecules = pickle.load(f)"
   ]
  },
  {
   "cell_type": "code",
   "execution_count": 4,
   "metadata": {},
   "outputs": [],
   "source": [
    "structures = pd.read_feather('../data/structures.feather')\n",
    "labelled = pd.read_feather('../data/train.feather')\n",
    "unlabelled = pd.read_feather('../data/test.feather')"
   ]
  },
  {
   "cell_type": "code",
   "execution_count": 19,
   "metadata": {},
   "outputs": [
    {
     "name": "stdout",
     "output_type": "stream",
     "text": [
      "0 [1084878.2]\n",
      "1 [0.]\n",
      "2 [1084878.2]\n",
      "3 [0.]\n",
      "4 [0.]\n",
      "5 [0.]\n",
      "6 [4339513.]\n",
      "7 [0.]\n",
      "8 [0.]\n",
      "9 [0.]\n",
      "10 [1084878.2]\n",
      "11 [0.]\n",
      "12 [13018540.]\n",
      "13 [0.]\n",
      "14 [0.]\n",
      "15 [0.]\n",
      "16 [0.]\n",
      "17 [0.]\n",
      "18 [0.]\n",
      "19 [0.]\n",
      "20 [0.]\n",
      "21 [0.]\n",
      "22 [0.]\n",
      "23 [0.]\n",
      "24 [0.]\n",
      "25 [0.]\n",
      "26 [0.]\n",
      "27 [0.]\n",
      "28 [1084878.2]\n",
      "29 [0.]\n",
      "30 [13018540.]\n",
      "31 [1184654.6]\n",
      "32 [1084878.2]\n",
      "33 [4.4588496e+08]\n",
      "34 [0.]\n",
      "35 [0.]\n",
      "36 [0.]\n",
      "37 [0.]\n",
      "38 [0.]\n",
      "39 [0.]\n",
      "1JHC score: 1.617827011327883\n"
     ]
    },
    {
     "data": {
      "image/png": "[encoded data removed]",
      "text/plain": [
       "<Figure size 1800x1800 with 1 Axes>"
      ]
     },
     "metadata": {
      "needs_background": "light"
     },
     "output_type": "display_data"
    }
   ],
   "source": [
    "from models import XGBModel, LGBModel\n",
    "from models import partition_data\n",
    "\n",
    "def test(data):\n",
    "    plt.figure(figsize=(25, 25))\n",
    "    for i, t in enumerate(sorted(data.type.unique())[0:1], 1):\n",
    "        data_df = data[data.type == t]\n",
    "        train_df, test_df = partition_data(data_df)\n",
    "        \n",
    "        model = LGBModel(dict(molecules=molecules, \n",
    "                              structures=structures),\n",
    "                         dict(n_jobs=8,\n",
    "                              max_depth=9,\n",
    "                              boosting_type='gbdt',\n",
    "                              num_leaves=128,\n",
    "                              min_child_samples=20,\n",
    "                              learning_rate=0.2,\n",
    "                              n_estimators=1000,\n",
    "                              reg_alpha=0.1,\n",
    "                              reg_lambda=0.3,\n",
    "                              subsample_freq = 1,\n",
    "                              subsample = 0.9,\n",
    "                              verbose=500))\n",
    "        \n",
    "        model.corr(train_df, train_df)\n",
    "        \n",
    "        model.fit(train_df, train_df)\n",
    "        output, score = model.evaluate(test_df, test_df)\n",
    "        print(f'{t} score: {score}')\n",
    "        plt.subplot(3, 3, i)\n",
    "        plt.plot(test_df.scalar_coupling_constant, output, '*')\n",
    "        plt.title(t)\n",
    "    plt.show()\n",
    "        \n",
    "test(labelled.head(100000))"
   ]
  },
  {
   "cell_type": "code",
   "execution_count": null,
   "metadata": {},
   "outputs": [],
   "source": []
  }
 ],
 "metadata": {
  "kernelspec": {
   "display_name": "Python 3",
   "language": "python",
   "name": "python3"
  },
  "language_info": {
   "codemirror_mode": {
    "name": "ipython",
    "version": 3
   },
   "file_extension": ".py",
   "mimetype": "text/x-python",
   "name": "python",
   "nbconvert_exporter": "python",
   "pygments_lexer": "ipython3",
   "version": "3.7.3"
  }
 },
 "nbformat": 4,
 "nbformat_minor": 2
}
