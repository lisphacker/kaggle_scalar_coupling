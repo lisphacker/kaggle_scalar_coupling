{
 "cells": [
  {
   "cell_type": "code",
   "execution_count": 5,
   "metadata": {},
   "outputs": [],
   "source": [
    "%load_ext autoreload\n",
    "%autoreload 2\n",
    "\n",
    "%load_ext line_profiler"
   ]
  },
  {
   "cell_type": "code",
   "execution_count": 18,
   "metadata": {},
   "outputs": [],
   "source": [
    "import pandas as pd\n",
    "import numpy as np\n",
    "import pickle\n",
    "\n",
    "from chemistry import Molecule\n",
    "from util import score\n",
    "from pprint import pprint\n"
   ]
  },
  {
   "cell_type": "code",
   "execution_count": 9,
   "metadata": {},
   "outputs": [],
   "source": [
    "with open('../data/molecules.pickle', 'rb') as f:\n",
    "    molecules = pickle.load(f)"
   ]
  },
  {
   "cell_type": "code",
   "execution_count": 10,
   "metadata": {},
   "outputs": [],
   "source": [
    "structures = pd.read_feather('../data/structures.feather')\n",
    "labelled = pd.read_feather('../data/train.feather')\n",
    "unlabelled = pd.read_feather('../data/test.feather')"
   ]
  },
  {
   "cell_type": "code",
   "execution_count": 60,
   "metadata": {},
   "outputs": [
    {
     "name": "stdout",
     "output_type": "stream",
     "text": [
      "1JHC score: 1.5963056417264243\n",
      "2JHH score: 0.5966229898679648\n",
      "1JHN score: 0.5640371034027375\n",
      "2JHN score: 0.5721114689964399\n",
      "2JHC score: 0.7456208467754641\n",
      "3JHH score: 1.1972471035233216\n",
      "3JHC score: 0.8757726562454482\n",
      "3JHN score: -0.16630114723347877\n"
     ]
    }
   ],
   "source": [
    "from models import XGBModel, partition_data\n",
    "\n",
    "def test(data):\n",
    "    for t in data.type.unique():\n",
    "        data_df = data[data.type == t]\n",
    "        train_df, test_df = partition_data(data_df)\n",
    "        \n",
    "        model = XGBModel(molecules=molecules, structures=structures)\n",
    "        model.fit(train_df, train_df)\n",
    "        score = model.evaluate(test_df, test_df)\n",
    "        print(f'{t} score: {score}')\n",
    "        \n",
    "test(labelled.head(10000))"
   ]
  }
 ],
 "metadata": {
  "kernelspec": {
   "display_name": "Python 3",
   "language": "python",
   "name": "python3"
  },
  "language_info": {
   "codemirror_mode": {
    "name": "ipython",
    "version": 3
   },
   "file_extension": ".py",
   "mimetype": "text/x-python",
   "name": "python",
   "nbconvert_exporter": "python",
   "pygments_lexer": "ipython3",
   "version": "3.7.3"
  }
 },
 "nbformat": 4,
 "nbformat_minor": 2
}
