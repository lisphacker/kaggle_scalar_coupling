{
 "cells": [
  {
   "cell_type": "code",
   "execution_count": 1,
   "metadata": {},
   "outputs": [],
   "source": [
    "%load_ext autoreload\n",
    "%autoreload 2\n",
    "\n",
    "%load_ext line_profiler"
   ]
  },
  {
   "cell_type": "code",
   "execution_count": 2,
   "metadata": {},
   "outputs": [],
   "source": [
    "import pickle\n",
    "\n",
    "import numpy as np\n",
    "\n",
    "import chemistry\n",
    "from pprint import pprint"
   ]
  },
  {
   "cell_type": "code",
   "execution_count": 7,
   "metadata": {},
   "outputs": [],
   "source": [
    "with open('../data/molecules.pickle', 'rb') as f:\n",
    "    molecules = pickle.load(f)"
   ]
  },
  {
   "cell_type": "code",
   "execution_count": 11,
   "metadata": {},
   "outputs": [
    {
     "data": {
      "text/plain": [
       "Name: dsgdb9nsd_000001\n",
       "Atoms:\n",
       "  C 0: [-0.01269814  1.0858041   0.008001  ]\n",
       "  H 1: [ 0.00215042 -0.00603132  0.00197612]\n",
       "  H 2: [1.0117308e+00 1.4637512e+00 2.7657481e-04]\n",
       "  H 3: [-0.54081506  1.4475266  -0.8766437 ]\n",
       "  H 4: [-0.5238136  1.4379326  0.9063973]\n",
       "Bonds:\n",
       "  C(0) - H(1)\n",
       "  C(0) - H(2)\n",
       "  C(0) - H(3)\n",
       "  C(0) - H(4)\n",
       "Simple field intensity :\n",
       "  C(0) - 3.354708433151245\n",
       "  H(1) - 5.975549221038818\n",
       "  H(2) - 5.975560188293457\n",
       "  H(3) - 5.975599765777588\n",
       "  H(4) - 5.975588798522949\n",
       "Field intensity :\n",
       "  C(0) - 3.05920657410752e-05\n",
       "  H(1) - 5.802408695220947\n",
       "  H(2) - 5.802420616149902\n",
       "  H(3) - 5.802464962005615\n",
       "  H(4) - 5.802454471588135\n"
      ]
     },
     "execution_count": 11,
     "metadata": {},
     "output_type": "execute_result"
    }
   ],
   "source": [
    "from chemistry import Molecule, atomic_number\n",
    "\n",
    "def enhance_molecule(m):\n",
    "    mnew = Molecule.copy(m)\n",
    "    \n",
    "    atomic_number = np.array([chemistry.atomic_number[a] for a in m.symbols], dtype='float32')\n",
    "    mnew.simple_field_intensity = np.empty(m.n_atoms, dtype='float32')\n",
    "    mnew.field_intensity = np.empty(m.n_atoms, dtype='float32')\n",
    "    \n",
    "    mnew.force_per_pair = np.empty((m.n_atoms, m.n_atoms), dtype='float32')\n",
    "    mnew.force = np.empty(m.n_atoms, dtype='float32')\n",
    "\n",
    "    for i in range(m.n_atoms):\n",
    "        pos_this = np.tile(m.positions[i], (m.n_atoms, 1))\n",
    "        pos_other = m.positions\n",
    "        diff = pos_this - pos_other\n",
    "        dist2 = np.sum(diff * diff, axis=1)\n",
    "        \n",
    "        dist = np.sqrt(dist2)\n",
    "        dist = np.tile(dist.reshape((m.n_atoms, 1)), (1, 3))\n",
    "        dist[i, :] = 1\n",
    "        \n",
    "        direc = diff / dist\n",
    "        \n",
    "        fi_per_atom = atomic_number.copy()\n",
    "        sel = np.arange(m.n_atoms) != i\n",
    "        fi_per_atom[sel] /= dist2[sel]\n",
    "        fi_per_atom[i] = 0\n",
    "        \n",
    "        fi_tile = np.tile(fi_per_atom.reshape((m.n_atoms, 1)), (1, 3))\n",
    "        fi_vec = fi_tile * direc\n",
    "        \n",
    "        force = atomic_number.copy()\n",
    "        force[sel] *= atomic_number[i]\n",
    "        force[sel] /= dist2[sel]\n",
    "        force[i] = 0\n",
    "        \n",
    "        force_tile = np.tile(force.reshape((m.n_atoms, 1)), (1, 3))\n",
    "        force_vec = force_tile * direc\n",
    "        \n",
    "        mnew.simple_field_intensity[i] = fi_per_atom.sum()\n",
    "        mnew.field_intensity[i] = np.linalg.norm(fi_vec.sum(axis=0))\n",
    "        \n",
    "        mnew.force_per_pair[i, :] = force[:]\n",
    "        mnew.force[i] = np.linalg.norm(force_vec.sum(axis=0))\n",
    "        \n",
    "\n",
    "    return mnew\n",
    "\n",
    "    \n",
    "enhance_molecule(molecules['dsgdb9nsd_000001'])"
   ]
  },
  {
   "cell_type": "code",
   "execution_count": 12,
   "metadata": {},
   "outputs": [],
   "source": [
    "molecules_enh = {mn:enhance_molecule(molecules[mn]) for mn in molecules}"
   ]
  },
  {
   "cell_type": "code",
   "execution_count": 13,
   "metadata": {},
   "outputs": [],
   "source": [
    "with open('../data/molecules_enh.pickle', 'wb') as f:\n",
    "    pickle.dump(molecules_enh, f)"
   ]
  },
  {
   "cell_type": "code",
   "execution_count": null,
   "metadata": {},
   "outputs": [],
   "source": []
  }
 ],
 "metadata": {
  "kernelspec": {
   "display_name": "Python 3",
   "language": "python",
   "name": "python3"
  },
  "language_info": {
   "codemirror_mode": {
    "name": "ipython",
    "version": 3
   },
   "file_extension": ".py",
   "mimetype": "text/x-python",
   "name": "python",
   "nbconvert_exporter": "python",
   "pygments_lexer": "ipython3",
   "version": "3.7.3"
  }
 },
 "nbformat": 4,
 "nbformat_minor": 4
}
