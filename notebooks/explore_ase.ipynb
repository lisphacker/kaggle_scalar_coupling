{
 "cells": [
  {
   "cell_type": "code",
   "execution_count": 3,
   "metadata": {},
   "outputs": [],
   "source": [
    "import pandas as pd\n",
    "import pyarrow.parquet as pq\n",
    "import matplotlib.pyplot as plt\n",
    "import seaborn as sns\n",
    "import numpy as np\n",
    "from pprint import pprint\n",
    "\n",
    "import ase"
   ]
  },
  {
   "cell_type": "code",
   "execution_count": 4,
   "metadata": {},
   "outputs": [
    {
     "name": "stderr",
     "output_type": "stream",
     "text": [
      "/home/gautham/apps/anaconda3/envs/kaggle/lib/python3.7/site-packages/pyarrow/pandas_compat.py:752: FutureWarning: .labels was deprecated in version 0.24.0. Use .codes instead.\n",
      "  labels, = index.labels\n"
     ]
    }
   ],
   "source": [
    "structures = pd.read_feather('../data/structures.feather')\n",
    "train = pd.read_feather('../data/train.feather')\n",
    "test = pd.read_feather('../data/test.feather')"
   ]
  },
  {
   "cell_type": "code",
   "execution_count": 5,
   "metadata": {},
   "outputs": [],
   "source": [
    "methane_name = 'dsgdb9nsd_000001'\n",
    "methane = structures[structures.molecule_name == methane_name]\n",
    "\n",
    "ethanol_name = 'dsgdb9nsd_000014'\n",
    "ethanol = structures[structures.molecule_name == ethanol_name]"
   ]
  },
  {
   "cell_type": "code",
   "execution_count": 6,
   "metadata": {},
   "outputs": [
    {
     "name": "stdout",
     "output_type": "stream",
     "text": [
      "Atoms(symbols='C2OH6', pbc=False)\n"
     ]
    }
   ],
   "source": [
    "def make_molecule(molecule_df):\n",
    "    symbols = []\n",
    "    positions = []\n",
    "    for i, atom in molecule_df.iterrows():\n",
    "        symbols.append(atom.atom)\n",
    "        positions.append((atom.x, atom.y, atom.z))\n",
    "        \n",
    "    molecule = ase.Atoms(symbols=symbols, positions=positions)\n",
    "    print(molecule)\n",
    "make_molecule(ethanol)\n"
   ]
  },
  {
   "cell_type": "code",
   "execution_count": null,
   "metadata": {},
   "outputs": [],
   "source": []
  }
 ],
 "metadata": {
  "kernelspec": {
   "display_name": "Python 3",
   "language": "python",
   "name": "python3"
  },
  "language_info": {
   "codemirror_mode": {
    "name": "ipython",
    "version": 3
   },
   "file_extension": ".py",
   "mimetype": "text/x-python",
   "name": "python",
   "nbconvert_exporter": "python",
   "pygments_lexer": "ipython3",
   "version": "3.7.3"
  }
 },
 "nbformat": 4,
 "nbformat_minor": 2
}
