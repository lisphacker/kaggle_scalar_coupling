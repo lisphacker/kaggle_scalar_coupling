{
 "cells": [
  {
   "cell_type": "code",
   "execution_count": 1,
   "metadata": {},
   "outputs": [],
   "source": [
    "%load_ext autoreload\n",
    "%autoreload 2"
   ]
  },
  {
   "cell_type": "code",
   "execution_count": 2,
   "metadata": {},
   "outputs": [],
   "source": [
    "import pandas as pd\n",
    "import matplotlib.pyplot as plt\n",
    "import seaborn as sns\n",
    "import numpy as np\n",
    "from pprint import pprint\n",
    "\n",
    "import pickle"
   ]
  },
  {
   "cell_type": "code",
   "execution_count": 3,
   "metadata": {},
   "outputs": [],
   "source": [
    "with open('../data/molecules.pickle', 'rb') as f:\n",
    "    molecules = pickle.load(f)"
   ]
  },
  {
   "cell_type": "code",
   "execution_count": 4,
   "metadata": {},
   "outputs": [],
   "source": [
    "structures = pd.read_feather('../data/structures.feather')\n",
    "labelled = pd.read_feather('../data/train.feather')\n",
    "unlabelled = pd.read_feather('../data/test.feather')"
   ]
  },
  {
   "cell_type": "code",
   "execution_count": 5,
   "metadata": {},
   "outputs": [
    {
     "data": {
      "text/plain": [
       "(4658147, 2505542)"
      ]
     },
     "execution_count": 5,
     "metadata": {},
     "output_type": "execute_result"
    }
   ],
   "source": [
    "len(labelled), len(unlabelled)"
   ]
  },
  {
   "cell_type": "code",
   "execution_count": 6,
   "metadata": {},
   "outputs": [],
   "source": [
    "from chemistry import *"
   ]
  },
  {
   "cell_type": "code",
   "execution_count": 8,
   "metadata": {},
   "outputs": [
    {
     "name": "stdout",
     "output_type": "stream",
     "text": [
      "dsgdb9nsd_003830 9 5 3JHN [9, 3, 2, 1, 6, 5] 6\n",
      "dsgdb9nsd_021591 10 4 3JHN [4] 1\n",
      "dsgdb9nsd_030761 5 6 2JHH [6] 1\n",
      "dsgdb9nsd_030761 6 2 3JHC [2] 1\n",
      "dsgdb9nsd_030761 6 3 2JHC [3] 1\n",
      "dsgdb9nsd_030761 6 4 1JHN [4] 1\n",
      "dsgdb9nsd_030761 6 7 2JHH [7] 1\n",
      "dsgdb9nsd_030761 6 14 3JHH [14] 1\n",
      "dsgdb9nsd_030761 6 15 3JHH [15] 1\n",
      "dsgdb9nsd_076394 4 5 2JHH [5] 1\n",
      "dsgdb9nsd_076394 5 1 3JHC [1] 1\n",
      "dsgdb9nsd_076394 5 2 2JHC [2] 1\n",
      "dsgdb9nsd_076394 5 3 1JHN [3] 1\n",
      "dsgdb9nsd_076394 5 6 2JHH [6] 1\n",
      "dsgdb9nsd_076394 5 7 3JHC [7] 1\n",
      "dsgdb9nsd_076394 5 15 3JHH [15] 1\n",
      "dsgdb9nsd_076397 15 4 3JHC [4] 1\n",
      "dsgdb9nsd_076397 15 5 3JHC [5] 1\n",
      "dsgdb9nsd_076397 15 7 2JHC [7] 1\n",
      "dsgdb9nsd_076397 15 9 3JHC [9] 1\n",
      "dsgdb9nsd_099728 2 3 2JHH [3] 1\n",
      "dsgdb9nsd_099728 3 0 2JHC [0] 1\n",
      "dsgdb9nsd_099728 3 1 1JHN [1] 1\n",
      "dsgdb9nsd_099728 3 4 2JHC [4] 1\n",
      "dsgdb9nsd_099728 3 5 3JHC [5] 1\n",
      "dsgdb9nsd_099728 3 8 3JHC [8] 1\n",
      "dsgdb9nsd_099728 3 11 3JHH [11] 1\n",
      "dsgdb9nsd_099728 3 12 3JHH [12] 1\n",
      "dsgdb9nsd_099728 3 13 3JHH [13] 1\n",
      "dsgdb9nsd_099728 3 14 3JHH [14] 1\n",
      "dsgdb9nsd_102794 1 0 1JHN [0] 1\n",
      "dsgdb9nsd_102794 1 2 2JHH [2] 1\n",
      "dsgdb9nsd_102794 1 3 2JHH [3] 1\n",
      "dsgdb9nsd_102794 1 4 2JHC [4] 1\n",
      "dsgdb9nsd_102794 1 5 3JHC [5] 1\n",
      "dsgdb9nsd_102794 1 12 3JHH [12] 1\n",
      "dsgdb9nsd_102794 1 13 3JHH [13] 1\n",
      "dsgdb9nsd_128227 13 5 3JHN [5] 1\n",
      "dsgdb9nsd_129039 11 5 3JHN [5] 1\n",
      "dsgdb9nsd_129053 9 0 1JHN [0] 1\n",
      "dsgdb9nsd_129053 9 1 2JHC [1] 1\n",
      "dsgdb9nsd_129053 9 2 3JHC [2] 1\n",
      "dsgdb9nsd_129053 9 7 3JHC [7] 1\n",
      "dsgdb9nsd_129053 11 5 3JHN [11, 3, 2, 1, 7, 6, 5] 7\n",
      "dsgdb9nsd_129148 10 3 3JHN [3] 1\n",
      "dsgdb9nsd_129152 9 0 1JHN [0] 1\n",
      "dsgdb9nsd_129152 9 1 2JHC [1] 1\n",
      "dsgdb9nsd_129152 9 2 3JHN [2] 1\n",
      "dsgdb9nsd_129152 9 7 3JHC [7] 1\n",
      "dsgdb9nsd_129410 11 12 2JHH [12] 1\n",
      "dsgdb9nsd_129410 12 0 1JHN [0] 1\n",
      "dsgdb9nsd_129410 12 1 2JHC [1] 1\n",
      "dsgdb9nsd_129410 12 2 3JHN [2] 1\n",
      "dsgdb9nsd_129410 12 5 3JHN [5] 1\n",
      "dsgdb9nsd_129412 11 12 2JHH [12] 1\n",
      "dsgdb9nsd_129412 12 0 1JHN [0] 1\n",
      "dsgdb9nsd_129412 12 1 2JHC [1] 1\n",
      "dsgdb9nsd_129412 12 2 3JHN [2] 1\n",
      "dsgdb9nsd_129412 12 5 3JHN [5] 1\n",
      "dsgdb9nsd_129579 10 11 2JHH [11] 1\n",
      "dsgdb9nsd_129579 11 0 1JHN [0] 1\n",
      "dsgdb9nsd_129579 11 1 2JHC [1] 1\n",
      "dsgdb9nsd_129579 11 2 3JHN [2] 1\n",
      "dsgdb9nsd_129579 11 3 3JHN [3] 1\n",
      "dsgdb9nsd_130385 3 0 3JHN [0] 1\n",
      "dsgdb9nsd_130385 3 1 2JHC [1] 1\n",
      "dsgdb9nsd_130385 3 2 1JHN [2] 1\n",
      "dsgdb9nsd_130385 3 4 2JHC [4] 1\n",
      "dsgdb9nsd_130385 3 5 3JHC [5] 1\n",
      "dsgdb9nsd_130385 3 12 3JHH [12] 1\n",
      "dsgdb9nsd_130385 3 13 3JHH [13] 1\n",
      "dsgdb9nsd_130385 3 14 3JHH [14] 1\n",
      "dsgdb9nsd_130797 9 3 3JHN [3] 1\n",
      "dsgdb9nsd_133831 12 7 3JHC [12, 2, 7] 3\n",
      "dsgdb9nsd_133831 17 2 3JHC [17, 7, 2] 3\n"
     ]
    }
   ],
   "source": [
    "for i, row in labelled.iterrows():\n",
    "    molecule = molecules[row.molecule_name]\n",
    "    path = compute_path(molecule, row.atom_index_0, row.atom_index_1)\n",
    "    if path is None:\n",
    "        print('No path for', molecule.name, row.atom_index_0, row.atom_index_1, path)\n",
    "        print(molecule)\n",
    "        print()\n",
    "        continue\n",
    "    coupling_len = int(row.type[0]) + 1\n",
    "    if len(path) > 4 or len(path) != coupling_len:\n",
    "        print(molecule.name, row.atom_index_0, row.atom_index_1, row.type, path, len(path))\n"
   ]
  },
  {
   "cell_type": "markdown",
   "metadata": {},
   "source": [
    "dsgdb9nsd_048977 10 7 3JHC [10, 3, 2, 8, 7] 5\n",
    "\n",
    "dsgdb9nsd_066495 13 6 3JHN [13, 3, 4, 5, 6] 5\n",
    "\n",
    "dsgdb9nsd_129152 10 3 3JHN [10, 5, 6, 7, 1, 2, 3] 7\n",
    "dsgdb9nsd_066503 14 4 3JHN [14, 7, 6, 5, 4] 5\n",
    "\n",
    "dsgdb9nsd_037488 12 3 2JHC [12, 2, 1, 0, 3] 5"
   ]
  },
  {
   "cell_type": "code",
   "execution_count": null,
   "metadata": {},
   "outputs": [],
   "source": []
  }
 ],
 "metadata": {
  "kernelspec": {
   "display_name": "Python 3",
   "language": "python",
   "name": "python3"
  },
  "language_info": {
   "codemirror_mode": {
    "name": "ipython",
    "version": 3
   },
   "file_extension": ".py",
   "mimetype": "text/x-python",
   "name": "python",
   "nbconvert_exporter": "python",
   "pygments_lexer": "ipython3",
   "version": "3.7.3"
  }
 },
 "nbformat": 4,
 "nbformat_minor": 2
}
