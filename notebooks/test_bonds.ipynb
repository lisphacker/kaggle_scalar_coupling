{
 "cells": [
  {
   "cell_type": "code",
   "execution_count": null,
   "metadata": {},
   "outputs": [],
   "source": [
    "%load_ext autoreload\n",
    "%autoreload 2"
   ]
  },
  {
   "cell_type": "code",
   "execution_count": null,
   "metadata": {},
   "outputs": [],
   "source": [
    "import pandas as pd\n",
    "import matplotlib.pyplot as plt\n",
    "import seaborn as sns\n",
    "import numpy as np\n",
    "from pprint import pprint\n",
    "\n",
    "import pickle"
   ]
  },
  {
   "cell_type": "code",
   "execution_count": null,
   "metadata": {},
   "outputs": [],
   "source": [
    "with open('../data/molecules.pickle', 'rb') as f:\n",
    "    molecules = pickle.load(f)"
   ]
  },
  {
   "cell_type": "code",
   "execution_count": null,
   "metadata": {},
   "outputs": [],
   "source": [
    "structures = pd.read_feather('../data/structures.feather')\n",
    "labelled = pd.read_feather('../data/train.feather')\n",
    "unlabelled = pd.read_feather('../data/test.feather')"
   ]
  },
  {
   "cell_type": "code",
   "execution_count": null,
   "metadata": {},
   "outputs": [],
   "source": [
    "len(labelled), len(unlabelled)"
   ]
  },
  {
   "cell_type": "code",
   "execution_count": null,
   "metadata": {},
   "outputs": [],
   "source": [
    "from chemistry import *"
   ]
  },
  {
   "cell_type": "code",
   "execution_count": null,
   "metadata": {},
   "outputs": [],
   "source": [
    "for i, row in labelled.iterrows():\n",
    "    molecule = molecules[row.molecule_name]\n",
    "    path = compute_path(molecule, row.atom_index_0, row.atom_index_1)\n",
    "    if path is None:\n",
    "        print('No path for', molecule.name, row.atom_index_0, row.atom_index_1, path)\n",
    "        print(molecule)\n",
    "        print()\n",
    "        continue\n",
    "    coupling_len = int(row.type[0]) + 1\n",
    "    if len(path) > 4 or len(path) != coupling_len:\n",
    "        print(molecule.name, row.atom_index_0, row.atom_index_1, row.type, path, len(path))\n"
   ]
  },
  {
   "cell_type": "markdown",
   "metadata": {},
   "source": [
    "dsgdb9nsd_048977 10 7 3JHC [10, 3, 2, 8, 7] 5\n",
    "\n",
    "dsgdb9nsd_066495 13 6 3JHN [13, 3, 4, 5, 6] 5\n",
    "\n",
    "dsgdb9nsd_129152 10 3 3JHN [10, 5, 6, 7, 1, 2, 3] 7\n",
    "dsgdb9nsd_066503 14 4 3JHN [14, 7, 6, 5, 4] 5\n",
    "\n",
    "dsgdb9nsd_037488 12 3 2JHC [12, 2, 1, 0, 3] 5"
   ]
  },
  {
   "cell_type": "code",
   "execution_count": null,
   "metadata": {},
   "outputs": [],
   "source": []
  }
 ],
 "metadata": {
  "kernelspec": {
   "display_name": "Python 3",
   "language": "python",
   "name": "python3"
  },
  "language_info": {
   "codemirror_mode": {
    "name": "ipython",
    "version": 3
   },
   "file_extension": ".py",
   "mimetype": "text/x-python",
   "name": "python",
   "nbconvert_exporter": "python",
   "pygments_lexer": "ipython3",
   "version": "3.7.3"
  }
 },
 "nbformat": 4,
 "nbformat_minor": 2
}
