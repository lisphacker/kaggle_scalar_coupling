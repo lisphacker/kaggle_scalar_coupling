{
 "cells": [
  {
   "cell_type": "code",
   "execution_count": 1,
   "metadata": {},
   "outputs": [],
   "source": [
    "%load_ext autoreload\n",
    "%autoreload 2"
   ]
  },
  {
   "cell_type": "code",
   "execution_count": 2,
   "metadata": {},
   "outputs": [],
   "source": [
    "import pandas as pd\n",
    "import matplotlib.pyplot as plt\n",
    "import seaborn as sns\n",
    "import numpy as np\n",
    "from pprint import pprint\n",
    "\n",
    "import pickle"
   ]
  },
  {
   "cell_type": "code",
   "execution_count": 3,
   "metadata": {},
   "outputs": [],
   "source": [
    "with open('../data/molecules.pickle', 'rb') as f:\n",
    "    molecules = pickle.load(f)"
   ]
  },
  {
   "cell_type": "code",
   "execution_count": 4,
   "metadata": {},
   "outputs": [],
   "source": [
    "structures = pd.read_feather('../data/structures.feather')\n",
    "labelled = pd.read_feather('../data/train.feather')\n",
    "unlabelled = pd.read_feather('../data/test.feather')"
   ]
  },
  {
   "cell_type": "code",
   "execution_count": 5,
   "metadata": {},
   "outputs": [
    {
     "data": {
      "text/plain": [
       "(4658147, 2505542)"
      ]
     },
     "execution_count": 5,
     "metadata": {},
     "output_type": "execute_result"
    }
   ],
   "source": [
    "len(labelled), len(unlabelled)"
   ]
  },
  {
   "cell_type": "code",
   "execution_count": 6,
   "metadata": {},
   "outputs": [],
   "source": [
    "from chemistry import *"
   ]
  },
  {
   "cell_type": "code",
   "execution_count": 7,
   "metadata": {},
   "outputs": [
    {
     "name": "stdout",
     "output_type": "stream",
     "text": [
      "dsgdb9nsd_133831 12 7 3JHC [12, 2, 7] 3\n",
      "dsgdb9nsd_133831 17 2 3JHC [17, 7, 2] 3\n",
      "dsgdb9nsd_037497 11 4 3JHC [11, 1, 0, 3, 4] 5\n",
      "dsgdb9nsd_037497 13 1 3JHC [13, 4, 3, 0, 1] 5\n",
      "dsgdb9nsd_037497 13 7 3JHC [13, 4, 5, 6, 7] 5\n",
      "dsgdb9nsd_037497 13 8 2JHC [13, 4, 3, 0, 1, 8] 6\n",
      "dsgdb9nsd_037497 13 17 3JHH [13, 4, 3, 0, 1, 8, 17] 7\n",
      "dsgdb9nsd_037497 14 8 3JHC [14, 5, 6, 7, 8] 5\n",
      "dsgdb9nsd_037497 15 8 3JHC [15, 5, 6, 7, 8] 5\n",
      "dsgdb9nsd_037497 16 4 3JHC [16, 7, 6, 5, 4] 5\n",
      "dsgdb9nsd_037497 17 3 3JHN [17, 8, 1, 0, 3] 5\n",
      "dsgdb9nsd_037497 17 4 2JHC [17, 8, 1, 0, 3, 4] 6\n",
      "dsgdb9nsd_037497 17 5 3JHC [17, 8, 7, 6, 5] 5\n",
      "dsgdb9nsd_072320 9 6 3JHC [9, 0, 1, 7, 6] 5\n",
      "dsgdb9nsd_072320 10 6 3JHC [10, 2, 1, 7, 6] 5\n",
      "dsgdb9nsd_072320 11 6 3JHC [11, 2, 1, 7, 6] 5\n",
      "dsgdb9nsd_072320 12 1 2JHC [12, 6, 7, 1] 4\n",
      "dsgdb9nsd_072320 12 2 3JHC [12, 6, 7, 1, 2] 5\n",
      "dsgdb9nsd_133863 14 7 3JHC [14, 3, 2, 1, 0, 7] 6\n",
      "dsgdb9nsd_133863 14 8 2JHC [14, 3, 2, 1, 8] 5\n",
      "dsgdb9nsd_133863 20 3 3JHC [20, 7, 0, 1, 2, 3] 6\n",
      "dsgdb9nsd_133863 20 8 2JHC [20, 7, 0, 1, 8] 5\n"
     ]
    }
   ],
   "source": [
    "def test_coupling(coupling_df):\n",
    "    for i, row in coupling_df.iterrows():\n",
    "        molecule = molecules[row.molecule_name]\n",
    "        path = molecule.compute_path(row.atom_index_0, row.atom_index_1)\n",
    "        if path is None:\n",
    "            print('No path for', molecule.name, row.atom_index_0, row.atom_index_1, path)\n",
    "            print(molecule)\n",
    "            print()\n",
    "            continue\n",
    "        coupling_len = int(row.type[0]) + 1\n",
    "        if len(path) > 4 or len(path) != coupling_len:\n",
    "            print(molecule.name, row.atom_index_0, row.atom_index_1, row.type, path, len(path))\n",
    "            \n",
    "test_coupling(labelled)\n",
    "test_coupling(unlabelled)"
   ]
  },
  {
   "cell_type": "markdown",
   "metadata": {},
   "source": [
    "`\n",
    "cc1_err = 0.20\n",
    "dsgdb9nsd_037488 12 3 2JHC [12, 2, 1, 0, 3] 5\n",
    "dsgdb9nsd_037488 12 4 3JHC [12, 2, 1, 8, 4] 5\n",
    "dsgdb9nsd_037488 12 13 3JHH [12, 2, 1, 0, 3, 13] 6\n",
    "dsgdb9nsd_037488 13 2 2JHC [13, 3, 0, 1, 2] 5\n",
    "dsgdb9nsd_037488 13 7 3JHN [13, 3, 4, 8, 7] 5\n",
    "dsgdb9nsd_038234 11 6 3JHC [11, 1, 7, 8, 6] 5\n",
    "dsgdb9nsd_038234 14 1 3JHC [14, 6, 8, 7, 1] 5\n",
    "dsgdb9nsd_038234 14 7 2JHC [14, 6, 8, 7] 4\n",
    "dsgdb9nsd_038234 14 15 3JHH [14, 6, 8, 7, 15] 5\n",
    "dsgdb9nsd_038234 15 6 2JHC [15, 7, 8, 6] 4\n",
    "\n",
    "cc1_err = 0.206\n",
    "dsgdb9nsd_133831 12 7 3JHC [12, 2, 7] 3\n",
    "dsgdb9nsd_133831 17 2 3JHC [17, 7, 2] 3\n",
    "\n",
    "cc1_err = 0.21\n",
    "dsgdb9nsd_133831 12 7 3JHC [12, 2, 7] 3\n",
    "dsgdb9nsd_133831 17 2 3JHC [17, 7, 2] 3\n",
    "dsgdb9nsd_037497 11 4 3JHC [11, 1, 0, 3, 4] 5\n",
    "dsgdb9nsd_037497 13 1 3JHC [13, 4, 3, 0, 1] 5\n",
    "dsgdb9nsd_037497 13 7 3JHC [13, 4, 5, 6, 7] 5\n",
    "dsgdb9nsd_037497 13 8 2JHC [13, 4, 3, 0, 1, 8] 6\n",
    "dsgdb9nsd_037497 13 17 3JHH [13, 4, 3, 0, 1, 8, 17] 7\n",
    "dsgdb9nsd_037497 14 8 3JHC [14, 5, 6, 7, 8] 5\n",
    "dsgdb9nsd_037497 15 8 3JHC [15, 5, 6, 7, 8] 5\n",
    "dsgdb9nsd_037497 16 4 3JHC [16, 7, 6, 5, 4] 5\n",
    "dsgdb9nsd_037497 17 3 3JHN [17, 8, 1, 0, 3] 5\n",
    "dsgdb9nsd_037497 17 4 2JHC [17, 8, 1, 0, 3, 4] 6\n",
    "dsgdb9nsd_037497 17 5 3JHC [17, 8, 7, 6, 5] 5\n",
    "dsgdb9nsd_072320 9 6 3JHC [9, 0, 1, 7, 6] 5\n",
    "dsgdb9nsd_072320 10 6 3JHC [10, 2, 1, 7, 6] 5\n",
    "dsgdb9nsd_072320 11 6 3JHC [11, 2, 1, 7, 6] 5\n",
    "dsgdb9nsd_072320 12 1 2JHC [12, 6, 7, 1] 4\n",
    "dsgdb9nsd_072320 12 2 3JHC [12, 6, 7, 1, 2] 5\n",
    "dsgdb9nsd_133863 14 7 3JHC [14, 3, 2, 1, 0, 7] 6\n",
    "dsgdb9nsd_133863 14 8 2JHC [14, 3, 2, 1, 8] 5\n",
    "dsgdb9nsd_133863 20 3 3JHC [20, 7, 0, 1, 2, 3] 6\n",
    "dsgdb9nsd_133863 20 8 2JHC [20, 7, 0, 1, 8] 5\n",
    "`"
   ]
  },
  {
   "cell_type": "code",
   "execution_count": null,
   "metadata": {},
   "outputs": [],
   "source": []
  }
 ],
 "metadata": {
  "kernelspec": {
   "display_name": "Python 3",
   "language": "python",
   "name": "python3"
  },
  "language_info": {
   "codemirror_mode": {
    "name": "ipython",
    "version": 3
   },
   "file_extension": ".py",
   "mimetype": "text/x-python",
   "name": "python",
   "nbconvert_exporter": "python",
   "pygments_lexer": "ipython3",
   "version": "3.7.3"
  }
 },
 "nbformat": 4,
 "nbformat_minor": 2
}
